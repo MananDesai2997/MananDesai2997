{
  "nbformat": 4,
  "nbformat_minor": 0,
  "metadata": {
    "colab": {
      "name": "linear_discriminant_analysis.ipynb",
      "provenance": [],
      "collapsed_sections": [],
      "include_colab_link": true
    },
    "kernelspec": {
      "name": "python3",
      "display_name": "Python 3"
    }
  },
  "cells": [
    {
      "cell_type": "markdown",
      "metadata": {
        "id": "view-in-github",
        "colab_type": "text"
      },
      "source": [
        "<a href=\"https://colab.research.google.com/github/MananDesai2997/MananDesai2997/blob/main/Rexolite_Plate_linear_discriminant_analysis.ipynb\" target=\"_parent\"><img src=\"https://colab.research.google.com/assets/colab-badge.svg\" alt=\"Open In Colab\"/></a>"
      ]
    },
    {
      "cell_type": "markdown",
      "metadata": {
        "id": "VQ3syspj_rKn"
      },
      "source": [
        "# Linear Discriminant Analysis (LDA)"
      ]
    },
    {
      "cell_type": "markdown",
      "metadata": {
        "id": "xJGl9TcT_skx"
      },
      "source": [
        "## Importing the libraries"
      ]
    },
    {
      "cell_type": "code",
      "metadata": {
        "id": "BNEgrGwd_29D"
      },
      "source": [
        "import numpy as np\n",
        "import matplotlib.pyplot as plt\n",
        "import pandas as pd"
      ],
      "execution_count": 1,
      "outputs": []
    },
    {
      "cell_type": "markdown",
      "metadata": {
        "id": "Hyp1gza1_6qX"
      },
      "source": [
        "## Importing the dataset"
      ]
    },
    {
      "cell_type": "code",
      "source": [
        "import io\n",
        "from google.colab import files"
      ],
      "metadata": {
        "id": "dxVv1zOMb9QF"
      },
      "execution_count": 2,
      "outputs": []
    },
    {
      "cell_type": "code",
      "source": [
        "uploaded = files.upload()"
      ],
      "metadata": {
        "colab": {
          "resources": {
            "http://localhost:8080/nbextensions/google.colab/files.js": {
              "data": "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",
              "ok": true,
              "headers": [
                [
                  "content-type",
                  "application/javascript"
                ]
              ],
              "status": 200,
              "status_text": ""
            }
          },
          "base_uri": "https://localhost:8080/",
          "height": 74
        },
        "id": "nOKSs8tkcA9Y",
        "outputId": "c46c0b80-cbad-4829-c41c-1d6f9b9fa5d1"
      },
      "execution_count": 3,
      "outputs": [
        {
          "output_type": "display_data",
          "data": {
            "text/plain": [
              "<IPython.core.display.HTML object>"
            ],
            "text/html": [
              "\n",
              "     <input type=\"file\" id=\"files-11aebeaa-08df-4371-8f60-355321b82458\" name=\"files[]\" multiple disabled\n",
              "        style=\"border:none\" />\n",
              "     <output id=\"result-11aebeaa-08df-4371-8f60-355321b82458\">\n",
              "      Upload widget is only available when the cell has been executed in the\n",
              "      current browser session. Please rerun this cell to enable.\n",
              "      </output>\n",
              "      <script src=\"/nbextensions/google.colab/files.js\"></script> "
            ]
          },
          "metadata": {}
        },
        {
          "output_type": "stream",
          "name": "stdout",
          "text": [
            "Saving 0041-83493_Rev07_PCA.csv to 0041-83493_Rev07_PCA.csv\n"
          ]
        }
      ]
    },
    {
      "cell_type": "code",
      "metadata": {
        "id": "lPLTDBVI__ZQ"
      },
      "source": [
        "dataset = pd.read_csv(io.BytesIO(uploaded['0041-83493_Rev07_PCA.csv']))"
      ],
      "execution_count": 4,
      "outputs": []
    },
    {
      "cell_type": "code",
      "source": [
        "dataset"
      ],
      "metadata": {
        "colab": {
          "base_uri": "https://localhost:8080/",
          "height": 504
        },
        "id": "gyNLz0nIfACK",
        "outputId": "1db37c07-1132-48b4-f05c-b09788f00daf"
      },
      "execution_count": 5,
      "outputs": [
        {
          "output_type": "execute_result",
          "data": {
            "text/plain": [
              "    SH1_C2_Diameter -14.020  SH1_B5_Diameter -0.220  SH1_B5_Diameter -0.160  \\\n",
              "0                 14.017400                0.222300                0.161250   \n",
              "1                 14.016011                0.221733                0.161174   \n",
              "2                 14.015942                0.221904                0.161202   \n",
              "3                 14.018477                0.221841                0.161174   \n",
              "4                 14.016071                0.221928                0.161158   \n",
              "..                      ...                     ...                     ...   \n",
              "87                14.015503                0.221326                0.160738   \n",
              "88                14.015220                0.221238                0.160695   \n",
              "89                14.015178                0.221296                0.160680   \n",
              "90                14.017048                0.221358                0.160751   \n",
              "91                14.017311                0.221343                0.160738   \n",
              "\n",
              "    SH1_B5_Position -0.005  SH1_B1_Width -0.190  SH1_B1_Distance -0.200  \\\n",
              "0                 0.000700             0.192200                0.198800   \n",
              "1                 0.000481             0.191812                0.200574   \n",
              "2                 0.000903             0.191788                0.200091   \n",
              "3                 0.000434             0.191770                0.200465   \n",
              "4                 0.000481             0.191820                0.200294   \n",
              "..                     ...                  ...                     ...   \n",
              "87                0.000396             0.191336                0.200956   \n",
              "88                0.001317             0.191349                0.200278   \n",
              "89                0.000526             0.191342                0.200183   \n",
              "90                0.000183             0.191340                0.200260   \n",
              "91                0.000401             0.191361                0.200214   \n",
              "\n",
              "    SH1_B1_Position- 0.002  SH1_D5_Position -0.005  SH2_D7_Width -0.190  \\\n",
              "0                 0.000000                0.001100             0.192200   \n",
              "1                 0.000000                0.001154             0.191750   \n",
              "2                 0.000000                0.001015             0.191730   \n",
              "3                 0.000000                0.001113             0.191971   \n",
              "4                 0.000000                0.000876             0.191710   \n",
              "..                     ...                     ...                  ...   \n",
              "87                0.000008                0.001500             0.191257   \n",
              "88                0.000000                0.001034             0.191284   \n",
              "89                0.000000                0.000821             0.191169   \n",
              "90                0.000000                0.000817             0.191211   \n",
              "91                0.000000                0.001026             0.191211   \n",
              "\n",
              "    SH2_D7_Distance -0.20  ...  SH3_B8_Position -0.005  \\\n",
              "0                0.198900  ...                0.001200   \n",
              "1                0.200828  ...                0.002455   \n",
              "2                0.200023  ...                0.001692   \n",
              "3                0.200458  ...                0.002165   \n",
              "4                0.200486  ...                0.001043   \n",
              "..                    ...  ...                     ...   \n",
              "87               0.200373  ...                0.000313   \n",
              "88               0.199542  ...                0.001097   \n",
              "89               0.199202  ...                0.000545   \n",
              "90               0.199622  ...                0.000742   \n",
              "91               0.199240  ...                0.001083   \n",
              "\n",
              "    SH3_B7_Distance -0.100  SH4_C7_Radius -0.0325  SH4_D8_Distance -0.470  \\\n",
              "0                 0.098950               0.033800                0.473750   \n",
              "1                 0.102773               0.033507                0.470759   \n",
              "2                 0.102942               0.033518                0.470711   \n",
              "3                 0.102567               0.033509                0.470742   \n",
              "4                 0.102188               0.033508                0.470712   \n",
              "..                     ...                    ...                     ...   \n",
              "87                0.098899               0.033551                0.472191   \n",
              "88                0.098601               0.033503                0.472068   \n",
              "89                0.098496               0.033497                0.471922   \n",
              "90                0.098684               0.033505                0.471981   \n",
              "91                0.098558               0.033509                0.472003   \n",
              "\n",
              "    SH4_D8_Distance -0.235  SH4_B7_Distance -0.148  SH4_C7_Distance -0.118  \\\n",
              "0                 0.236300                0.147450                0.117250   \n",
              "1                 0.234603                0.147419                0.117412   \n",
              "2                 0.234614                0.147386                0.117469   \n",
              "3                 0.234636                0.147522                0.117474   \n",
              "4                 0.234519                0.147350                0.117411   \n",
              "..                     ...                     ...                     ...   \n",
              "87                0.236373                0.148387                0.118398   \n",
              "88                0.236322                0.148331                0.118553   \n",
              "89                0.236317                0.148301                0.118640   \n",
              "90                0.236307                0.148213                0.118508   \n",
              "91                0.236282                0.148391                0.118686   \n",
              "\n",
              "    SH2_B8_Angle -5 Deg  SH2_C7_Distance -6.000_R  Defect Category  \n",
              "0              5.040300                  6.000200                2  \n",
              "1              5.056671                  6.000013                1  \n",
              "2              5.050116                  5.999963                0  \n",
              "3              5.050046                  6.000079                0  \n",
              "4              5.045632                  5.999966                1  \n",
              "..                  ...                       ...              ...  \n",
              "87             5.046470                  5.998720                1  \n",
              "88             5.044330                  6.000287                0  \n",
              "89             5.044763                  6.000126                0  \n",
              "90             5.046067                  6.000382                0  \n",
              "91             5.046220                  6.000193                0  \n",
              "\n",
              "[92 rows x 129 columns]"
            ],
            "text/html": [
              "\n",
              "  <div id=\"df-3e5c1062-6b1e-45ff-af33-290b9a21f233\">\n",
              "    <div class=\"colab-df-container\">\n",
              "      <div>\n",
              "<style scoped>\n",
              "    .dataframe tbody tr th:only-of-type {\n",
              "        vertical-align: middle;\n",
              "    }\n",
              "\n",
              "    .dataframe tbody tr th {\n",
              "        vertical-align: top;\n",
              "    }\n",
              "\n",
              "    .dataframe thead th {\n",
              "        text-align: right;\n",
              "    }\n",
              "</style>\n",
              "<table border=\"1\" class=\"dataframe\">\n",
              "  <thead>\n",
              "    <tr style=\"text-align: right;\">\n",
              "      <th></th>\n",
              "      <th>SH1_C2_Diameter -14.020</th>\n",
              "      <th>SH1_B5_Diameter -0.220</th>\n",
              "      <th>SH1_B5_Diameter -0.160</th>\n",
              "      <th>SH1_B5_Position -0.005</th>\n",
              "      <th>SH1_B1_Width -0.190</th>\n",
              "      <th>SH1_B1_Distance -0.200</th>\n",
              "      <th>SH1_B1_Position- 0.002</th>\n",
              "      <th>SH1_D5_Position -0.005</th>\n",
              "      <th>SH2_D7_Width -0.190</th>\n",
              "      <th>SH2_D7_Distance -0.20</th>\n",
              "      <th>...</th>\n",
              "      <th>SH3_B8_Position -0.005</th>\n",
              "      <th>SH3_B7_Distance -0.100</th>\n",
              "      <th>SH4_C7_Radius -0.0325</th>\n",
              "      <th>SH4_D8_Distance -0.470</th>\n",
              "      <th>SH4_D8_Distance -0.235</th>\n",
              "      <th>SH4_B7_Distance -0.148</th>\n",
              "      <th>SH4_C7_Distance -0.118</th>\n",
              "      <th>SH2_B8_Angle -5 Deg</th>\n",
              "      <th>SH2_C7_Distance -6.000_R</th>\n",
              "      <th>Defect Category</th>\n",
              "    </tr>\n",
              "  </thead>\n",
              "  <tbody>\n",
              "    <tr>\n",
              "      <th>0</th>\n",
              "      <td>14.017400</td>\n",
              "      <td>0.222300</td>\n",
              "      <td>0.161250</td>\n",
              "      <td>0.000700</td>\n",
              "      <td>0.192200</td>\n",
              "      <td>0.198800</td>\n",
              "      <td>0.000000</td>\n",
              "      <td>0.001100</td>\n",
              "      <td>0.192200</td>\n",
              "      <td>0.198900</td>\n",
              "      <td>...</td>\n",
              "      <td>0.001200</td>\n",
              "      <td>0.098950</td>\n",
              "      <td>0.033800</td>\n",
              "      <td>0.473750</td>\n",
              "      <td>0.236300</td>\n",
              "      <td>0.147450</td>\n",
              "      <td>0.117250</td>\n",
              "      <td>5.040300</td>\n",
              "      <td>6.000200</td>\n",
              "      <td>2</td>\n",
              "    </tr>\n",
              "    <tr>\n",
              "      <th>1</th>\n",
              "      <td>14.016011</td>\n",
              "      <td>0.221733</td>\n",
              "      <td>0.161174</td>\n",
              "      <td>0.000481</td>\n",
              "      <td>0.191812</td>\n",
              "      <td>0.200574</td>\n",
              "      <td>0.000000</td>\n",
              "      <td>0.001154</td>\n",
              "      <td>0.191750</td>\n",
              "      <td>0.200828</td>\n",
              "      <td>...</td>\n",
              "      <td>0.002455</td>\n",
              "      <td>0.102773</td>\n",
              "      <td>0.033507</td>\n",
              "      <td>0.470759</td>\n",
              "      <td>0.234603</td>\n",
              "      <td>0.147419</td>\n",
              "      <td>0.117412</td>\n",
              "      <td>5.056671</td>\n",
              "      <td>6.000013</td>\n",
              "      <td>1</td>\n",
              "    </tr>\n",
              "    <tr>\n",
              "      <th>2</th>\n",
              "      <td>14.015942</td>\n",
              "      <td>0.221904</td>\n",
              "      <td>0.161202</td>\n",
              "      <td>0.000903</td>\n",
              "      <td>0.191788</td>\n",
              "      <td>0.200091</td>\n",
              "      <td>0.000000</td>\n",
              "      <td>0.001015</td>\n",
              "      <td>0.191730</td>\n",
              "      <td>0.200023</td>\n",
              "      <td>...</td>\n",
              "      <td>0.001692</td>\n",
              "      <td>0.102942</td>\n",
              "      <td>0.033518</td>\n",
              "      <td>0.470711</td>\n",
              "      <td>0.234614</td>\n",
              "      <td>0.147386</td>\n",
              "      <td>0.117469</td>\n",
              "      <td>5.050116</td>\n",
              "      <td>5.999963</td>\n",
              "      <td>0</td>\n",
              "    </tr>\n",
              "    <tr>\n",
              "      <th>3</th>\n",
              "      <td>14.018477</td>\n",
              "      <td>0.221841</td>\n",
              "      <td>0.161174</td>\n",
              "      <td>0.000434</td>\n",
              "      <td>0.191770</td>\n",
              "      <td>0.200465</td>\n",
              "      <td>0.000000</td>\n",
              "      <td>0.001113</td>\n",
              "      <td>0.191971</td>\n",
              "      <td>0.200458</td>\n",
              "      <td>...</td>\n",
              "      <td>0.002165</td>\n",
              "      <td>0.102567</td>\n",
              "      <td>0.033509</td>\n",
              "      <td>0.470742</td>\n",
              "      <td>0.234636</td>\n",
              "      <td>0.147522</td>\n",
              "      <td>0.117474</td>\n",
              "      <td>5.050046</td>\n",
              "      <td>6.000079</td>\n",
              "      <td>0</td>\n",
              "    </tr>\n",
              "    <tr>\n",
              "      <th>4</th>\n",
              "      <td>14.016071</td>\n",
              "      <td>0.221928</td>\n",
              "      <td>0.161158</td>\n",
              "      <td>0.000481</td>\n",
              "      <td>0.191820</td>\n",
              "      <td>0.200294</td>\n",
              "      <td>0.000000</td>\n",
              "      <td>0.000876</td>\n",
              "      <td>0.191710</td>\n",
              "      <td>0.200486</td>\n",
              "      <td>...</td>\n",
              "      <td>0.001043</td>\n",
              "      <td>0.102188</td>\n",
              "      <td>0.033508</td>\n",
              "      <td>0.470712</td>\n",
              "      <td>0.234519</td>\n",
              "      <td>0.147350</td>\n",
              "      <td>0.117411</td>\n",
              "      <td>5.045632</td>\n",
              "      <td>5.999966</td>\n",
              "      <td>1</td>\n",
              "    </tr>\n",
              "    <tr>\n",
              "      <th>...</th>\n",
              "      <td>...</td>\n",
              "      <td>...</td>\n",
              "      <td>...</td>\n",
              "      <td>...</td>\n",
              "      <td>...</td>\n",
              "      <td>...</td>\n",
              "      <td>...</td>\n",
              "      <td>...</td>\n",
              "      <td>...</td>\n",
              "      <td>...</td>\n",
              "      <td>...</td>\n",
              "      <td>...</td>\n",
              "      <td>...</td>\n",
              "      <td>...</td>\n",
              "      <td>...</td>\n",
              "      <td>...</td>\n",
              "      <td>...</td>\n",
              "      <td>...</td>\n",
              "      <td>...</td>\n",
              "      <td>...</td>\n",
              "      <td>...</td>\n",
              "    </tr>\n",
              "    <tr>\n",
              "      <th>87</th>\n",
              "      <td>14.015503</td>\n",
              "      <td>0.221326</td>\n",
              "      <td>0.160738</td>\n",
              "      <td>0.000396</td>\n",
              "      <td>0.191336</td>\n",
              "      <td>0.200956</td>\n",
              "      <td>0.000008</td>\n",
              "      <td>0.001500</td>\n",
              "      <td>0.191257</td>\n",
              "      <td>0.200373</td>\n",
              "      <td>...</td>\n",
              "      <td>0.000313</td>\n",
              "      <td>0.098899</td>\n",
              "      <td>0.033551</td>\n",
              "      <td>0.472191</td>\n",
              "      <td>0.236373</td>\n",
              "      <td>0.148387</td>\n",
              "      <td>0.118398</td>\n",
              "      <td>5.046470</td>\n",
              "      <td>5.998720</td>\n",
              "      <td>1</td>\n",
              "    </tr>\n",
              "    <tr>\n",
              "      <th>88</th>\n",
              "      <td>14.015220</td>\n",
              "      <td>0.221238</td>\n",
              "      <td>0.160695</td>\n",
              "      <td>0.001317</td>\n",
              "      <td>0.191349</td>\n",
              "      <td>0.200278</td>\n",
              "      <td>0.000000</td>\n",
              "      <td>0.001034</td>\n",
              "      <td>0.191284</td>\n",
              "      <td>0.199542</td>\n",
              "      <td>...</td>\n",
              "      <td>0.001097</td>\n",
              "      <td>0.098601</td>\n",
              "      <td>0.033503</td>\n",
              "      <td>0.472068</td>\n",
              "      <td>0.236322</td>\n",
              "      <td>0.148331</td>\n",
              "      <td>0.118553</td>\n",
              "      <td>5.044330</td>\n",
              "      <td>6.000287</td>\n",
              "      <td>0</td>\n",
              "    </tr>\n",
              "    <tr>\n",
              "      <th>89</th>\n",
              "      <td>14.015178</td>\n",
              "      <td>0.221296</td>\n",
              "      <td>0.160680</td>\n",
              "      <td>0.000526</td>\n",
              "      <td>0.191342</td>\n",
              "      <td>0.200183</td>\n",
              "      <td>0.000000</td>\n",
              "      <td>0.000821</td>\n",
              "      <td>0.191169</td>\n",
              "      <td>0.199202</td>\n",
              "      <td>...</td>\n",
              "      <td>0.000545</td>\n",
              "      <td>0.098496</td>\n",
              "      <td>0.033497</td>\n",
              "      <td>0.471922</td>\n",
              "      <td>0.236317</td>\n",
              "      <td>0.148301</td>\n",
              "      <td>0.118640</td>\n",
              "      <td>5.044763</td>\n",
              "      <td>6.000126</td>\n",
              "      <td>0</td>\n",
              "    </tr>\n",
              "    <tr>\n",
              "      <th>90</th>\n",
              "      <td>14.017048</td>\n",
              "      <td>0.221358</td>\n",
              "      <td>0.160751</td>\n",
              "      <td>0.000183</td>\n",
              "      <td>0.191340</td>\n",
              "      <td>0.200260</td>\n",
              "      <td>0.000000</td>\n",
              "      <td>0.000817</td>\n",
              "      <td>0.191211</td>\n",
              "      <td>0.199622</td>\n",
              "      <td>...</td>\n",
              "      <td>0.000742</td>\n",
              "      <td>0.098684</td>\n",
              "      <td>0.033505</td>\n",
              "      <td>0.471981</td>\n",
              "      <td>0.236307</td>\n",
              "      <td>0.148213</td>\n",
              "      <td>0.118508</td>\n",
              "      <td>5.046067</td>\n",
              "      <td>6.000382</td>\n",
              "      <td>0</td>\n",
              "    </tr>\n",
              "    <tr>\n",
              "      <th>91</th>\n",
              "      <td>14.017311</td>\n",
              "      <td>0.221343</td>\n",
              "      <td>0.160738</td>\n",
              "      <td>0.000401</td>\n",
              "      <td>0.191361</td>\n",
              "      <td>0.200214</td>\n",
              "      <td>0.000000</td>\n",
              "      <td>0.001026</td>\n",
              "      <td>0.191211</td>\n",
              "      <td>0.199240</td>\n",
              "      <td>...</td>\n",
              "      <td>0.001083</td>\n",
              "      <td>0.098558</td>\n",
              "      <td>0.033509</td>\n",
              "      <td>0.472003</td>\n",
              "      <td>0.236282</td>\n",
              "      <td>0.148391</td>\n",
              "      <td>0.118686</td>\n",
              "      <td>5.046220</td>\n",
              "      <td>6.000193</td>\n",
              "      <td>0</td>\n",
              "    </tr>\n",
              "  </tbody>\n",
              "</table>\n",
              "<p>92 rows × 129 columns</p>\n",
              "</div>\n",
              "      <button class=\"colab-df-convert\" onclick=\"convertToInteractive('df-3e5c1062-6b1e-45ff-af33-290b9a21f233')\"\n",
              "              title=\"Convert this dataframe to an interactive table.\"\n",
              "              style=\"display:none;\">\n",
              "        \n",
              "  <svg xmlns=\"http://www.w3.org/2000/svg\" height=\"24px\"viewBox=\"0 0 24 24\"\n",
              "       width=\"24px\">\n",
              "    <path d=\"M0 0h24v24H0V0z\" fill=\"none\"/>\n",
              "    <path d=\"M18.56 5.44l.94 2.06.94-2.06 2.06-.94-2.06-.94-.94-2.06-.94 2.06-2.06.94zm-11 1L8.5 8.5l.94-2.06 2.06-.94-2.06-.94L8.5 2.5l-.94 2.06-2.06.94zm10 10l.94 2.06.94-2.06 2.06-.94-2.06-.94-.94-2.06-.94 2.06-2.06.94z\"/><path d=\"M17.41 7.96l-1.37-1.37c-.4-.4-.92-.59-1.43-.59-.52 0-1.04.2-1.43.59L10.3 9.45l-7.72 7.72c-.78.78-.78 2.05 0 2.83L4 21.41c.39.39.9.59 1.41.59.51 0 1.02-.2 1.41-.59l7.78-7.78 2.81-2.81c.8-.78.8-2.07 0-2.86zM5.41 20L4 18.59l7.72-7.72 1.47 1.35L5.41 20z\"/>\n",
              "  </svg>\n",
              "      </button>\n",
              "      \n",
              "  <style>\n",
              "    .colab-df-container {\n",
              "      display:flex;\n",
              "      flex-wrap:wrap;\n",
              "      gap: 12px;\n",
              "    }\n",
              "\n",
              "    .colab-df-convert {\n",
              "      background-color: #E8F0FE;\n",
              "      border: none;\n",
              "      border-radius: 50%;\n",
              "      cursor: pointer;\n",
              "      display: none;\n",
              "      fill: #1967D2;\n",
              "      height: 32px;\n",
              "      padding: 0 0 0 0;\n",
              "      width: 32px;\n",
              "    }\n",
              "\n",
              "    .colab-df-convert:hover {\n",
              "      background-color: #E2EBFA;\n",
              "      box-shadow: 0px 1px 2px rgba(60, 64, 67, 0.3), 0px 1px 3px 1px rgba(60, 64, 67, 0.15);\n",
              "      fill: #174EA6;\n",
              "    }\n",
              "\n",
              "    [theme=dark] .colab-df-convert {\n",
              "      background-color: #3B4455;\n",
              "      fill: #D2E3FC;\n",
              "    }\n",
              "\n",
              "    [theme=dark] .colab-df-convert:hover {\n",
              "      background-color: #434B5C;\n",
              "      box-shadow: 0px 1px 3px 1px rgba(0, 0, 0, 0.15);\n",
              "      filter: drop-shadow(0px 1px 2px rgba(0, 0, 0, 0.3));\n",
              "      fill: #FFFFFF;\n",
              "    }\n",
              "  </style>\n",
              "\n",
              "      <script>\n",
              "        const buttonEl =\n",
              "          document.querySelector('#df-3e5c1062-6b1e-45ff-af33-290b9a21f233 button.colab-df-convert');\n",
              "        buttonEl.style.display =\n",
              "          google.colab.kernel.accessAllowed ? 'block' : 'none';\n",
              "\n",
              "        async function convertToInteractive(key) {\n",
              "          const element = document.querySelector('#df-3e5c1062-6b1e-45ff-af33-290b9a21f233');\n",
              "          const dataTable =\n",
              "            await google.colab.kernel.invokeFunction('convertToInteractive',\n",
              "                                                     [key], {});\n",
              "          if (!dataTable) return;\n",
              "\n",
              "          const docLinkHtml = 'Like what you see? Visit the ' +\n",
              "            '<a target=\"_blank\" href=https://colab.research.google.com/notebooks/data_table.ipynb>data table notebook</a>'\n",
              "            + ' to learn more about interactive tables.';\n",
              "          element.innerHTML = '';\n",
              "          dataTable['output_type'] = 'display_data';\n",
              "          await google.colab.output.renderOutput(dataTable, element);\n",
              "          const docLink = document.createElement('div');\n",
              "          docLink.innerHTML = docLinkHtml;\n",
              "          element.appendChild(docLink);\n",
              "        }\n",
              "      </script>\n",
              "    </div>\n",
              "  </div>\n",
              "  "
            ]
          },
          "metadata": {},
          "execution_count": 5
        }
      ]
    },
    {
      "cell_type": "code",
      "source": [
        "X = dataset.iloc[:, :-1].values\n",
        "y = dataset.iloc[:, -1].values"
      ],
      "metadata": {
        "id": "uXPJeHlBcVeB"
      },
      "execution_count": 6,
      "outputs": []
    },
    {
      "cell_type": "code",
      "source": [
        "print (X)"
      ],
      "metadata": {
        "colab": {
          "base_uri": "https://localhost:8080/"
        },
        "id": "BfdfkB83fGi0",
        "outputId": "7e5318b9-d637-457f-81cb-3f4fcacebb0d"
      },
      "execution_count": 7,
      "outputs": [
        {
          "output_type": "stream",
          "name": "stdout",
          "text": [
            "[[14.0174    0.2223    0.16125  ...  0.11725   5.0403    6.0002  ]\n",
            " [14.016011  0.221733  0.161174 ...  0.117412  5.056671  6.000013]\n",
            " [14.015942  0.221904  0.161202 ...  0.117469  5.050116  5.999963]\n",
            " ...\n",
            " [14.015178  0.221296  0.16068  ...  0.11864   5.044763  6.000126]\n",
            " [14.017048  0.221358  0.160751 ...  0.118508  5.046067  6.000382]\n",
            " [14.017311  0.221343  0.160738 ...  0.118686  5.04622   6.000193]]\n"
          ]
        }
      ]
    },
    {
      "cell_type": "code",
      "source": [
        "print(y)"
      ],
      "metadata": {
        "colab": {
          "base_uri": "https://localhost:8080/"
        },
        "id": "KH8UaB0Xfawm",
        "outputId": "c22e9008-f0f8-4361-8d47-cbca5364219a"
      },
      "execution_count": 8,
      "outputs": [
        {
          "output_type": "stream",
          "name": "stdout",
          "text": [
            "[2 1 0 0 1 0 0 0 0 0 0 0 0 0 0 0 0 0 0 0 0 0 0 1 0 0 0 0 0 0 0 0 0 0 0 0 0\n",
            " 0 0 0 0 0 0 0 0 0 0 0 0 0 0 0 0 0 0 0 0 0 0 0 0 0 0 0 0 0 0 0 0 0 0 0 0 1\n",
            " 1 1 1 1 1 1 0 0 0 0 0 0 1 1 0 0 0 0]\n"
          ]
        }
      ]
    },
    {
      "cell_type": "code",
      "source": [
        "dataset.shape"
      ],
      "metadata": {
        "colab": {
          "base_uri": "https://localhost:8080/"
        },
        "id": "KxUEq2vUfgJt",
        "outputId": "4a8de07e-7fcf-454d-8745-3e55212deee8"
      },
      "execution_count": 9,
      "outputs": [
        {
          "output_type": "execute_result",
          "data": {
            "text/plain": [
              "(92, 129)"
            ]
          },
          "metadata": {},
          "execution_count": 9
        }
      ]
    },
    {
      "cell_type": "code",
      "source": [
        "dataset.info()"
      ],
      "metadata": {
        "colab": {
          "base_uri": "https://localhost:8080/"
        },
        "id": "kRCvywE8fleM",
        "outputId": "3eb7227f-f50b-4818-9ba2-1a99d4c13ff2"
      },
      "execution_count": 10,
      "outputs": [
        {
          "output_type": "stream",
          "name": "stdout",
          "text": [
            "<class 'pandas.core.frame.DataFrame'>\n",
            "RangeIndex: 92 entries, 0 to 91\n",
            "Columns: 129 entries, SH1_C2_Diameter -14.020 to Defect Category\n",
            "dtypes: float64(127), int64(2)\n",
            "memory usage: 92.8 KB\n"
          ]
        }
      ]
    },
    {
      "cell_type": "markdown",
      "source": [
        "# Taking care of missing data"
      ],
      "metadata": {
        "id": "4yimpw3YfrLt"
      }
    },
    {
      "cell_type": "markdown",
      "source": [
        "Impute Missing Values"
      ],
      "metadata": {
        "id": "7y84jYJ2f0xc"
      }
    },
    {
      "cell_type": "code",
      "source": [
        "from sklearn.impute import SimpleImputer\n",
        "imputer = SimpleImputer(missing_values=np.nan, strategy='median')\n",
        "imputer.fit(X[:, :])\n",
        "X[:,:] = imputer.transform(X[:,:])"
      ],
      "metadata": {
        "id": "RrPL5ZY0fxgu"
      },
      "execution_count": 11,
      "outputs": []
    },
    {
      "cell_type": "code",
      "source": [
        "print(X)"
      ],
      "metadata": {
        "colab": {
          "base_uri": "https://localhost:8080/"
        },
        "id": "WUJVRp5_gFpy",
        "outputId": "e81b97ce-02ae-4de0-ba20-15c0726edcdf"
      },
      "execution_count": 12,
      "outputs": [
        {
          "output_type": "stream",
          "name": "stdout",
          "text": [
            "[[14.0174    0.2223    0.16125  ...  0.11725   5.0403    6.0002  ]\n",
            " [14.016011  0.221733  0.161174 ...  0.117412  5.056671  6.000013]\n",
            " [14.015942  0.221904  0.161202 ...  0.117469  5.050116  5.999963]\n",
            " ...\n",
            " [14.015178  0.221296  0.16068  ...  0.11864   5.044763  6.000126]\n",
            " [14.017048  0.221358  0.160751 ...  0.118508  5.046067  6.000382]\n",
            " [14.017311  0.221343  0.160738 ...  0.118686  5.04622   6.000193]]\n"
          ]
        }
      ]
    },
    {
      "cell_type": "markdown",
      "source": [
        "Check the percentage of missing values in each variable"
      ],
      "metadata": {
        "id": "OTXDklAKgPsD"
      }
    },
    {
      "cell_type": "code",
      "source": [
        "dataset.isnull().sum()/len(dataset)*100"
      ],
      "metadata": {
        "colab": {
          "base_uri": "https://localhost:8080/"
        },
        "id": "96-UmN3CgOjF",
        "outputId": "37cf6d37-7a37-4d43-e37f-d12e814ea5e5"
      },
      "execution_count": 13,
      "outputs": [
        {
          "output_type": "execute_result",
          "data": {
            "text/plain": [
              "SH1_C2_Diameter -14.020     0.0\n",
              "SH1_B5_Diameter -0.220      0.0\n",
              "SH1_B5_Diameter -0.160      0.0\n",
              "SH1_B5_Position -0.005      0.0\n",
              "SH1_B1_Width -0.190         0.0\n",
              "                           ... \n",
              "SH4_B7_Distance -0.148      0.0\n",
              "SH4_C7_Distance -0.118      0.0\n",
              "SH2_B8_Angle -5 Deg         0.0\n",
              "SH2_C7_Distance -6.000_R    0.0\n",
              "Defect Category             0.0\n",
              "Length: 129, dtype: float64"
            ]
          },
          "metadata": {},
          "execution_count": 13
        }
      ]
    },
    {
      "cell_type": "markdown",
      "metadata": {
        "id": "3bUhSHktAcOe"
      },
      "source": [
        "## Splitting the dataset into the Training set and Test set"
      ]
    },
    {
      "cell_type": "code",
      "metadata": {
        "id": "L7hGLt1qAced"
      },
      "source": [
        "from sklearn.model_selection import train_test_split\n",
        "X_train, X_test, y_train, y_test = train_test_split(X, y, test_size = 0.2, random_state = 0)"
      ],
      "execution_count": 14,
      "outputs": []
    },
    {
      "cell_type": "code",
      "source": [
        "print(X_train)"
      ],
      "metadata": {
        "colab": {
          "base_uri": "https://localhost:8080/"
        },
        "id": "lvPFQXLGgtY-",
        "outputId": "0070a7e1-f351-4811-fcbd-77e2d95d386b"
      },
      "execution_count": 15,
      "outputs": [
        {
          "output_type": "stream",
          "name": "stdout",
          "text": [
            "[[14.016131  0.221921  0.161137 ...  0.118853  5.047034  5.998962]\n",
            " [14.017064  0.221908  0.161109 ...  0.118768  5.043036  5.999925]\n",
            " [14.017253  0.221852  0.161101 ...  0.118778  5.044763  5.999592]\n",
            " ...\n",
            " [14.018551  0.221899  0.161109 ...  0.118556  5.048042  5.99866 ]\n",
            " [14.017349  0.221907  0.161126 ...  0.118737  5.048334  5.999183]\n",
            " [14.016486  0.221923  0.161095 ...  0.118546  5.042147  5.999608]]\n"
          ]
        }
      ]
    },
    {
      "cell_type": "code",
      "source": [
        "print(X_test)"
      ],
      "metadata": {
        "colab": {
          "base_uri": "https://localhost:8080/"
        },
        "id": "xAfkT3g4guCm",
        "outputId": "6f1f97df-b26c-44d7-b6a3-453089a3dfa1"
      },
      "execution_count": 16,
      "outputs": [
        {
          "output_type": "stream",
          "name": "stdout",
          "text": [
            "[[14.015942  0.221904  0.161202 ...  0.117469  5.050116  5.999963]\n",
            " [14.018163  0.221931  0.161114 ...  0.118749  5.045751  6.0001  ]\n",
            " [14.017335  0.221925  0.161174 ...  0.117905  5.05236   5.999522]\n",
            " ...\n",
            " [14.017333  0.221834  0.161152 ...  0.118228  5.046564  5.99958 ]\n",
            " [14.015503  0.221326  0.160738 ...  0.118398  5.04647   5.99872 ]\n",
            " [14.016388  0.221883  0.161112 ...  0.118509  5.044066  5.999569]]\n"
          ]
        }
      ]
    },
    {
      "cell_type": "code",
      "source": [
        "print(y_train)"
      ],
      "metadata": {
        "colab": {
          "base_uri": "https://localhost:8080/"
        },
        "id": "noWfl_grgxdq",
        "outputId": "315ef062-391e-4959-aebc-d4a10a77b450"
      },
      "execution_count": 17,
      "outputs": [
        {
          "output_type": "stream",
          "name": "stdout",
          "text": [
            "[0 0 0 0 0 1 1 0 1 0 0 0 0 0 0 0 0 0 0 0 0 1 0 0 0 0 0 0 0 2 0 0 0 0 0 1 0\n",
            " 0 0 0 0 1 1 0 1 0 0 0 0 0 0 0 0 0 1 0 0 0 0 0 0 0 0 0 0 0 0 0 0 0 0 0 0]\n"
          ]
        }
      ]
    },
    {
      "cell_type": "code",
      "source": [
        "print(y_test)"
      ],
      "metadata": {
        "colab": {
          "base_uri": "https://localhost:8080/"
        },
        "id": "T5nKIni4g0GW",
        "outputId": "ec80806c-b130-416e-e4c1-acfa247451cf"
      },
      "execution_count": 18,
      "outputs": [
        {
          "output_type": "stream",
          "name": "stdout",
          "text": [
            "[0 0 0 0 0 0 0 1 0 0 0 0 0 1 0 0 0 1 0]\n"
          ]
        }
      ]
    },
    {
      "cell_type": "markdown",
      "metadata": {
        "id": "1wrHODfJAEiI"
      },
      "source": [
        "## Feature Scaling"
      ]
    },
    {
      "cell_type": "code",
      "metadata": {
        "id": "W-UCD7ezAJG2"
      },
      "source": [
        "from sklearn.preprocessing import StandardScaler\n",
        "sc = StandardScaler()\n",
        "X_train = sc.fit_transform(X_train)\n",
        "X_test = sc.transform(X_test)"
      ],
      "execution_count": 19,
      "outputs": []
    },
    {
      "cell_type": "code",
      "source": [
        "print(X_train)"
      ],
      "metadata": {
        "colab": {
          "base_uri": "https://localhost:8080/"
        },
        "id": "c3nJIdjChKCl",
        "outputId": "f82d4b19-84cf-457b-faec-9b0fca5cfe2e"
      },
      "execution_count": 20,
      "outputs": [
        {
          "output_type": "stream",
          "name": "stdout",
          "text": [
            "[[-0.98837968  0.63078404  0.60626135 ...  0.948894    0.20690044\n",
            "  -1.03467322]\n",
            " [ 0.25678895  0.58059     0.44613754 ...  0.74935871 -0.61120986\n",
            "   1.14189308]\n",
            " [ 0.50902568  0.36436955  0.40038787 ...  0.77283345 -0.25781404\n",
            "   0.38924866]\n",
            " ...\n",
            " [ 2.24131815  0.54584029  0.44613754 ...  0.25169423  0.41316737\n",
            "  -1.71725164]\n",
            " [ 0.63714592  0.57672892  0.54335557 ...  0.67658702  0.4729193\n",
            "  -0.53517046]\n",
            " [-0.51460169  0.6385062   0.36607563 ...  0.22821949 -0.79312583\n",
            "   0.42541175]]\n"
          ]
        }
      ]
    },
    {
      "cell_type": "code",
      "source": [
        "print(X_test)"
      ],
      "metadata": {
        "colab": {
          "base_uri": "https://localhost:8080/"
        },
        "id": "T4jfd-fnhKnY",
        "outputId": "b41d1766-4308-4e06-cb44-f86ccaab752d"
      },
      "execution_count": 21,
      "outputs": [
        {
          "output_type": "stream",
          "name": "stdout",
          "text": [
            "[[-1.24061641  0.56514568  0.97797735 ... -2.30000997  0.83756976\n",
            "   1.22778043]\n",
            " [ 1.72349883  0.66939483  0.47473107 ...  0.70475671 -0.05563971\n",
            "   1.53742693]\n",
            " [ 0.61846172  0.64622836  0.81785353 ... -1.27651132  1.29675923\n",
            "   0.23103512]\n",
            " ...\n",
            " [ 0.61579255  0.29487012  0.69204196 ... -0.51827723  0.11072439\n",
            "   0.36212634]\n",
            " [-1.82649961 -1.66655829 -1.675503   ... -0.11920666  0.09148918\n",
            "  -1.58164003]\n",
            " [-0.6453911   0.48406301  0.46329366 ...  0.14136295 -0.40044107\n",
            "   0.33726421]]\n"
          ]
        }
      ]
    },
    {
      "cell_type": "markdown",
      "metadata": {
        "id": "S3i3lRiwASAX"
      },
      "source": [
        "## Applying LDA"
      ]
    },
    {
      "cell_type": "code",
      "metadata": {
        "id": "TAi_sSw9AVzI"
      },
      "source": [
        "from sklearn.discriminant_analysis import LinearDiscriminantAnalysis as LDA\n",
        "lda = LDA(n_components = 2)\n",
        "X_train = lda.fit_transform(X_train, y_train)\n",
        "X_test = lda.transform(X_test)"
      ],
      "execution_count": 22,
      "outputs": []
    },
    {
      "cell_type": "markdown",
      "metadata": {
        "id": "UBx16JVLAuel"
      },
      "source": [
        "## Training the Logistic Regression model on the Training set"
      ]
    },
    {
      "cell_type": "code",
      "metadata": {
        "id": "XDQahsqTAy44",
        "outputId": "11087f2f-6b2b-4aff-b8bd-0220d5961906",
        "colab": {
          "base_uri": "https://localhost:8080/"
        }
      },
      "source": [
        "from sklearn.linear_model import LogisticRegression\n",
        "classifier = LogisticRegression(random_state = 0)\n",
        "classifier.fit(X_train, y_train)"
      ],
      "execution_count": 23,
      "outputs": [
        {
          "output_type": "stream",
          "name": "stderr",
          "text": [
            "/usr/local/lib/python3.7/dist-packages/sklearn/linear_model/_logistic.py:818: ConvergenceWarning: lbfgs failed to converge (status=2):\n",
            "ABNORMAL_TERMINATION_IN_LNSRCH.\n",
            "\n",
            "Increase the number of iterations (max_iter) or scale the data as shown in:\n",
            "    https://scikit-learn.org/stable/modules/preprocessing.html\n",
            "Please also refer to the documentation for alternative solver options:\n",
            "    https://scikit-learn.org/stable/modules/linear_model.html#logistic-regression\n",
            "  extra_warning_msg=_LOGISTIC_SOLVER_CONVERGENCE_MSG,\n"
          ]
        },
        {
          "output_type": "execute_result",
          "data": {
            "text/plain": [
              "LogisticRegression(random_state=0)"
            ]
          },
          "metadata": {},
          "execution_count": 23
        }
      ]
    },
    {
      "cell_type": "markdown",
      "metadata": {
        "id": "MTck416XBPnD"
      },
      "source": [
        "## Making the Confusion Matrix"
      ]
    },
    {
      "cell_type": "code",
      "metadata": {
        "id": "2LO7H5LsBS1b",
        "outputId": "4a26a8c2-f7ae-4a4d-af8f-77fd989d22e7",
        "colab": {
          "base_uri": "https://localhost:8080/"
        }
      },
      "source": [
        "from sklearn.metrics import confusion_matrix, accuracy_score\n",
        "y_pred = classifier.predict(X_test)\n",
        "cm = confusion_matrix(y_test, y_pred)\n",
        "print(cm)\n",
        "accuracy_score(y_test, y_pred)"
      ],
      "execution_count": 24,
      "outputs": [
        {
          "output_type": "stream",
          "name": "stdout",
          "text": [
            "[[16  0]\n",
            " [ 3  0]]\n"
          ]
        },
        {
          "output_type": "execute_result",
          "data": {
            "text/plain": [
              "0.8421052631578947"
            ]
          },
          "metadata": {},
          "execution_count": 24
        }
      ]
    },
    {
      "cell_type": "markdown",
      "metadata": {
        "id": "h6pZMBrUBXwb"
      },
      "source": [
        "## Visualising the Training set results"
      ]
    },
    {
      "cell_type": "code",
      "metadata": {
        "id": "FK_LpLOeBdQ4",
        "outputId": "c1766b70-2e2a-473f-add8-284cee044125",
        "colab": {
          "base_uri": "https://localhost:8080/",
          "height": 245
        }
      },
      "source": [
        "from matplotlib.colors import ListedColormap\n",
        "X_set, y_set = X_train, y_train\n",
        "X1, X2 = np.meshgrid(np.arange(start = X_set[:, 0].min() - 1, stop = X_set[:, 0].max() + 1, step = 0.01),\n",
        "                     np.arange(start = X_set[:, 1].min() - 1, stop = X_set[:, 1].max() + 1, step = 0.01))\n",
        "plt.contourf(X1, X2, classifier.predict(np.array([X1.ravel(), X2.ravel()]).T).reshape(X1.shape),\n",
        "             alpha = 0.75, cmap = ListedColormap(('red', 'green', 'blue')))\n",
        "plt.xlim(X1.min(), X1.max())\n",
        "plt.ylim(X2.min(), X2.max())\n",
        "for i, j in enumerate(np.unique(y_set)):\n",
        "    plt.scatter(X_set[y_set == j, 0], X_set[y_set == j, 1],\n",
        "                c = ListedColormap(('red', 'green', 'blue'))(i), label = j)\n",
        "plt.title('Logistic Regression (Training set)')\n",
        "plt.xlabel('LD1')\n",
        "plt.ylabel('LD2')\n",
        "plt.legend()\n",
        "plt.show()"
      ],
      "execution_count": 25,
      "outputs": [
        {
          "output_type": "error",
          "ename": "ValueError",
          "evalue": "ignored",
          "traceback": [
            "\u001b[0;31m---------------------------------------------------------------------------\u001b[0m",
            "\u001b[0;31mValueError\u001b[0m                                Traceback (most recent call last)",
            "\u001b[0;32m<ipython-input-25-124ad81001b9>\u001b[0m in \u001b[0;36m<module>\u001b[0;34m()\u001b[0m\n\u001b[1;32m      1\u001b[0m \u001b[0;32mfrom\u001b[0m \u001b[0mmatplotlib\u001b[0m\u001b[0;34m.\u001b[0m\u001b[0mcolors\u001b[0m \u001b[0;32mimport\u001b[0m \u001b[0mListedColormap\u001b[0m\u001b[0;34m\u001b[0m\u001b[0;34m\u001b[0m\u001b[0m\n\u001b[1;32m      2\u001b[0m \u001b[0mX_set\u001b[0m\u001b[0;34m,\u001b[0m \u001b[0my_set\u001b[0m \u001b[0;34m=\u001b[0m \u001b[0mX_train\u001b[0m\u001b[0;34m,\u001b[0m \u001b[0my_train\u001b[0m\u001b[0;34m\u001b[0m\u001b[0;34m\u001b[0m\u001b[0m\n\u001b[0;32m----> 3\u001b[0;31m X1, X2 = np.meshgrid(np.arange(start = X_set[:, 0].min() - 1, stop = X_set[:, 0].max() + 1, step = 0.01),\n\u001b[0m\u001b[1;32m      4\u001b[0m                      np.arange(start = X_set[:, 1].min() - 1, stop = X_set[:, 1].max() + 1, step = 0.01))\n\u001b[1;32m      5\u001b[0m plt.contourf(X1, X2, classifier.predict(np.array([X1.ravel(), X2.ravel()]).T).reshape(X1.shape),\n",
            "\u001b[0;31mValueError\u001b[0m: Maximum allowed size exceeded"
          ]
        }
      ]
    },
    {
      "cell_type": "markdown",
      "metadata": {
        "id": "-Dbzx_KqBguX"
      },
      "source": [
        "## Visualising the Test set results"
      ]
    },
    {
      "cell_type": "code",
      "metadata": {
        "id": "kk07XbUHBl0W",
        "outputId": "b848a8d4-d825-4361-bb63-4daf2577a8ed",
        "colab": {
          "base_uri": "https://localhost:8080/",
          "height": 245
        }
      },
      "source": [
        "from matplotlib.colors import ListedColormap\n",
        "X_set, y_set = X_test, y_test\n",
        "X1, X2 = np.meshgrid(np.arange(start = X_set[:, 0].min() - 1, stop = X_set[:, 0].max() + 1, step = 0.01),\n",
        "                     np.arange(start = X_set[:, 1].min() - 1, stop = X_set[:, 1].max() + 1, step = 0.01))\n",
        "plt.contourf(X1, X2, classifier.predict(np.array([X1.ravel(), X2.ravel()]).T).reshape(X1.shape),\n",
        "             alpha = 0.75, cmap = ListedColormap(('red', 'green', 'blue')))\n",
        "plt.xlim(X1.min(), X1.max())\n",
        "plt.ylim(X2.min(), X2.max())\n",
        "for i, j in enumerate(np.unique(y_set)):\n",
        "    plt.scatter(X_set[y_set == j, 0], X_set[y_set == j, 1],\n",
        "                c = ListedColormap(('red', 'green', 'blue'))(i), label = j)\n",
        "plt.title('Logistic Regression (Test set)')\n",
        "plt.xlabel('LD1')\n",
        "plt.ylabel('LD2')\n",
        "plt.legend()\n",
        "plt.show()"
      ],
      "execution_count": 26,
      "outputs": [
        {
          "output_type": "error",
          "ename": "IndexError",
          "evalue": "ignored",
          "traceback": [
            "\u001b[0;31m---------------------------------------------------------------------------\u001b[0m",
            "\u001b[0;31mIndexError\u001b[0m                                Traceback (most recent call last)",
            "\u001b[0;32m<ipython-input-26-f00d3c8f0c34>\u001b[0m in \u001b[0;36m<module>\u001b[0;34m()\u001b[0m\n\u001b[1;32m      2\u001b[0m \u001b[0mX_set\u001b[0m\u001b[0;34m,\u001b[0m \u001b[0my_set\u001b[0m \u001b[0;34m=\u001b[0m \u001b[0mX_test\u001b[0m\u001b[0;34m,\u001b[0m \u001b[0my_test\u001b[0m\u001b[0;34m\u001b[0m\u001b[0;34m\u001b[0m\u001b[0m\n\u001b[1;32m      3\u001b[0m X1, X2 = np.meshgrid(np.arange(start = X_set[:, 0].min() - 1, stop = X_set[:, 0].max() + 1, step = 0.01),\n\u001b[0;32m----> 4\u001b[0;31m                      np.arange(start = X_set[:, 1].min() - 1, stop = X_set[:, 1].max() + 1, step = 0.01))\n\u001b[0m\u001b[1;32m      5\u001b[0m plt.contourf(X1, X2, classifier.predict(np.array([X1.ravel(), X2.ravel()]).T).reshape(X1.shape),\n\u001b[1;32m      6\u001b[0m              alpha = 0.75, cmap = ListedColormap(('red', 'green', 'blue')))\n",
            "\u001b[0;31mIndexError\u001b[0m: index 1 is out of bounds for axis 1 with size 1"
          ]
        }
      ]
    }
  ]
}