{
  "nbformat": 4,
  "nbformat_minor": 0,
  "metadata": {
    "colab": {
      "name": "Untitled8.ipynb",
      "provenance": [],
      "collapsed_sections": [],
      "authorship_tag": "ABX9TyPSvEIp7v2BLCJVKMNi8DRb",
      "include_colab_link": true
    },
    "kernelspec": {
      "name": "python3",
      "display_name": "Python 3"
    },
    "language_info": {
      "name": "python"
    }
  },
  "cells": [
    {
      "cell_type": "markdown",
      "metadata": {
        "id": "view-in-github",
        "colab_type": "text"
      },
      "source": [
        "<a href=\"https://colab.research.google.com/github/MananDesai2997/MananDesai2997/blob/main/RexolitePlate_LogisticRegression.ipynb\" target=\"_parent\"><img src=\"https://colab.research.google.com/assets/colab-badge.svg\" alt=\"Open In Colab\"/></a>"
      ]
    },
    {
      "cell_type": "markdown",
      "source": [
        "# Logistic Regression"
      ],
      "metadata": {
        "id": "bMr2MWmD9mId"
      }
    },
    {
      "cell_type": "markdown",
      "metadata": {
        "id": "VgUCAJVfK1FM"
      },
      "source": [
        "# Importing the libraries"
      ]
    },
    {
      "cell_type": "code",
      "metadata": {
        "id": "miNHtrW2ouQu"
      },
      "source": [
        "import numpy as np\n",
        "import matplotlib.pyplot as plt\n",
        "import pandas as pd"
      ],
      "execution_count": 5,
      "outputs": []
    },
    {
      "cell_type": "markdown",
      "metadata": {
        "id": "UOATjbP3LDCN"
      },
      "source": [
        "# Importing the dataset"
      ]
    },
    {
      "cell_type": "code",
      "metadata": {
        "id": "TDxiNx1pozd0"
      },
      "source": [
        "import io\n",
        "from google.colab import files"
      ],
      "execution_count": 6,
      "outputs": []
    },
    {
      "cell_type": "code",
      "metadata": {
        "colab": {
          "resources": {
            "http://localhost:8080/nbextensions/google.colab/files.js": {
              "data": "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",
              "ok": true,
              "headers": [
                [
                  "content-type",
                  "application/javascript"
                ]
              ],
              "status": 200,
              "status_text": ""
            }
          },
          "base_uri": "https://localhost:8080/",
          "height": 74
        },
        "id": "dJFAN9dwyJpV",
        "outputId": "8a3e3385-44ac-47ca-d7d4-c9ef3f3c0e54"
      },
      "source": [
        "uploaded = files.upload()"
      ],
      "execution_count": 7,
      "outputs": [
        {
          "output_type": "display_data",
          "data": {
            "text/plain": [
              "<IPython.core.display.HTML object>"
            ],
            "text/html": [
              "\n",
              "     <input type=\"file\" id=\"files-bf46bf08-eeac-467a-b8a2-99e9065a9ef9\" name=\"files[]\" multiple disabled\n",
              "        style=\"border:none\" />\n",
              "     <output id=\"result-bf46bf08-eeac-467a-b8a2-99e9065a9ef9\">\n",
              "      Upload widget is only available when the cell has been executed in the\n",
              "      current browser session. Please rerun this cell to enable.\n",
              "      </output>\n",
              "      <script src=\"/nbextensions/google.colab/files.js\"></script> "
            ]
          },
          "metadata": {}
        },
        {
          "output_type": "stream",
          "name": "stdout",
          "text": [
            "Saving MODEL_A.csv to MODEL_A (1).csv\n"
          ]
        }
      ]
    },
    {
      "cell_type": "code",
      "metadata": {
        "id": "J6QPZ2MqyKt9"
      },
      "source": [
        "dataset = pd.read_csv(io.BytesIO(uploaded['MODEL_A.csv']))"
      ],
      "execution_count": 8,
      "outputs": []
    },
    {
      "cell_type": "code",
      "metadata": {
        "colab": {
          "base_uri": "https://localhost:8080/",
          "height": 522
        },
        "id": "zdLl7DL20nFj",
        "outputId": "cbadcd99-fe21-462c-ec27-57410a4e7b80"
      },
      "source": [
        "dataset"
      ],
      "execution_count": 9,
      "outputs": [
        {
          "output_type": "execute_result",
          "data": {
            "text/plain": [
              "     Sequence_Number  Job_Number  Revision_Group  Week_Number  \\\n",
              "0                  1           1               1            1   \n",
              "1                  2           2               1            2   \n",
              "2                  3           2               1            2   \n",
              "3                  4           2               1            2   \n",
              "4                  5           2               1            2   \n",
              "..               ...         ...             ...          ...   \n",
              "406              415          12               2           23   \n",
              "407              416          12               2           23   \n",
              "408              417          12               2           23   \n",
              "409              418          12               2           23   \n",
              "410              419          12               2           23   \n",
              "\n",
              "     SH1_C2_Diameter -14.020  SH1_B5_Diameter -0.220_1  \\\n",
              "0                   14.01740                   0.22220   \n",
              "1                   14.01601                   0.22146   \n",
              "2                   14.01594                   0.22180   \n",
              "3                   14.01848                   0.22179   \n",
              "4                   14.01607                   0.22183   \n",
              "..                       ...                       ...   \n",
              "406                 14.01592                   0.22124   \n",
              "407                 14.01756                   0.22127   \n",
              "408                 14.01847                   0.22127   \n",
              "409                 14.01795                   0.22128   \n",
              "410                 14.01693                   0.22123   \n",
              "\n",
              "     SH1_B5_Diameter -0.220_2  SH1_B5_Diameter -0.160_1  \\\n",
              "0                     0.22240                   0.16120   \n",
              "1                     0.22200                   0.16120   \n",
              "2                     0.22201                   0.16120   \n",
              "3                     0.22190                   0.16118   \n",
              "4                     0.22203                   0.16119   \n",
              "..                        ...                       ...   \n",
              "406                   0.22143                   0.16046   \n",
              "407                   0.22148                   0.16046   \n",
              "408                   0.22146                   0.16047   \n",
              "409                   0.22149                   0.16047   \n",
              "410                   0.22143                   0.16045   \n",
              "\n",
              "     SH1_B5_Diameter -0.160_2  SH1_B5_Position -0.005_1  ...  \\\n",
              "0                     0.16130                   0.00070  ...   \n",
              "1                     0.16115                   0.00037  ...   \n",
              "2                     0.16121                   0.00073  ...   \n",
              "3                     0.16117                   0.00032  ...   \n",
              "4                     0.16112                   0.00025  ...   \n",
              "..                        ...                       ...  ...   \n",
              "406                   0.16046                   0.00152  ...   \n",
              "407                   0.16048                   0.00066  ...   \n",
              "408                   0.16048                   0.00006  ...   \n",
              "409                   0.16049                   0.00047  ...   \n",
              "410                   0.16046                   0.00032  ...   \n",
              "\n",
              "     SH2_A8_Diameter -0.650_1  SH2_A8_Diameter -0.650_2  \\\n",
              "0                     0.65180                   0.65180   \n",
              "1                     0.65162                   0.65170   \n",
              "2                     0.65170                   0.65171   \n",
              "3                     0.65171                   0.65175   \n",
              "4                     0.65170                   0.65169   \n",
              "..                        ...                       ...   \n",
              "406                   0.65210                   0.65210   \n",
              "407                   0.65213                   0.65212   \n",
              "408                   0.65211                   0.65211   \n",
              "409                   0.65211                   0.65211   \n",
              "410                   0.65206                   0.65207   \n",
              "\n",
              "     SH2_A8_Diameter -0.650_3  SH2_A8_True Position -0.003_1  \\\n",
              "0                     0.65180                        0.00060   \n",
              "1                     0.65174                        0.00193   \n",
              "2                     0.65170                        0.00119   \n",
              "3                     0.65175                        0.00163   \n",
              "4                     0.65171                        0.00081   \n",
              "..                        ...                            ...   \n",
              "406                   0.65213                        0.00117   \n",
              "407                   0.65213                        0.00228   \n",
              "408                   0.65213                        0.00195   \n",
              "409                   0.65212                        0.00177   \n",
              "410                   0.65212                        0.00146   \n",
              "\n",
              "     SH2_A8_True Position -0.003_2  SH2_A8_True Position -0.003_3  \\\n",
              "0                          0.00120                        0.00120   \n",
              "1                          0.00085                        0.00117   \n",
              "2                          0.00084                        0.00102   \n",
              "3                          0.00108                        0.00104   \n",
              "4                          0.00083                        0.00113   \n",
              "..                             ...                            ...   \n",
              "406                        0.00039                        0.00093   \n",
              "407                        0.00084                        0.00112   \n",
              "408                        0.00061                        0.00136   \n",
              "409                        0.00077                        0.00105   \n",
              "410                        0.00049                        0.00100   \n",
              "\n",
              "     SH5 A8_SURFACE FINISH_1  SH5 A4_SURFACE FINISH_2  SH1 B5_DEPTH .100  \\\n",
              "0                       7.00                     7.00              0.101   \n",
              "1                       7.00                     7.00              0.101   \n",
              "2                       7.00                     7.00              0.101   \n",
              "3                       7.00                     7.00              0.101   \n",
              "4                      11.27                     8.33              0.099   \n",
              "..                       ...                      ...                ...   \n",
              "406                     7.00                     7.00              0.102   \n",
              "407                     7.00                     7.00              0.102   \n",
              "408                     7.00                     7.00              0.103   \n",
              "409                     7.00                     7.00              0.101   \n",
              "410                     7.00                     7.00              0.102   \n",
              "\n",
              "     RCAI_Defect  \n",
              "0              1  \n",
              "1              1  \n",
              "2              0  \n",
              "3              0  \n",
              "4              0  \n",
              "..           ...  \n",
              "406            0  \n",
              "407            1  \n",
              "408            1  \n",
              "409            1  \n",
              "410            0  \n",
              "\n",
              "[411 rows x 47 columns]"
            ],
            "text/html": [
              "\n",
              "  <div id=\"df-0d0cdc8d-600d-438c-bd59-7ec915dbaab4\">\n",
              "    <div class=\"colab-df-container\">\n",
              "      <div>\n",
              "<style scoped>\n",
              "    .dataframe tbody tr th:only-of-type {\n",
              "        vertical-align: middle;\n",
              "    }\n",
              "\n",
              "    .dataframe tbody tr th {\n",
              "        vertical-align: top;\n",
              "    }\n",
              "\n",
              "    .dataframe thead th {\n",
              "        text-align: right;\n",
              "    }\n",
              "</style>\n",
              "<table border=\"1\" class=\"dataframe\">\n",
              "  <thead>\n",
              "    <tr style=\"text-align: right;\">\n",
              "      <th></th>\n",
              "      <th>Sequence_Number</th>\n",
              "      <th>Job_Number</th>\n",
              "      <th>Revision_Group</th>\n",
              "      <th>Week_Number</th>\n",
              "      <th>SH1_C2_Diameter -14.020</th>\n",
              "      <th>SH1_B5_Diameter -0.220_1</th>\n",
              "      <th>SH1_B5_Diameter -0.220_2</th>\n",
              "      <th>SH1_B5_Diameter -0.160_1</th>\n",
              "      <th>SH1_B5_Diameter -0.160_2</th>\n",
              "      <th>SH1_B5_Position -0.005_1</th>\n",
              "      <th>...</th>\n",
              "      <th>SH2_A8_Diameter -0.650_1</th>\n",
              "      <th>SH2_A8_Diameter -0.650_2</th>\n",
              "      <th>SH2_A8_Diameter -0.650_3</th>\n",
              "      <th>SH2_A8_True Position -0.003_1</th>\n",
              "      <th>SH2_A8_True Position -0.003_2</th>\n",
              "      <th>SH2_A8_True Position -0.003_3</th>\n",
              "      <th>SH5 A8_SURFACE FINISH_1</th>\n",
              "      <th>SH5 A4_SURFACE FINISH_2</th>\n",
              "      <th>SH1 B5_DEPTH .100</th>\n",
              "      <th>RCAI_Defect</th>\n",
              "    </tr>\n",
              "  </thead>\n",
              "  <tbody>\n",
              "    <tr>\n",
              "      <th>0</th>\n",
              "      <td>1</td>\n",
              "      <td>1</td>\n",
              "      <td>1</td>\n",
              "      <td>1</td>\n",
              "      <td>14.01740</td>\n",
              "      <td>0.22220</td>\n",
              "      <td>0.22240</td>\n",
              "      <td>0.16120</td>\n",
              "      <td>0.16130</td>\n",
              "      <td>0.00070</td>\n",
              "      <td>...</td>\n",
              "      <td>0.65180</td>\n",
              "      <td>0.65180</td>\n",
              "      <td>0.65180</td>\n",
              "      <td>0.00060</td>\n",
              "      <td>0.00120</td>\n",
              "      <td>0.00120</td>\n",
              "      <td>7.00</td>\n",
              "      <td>7.00</td>\n",
              "      <td>0.101</td>\n",
              "      <td>1</td>\n",
              "    </tr>\n",
              "    <tr>\n",
              "      <th>1</th>\n",
              "      <td>2</td>\n",
              "      <td>2</td>\n",
              "      <td>1</td>\n",
              "      <td>2</td>\n",
              "      <td>14.01601</td>\n",
              "      <td>0.22146</td>\n",
              "      <td>0.22200</td>\n",
              "      <td>0.16120</td>\n",
              "      <td>0.16115</td>\n",
              "      <td>0.00037</td>\n",
              "      <td>...</td>\n",
              "      <td>0.65162</td>\n",
              "      <td>0.65170</td>\n",
              "      <td>0.65174</td>\n",
              "      <td>0.00193</td>\n",
              "      <td>0.00085</td>\n",
              "      <td>0.00117</td>\n",
              "      <td>7.00</td>\n",
              "      <td>7.00</td>\n",
              "      <td>0.101</td>\n",
              "      <td>1</td>\n",
              "    </tr>\n",
              "    <tr>\n",
              "      <th>2</th>\n",
              "      <td>3</td>\n",
              "      <td>2</td>\n",
              "      <td>1</td>\n",
              "      <td>2</td>\n",
              "      <td>14.01594</td>\n",
              "      <td>0.22180</td>\n",
              "      <td>0.22201</td>\n",
              "      <td>0.16120</td>\n",
              "      <td>0.16121</td>\n",
              "      <td>0.00073</td>\n",
              "      <td>...</td>\n",
              "      <td>0.65170</td>\n",
              "      <td>0.65171</td>\n",
              "      <td>0.65170</td>\n",
              "      <td>0.00119</td>\n",
              "      <td>0.00084</td>\n",
              "      <td>0.00102</td>\n",
              "      <td>7.00</td>\n",
              "      <td>7.00</td>\n",
              "      <td>0.101</td>\n",
              "      <td>0</td>\n",
              "    </tr>\n",
              "    <tr>\n",
              "      <th>3</th>\n",
              "      <td>4</td>\n",
              "      <td>2</td>\n",
              "      <td>1</td>\n",
              "      <td>2</td>\n",
              "      <td>14.01848</td>\n",
              "      <td>0.22179</td>\n",
              "      <td>0.22190</td>\n",
              "      <td>0.16118</td>\n",
              "      <td>0.16117</td>\n",
              "      <td>0.00032</td>\n",
              "      <td>...</td>\n",
              "      <td>0.65171</td>\n",
              "      <td>0.65175</td>\n",
              "      <td>0.65175</td>\n",
              "      <td>0.00163</td>\n",
              "      <td>0.00108</td>\n",
              "      <td>0.00104</td>\n",
              "      <td>7.00</td>\n",
              "      <td>7.00</td>\n",
              "      <td>0.101</td>\n",
              "      <td>0</td>\n",
              "    </tr>\n",
              "    <tr>\n",
              "      <th>4</th>\n",
              "      <td>5</td>\n",
              "      <td>2</td>\n",
              "      <td>1</td>\n",
              "      <td>2</td>\n",
              "      <td>14.01607</td>\n",
              "      <td>0.22183</td>\n",
              "      <td>0.22203</td>\n",
              "      <td>0.16119</td>\n",
              "      <td>0.16112</td>\n",
              "      <td>0.00025</td>\n",
              "      <td>...</td>\n",
              "      <td>0.65170</td>\n",
              "      <td>0.65169</td>\n",
              "      <td>0.65171</td>\n",
              "      <td>0.00081</td>\n",
              "      <td>0.00083</td>\n",
              "      <td>0.00113</td>\n",
              "      <td>11.27</td>\n",
              "      <td>8.33</td>\n",
              "      <td>0.099</td>\n",
              "      <td>0</td>\n",
              "    </tr>\n",
              "    <tr>\n",
              "      <th>...</th>\n",
              "      <td>...</td>\n",
              "      <td>...</td>\n",
              "      <td>...</td>\n",
              "      <td>...</td>\n",
              "      <td>...</td>\n",
              "      <td>...</td>\n",
              "      <td>...</td>\n",
              "      <td>...</td>\n",
              "      <td>...</td>\n",
              "      <td>...</td>\n",
              "      <td>...</td>\n",
              "      <td>...</td>\n",
              "      <td>...</td>\n",
              "      <td>...</td>\n",
              "      <td>...</td>\n",
              "      <td>...</td>\n",
              "      <td>...</td>\n",
              "      <td>...</td>\n",
              "      <td>...</td>\n",
              "      <td>...</td>\n",
              "      <td>...</td>\n",
              "    </tr>\n",
              "    <tr>\n",
              "      <th>406</th>\n",
              "      <td>415</td>\n",
              "      <td>12</td>\n",
              "      <td>2</td>\n",
              "      <td>23</td>\n",
              "      <td>14.01592</td>\n",
              "      <td>0.22124</td>\n",
              "      <td>0.22143</td>\n",
              "      <td>0.16046</td>\n",
              "      <td>0.16046</td>\n",
              "      <td>0.00152</td>\n",
              "      <td>...</td>\n",
              "      <td>0.65210</td>\n",
              "      <td>0.65210</td>\n",
              "      <td>0.65213</td>\n",
              "      <td>0.00117</td>\n",
              "      <td>0.00039</td>\n",
              "      <td>0.00093</td>\n",
              "      <td>7.00</td>\n",
              "      <td>7.00</td>\n",
              "      <td>0.102</td>\n",
              "      <td>0</td>\n",
              "    </tr>\n",
              "    <tr>\n",
              "      <th>407</th>\n",
              "      <td>416</td>\n",
              "      <td>12</td>\n",
              "      <td>2</td>\n",
              "      <td>23</td>\n",
              "      <td>14.01756</td>\n",
              "      <td>0.22127</td>\n",
              "      <td>0.22148</td>\n",
              "      <td>0.16046</td>\n",
              "      <td>0.16048</td>\n",
              "      <td>0.00066</td>\n",
              "      <td>...</td>\n",
              "      <td>0.65213</td>\n",
              "      <td>0.65212</td>\n",
              "      <td>0.65213</td>\n",
              "      <td>0.00228</td>\n",
              "      <td>0.00084</td>\n",
              "      <td>0.00112</td>\n",
              "      <td>7.00</td>\n",
              "      <td>7.00</td>\n",
              "      <td>0.102</td>\n",
              "      <td>1</td>\n",
              "    </tr>\n",
              "    <tr>\n",
              "      <th>408</th>\n",
              "      <td>417</td>\n",
              "      <td>12</td>\n",
              "      <td>2</td>\n",
              "      <td>23</td>\n",
              "      <td>14.01847</td>\n",
              "      <td>0.22127</td>\n",
              "      <td>0.22146</td>\n",
              "      <td>0.16047</td>\n",
              "      <td>0.16048</td>\n",
              "      <td>0.00006</td>\n",
              "      <td>...</td>\n",
              "      <td>0.65211</td>\n",
              "      <td>0.65211</td>\n",
              "      <td>0.65213</td>\n",
              "      <td>0.00195</td>\n",
              "      <td>0.00061</td>\n",
              "      <td>0.00136</td>\n",
              "      <td>7.00</td>\n",
              "      <td>7.00</td>\n",
              "      <td>0.103</td>\n",
              "      <td>1</td>\n",
              "    </tr>\n",
              "    <tr>\n",
              "      <th>409</th>\n",
              "      <td>418</td>\n",
              "      <td>12</td>\n",
              "      <td>2</td>\n",
              "      <td>23</td>\n",
              "      <td>14.01795</td>\n",
              "      <td>0.22128</td>\n",
              "      <td>0.22149</td>\n",
              "      <td>0.16047</td>\n",
              "      <td>0.16049</td>\n",
              "      <td>0.00047</td>\n",
              "      <td>...</td>\n",
              "      <td>0.65211</td>\n",
              "      <td>0.65211</td>\n",
              "      <td>0.65212</td>\n",
              "      <td>0.00177</td>\n",
              "      <td>0.00077</td>\n",
              "      <td>0.00105</td>\n",
              "      <td>7.00</td>\n",
              "      <td>7.00</td>\n",
              "      <td>0.101</td>\n",
              "      <td>1</td>\n",
              "    </tr>\n",
              "    <tr>\n",
              "      <th>410</th>\n",
              "      <td>419</td>\n",
              "      <td>12</td>\n",
              "      <td>2</td>\n",
              "      <td>23</td>\n",
              "      <td>14.01693</td>\n",
              "      <td>0.22123</td>\n",
              "      <td>0.22143</td>\n",
              "      <td>0.16045</td>\n",
              "      <td>0.16046</td>\n",
              "      <td>0.00032</td>\n",
              "      <td>...</td>\n",
              "      <td>0.65206</td>\n",
              "      <td>0.65207</td>\n",
              "      <td>0.65212</td>\n",
              "      <td>0.00146</td>\n",
              "      <td>0.00049</td>\n",
              "      <td>0.00100</td>\n",
              "      <td>7.00</td>\n",
              "      <td>7.00</td>\n",
              "      <td>0.102</td>\n",
              "      <td>0</td>\n",
              "    </tr>\n",
              "  </tbody>\n",
              "</table>\n",
              "<p>411 rows × 47 columns</p>\n",
              "</div>\n",
              "      <button class=\"colab-df-convert\" onclick=\"convertToInteractive('df-0d0cdc8d-600d-438c-bd59-7ec915dbaab4')\"\n",
              "              title=\"Convert this dataframe to an interactive table.\"\n",
              "              style=\"display:none;\">\n",
              "        \n",
              "  <svg xmlns=\"http://www.w3.org/2000/svg\" height=\"24px\"viewBox=\"0 0 24 24\"\n",
              "       width=\"24px\">\n",
              "    <path d=\"M0 0h24v24H0V0z\" fill=\"none\"/>\n",
              "    <path d=\"M18.56 5.44l.94 2.06.94-2.06 2.06-.94-2.06-.94-.94-2.06-.94 2.06-2.06.94zm-11 1L8.5 8.5l.94-2.06 2.06-.94-2.06-.94L8.5 2.5l-.94 2.06-2.06.94zm10 10l.94 2.06.94-2.06 2.06-.94-2.06-.94-.94-2.06-.94 2.06-2.06.94z\"/><path d=\"M17.41 7.96l-1.37-1.37c-.4-.4-.92-.59-1.43-.59-.52 0-1.04.2-1.43.59L10.3 9.45l-7.72 7.72c-.78.78-.78 2.05 0 2.83L4 21.41c.39.39.9.59 1.41.59.51 0 1.02-.2 1.41-.59l7.78-7.78 2.81-2.81c.8-.78.8-2.07 0-2.86zM5.41 20L4 18.59l7.72-7.72 1.47 1.35L5.41 20z\"/>\n",
              "  </svg>\n",
              "      </button>\n",
              "      \n",
              "  <style>\n",
              "    .colab-df-container {\n",
              "      display:flex;\n",
              "      flex-wrap:wrap;\n",
              "      gap: 12px;\n",
              "    }\n",
              "\n",
              "    .colab-df-convert {\n",
              "      background-color: #E8F0FE;\n",
              "      border: none;\n",
              "      border-radius: 50%;\n",
              "      cursor: pointer;\n",
              "      display: none;\n",
              "      fill: #1967D2;\n",
              "      height: 32px;\n",
              "      padding: 0 0 0 0;\n",
              "      width: 32px;\n",
              "    }\n",
              "\n",
              "    .colab-df-convert:hover {\n",
              "      background-color: #E2EBFA;\n",
              "      box-shadow: 0px 1px 2px rgba(60, 64, 67, 0.3), 0px 1px 3px 1px rgba(60, 64, 67, 0.15);\n",
              "      fill: #174EA6;\n",
              "    }\n",
              "\n",
              "    [theme=dark] .colab-df-convert {\n",
              "      background-color: #3B4455;\n",
              "      fill: #D2E3FC;\n",
              "    }\n",
              "\n",
              "    [theme=dark] .colab-df-convert:hover {\n",
              "      background-color: #434B5C;\n",
              "      box-shadow: 0px 1px 3px 1px rgba(0, 0, 0, 0.15);\n",
              "      filter: drop-shadow(0px 1px 2px rgba(0, 0, 0, 0.3));\n",
              "      fill: #FFFFFF;\n",
              "    }\n",
              "  </style>\n",
              "\n",
              "      <script>\n",
              "        const buttonEl =\n",
              "          document.querySelector('#df-0d0cdc8d-600d-438c-bd59-7ec915dbaab4 button.colab-df-convert');\n",
              "        buttonEl.style.display =\n",
              "          google.colab.kernel.accessAllowed ? 'block' : 'none';\n",
              "\n",
              "        async function convertToInteractive(key) {\n",
              "          const element = document.querySelector('#df-0d0cdc8d-600d-438c-bd59-7ec915dbaab4');\n",
              "          const dataTable =\n",
              "            await google.colab.kernel.invokeFunction('convertToInteractive',\n",
              "                                                     [key], {});\n",
              "          if (!dataTable) return;\n",
              "\n",
              "          const docLinkHtml = 'Like what you see? Visit the ' +\n",
              "            '<a target=\"_blank\" href=https://colab.research.google.com/notebooks/data_table.ipynb>data table notebook</a>'\n",
              "            + ' to learn more about interactive tables.';\n",
              "          element.innerHTML = '';\n",
              "          dataTable['output_type'] = 'display_data';\n",
              "          await google.colab.output.renderOutput(dataTable, element);\n",
              "          const docLink = document.createElement('div');\n",
              "          docLink.innerHTML = docLinkHtml;\n",
              "          element.appendChild(docLink);\n",
              "        }\n",
              "      </script>\n",
              "    </div>\n",
              "  </div>\n",
              "  "
            ]
          },
          "metadata": {},
          "execution_count": 9
        }
      ]
    },
    {
      "cell_type": "code",
      "source": [
        "dataset['RCAI_Defect'].value_counts()"
      ],
      "metadata": {
        "id": "D7oxTafP2exm",
        "outputId": "8e894982-3777-4a26-94e0-19ca9e94d37a",
        "colab": {
          "base_uri": "https://localhost:8080/"
        }
      },
      "execution_count": 10,
      "outputs": [
        {
          "output_type": "execute_result",
          "data": {
            "text/plain": [
              "0    347\n",
              "1     64\n",
              "Name: RCAI_Defect, dtype: int64"
            ]
          },
          "metadata": {},
          "execution_count": 10
        }
      ]
    },
    {
      "cell_type": "code",
      "metadata": {
        "id": "3m5bERFJJ5Kq"
      },
      "source": [
        "X = dataset.iloc[:,:-1].values\n",
        "Y = dataset.iloc[:,46:47].values"
      ],
      "execution_count": 11,
      "outputs": []
    },
    {
      "cell_type": "code",
      "metadata": {
        "colab": {
          "base_uri": "https://localhost:8080/"
        },
        "id": "PO_kQ5qdKdwz",
        "outputId": "31263818-77db-4d8f-8f3a-e6b35d59cd70"
      },
      "source": [
        "print(X)"
      ],
      "execution_count": 12,
      "outputs": [
        {
          "output_type": "stream",
          "name": "stdout",
          "text": [
            "[[1.00e+00 1.00e+00 1.00e+00 ... 7.00e+00 7.00e+00 1.01e-01]\n",
            " [2.00e+00 2.00e+00 1.00e+00 ... 7.00e+00 7.00e+00 1.01e-01]\n",
            " [3.00e+00 2.00e+00 1.00e+00 ... 7.00e+00 7.00e+00 1.01e-01]\n",
            " ...\n",
            " [4.17e+02 1.20e+01 2.00e+00 ... 7.00e+00 7.00e+00 1.03e-01]\n",
            " [4.18e+02 1.20e+01 2.00e+00 ... 7.00e+00 7.00e+00 1.01e-01]\n",
            " [4.19e+02 1.20e+01 2.00e+00 ... 7.00e+00 7.00e+00 1.02e-01]]\n"
          ]
        }
      ]
    },
    {
      "cell_type": "code",
      "metadata": {
        "colab": {
          "base_uri": "https://localhost:8080/"
        },
        "id": "MByS_-wyKqts",
        "outputId": "9dffa497-6618-4204-c9f4-caa373efff86"
      },
      "source": [
        "print(Y)"
      ],
      "execution_count": 13,
      "outputs": [
        {
          "output_type": "stream",
          "name": "stdout",
          "text": [
            "[[1]\n",
            " [1]\n",
            " [0]\n",
            " [0]\n",
            " [0]\n",
            " [0]\n",
            " [0]\n",
            " [0]\n",
            " [0]\n",
            " [0]\n",
            " [0]\n",
            " [0]\n",
            " [0]\n",
            " [0]\n",
            " [0]\n",
            " [0]\n",
            " [0]\n",
            " [0]\n",
            " [0]\n",
            " [0]\n",
            " [0]\n",
            " [0]\n",
            " [0]\n",
            " [1]\n",
            " [0]\n",
            " [0]\n",
            " [0]\n",
            " [0]\n",
            " [0]\n",
            " [0]\n",
            " [0]\n",
            " [0]\n",
            " [0]\n",
            " [0]\n",
            " [0]\n",
            " [0]\n",
            " [0]\n",
            " [0]\n",
            " [0]\n",
            " [0]\n",
            " [0]\n",
            " [0]\n",
            " [0]\n",
            " [0]\n",
            " [0]\n",
            " [0]\n",
            " [0]\n",
            " [0]\n",
            " [0]\n",
            " [0]\n",
            " [0]\n",
            " [0]\n",
            " [0]\n",
            " [0]\n",
            " [0]\n",
            " [0]\n",
            " [0]\n",
            " [0]\n",
            " [0]\n",
            " [0]\n",
            " [0]\n",
            " [0]\n",
            " [0]\n",
            " [0]\n",
            " [0]\n",
            " [0]\n",
            " [0]\n",
            " [0]\n",
            " [0]\n",
            " [0]\n",
            " [0]\n",
            " [0]\n",
            " [0]\n",
            " [0]\n",
            " [0]\n",
            " [0]\n",
            " [0]\n",
            " [1]\n",
            " [0]\n",
            " [0]\n",
            " [0]\n",
            " [0]\n",
            " [0]\n",
            " [0]\n",
            " [0]\n",
            " [0]\n",
            " [0]\n",
            " [1]\n",
            " [0]\n",
            " [0]\n",
            " [0]\n",
            " [0]\n",
            " [0]\n",
            " [0]\n",
            " [0]\n",
            " [0]\n",
            " [0]\n",
            " [0]\n",
            " [0]\n",
            " [0]\n",
            " [0]\n",
            " [0]\n",
            " [0]\n",
            " [0]\n",
            " [0]\n",
            " [0]\n",
            " [0]\n",
            " [0]\n",
            " [0]\n",
            " [0]\n",
            " [0]\n",
            " [0]\n",
            " [0]\n",
            " [0]\n",
            " [0]\n",
            " [0]\n",
            " [0]\n",
            " [0]\n",
            " [0]\n",
            " [0]\n",
            " [0]\n",
            " [0]\n",
            " [0]\n",
            " [0]\n",
            " [0]\n",
            " [0]\n",
            " [0]\n",
            " [0]\n",
            " [0]\n",
            " [0]\n",
            " [0]\n",
            " [0]\n",
            " [0]\n",
            " [0]\n",
            " [0]\n",
            " [0]\n",
            " [0]\n",
            " [0]\n",
            " [0]\n",
            " [1]\n",
            " [1]\n",
            " [1]\n",
            " [1]\n",
            " [1]\n",
            " [1]\n",
            " [1]\n",
            " [0]\n",
            " [1]\n",
            " [1]\n",
            " [1]\n",
            " [0]\n",
            " [0]\n",
            " [0]\n",
            " [0]\n",
            " [0]\n",
            " [0]\n",
            " [0]\n",
            " [0]\n",
            " [0]\n",
            " [0]\n",
            " [0]\n",
            " [0]\n",
            " [0]\n",
            " [0]\n",
            " [0]\n",
            " [0]\n",
            " [0]\n",
            " [0]\n",
            " [0]\n",
            " [0]\n",
            " [0]\n",
            " [0]\n",
            " [0]\n",
            " [0]\n",
            " [0]\n",
            " [0]\n",
            " [0]\n",
            " [0]\n",
            " [0]\n",
            " [0]\n",
            " [0]\n",
            " [0]\n",
            " [0]\n",
            " [0]\n",
            " [0]\n",
            " [0]\n",
            " [0]\n",
            " [0]\n",
            " [0]\n",
            " [0]\n",
            " [0]\n",
            " [0]\n",
            " [0]\n",
            " [0]\n",
            " [0]\n",
            " [1]\n",
            " [0]\n",
            " [0]\n",
            " [0]\n",
            " [1]\n",
            " [1]\n",
            " [0]\n",
            " [0]\n",
            " [1]\n",
            " [0]\n",
            " [1]\n",
            " [1]\n",
            " [1]\n",
            " [0]\n",
            " [1]\n",
            " [1]\n",
            " [1]\n",
            " [1]\n",
            " [1]\n",
            " [1]\n",
            " [1]\n",
            " [0]\n",
            " [1]\n",
            " [1]\n",
            " [1]\n",
            " [1]\n",
            " [0]\n",
            " [1]\n",
            " [0]\n",
            " [0]\n",
            " [0]\n",
            " [1]\n",
            " [0]\n",
            " [0]\n",
            " [0]\n",
            " [1]\n",
            " [1]\n",
            " [0]\n",
            " [1]\n",
            " [1]\n",
            " [0]\n",
            " [0]\n",
            " [0]\n",
            " [1]\n",
            " [0]\n",
            " [0]\n",
            " [1]\n",
            " [1]\n",
            " [0]\n",
            " [0]\n",
            " [0]\n",
            " [0]\n",
            " [0]\n",
            " [0]\n",
            " [0]\n",
            " [0]\n",
            " [0]\n",
            " [0]\n",
            " [0]\n",
            " [0]\n",
            " [0]\n",
            " [0]\n",
            " [0]\n",
            " [0]\n",
            " [0]\n",
            " [0]\n",
            " [0]\n",
            " [0]\n",
            " [0]\n",
            " [0]\n",
            " [0]\n",
            " [0]\n",
            " [0]\n",
            " [0]\n",
            " [0]\n",
            " [0]\n",
            " [0]\n",
            " [0]\n",
            " [0]\n",
            " [0]\n",
            " [0]\n",
            " [0]\n",
            " [0]\n",
            " [0]\n",
            " [0]\n",
            " [0]\n",
            " [0]\n",
            " [0]\n",
            " [0]\n",
            " [0]\n",
            " [0]\n",
            " [0]\n",
            " [0]\n",
            " [0]\n",
            " [1]\n",
            " [0]\n",
            " [0]\n",
            " [0]\n",
            " [0]\n",
            " [0]\n",
            " [0]\n",
            " [0]\n",
            " [0]\n",
            " [0]\n",
            " [0]\n",
            " [1]\n",
            " [1]\n",
            " [0]\n",
            " [0]\n",
            " [0]\n",
            " [0]\n",
            " [0]\n",
            " [0]\n",
            " [0]\n",
            " [0]\n",
            " [1]\n",
            " [0]\n",
            " [0]\n",
            " [0]\n",
            " [0]\n",
            " [1]\n",
            " [1]\n",
            " [0]\n",
            " [1]\n",
            " [0]\n",
            " [0]\n",
            " [1]\n",
            " [0]\n",
            " [0]\n",
            " [0]\n",
            " [1]\n",
            " [0]\n",
            " [1]\n",
            " [1]\n",
            " [0]\n",
            " [1]\n",
            " [0]\n",
            " [0]\n",
            " [0]\n",
            " [0]\n",
            " [0]\n",
            " [0]\n",
            " [0]\n",
            " [0]\n",
            " [1]\n",
            " [1]\n",
            " [1]\n",
            " [0]\n",
            " [0]\n",
            " [0]\n",
            " [0]\n",
            " [0]\n",
            " [0]\n",
            " [0]\n",
            " [0]\n",
            " [0]\n",
            " [0]\n",
            " [0]\n",
            " [0]\n",
            " [0]\n",
            " [0]\n",
            " [0]\n",
            " [0]\n",
            " [0]\n",
            " [0]\n",
            " [0]\n",
            " [0]\n",
            " [0]\n",
            " [0]\n",
            " [0]\n",
            " [0]\n",
            " [0]\n",
            " [0]\n",
            " [0]\n",
            " [0]\n",
            " [1]\n",
            " [1]\n",
            " [1]\n",
            " [0]\n",
            " [0]\n",
            " [0]\n",
            " [0]\n",
            " [0]\n",
            " [0]\n",
            " [0]\n",
            " [0]\n",
            " [0]\n",
            " [0]\n",
            " [0]\n",
            " [1]\n",
            " [0]\n",
            " [0]\n",
            " [0]\n",
            " [0]\n",
            " [0]\n",
            " [0]\n",
            " [0]\n",
            " [0]\n",
            " [0]\n",
            " [0]\n",
            " [0]\n",
            " [0]\n",
            " [0]\n",
            " [0]\n",
            " [0]\n",
            " [0]\n",
            " [0]\n",
            " [0]\n",
            " [0]\n",
            " [0]\n",
            " [0]\n",
            " [0]\n",
            " [1]\n",
            " [1]\n",
            " [1]\n",
            " [0]]\n"
          ]
        }
      ]
    },
    {
      "cell_type": "code",
      "metadata": {
        "colab": {
          "base_uri": "https://localhost:8080/"
        },
        "id": "9Im8lin81Alz",
        "outputId": "7a595e86-a831-4a26-a655-a762b772f21e"
      },
      "source": [
        "dataset.shape"
      ],
      "execution_count": 14,
      "outputs": [
        {
          "output_type": "execute_result",
          "data": {
            "text/plain": [
              "(411, 47)"
            ]
          },
          "metadata": {},
          "execution_count": 14
        }
      ]
    },
    {
      "cell_type": "code",
      "metadata": {
        "colab": {
          "base_uri": "https://localhost:8080/"
        },
        "id": "H1h4yZ5_1HsE",
        "outputId": "ac41bc76-4291-462a-9afc-da28f5948850"
      },
      "source": [
        "dataset.info()"
      ],
      "execution_count": 15,
      "outputs": [
        {
          "output_type": "stream",
          "name": "stdout",
          "text": [
            "<class 'pandas.core.frame.DataFrame'>\n",
            "RangeIndex: 411 entries, 0 to 410\n",
            "Data columns (total 47 columns):\n",
            " #   Column                         Non-Null Count  Dtype  \n",
            "---  ------                         --------------  -----  \n",
            " 0   Sequence_Number                411 non-null    int64  \n",
            " 1   Job_Number                     411 non-null    int64  \n",
            " 2   Revision_Group                 411 non-null    int64  \n",
            " 3   Week_Number                    411 non-null    int64  \n",
            " 4   SH1_C2_Diameter -14.020        411 non-null    float64\n",
            " 5   SH1_B5_Diameter -0.220_1       411 non-null    float64\n",
            " 6   SH1_B5_Diameter -0.220_2       411 non-null    float64\n",
            " 7   SH1_B5_Diameter -0.160_1       411 non-null    float64\n",
            " 8   SH1_B5_Diameter -0.160_2       411 non-null    float64\n",
            " 9   SH1_B5_Position -0.005_1       411 non-null    float64\n",
            " 10  SH1_B5_Position -0.005_2       411 non-null    float64\n",
            " 11  SH1_B1_Width -0.190            411 non-null    float64\n",
            " 12  SH1_B1_Distance -0.200         411 non-null    float64\n",
            " 13  SH1_B1_Position- 0.002         411 non-null    float64\n",
            " 14  SH1_D5_Position -0.005_1       411 non-null    float64\n",
            " 15  SH1_D5_Position -0.005_2       411 non-null    float64\n",
            " 16  SH1_D5_Position -0.005_3       411 non-null    float64\n",
            " 17  SH1_D5_Position -0.005_4       411 non-null    float64\n",
            " 18  SH2_D7_Width -0.190            411 non-null    float64\n",
            " 19  SH2_D7_Distance -0.20          411 non-null    float64\n",
            " 20  SH2_D7_Position- 0.002         411 non-null    float64\n",
            " 21  SH2_B1_Position -0.005_1       411 non-null    float64\n",
            " 22  SH2_B1_Position -0.005_2       411 non-null    float64\n",
            " 23  SH2_B1_Position -0.005_3       411 non-null    float64\n",
            " 24  SH2_B1_Position -0.005_4       411 non-null    float64\n",
            " 25  SH2_B1_Position -0.005_5       411 non-null    float64\n",
            " 26  SH2_B1_Position -0.005_6       411 non-null    float64\n",
            " 27  SH2_B1_Position -0.005_7       411 non-null    float64\n",
            " 28  SH2_B1_Position -0.005_8       411 non-null    float64\n",
            " 29  SH2_B1_Position -0.015_1       411 non-null    float64\n",
            " 30  SH2_B1_Position -0.015_2       411 non-null    float64\n",
            " 31  SH2_B1_Position -0.015_3       411 non-null    float64\n",
            " 32  SH2_B1_Position -0.015_4       411 non-null    float64\n",
            " 33  SH2_B1_Position -0.015_5       411 non-null    float64\n",
            " 34  SH2_B1_Position -0.015_6       411 non-null    float64\n",
            " 35  SH2_B1_Position -0.015_7       411 non-null    float64\n",
            " 36  SH2_B1_Position -0.015_8       411 non-null    float64\n",
            " 37  SH2_A8_Diameter -0.650_1       411 non-null    float64\n",
            " 38  SH2_A8_Diameter -0.650_2       411 non-null    float64\n",
            " 39  SH2_A8_Diameter -0.650_3       411 non-null    float64\n",
            " 40  SH2_A8_True Position -0.003_1  411 non-null    float64\n",
            " 41  SH2_A8_True Position -0.003_2  411 non-null    float64\n",
            " 42  SH2_A8_True Position -0.003_3  411 non-null    float64\n",
            " 43  SH5 A8_SURFACE FINISH_1        411 non-null    float64\n",
            " 44  SH5 A4_SURFACE FINISH_2        411 non-null    float64\n",
            " 45  SH1 B5_DEPTH .100              411 non-null    float64\n",
            " 46  RCAI_Defect                    411 non-null    int64  \n",
            "dtypes: float64(42), int64(5)\n",
            "memory usage: 151.0 KB\n"
          ]
        }
      ]
    },
    {
      "cell_type": "markdown",
      "metadata": {
        "id": "9tb0bSldMY97"
      },
      "source": [
        "# Taking care of missing data"
      ]
    },
    {
      "cell_type": "markdown",
      "metadata": {
        "id": "mPvxh8AzlUH-"
      },
      "source": [
        "Impute Missing Values. "
      ]
    },
    {
      "cell_type": "code",
      "metadata": {
        "id": "IIW12cEV5tLD"
      },
      "source": [
        "from sklearn.impute import SimpleImputer\n",
        "imputer = SimpleImputer(missing_values=np.nan, strategy='median')\n",
        "imputer.fit(X[:, :])\n",
        "X[:,:] = imputer.transform(X[:,:])"
      ],
      "execution_count": 16,
      "outputs": []
    },
    {
      "cell_type": "code",
      "metadata": {
        "colab": {
          "base_uri": "https://localhost:8080/"
        },
        "id": "Wa2nd9w-NY2E",
        "outputId": "667d8beb-a916-40e2-87a7-e1a583dbcf27"
      },
      "source": [
        "print(X)"
      ],
      "execution_count": 17,
      "outputs": [
        {
          "output_type": "stream",
          "name": "stdout",
          "text": [
            "[[1.00e+00 1.00e+00 1.00e+00 ... 7.00e+00 7.00e+00 1.01e-01]\n",
            " [2.00e+00 2.00e+00 1.00e+00 ... 7.00e+00 7.00e+00 1.01e-01]\n",
            " [3.00e+00 2.00e+00 1.00e+00 ... 7.00e+00 7.00e+00 1.01e-01]\n",
            " ...\n",
            " [4.17e+02 1.20e+01 2.00e+00 ... 7.00e+00 7.00e+00 1.03e-01]\n",
            " [4.18e+02 1.20e+01 2.00e+00 ... 7.00e+00 7.00e+00 1.01e-01]\n",
            " [4.19e+02 1.20e+01 2.00e+00 ... 7.00e+00 7.00e+00 1.02e-01]]\n"
          ]
        }
      ]
    },
    {
      "cell_type": "code",
      "metadata": {
        "colab": {
          "base_uri": "https://localhost:8080/"
        },
        "id": "8jUH4ggvNY9L",
        "outputId": "9552b439-1a06-4699-a0ef-5b9def44a8db"
      },
      "source": [
        "print(Y)"
      ],
      "execution_count": 18,
      "outputs": [
        {
          "output_type": "stream",
          "name": "stdout",
          "text": [
            "[[1]\n",
            " [1]\n",
            " [0]\n",
            " [0]\n",
            " [0]\n",
            " [0]\n",
            " [0]\n",
            " [0]\n",
            " [0]\n",
            " [0]\n",
            " [0]\n",
            " [0]\n",
            " [0]\n",
            " [0]\n",
            " [0]\n",
            " [0]\n",
            " [0]\n",
            " [0]\n",
            " [0]\n",
            " [0]\n",
            " [0]\n",
            " [0]\n",
            " [0]\n",
            " [1]\n",
            " [0]\n",
            " [0]\n",
            " [0]\n",
            " [0]\n",
            " [0]\n",
            " [0]\n",
            " [0]\n",
            " [0]\n",
            " [0]\n",
            " [0]\n",
            " [0]\n",
            " [0]\n",
            " [0]\n",
            " [0]\n",
            " [0]\n",
            " [0]\n",
            " [0]\n",
            " [0]\n",
            " [0]\n",
            " [0]\n",
            " [0]\n",
            " [0]\n",
            " [0]\n",
            " [0]\n",
            " [0]\n",
            " [0]\n",
            " [0]\n",
            " [0]\n",
            " [0]\n",
            " [0]\n",
            " [0]\n",
            " [0]\n",
            " [0]\n",
            " [0]\n",
            " [0]\n",
            " [0]\n",
            " [0]\n",
            " [0]\n",
            " [0]\n",
            " [0]\n",
            " [0]\n",
            " [0]\n",
            " [0]\n",
            " [0]\n",
            " [0]\n",
            " [0]\n",
            " [0]\n",
            " [0]\n",
            " [0]\n",
            " [0]\n",
            " [0]\n",
            " [0]\n",
            " [0]\n",
            " [1]\n",
            " [0]\n",
            " [0]\n",
            " [0]\n",
            " [0]\n",
            " [0]\n",
            " [0]\n",
            " [0]\n",
            " [0]\n",
            " [0]\n",
            " [1]\n",
            " [0]\n",
            " [0]\n",
            " [0]\n",
            " [0]\n",
            " [0]\n",
            " [0]\n",
            " [0]\n",
            " [0]\n",
            " [0]\n",
            " [0]\n",
            " [0]\n",
            " [0]\n",
            " [0]\n",
            " [0]\n",
            " [0]\n",
            " [0]\n",
            " [0]\n",
            " [0]\n",
            " [0]\n",
            " [0]\n",
            " [0]\n",
            " [0]\n",
            " [0]\n",
            " [0]\n",
            " [0]\n",
            " [0]\n",
            " [0]\n",
            " [0]\n",
            " [0]\n",
            " [0]\n",
            " [0]\n",
            " [0]\n",
            " [0]\n",
            " [0]\n",
            " [0]\n",
            " [0]\n",
            " [0]\n",
            " [0]\n",
            " [0]\n",
            " [0]\n",
            " [0]\n",
            " [0]\n",
            " [0]\n",
            " [0]\n",
            " [0]\n",
            " [0]\n",
            " [0]\n",
            " [0]\n",
            " [0]\n",
            " [0]\n",
            " [0]\n",
            " [1]\n",
            " [1]\n",
            " [1]\n",
            " [1]\n",
            " [1]\n",
            " [1]\n",
            " [1]\n",
            " [0]\n",
            " [1]\n",
            " [1]\n",
            " [1]\n",
            " [0]\n",
            " [0]\n",
            " [0]\n",
            " [0]\n",
            " [0]\n",
            " [0]\n",
            " [0]\n",
            " [0]\n",
            " [0]\n",
            " [0]\n",
            " [0]\n",
            " [0]\n",
            " [0]\n",
            " [0]\n",
            " [0]\n",
            " [0]\n",
            " [0]\n",
            " [0]\n",
            " [0]\n",
            " [0]\n",
            " [0]\n",
            " [0]\n",
            " [0]\n",
            " [0]\n",
            " [0]\n",
            " [0]\n",
            " [0]\n",
            " [0]\n",
            " [0]\n",
            " [0]\n",
            " [0]\n",
            " [0]\n",
            " [0]\n",
            " [0]\n",
            " [0]\n",
            " [0]\n",
            " [0]\n",
            " [0]\n",
            " [0]\n",
            " [0]\n",
            " [0]\n",
            " [0]\n",
            " [0]\n",
            " [0]\n",
            " [0]\n",
            " [1]\n",
            " [0]\n",
            " [0]\n",
            " [0]\n",
            " [1]\n",
            " [1]\n",
            " [0]\n",
            " [0]\n",
            " [1]\n",
            " [0]\n",
            " [1]\n",
            " [1]\n",
            " [1]\n",
            " [0]\n",
            " [1]\n",
            " [1]\n",
            " [1]\n",
            " [1]\n",
            " [1]\n",
            " [1]\n",
            " [1]\n",
            " [0]\n",
            " [1]\n",
            " [1]\n",
            " [1]\n",
            " [1]\n",
            " [0]\n",
            " [1]\n",
            " [0]\n",
            " [0]\n",
            " [0]\n",
            " [1]\n",
            " [0]\n",
            " [0]\n",
            " [0]\n",
            " [1]\n",
            " [1]\n",
            " [0]\n",
            " [1]\n",
            " [1]\n",
            " [0]\n",
            " [0]\n",
            " [0]\n",
            " [1]\n",
            " [0]\n",
            " [0]\n",
            " [1]\n",
            " [1]\n",
            " [0]\n",
            " [0]\n",
            " [0]\n",
            " [0]\n",
            " [0]\n",
            " [0]\n",
            " [0]\n",
            " [0]\n",
            " [0]\n",
            " [0]\n",
            " [0]\n",
            " [0]\n",
            " [0]\n",
            " [0]\n",
            " [0]\n",
            " [0]\n",
            " [0]\n",
            " [0]\n",
            " [0]\n",
            " [0]\n",
            " [0]\n",
            " [0]\n",
            " [0]\n",
            " [0]\n",
            " [0]\n",
            " [0]\n",
            " [0]\n",
            " [0]\n",
            " [0]\n",
            " [0]\n",
            " [0]\n",
            " [0]\n",
            " [0]\n",
            " [0]\n",
            " [0]\n",
            " [0]\n",
            " [0]\n",
            " [0]\n",
            " [0]\n",
            " [0]\n",
            " [0]\n",
            " [0]\n",
            " [0]\n",
            " [0]\n",
            " [0]\n",
            " [0]\n",
            " [1]\n",
            " [0]\n",
            " [0]\n",
            " [0]\n",
            " [0]\n",
            " [0]\n",
            " [0]\n",
            " [0]\n",
            " [0]\n",
            " [0]\n",
            " [0]\n",
            " [1]\n",
            " [1]\n",
            " [0]\n",
            " [0]\n",
            " [0]\n",
            " [0]\n",
            " [0]\n",
            " [0]\n",
            " [0]\n",
            " [0]\n",
            " [1]\n",
            " [0]\n",
            " [0]\n",
            " [0]\n",
            " [0]\n",
            " [1]\n",
            " [1]\n",
            " [0]\n",
            " [1]\n",
            " [0]\n",
            " [0]\n",
            " [1]\n",
            " [0]\n",
            " [0]\n",
            " [0]\n",
            " [1]\n",
            " [0]\n",
            " [1]\n",
            " [1]\n",
            " [0]\n",
            " [1]\n",
            " [0]\n",
            " [0]\n",
            " [0]\n",
            " [0]\n",
            " [0]\n",
            " [0]\n",
            " [0]\n",
            " [0]\n",
            " [1]\n",
            " [1]\n",
            " [1]\n",
            " [0]\n",
            " [0]\n",
            " [0]\n",
            " [0]\n",
            " [0]\n",
            " [0]\n",
            " [0]\n",
            " [0]\n",
            " [0]\n",
            " [0]\n",
            " [0]\n",
            " [0]\n",
            " [0]\n",
            " [0]\n",
            " [0]\n",
            " [0]\n",
            " [0]\n",
            " [0]\n",
            " [0]\n",
            " [0]\n",
            " [0]\n",
            " [0]\n",
            " [0]\n",
            " [0]\n",
            " [0]\n",
            " [0]\n",
            " [0]\n",
            " [0]\n",
            " [1]\n",
            " [1]\n",
            " [1]\n",
            " [0]\n",
            " [0]\n",
            " [0]\n",
            " [0]\n",
            " [0]\n",
            " [0]\n",
            " [0]\n",
            " [0]\n",
            " [0]\n",
            " [0]\n",
            " [0]\n",
            " [1]\n",
            " [0]\n",
            " [0]\n",
            " [0]\n",
            " [0]\n",
            " [0]\n",
            " [0]\n",
            " [0]\n",
            " [0]\n",
            " [0]\n",
            " [0]\n",
            " [0]\n",
            " [0]\n",
            " [0]\n",
            " [0]\n",
            " [0]\n",
            " [0]\n",
            " [0]\n",
            " [0]\n",
            " [0]\n",
            " [0]\n",
            " [0]\n",
            " [0]\n",
            " [1]\n",
            " [1]\n",
            " [1]\n",
            " [0]]\n"
          ]
        }
      ]
    },
    {
      "cell_type": "markdown",
      "metadata": {
        "id": "l0gjvWiulgUe"
      },
      "source": [
        "Check the percentage of missing values in each variable."
      ]
    },
    {
      "cell_type": "code",
      "metadata": {
        "colab": {
          "base_uri": "https://localhost:8080/"
        },
        "id": "jlJ_K3J_O-BP",
        "outputId": "32fa6d0d-73ee-426e-f6d4-e07d5f843803"
      },
      "source": [
        "dataset.isnull().sum()/len(dataset)*100"
      ],
      "execution_count": 19,
      "outputs": [
        {
          "output_type": "execute_result",
          "data": {
            "text/plain": [
              "Sequence_Number                  0.0\n",
              "Job_Number                       0.0\n",
              "Revision_Group                   0.0\n",
              "Week_Number                      0.0\n",
              "SH1_C2_Diameter -14.020          0.0\n",
              "SH1_B5_Diameter -0.220_1         0.0\n",
              "SH1_B5_Diameter -0.220_2         0.0\n",
              "SH1_B5_Diameter -0.160_1         0.0\n",
              "SH1_B5_Diameter -0.160_2         0.0\n",
              "SH1_B5_Position -0.005_1         0.0\n",
              "SH1_B5_Position -0.005_2         0.0\n",
              "SH1_B1_Width -0.190              0.0\n",
              "SH1_B1_Distance -0.200           0.0\n",
              "SH1_B1_Position- 0.002           0.0\n",
              "SH1_D5_Position -0.005_1         0.0\n",
              "SH1_D5_Position -0.005_2         0.0\n",
              "SH1_D5_Position -0.005_3         0.0\n",
              "SH1_D5_Position -0.005_4         0.0\n",
              "SH2_D7_Width -0.190              0.0\n",
              "SH2_D7_Distance -0.20            0.0\n",
              "SH2_D7_Position- 0.002           0.0\n",
              "SH2_B1_Position -0.005_1         0.0\n",
              "SH2_B1_Position -0.005_2         0.0\n",
              "SH2_B1_Position -0.005_3         0.0\n",
              "SH2_B1_Position -0.005_4         0.0\n",
              "SH2_B1_Position -0.005_5         0.0\n",
              "SH2_B1_Position -0.005_6         0.0\n",
              "SH2_B1_Position -0.005_7         0.0\n",
              "SH2_B1_Position -0.005_8         0.0\n",
              "SH2_B1_Position -0.015_1         0.0\n",
              "SH2_B1_Position -0.015_2         0.0\n",
              "SH2_B1_Position -0.015_3         0.0\n",
              "SH2_B1_Position -0.015_4         0.0\n",
              "SH2_B1_Position -0.015_5         0.0\n",
              "SH2_B1_Position -0.015_6         0.0\n",
              "SH2_B1_Position -0.015_7         0.0\n",
              "SH2_B1_Position -0.015_8         0.0\n",
              "SH2_A8_Diameter -0.650_1         0.0\n",
              "SH2_A8_Diameter -0.650_2         0.0\n",
              "SH2_A8_Diameter -0.650_3         0.0\n",
              "SH2_A8_True Position -0.003_1    0.0\n",
              "SH2_A8_True Position -0.003_2    0.0\n",
              "SH2_A8_True Position -0.003_3    0.0\n",
              "SH5 A8_SURFACE FINISH_1          0.0\n",
              "SH5 A4_SURFACE FINISH_2          0.0\n",
              "SH1 B5_DEPTH .100                0.0\n",
              "RCAI_Defect                      0.0\n",
              "dtype: float64"
            ]
          },
          "metadata": {},
          "execution_count": 19
        }
      ]
    },
    {
      "cell_type": "markdown",
      "metadata": {
        "id": "EHvjyp5TLvtv"
      },
      "source": [
        "# Splitting the dataset into the Training set and Test set"
      ]
    },
    {
      "cell_type": "code",
      "metadata": {
        "id": "9uptvH8CL3gf"
      },
      "source": [
        "from sklearn.model_selection import train_test_split\n",
        "X_train, X_test, Y_train, Y_test = train_test_split(X, Y, test_size = 0.20, random_state = 0)"
      ],
      "execution_count": 20,
      "outputs": []
    },
    {
      "cell_type": "code",
      "metadata": {
        "colab": {
          "base_uri": "https://localhost:8080/"
        },
        "id": "oWV58o1KAkhJ",
        "outputId": "11ac28fb-68b2-4323-971d-ed8fa76ed2ee"
      },
      "source": [
        "print(X_train)"
      ],
      "execution_count": 21,
      "outputs": [
        {
          "output_type": "stream",
          "name": "stdout",
          "text": [
            "[[3.320e+02 1.200e+01 2.000e+00 ... 8.000e+00 8.000e+00 1.000e-01]\n",
            " [4.190e+02 1.200e+01 2.000e+00 ... 7.000e+00 7.000e+00 1.020e-01]\n",
            " [3.770e+02 1.200e+01 2.000e+00 ... 6.000e+00 6.000e+00 1.005e-01]\n",
            " ...\n",
            " [1.180e+02 5.000e+00 1.000e+00 ... 9.000e+00 9.000e+00 1.010e-01]\n",
            " [4.800e+01 2.000e+00 1.000e+00 ... 9.000e+00 8.000e+00 1.010e-01]\n",
            " [1.750e+02 8.000e+00 2.000e+00 ... 8.000e+00 8.000e+00 1.005e-01]]\n"
          ]
        }
      ]
    },
    {
      "cell_type": "code",
      "metadata": {
        "colab": {
          "base_uri": "https://localhost:8080/"
        },
        "id": "K7LEO1rUNysz",
        "outputId": "443768ca-3d97-4d27-de05-be1876bdfc83"
      },
      "source": [
        "print(X_test)"
      ],
      "execution_count": 22,
      "outputs": [
        {
          "output_type": "stream",
          "name": "stdout",
          "text": [
            "[[3.010e+02 1.000e+01 2.000e+00 ... 7.000e+00 8.000e+00 1.005e-01]\n",
            " [7.700e+01 4.000e+00 1.000e+00 ... 7.000e+00 7.000e+00 1.000e-01]\n",
            " [3.400e+02 1.200e+01 2.000e+00 ... 6.000e+00 6.000e+00 1.005e-01]\n",
            " ...\n",
            " [2.100e+01 2.000e+00 1.000e+00 ... 1.100e+01 9.000e+00 1.015e-01]\n",
            " [2.280e+02 1.000e+01 2.000e+00 ... 7.000e+00 7.000e+00 1.010e-01]\n",
            " [1.500e+01 2.000e+00 1.000e+00 ... 9.000e+00 1.100e+01 1.005e-01]]\n"
          ]
        }
      ]
    },
    {
      "cell_type": "code",
      "metadata": {
        "colab": {
          "base_uri": "https://localhost:8080/"
        },
        "id": "JCJ7fC-XNyzV",
        "outputId": "faacad3e-be19-4597-aba2-9ddbe817b211"
      },
      "source": [
        "print(Y_train)"
      ],
      "execution_count": 23,
      "outputs": [
        {
          "output_type": "stream",
          "name": "stdout",
          "text": [
            "[[0]\n",
            " [0]\n",
            " [1]\n",
            " [1]\n",
            " [0]\n",
            " [0]\n",
            " [0]\n",
            " [0]\n",
            " [0]\n",
            " [0]\n",
            " [0]\n",
            " [0]\n",
            " [1]\n",
            " [0]\n",
            " [1]\n",
            " [0]\n",
            " [0]\n",
            " [0]\n",
            " [0]\n",
            " [0]\n",
            " [1]\n",
            " [0]\n",
            " [0]\n",
            " [1]\n",
            " [0]\n",
            " [0]\n",
            " [0]\n",
            " [0]\n",
            " [0]\n",
            " [0]\n",
            " [0]\n",
            " [0]\n",
            " [0]\n",
            " [0]\n",
            " [0]\n",
            " [0]\n",
            " [0]\n",
            " [0]\n",
            " [0]\n",
            " [0]\n",
            " [0]\n",
            " [0]\n",
            " [0]\n",
            " [1]\n",
            " [0]\n",
            " [0]\n",
            " [0]\n",
            " [0]\n",
            " [0]\n",
            " [1]\n",
            " [0]\n",
            " [0]\n",
            " [0]\n",
            " [0]\n",
            " [0]\n",
            " [0]\n",
            " [0]\n",
            " [0]\n",
            " [0]\n",
            " [1]\n",
            " [0]\n",
            " [0]\n",
            " [0]\n",
            " [0]\n",
            " [0]\n",
            " [0]\n",
            " [0]\n",
            " [0]\n",
            " [1]\n",
            " [1]\n",
            " [1]\n",
            " [0]\n",
            " [1]\n",
            " [0]\n",
            " [0]\n",
            " [0]\n",
            " [0]\n",
            " [0]\n",
            " [0]\n",
            " [0]\n",
            " [0]\n",
            " [0]\n",
            " [0]\n",
            " [0]\n",
            " [0]\n",
            " [0]\n",
            " [0]\n",
            " [0]\n",
            " [0]\n",
            " [0]\n",
            " [0]\n",
            " [0]\n",
            " [0]\n",
            " [0]\n",
            " [1]\n",
            " [1]\n",
            " [0]\n",
            " [1]\n",
            " [1]\n",
            " [0]\n",
            " [1]\n",
            " [0]\n",
            " [0]\n",
            " [1]\n",
            " [0]\n",
            " [0]\n",
            " [0]\n",
            " [0]\n",
            " [1]\n",
            " [1]\n",
            " [0]\n",
            " [0]\n",
            " [0]\n",
            " [0]\n",
            " [0]\n",
            " [1]\n",
            " [0]\n",
            " [0]\n",
            " [0]\n",
            " [0]\n",
            " [0]\n",
            " [0]\n",
            " [0]\n",
            " [0]\n",
            " [0]\n",
            " [0]\n",
            " [1]\n",
            " [0]\n",
            " [1]\n",
            " [1]\n",
            " [0]\n",
            " [1]\n",
            " [0]\n",
            " [0]\n",
            " [0]\n",
            " [1]\n",
            " [0]\n",
            " [0]\n",
            " [0]\n",
            " [0]\n",
            " [0]\n",
            " [0]\n",
            " [0]\n",
            " [0]\n",
            " [0]\n",
            " [0]\n",
            " [0]\n",
            " [0]\n",
            " [1]\n",
            " [0]\n",
            " [0]\n",
            " [0]\n",
            " [0]\n",
            " [0]\n",
            " [0]\n",
            " [0]\n",
            " [0]\n",
            " [0]\n",
            " [0]\n",
            " [1]\n",
            " [0]\n",
            " [0]\n",
            " [0]\n",
            " [0]\n",
            " [0]\n",
            " [0]\n",
            " [0]\n",
            " [0]\n",
            " [1]\n",
            " [0]\n",
            " [0]\n",
            " [0]\n",
            " [0]\n",
            " [0]\n",
            " [0]\n",
            " [1]\n",
            " [0]\n",
            " [0]\n",
            " [0]\n",
            " [0]\n",
            " [1]\n",
            " [1]\n",
            " [0]\n",
            " [0]\n",
            " [1]\n",
            " [0]\n",
            " [0]\n",
            " [0]\n",
            " [0]\n",
            " [1]\n",
            " [0]\n",
            " [0]\n",
            " [0]\n",
            " [0]\n",
            " [1]\n",
            " [0]\n",
            " [0]\n",
            " [0]\n",
            " [0]\n",
            " [0]\n",
            " [0]\n",
            " [0]\n",
            " [0]\n",
            " [0]\n",
            " [0]\n",
            " [0]\n",
            " [0]\n",
            " [0]\n",
            " [0]\n",
            " [0]\n",
            " [0]\n",
            " [0]\n",
            " [0]\n",
            " [0]\n",
            " [1]\n",
            " [1]\n",
            " [1]\n",
            " [0]\n",
            " [0]\n",
            " [1]\n",
            " [0]\n",
            " [0]\n",
            " [0]\n",
            " [0]\n",
            " [1]\n",
            " [0]\n",
            " [1]\n",
            " [0]\n",
            " [0]\n",
            " [0]\n",
            " [0]\n",
            " [0]\n",
            " [0]\n",
            " [0]\n",
            " [0]\n",
            " [0]\n",
            " [0]\n",
            " [0]\n",
            " [0]\n",
            " [0]\n",
            " [0]\n",
            " [0]\n",
            " [1]\n",
            " [0]\n",
            " [0]\n",
            " [1]\n",
            " [1]\n",
            " [0]\n",
            " [0]\n",
            " [0]\n",
            " [1]\n",
            " [0]\n",
            " [0]\n",
            " [1]\n",
            " [0]\n",
            " [0]\n",
            " [0]\n",
            " [0]\n",
            " [0]\n",
            " [0]\n",
            " [0]\n",
            " [0]\n",
            " [0]\n",
            " [0]\n",
            " [1]\n",
            " [0]\n",
            " [0]\n",
            " [0]\n",
            " [0]\n",
            " [0]\n",
            " [0]\n",
            " [0]\n",
            " [0]\n",
            " [0]\n",
            " [0]\n",
            " [0]\n",
            " [0]\n",
            " [0]\n",
            " [0]\n",
            " [0]\n",
            " [0]\n",
            " [0]\n",
            " [0]\n",
            " [0]\n",
            " [0]\n",
            " [0]\n",
            " [0]\n",
            " [0]\n",
            " [0]\n",
            " [0]\n",
            " [1]\n",
            " [0]\n",
            " [0]\n",
            " [0]\n",
            " [0]\n",
            " [0]\n",
            " [0]\n",
            " [0]\n",
            " [0]\n",
            " [0]\n",
            " [0]\n",
            " [0]\n",
            " [0]\n",
            " [0]\n",
            " [0]\n",
            " [0]\n",
            " [0]\n",
            " [0]\n",
            " [0]\n",
            " [0]\n",
            " [0]\n",
            " [0]\n",
            " [0]\n",
            " [0]\n",
            " [1]\n",
            " [0]\n",
            " [1]\n",
            " [0]\n",
            " [1]\n",
            " [0]\n",
            " [0]\n",
            " [1]\n",
            " [0]\n",
            " [0]\n",
            " [0]\n",
            " [0]\n",
            " [0]\n",
            " [0]]\n"
          ]
        }
      ]
    },
    {
      "cell_type": "code",
      "metadata": {
        "colab": {
          "base_uri": "https://localhost:8080/"
        },
        "id": "m8ahFj-qNy47",
        "outputId": "40049626-5acd-440b-c4a9-17a3d1426f07"
      },
      "source": [
        "print(Y_test)"
      ],
      "execution_count": 24,
      "outputs": [
        {
          "output_type": "stream",
          "name": "stdout",
          "text": [
            "[[0]\n",
            " [0]\n",
            " [0]\n",
            " [0]\n",
            " [1]\n",
            " [1]\n",
            " [0]\n",
            " [0]\n",
            " [0]\n",
            " [0]\n",
            " [0]\n",
            " [0]\n",
            " [1]\n",
            " [0]\n",
            " [0]\n",
            " [0]\n",
            " [0]\n",
            " [1]\n",
            " [0]\n",
            " [0]\n",
            " [0]\n",
            " [0]\n",
            " [0]\n",
            " [1]\n",
            " [1]\n",
            " [0]\n",
            " [0]\n",
            " [1]\n",
            " [0]\n",
            " [0]\n",
            " [0]\n",
            " [0]\n",
            " [0]\n",
            " [0]\n",
            " [0]\n",
            " [0]\n",
            " [1]\n",
            " [0]\n",
            " [0]\n",
            " [0]\n",
            " [0]\n",
            " [0]\n",
            " [0]\n",
            " [0]\n",
            " [0]\n",
            " [1]\n",
            " [0]\n",
            " [0]\n",
            " [1]\n",
            " [0]\n",
            " [0]\n",
            " [0]\n",
            " [0]\n",
            " [1]\n",
            " [0]\n",
            " [0]\n",
            " [0]\n",
            " [0]\n",
            " [0]\n",
            " [0]\n",
            " [0]\n",
            " [0]\n",
            " [0]\n",
            " [0]\n",
            " [0]\n",
            " [0]\n",
            " [0]\n",
            " [0]\n",
            " [0]\n",
            " [0]\n",
            " [0]\n",
            " [0]\n",
            " [0]\n",
            " [0]\n",
            " [0]\n",
            " [0]\n",
            " [0]\n",
            " [0]\n",
            " [0]\n",
            " [0]\n",
            " [0]\n",
            " [0]\n",
            " [0]]\n"
          ]
        }
      ]
    },
    {
      "cell_type": "markdown",
      "metadata": {
        "id": "yAMl3VEVHxw4"
      },
      "source": [
        "# Feature Scaling"
      ]
    },
    {
      "cell_type": "code",
      "metadata": {
        "id": "eNVyQ6jGH2Te"
      },
      "source": [
        "from sklearn.preprocessing import StandardScaler\n",
        "sc = StandardScaler()\n",
        "X_train= sc.fit_transform(X_train)\n",
        "X_test= sc.transform(X_test)"
      ],
      "execution_count": 25,
      "outputs": []
    },
    {
      "cell_type": "code",
      "metadata": {
        "colab": {
          "base_uri": "https://localhost:8080/"
        },
        "id": "j7jBJgEtJaZG",
        "outputId": "1f9cbe91-9849-4eaf-e7b1-381173bc673d"
      },
      "source": [
        "print(X_train)"
      ],
      "execution_count": 26,
      "outputs": [
        {
          "output_type": "stream",
          "name": "stdout",
          "text": [
            "[[ 1.03180009  1.12182475  0.70064905 ...  0.32054161  0.2841169\n",
            "  -1.31103535]\n",
            " [ 1.77167816  1.12182475  0.70064905 ... -0.31473119 -0.29687209\n",
            "   1.66076559]\n",
            " [ 1.41449564  1.12182475  0.70064905 ... -0.950004   -0.87786107\n",
            "  -0.56808512]\n",
            " ...\n",
            " [-0.78812985 -0.92726803 -1.42724806 ...  0.95581442  0.86510588\n",
            "   0.17486512]\n",
            " [-1.38343404 -1.80545065 -1.42724806 ...  0.95581442  0.2841169\n",
            "   0.17486512]\n",
            " [-0.30338216 -0.04908541  0.70064905 ...  0.32054161  0.2841169\n",
            "  -0.56808512]]\n"
          ]
        }
      ]
    },
    {
      "cell_type": "code",
      "metadata": {
        "colab": {
          "base_uri": "https://localhost:8080/"
        },
        "id": "gG0SJAOKPpmq",
        "outputId": "72c13119-28ce-46fc-fac7-6f73bd37aa0a"
      },
      "source": [
        "print(X_test)"
      ],
      "execution_count": 27,
      "outputs": [
        {
          "output_type": "stream",
          "name": "stdout",
          "text": [
            "[[ 0.76816538  0.53636967  0.70064905 ... -0.31473119  0.2841169\n",
            "  -0.56808512]\n",
            " [-1.13680802 -1.21999557 -1.42724806 ... -0.31473119 -0.29687209\n",
            "  -1.31103535]\n",
            " [ 1.09983486  1.12182475  0.70064905 ... -0.950004   -0.87786107\n",
            "  -0.56808512]\n",
            " ...\n",
            " [-1.61305137 -1.80545065 -1.42724806 ...  2.22636003  0.86510588\n",
            "   0.91781535]\n",
            " [ 0.14734816  0.53636967  0.70064905 ... -0.31473119 -0.29687209\n",
            "   0.17486512]\n",
            " [-1.66407744 -1.80545065 -1.42724806 ...  0.95581442  2.02708385\n",
            "  -0.56808512]]\n"
          ]
        }
      ]
    },
    {
      "cell_type": "markdown",
      "metadata": {
        "id": "TpZK8HpKl_hO"
      },
      "source": [
        "Low Variance Filter: Calculate the variance of all the numerical variables"
      ]
    },
    {
      "cell_type": "code",
      "metadata": {
        "colab": {
          "base_uri": "https://localhost:8080/"
        },
        "id": "aiJCu4mXJekA",
        "outputId": "d7516b16-4ec5-4628-e413-6e5b8f131c22"
      },
      "source": [
        "dataset.var()"
      ],
      "execution_count": 28,
      "outputs": [
        {
          "output_type": "execute_result",
          "data": {
            "text/plain": [
              "Sequence_Number                  1.468147e+04\n",
              "Job_Number                       1.239954e+01\n",
              "Revision_Group                   2.235713e-01\n",
              "Week_Number                      4.078641e+01\n",
              "SH1_C2_Diameter -14.020          1.260268e-06\n",
              "SH1_B5_Diameter -0.220_1         5.813237e-08\n",
              "SH1_B5_Diameter -0.220_2         5.892645e-08\n",
              "SH1_B5_Diameter -0.160_1         5.090564e-08\n",
              "SH1_B5_Diameter -0.160_2         4.918251e-08\n",
              "SH1_B5_Position -0.005_1         2.613605e-07\n",
              "SH1_B5_Position -0.005_2         2.524300e-07\n",
              "SH1_B1_Width -0.190              4.696584e-08\n",
              "SH1_B1_Distance -0.200           5.105814e-07\n",
              "SH1_B1_Position- 0.002           2.443767e-08\n",
              "SH1_D5_Position -0.005_1         3.036265e-07\n",
              "SH1_D5_Position -0.005_2         3.310338e-07\n",
              "SH1_D5_Position -0.005_3         1.193464e-07\n",
              "SH1_D5_Position -0.005_4         1.610865e-07\n",
              "SH2_D7_Width -0.190              4.131752e-08\n",
              "SH2_D7_Distance -0.20            4.325494e-07\n",
              "SH2_D7_Position- 0.002           1.106390e-06\n",
              "SH2_B1_Position -0.005_1         6.325652e-07\n",
              "SH2_B1_Position -0.005_2         5.857140e-07\n",
              "SH2_B1_Position -0.005_3         6.403661e-07\n",
              "SH2_B1_Position -0.005_4         5.348408e-07\n",
              "SH2_B1_Position -0.005_5         4.206920e-07\n",
              "SH2_B1_Position -0.005_6         3.627850e-07\n",
              "SH2_B1_Position -0.005_7         4.544469e-07\n",
              "SH2_B1_Position -0.005_8         5.235890e-07\n",
              "SH2_B1_Position -0.015_1         5.095880e-07\n",
              "SH2_B1_Position -0.015_2         5.268943e-07\n",
              "SH2_B1_Position -0.015_3         5.876173e-07\n",
              "SH2_B1_Position -0.015_4         5.517557e-07\n",
              "SH2_B1_Position -0.015_5         4.196390e-07\n",
              "SH2_B1_Position -0.015_6         3.976856e-07\n",
              "SH2_B1_Position -0.015_7         4.504944e-07\n",
              "SH2_B1_Position -0.015_8         4.979391e-07\n",
              "SH2_A8_Diameter -0.650_1         1.809551e-08\n",
              "SH2_A8_Diameter -0.650_2         1.707877e-08\n",
              "SH2_A8_Diameter -0.650_3         1.768935e-08\n",
              "SH2_A8_True Position -0.003_1    5.858067e-07\n",
              "SH2_A8_True Position -0.003_2    2.831231e-07\n",
              "SH2_A8_True Position -0.003_3    4.260425e-07\n",
              "SH5 A8_SURFACE FINISH_1          2.757040e+00\n",
              "SH5 A4_SURFACE FINISH_2          3.196773e+00\n",
              "SH1 B5_DEPTH .100                5.362111e-07\n",
              "RCAI_Defect                      1.317904e-01\n",
              "dtype: float64"
            ]
          },
          "metadata": {},
          "execution_count": 28
        }
      ]
    },
    {
      "cell_type": "markdown",
      "metadata": {
        "id": "v5xQcolGRJFB"
      },
      "source": [
        "# Training the Logistic Regression model on the Training set"
      ]
    },
    {
      "cell_type": "code",
      "metadata": {
        "colab": {
          "base_uri": "https://localhost:8080/"
        },
        "id": "0ocBtw-3RLPV",
        "outputId": "6a43e4f5-5c9f-419f-dcac-3b098cfb60fd"
      },
      "source": [
        "from sklearn.linear_model import LogisticRegression\n",
        "lr = LogisticRegression(random_state = 0)\n",
        "lr.fit(X_train, Y_train)"
      ],
      "execution_count": 29,
      "outputs": [
        {
          "output_type": "stream",
          "name": "stderr",
          "text": [
            "/usr/local/lib/python3.7/dist-packages/sklearn/utils/validation.py:993: DataConversionWarning: A column-vector y was passed when a 1d array was expected. Please change the shape of y to (n_samples, ), for example using ravel().\n",
            "  y = column_or_1d(y, warn=True)\n"
          ]
        },
        {
          "output_type": "execute_result",
          "data": {
            "text/plain": [
              "LogisticRegression(random_state=0)"
            ]
          },
          "metadata": {},
          "execution_count": 29
        }
      ]
    },
    {
      "cell_type": "markdown",
      "metadata": {
        "id": "RB1i5RxkRm87"
      },
      "source": [
        "# Predicting the Test set results"
      ]
    },
    {
      "cell_type": "code",
      "metadata": {
        "colab": {
          "base_uri": "https://localhost:8080/"
        },
        "id": "MN37JGV1RQSU",
        "outputId": "466d65a5-6eed-4a9e-921e-855bf2cdd21c"
      },
      "source": [
        "Y_pred = lr.predict(X_test)\n",
        "print(np.concatenate((Y_pred.reshape(len(Y_pred),1), Y_test.reshape(len(Y_test),1)),1))"
      ],
      "execution_count": 30,
      "outputs": [
        {
          "output_type": "stream",
          "name": "stdout",
          "text": [
            "[[0 0]\n",
            " [0 0]\n",
            " [0 0]\n",
            " [0 0]\n",
            " [0 1]\n",
            " [1 1]\n",
            " [0 0]\n",
            " [0 0]\n",
            " [0 0]\n",
            " [0 0]\n",
            " [0 0]\n",
            " [0 0]\n",
            " [1 1]\n",
            " [0 0]\n",
            " [0 0]\n",
            " [0 0]\n",
            " [0 0]\n",
            " [1 1]\n",
            " [1 0]\n",
            " [0 0]\n",
            " [0 0]\n",
            " [0 0]\n",
            " [0 0]\n",
            " [0 1]\n",
            " [1 1]\n",
            " [0 0]\n",
            " [0 0]\n",
            " [1 1]\n",
            " [0 0]\n",
            " [0 0]\n",
            " [0 0]\n",
            " [0 0]\n",
            " [0 0]\n",
            " [0 0]\n",
            " [0 0]\n",
            " [0 0]\n",
            " [1 1]\n",
            " [0 0]\n",
            " [0 0]\n",
            " [1 0]\n",
            " [0 0]\n",
            " [0 0]\n",
            " [0 0]\n",
            " [0 0]\n",
            " [0 0]\n",
            " [1 1]\n",
            " [0 0]\n",
            " [0 0]\n",
            " [1 1]\n",
            " [0 0]\n",
            " [0 0]\n",
            " [0 0]\n",
            " [0 0]\n",
            " [1 1]\n",
            " [0 0]\n",
            " [1 0]\n",
            " [0 0]\n",
            " [0 0]\n",
            " [0 0]\n",
            " [0 0]\n",
            " [0 0]\n",
            " [0 0]\n",
            " [0 0]\n",
            " [0 0]\n",
            " [0 0]\n",
            " [0 0]\n",
            " [0 0]\n",
            " [0 0]\n",
            " [0 0]\n",
            " [0 0]\n",
            " [0 0]\n",
            " [0 0]\n",
            " [0 0]\n",
            " [0 0]\n",
            " [0 0]\n",
            " [0 0]\n",
            " [0 0]\n",
            " [0 0]\n",
            " [0 0]\n",
            " [0 0]\n",
            " [0 0]\n",
            " [1 0]\n",
            " [0 0]]\n"
          ]
        }
      ]
    },
    {
      "cell_type": "markdown",
      "source": [
        "# Making the Confusion Matrix (Logistic Regression)"
      ],
      "metadata": {
        "id": "-BMztXKXUIx8"
      }
    },
    {
      "cell_type": "code",
      "source": [
        "from sklearn.metrics import confusion_matrix, accuracy_score, classification_report, cohen_kappa_score\n",
        "cm = confusion_matrix(Y_test, Y_pred)\n",
        "print(cm)\n",
        "print(accuracy_score(Y_test, Y_pred))\n",
        "print(classification_report(Y_test, Y_pred))\n",
        "print(cohen_kappa_score(Y_test, Y_pred))"
      ],
      "metadata": {
        "id": "Y--Td_IiUJVL",
        "outputId": "dd8a8ead-87dd-48fc-e0a9-368f2aa75193",
        "colab": {
          "base_uri": "https://localhost:8080/"
        }
      },
      "execution_count": 31,
      "outputs": [
        {
          "output_type": "stream",
          "name": "stdout",
          "text": [
            "[[68  4]\n",
            " [ 2  9]]\n",
            "0.927710843373494\n",
            "              precision    recall  f1-score   support\n",
            "\n",
            "           0       0.97      0.94      0.96        72\n",
            "           1       0.69      0.82      0.75        11\n",
            "\n",
            "    accuracy                           0.93        83\n",
            "   macro avg       0.83      0.88      0.85        83\n",
            "weighted avg       0.93      0.93      0.93        83\n",
            "\n",
            "0.7080890973036342\n"
          ]
        }
      ]
    },
    {
      "cell_type": "code",
      "source": [
        "from sklearn.metrics import average_precision_score\n",
        "average_precision_score(Y_test, Y_pred)"
      ],
      "metadata": {
        "id": "gP80i_-rnZbK",
        "outputId": "4c0da10d-10bf-4c95-d7cd-cff42f46dfce",
        "colab": {
          "base_uri": "https://localhost:8080/"
        }
      },
      "execution_count": 32,
      "outputs": [
        {
          "output_type": "execute_result",
          "data": {
            "text/plain": [
              "0.5905299519757351"
            ]
          },
          "metadata": {},
          "execution_count": 32
        }
      ]
    },
    {
      "cell_type": "code",
      "source": [
        "from sklearn.metrics import roc_auc_score\n",
        "roc_auc_score(Y_test, Y_pred)"
      ],
      "metadata": {
        "id": "nVpY6yn29ca8",
        "outputId": "7ca5aa2d-07ef-46c3-90af-cfa1da6b2260",
        "colab": {
          "base_uri": "https://localhost:8080/"
        }
      },
      "execution_count": 33,
      "outputs": [
        {
          "output_type": "execute_result",
          "data": {
            "text/plain": [
              "0.8813131313131314"
            ]
          },
          "metadata": {},
          "execution_count": 33
        }
      ]
    },
    {
      "cell_type": "code",
      "source": [
        "from sklearn.metrics import zero_one_loss\n",
        "zero_one_loss(Y_test, Y_pred)"
      ],
      "metadata": {
        "id": "FapAiV9j9chr",
        "outputId": "52897b75-cd3b-412b-c17b-acf9c84eb2c4",
        "colab": {
          "base_uri": "https://localhost:8080/"
        }
      },
      "execution_count": 34,
      "outputs": [
        {
          "output_type": "execute_result",
          "data": {
            "text/plain": [
              "0.07228915662650603"
            ]
          },
          "metadata": {},
          "execution_count": 34
        }
      ]
    },
    {
      "cell_type": "code",
      "source": [
        "from sklearn.metrics import roc_curve\n",
        "print(roc_curve(Y_test, Y_pred))"
      ],
      "metadata": {
        "id": "_MqsV2Nm9fP9",
        "outputId": "e7dde93f-f978-421e-876c-b684c2a024cf",
        "colab": {
          "base_uri": "https://localhost:8080/"
        }
      },
      "execution_count": 35,
      "outputs": [
        {
          "output_type": "stream",
          "name": "stdout",
          "text": [
            "(array([0.        , 0.05555556, 1.        ]), array([0.        , 0.81818182, 1.        ]), array([2, 1, 0]))\n"
          ]
        }
      ]
    },
    {
      "cell_type": "markdown",
      "source": [
        "# Applying k-Fold Cross Validation"
      ],
      "metadata": {
        "id": "lW214cppGdaJ"
      }
    },
    {
      "cell_type": "code",
      "source": [
        "from sklearn.model_selection import cross_val_score\n",
        "accuracies = cross_val_score(estimator = lr, X = X_train, y = Y_train, cv = 10)\n",
        "print(\"Accuracy: {:.2f} %\".format(accuracies.mean()*100))\n",
        "print(\"Standard Deviation: {:.2f} %\".format(accuracies.std()*100))"
      ],
      "metadata": {
        "id": "U-gnU2m-Gc0M",
        "outputId": "61d4f396-883f-4b88-98ee-76de89de4752",
        "colab": {
          "base_uri": "https://localhost:8080/"
        }
      },
      "execution_count": 36,
      "outputs": [
        {
          "output_type": "stream",
          "name": "stderr",
          "text": [
            "/usr/local/lib/python3.7/dist-packages/sklearn/utils/validation.py:993: DataConversionWarning: A column-vector y was passed when a 1d array was expected. Please change the shape of y to (n_samples, ), for example using ravel().\n",
            "  y = column_or_1d(y, warn=True)\n",
            "/usr/local/lib/python3.7/dist-packages/sklearn/utils/validation.py:993: DataConversionWarning: A column-vector y was passed when a 1d array was expected. Please change the shape of y to (n_samples, ), for example using ravel().\n",
            "  y = column_or_1d(y, warn=True)\n",
            "/usr/local/lib/python3.7/dist-packages/sklearn/utils/validation.py:993: DataConversionWarning: A column-vector y was passed when a 1d array was expected. Please change the shape of y to (n_samples, ), for example using ravel().\n",
            "  y = column_or_1d(y, warn=True)\n",
            "/usr/local/lib/python3.7/dist-packages/sklearn/utils/validation.py:993: DataConversionWarning: A column-vector y was passed when a 1d array was expected. Please change the shape of y to (n_samples, ), for example using ravel().\n",
            "  y = column_or_1d(y, warn=True)\n",
            "/usr/local/lib/python3.7/dist-packages/sklearn/utils/validation.py:993: DataConversionWarning: A column-vector y was passed when a 1d array was expected. Please change the shape of y to (n_samples, ), for example using ravel().\n",
            "  y = column_or_1d(y, warn=True)\n",
            "/usr/local/lib/python3.7/dist-packages/sklearn/utils/validation.py:993: DataConversionWarning: A column-vector y was passed when a 1d array was expected. Please change the shape of y to (n_samples, ), for example using ravel().\n",
            "  y = column_or_1d(y, warn=True)\n",
            "/usr/local/lib/python3.7/dist-packages/sklearn/utils/validation.py:993: DataConversionWarning: A column-vector y was passed when a 1d array was expected. Please change the shape of y to (n_samples, ), for example using ravel().\n",
            "  y = column_or_1d(y, warn=True)\n",
            "/usr/local/lib/python3.7/dist-packages/sklearn/utils/validation.py:993: DataConversionWarning: A column-vector y was passed when a 1d array was expected. Please change the shape of y to (n_samples, ), for example using ravel().\n",
            "  y = column_or_1d(y, warn=True)\n"
          ]
        },
        {
          "output_type": "stream",
          "name": "stdout",
          "text": [
            "Accuracy: 90.89 %\n",
            "Standard Deviation: 5.24 %\n"
          ]
        },
        {
          "output_type": "stream",
          "name": "stderr",
          "text": [
            "/usr/local/lib/python3.7/dist-packages/sklearn/utils/validation.py:993: DataConversionWarning: A column-vector y was passed when a 1d array was expected. Please change the shape of y to (n_samples, ), for example using ravel().\n",
            "  y = column_or_1d(y, warn=True)\n",
            "/usr/local/lib/python3.7/dist-packages/sklearn/utils/validation.py:993: DataConversionWarning: A column-vector y was passed when a 1d array was expected. Please change the shape of y to (n_samples, ), for example using ravel().\n",
            "  y = column_or_1d(y, warn=True)\n"
          ]
        }
      ]
    },
    {
      "cell_type": "markdown",
      "source": [
        "# Prediction Probability Data Matrices"
      ],
      "metadata": {
        "id": "kuhR6n40D7Yl"
      }
    },
    {
      "cell_type": "code",
      "source": [
        "r_probs = [0 for _ in range(len(Y_test))] ##Worst case scenario\n",
        "lr_probs = lr.predict_proba(X_test)"
      ],
      "metadata": {
        "id": "IME0un31D8hk"
      },
      "execution_count": 37,
      "outputs": []
    },
    {
      "cell_type": "markdown",
      "source": [
        "Probabilities for the positive outcome is kept."
      ],
      "metadata": {
        "id": "x-NcfM_DEC_i"
      }
    },
    {
      "cell_type": "code",
      "source": [
        "lr_probs = lr_probs[:, 1]"
      ],
      "metadata": {
        "id": "hIICk8r_EDGI"
      },
      "execution_count": 38,
      "outputs": []
    },
    {
      "cell_type": "markdown",
      "source": [
        "# Computing AUROC and ROC curve values"
      ],
      "metadata": {
        "id": "8-hlRiLeEIAD"
      }
    },
    {
      "cell_type": "code",
      "source": [
        "from sklearn.metrics import roc_curve, roc_auc_score"
      ],
      "metadata": {
        "id": "noblOXzJEILC"
      },
      "execution_count": 39,
      "outputs": []
    },
    {
      "cell_type": "markdown",
      "source": [
        "# Calculate AUROC"
      ],
      "metadata": {
        "id": "4vfCzJTEEN0y"
      }
    },
    {
      "cell_type": "markdown",
      "source": [
        "ROC is the receiver operating characteristic AUROC is the area under the ROC curve"
      ],
      "metadata": {
        "id": "_8uJJ5XhEQ8j"
      }
    },
    {
      "cell_type": "code",
      "source": [
        "r_auc = roc_auc_score(Y_test, r_probs)\n",
        "lr_auc = roc_auc_score(Y_test, lr_probs)"
      ],
      "metadata": {
        "id": "HCbf7GEJEPEz"
      },
      "execution_count": 40,
      "outputs": []
    },
    {
      "cell_type": "markdown",
      "source": [
        "# Print AUROC scores"
      ],
      "metadata": {
        "id": "X-djVZCAEcKK"
      }
    },
    {
      "cell_type": "code",
      "source": [
        "print('Random (chance) Prediction: AUROC = %.3f' % (r_auc))\n",
        "print('Logistic Regression Classifier: AUROC = %.3f' % (lr_auc))"
      ],
      "metadata": {
        "id": "AX4O4e52EdH3",
        "outputId": "5f80a49c-841d-4978-a3fe-6f668a2d4045",
        "colab": {
          "base_uri": "https://localhost:8080/"
        }
      },
      "execution_count": 41,
      "outputs": [
        {
          "output_type": "stream",
          "name": "stdout",
          "text": [
            "Random (chance) Prediction: AUROC = 0.500\n",
            "Logistic Regression Classifier: AUROC = 0.903\n"
          ]
        }
      ]
    },
    {
      "cell_type": "markdown",
      "source": [
        "# Calculate ROC curve"
      ],
      "metadata": {
        "id": "LPVvEipaElJ0"
      }
    },
    {
      "cell_type": "code",
      "source": [
        "r_fpr, r_tpr, _ = roc_curve(Y_test, r_probs)\n",
        "lr_fpr, lr_tpr, _ = roc_curve(Y_test, lr_probs)"
      ],
      "metadata": {
        "id": "VD_3GvPMElSt"
      },
      "execution_count": 42,
      "outputs": []
    },
    {
      "cell_type": "markdown",
      "source": [
        "# Plot the ROC curve"
      ],
      "metadata": {
        "id": "HMNGT--AEv8K"
      }
    },
    {
      "cell_type": "code",
      "source": [
        "import matplotlib.pyplot as plt"
      ],
      "metadata": {
        "id": "caczVbO1EwDr"
      },
      "execution_count": 43,
      "outputs": []
    },
    {
      "cell_type": "code",
      "source": [
        "plt.plot(r_fpr, r_tpr, linestyle='--', label='Random prediction (AUROC = %0.3f)' % r_auc)\n",
        "plt.plot(lr_fpr, lr_tpr, marker='.', label='Logistic Regression Classifier (AUROC = %0.3f)' % lr_auc)\n",
        "\n",
        "# Title\n",
        "plt.title('ROC Plot')\n",
        "# Axis labels\n",
        "plt.xlabel('False Positive Rate')\n",
        "plt.ylabel('True Positive Rate')\n",
        "# Show legend\n",
        "plt.legend() # \n",
        "# Show plot\n",
        "plt.show()"
      ],
      "metadata": {
        "id": "OeKtl5StE1f6",
        "outputId": "b9c186b9-c59c-4e74-97bf-9c783d446d92",
        "colab": {
          "base_uri": "https://localhost:8080/",
          "height": 295
        }
      },
      "execution_count": 44,
      "outputs": [
        {
          "output_type": "display_data",
          "data": {
            "text/plain": [
              "<Figure size 432x288 with 1 Axes>"
            ],
            "image/png": "[encoded data removed]"
          },
          "metadata": {
            "needs_background": "light"
          }
        }
      ]
    }
  ]
}