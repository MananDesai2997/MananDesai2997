{
  "nbformat": 4,
  "nbformat_minor": 0,
  "metadata": {
    "colab": {
      "name": "support_vector_regression.ipynb",
      "provenance": [],
      "collapsed_sections": [],
      "include_colab_link": true
    },
    "kernelspec": {
      "name": "python3",
      "display_name": "Python 3"
    }
  },
  "cells": [
    {
      "cell_type": "markdown",
      "metadata": {
        "id": "view-in-github",
        "colab_type": "text"
      },
      "source": [
        "<a href=\"https://colab.research.google.com/github/MananDesai2997/MananDesai2997/blob/main/RexolitePlate_support_vector_regression.ipynb\" target=\"_parent\"><img src=\"https://colab.research.google.com/assets/colab-badge.svg\" alt=\"Open In Colab\"/></a>"
      ]
    },
    {
      "cell_type": "markdown",
      "metadata": {
        "id": "m3PAEPRDRLA3"
      },
      "source": [
        "# Support Vector Regression (SVR)"
      ]
    },
    {
      "cell_type": "markdown",
      "metadata": {
        "id": "0VCUAVIjRdzZ"
      },
      "source": [
        "## Importing the libraries"
      ]
    },
    {
      "cell_type": "code",
      "metadata": {
        "id": "56oRF-QfSDzC"
      },
      "source": [
        "import numpy as np\n",
        "import matplotlib.pyplot as plt\n",
        "import pandas as pd"
      ],
      "execution_count": 3,
      "outputs": []
    },
    {
      "cell_type": "markdown",
      "metadata": {
        "id": "fXVXoFWtSF4_"
      },
      "source": [
        "## Importing the dataset"
      ]
    },
    {
      "cell_type": "code",
      "metadata": {
        "id": "xfoa8OSORfHQ"
      },
      "source": [
        "dataset = pd.read_csv('0041 83493 Rev07.csv')\n",
        "X = dataset.iloc[:,19: ].values\n",
        "Y = dataset.iloc[:, 1:2].values"
      ],
      "execution_count": 4,
      "outputs": []
    },
    {
      "cell_type": "code",
      "metadata": {
        "id": "fAWJV6gpiTYM",
        "outputId": "3ba888b8-66b2-4d3f-cf89-d9270c6c9959",
        "colab": {
          "base_uri": "https://localhost:8080/"
        }
      },
      "source": [
        "print(X)"
      ],
      "execution_count": 5,
      "outputs": [
        {
          "output_type": "stream",
          "name": "stdout",
          "text": [
            "[[4.7000e-01 1.0999e+01 1.2000e+02 ... 1.1800e-01 5.0410e+00 5.9990e+00]\n",
            " [4.7000e-01 1.0999e+01 1.2000e+02 ... 1.1800e-01 5.0490e+00 5.9990e+00]\n",
            " [4.7000e-01 1.0999e+01 1.2000e+02 ... 1.1700e-01 5.0440e+00 5.9990e+00]\n",
            " ...\n",
            " [4.7000e-01 1.0999e+01 1.2000e+02 ... 1.1800e-01 5.0410e+00 5.9990e+00]\n",
            " [4.7000e-01 1.0999e+01 1.2000e+02 ... 1.1800e-01 5.0410e+00 6.0000e+00]\n",
            " [4.7000e-01 1.0999e+01 1.2000e+02 ... 1.1800e-01 5.0400e+00 6.0000e+00]]\n"
          ]
        }
      ]
    },
    {
      "cell_type": "code",
      "metadata": {
        "id": "D4aFLlbziaV9",
        "outputId": "5f372880-e2d2-4590-f19f-e2b76d298b9c",
        "colab": {
          "base_uri": "https://localhost:8080/"
        }
      },
      "source": [
        "print(Y)"
      ],
      "execution_count": 6,
      "outputs": [
        {
          "output_type": "stream",
          "name": "stdout",
          "text": [
            "[[14.017]\n",
            " [14.017]\n",
            " [14.017]\n",
            " [14.017]\n",
            " [14.016]\n",
            " [14.016]\n",
            " [14.016]\n",
            " [14.016]\n",
            " [14.017]\n",
            " [14.017]\n",
            " [14.016]\n",
            " [14.016]\n",
            " [14.017]\n",
            " [14.017]\n",
            " [14.016]\n",
            " [14.018]\n",
            " [14.018]\n",
            " [14.017]\n",
            " [14.017]\n",
            " [14.017]\n",
            " [14.018]\n",
            " [14.017]\n",
            " [14.017]\n",
            " [14.016]\n",
            " [14.017]\n",
            " [14.016]\n",
            " [14.017]\n",
            " [14.017]\n",
            " [14.018]\n",
            " [14.017]\n",
            " [14.017]\n",
            " [14.017]\n",
            " [14.018]\n",
            " [14.017]\n",
            " [14.017]\n",
            " [14.017]\n",
            " [14.017]\n",
            " [14.017]\n",
            " [14.017]\n",
            " [14.016]\n",
            " [14.017]\n",
            " [14.017]\n",
            " [14.017]\n",
            " [14.017]\n",
            " [14.016]\n",
            " [14.017]\n",
            " [14.016]\n",
            " [14.017]\n",
            " [14.017]\n",
            " [14.016]\n",
            " [14.016]\n",
            " [14.018]\n",
            " [14.016]\n",
            " [14.017]\n",
            " [14.018]\n",
            " [14.019]\n",
            " [14.017]\n",
            " [14.017]\n",
            " [14.019]\n",
            " [14.017]\n",
            " [14.017]\n",
            " [14.017]\n",
            " [14.017]\n",
            " [14.019]\n",
            " [14.017]\n",
            " [14.017]\n",
            " [14.019]\n",
            " [14.018]\n",
            " [14.017]\n",
            " [14.016]\n",
            " [14.018]\n",
            " [14.017]]\n"
          ]
        }
      ]
    },
    {
      "cell_type": "markdown",
      "source": [
        "# Taking care of missing data"
      ],
      "metadata": {
        "id": "1GMADpcaw5Ck"
      }
    },
    {
      "cell_type": "code",
      "source": [
        "from sklearn.impute import SimpleImputer\n",
        "imputer = SimpleImputer(missing_values=np.nan, strategy='mean')\n",
        "imputer.fit(X[:, :])\n",
        "X[:,:] = imputer.transform(X[:,:])"
      ],
      "metadata": {
        "id": "27zZji1Tw8uj"
      },
      "execution_count": 7,
      "outputs": []
    },
    {
      "cell_type": "code",
      "source": [
        "from sklearn.impute import SimpleImputer\n",
        "imputer = SimpleImputer(missing_values=np.nan, strategy='mean')\n",
        "imputer.fit(Y[:,:])\n",
        "Y[:,:] = imputer.transform(Y[:,:])"
      ],
      "metadata": {
        "id": "WqGizLc7xBAL"
      },
      "execution_count": 8,
      "outputs": []
    },
    {
      "cell_type": "code",
      "source": [
        "print(X)"
      ],
      "metadata": {
        "colab": {
          "base_uri": "https://localhost:8080/"
        },
        "id": "vnB4rPxWxGpb",
        "outputId": "966683e0-ec0d-4b39-bb12-85089faddebe"
      },
      "execution_count": 9,
      "outputs": [
        {
          "output_type": "stream",
          "name": "stdout",
          "text": [
            "[[4.7000e-01 1.0999e+01 1.2000e+02 ... 1.1800e-01 5.0410e+00 5.9990e+00]\n",
            " [4.7000e-01 1.0999e+01 1.2000e+02 ... 1.1800e-01 5.0490e+00 5.9990e+00]\n",
            " [4.7000e-01 1.0999e+01 1.2000e+02 ... 1.1700e-01 5.0440e+00 5.9990e+00]\n",
            " ...\n",
            " [4.7000e-01 1.0999e+01 1.2000e+02 ... 1.1800e-01 5.0410e+00 5.9990e+00]\n",
            " [4.7000e-01 1.0999e+01 1.2000e+02 ... 1.1800e-01 5.0410e+00 6.0000e+00]\n",
            " [4.7000e-01 1.0999e+01 1.2000e+02 ... 1.1800e-01 5.0400e+00 6.0000e+00]]\n"
          ]
        }
      ]
    },
    {
      "cell_type": "code",
      "source": [
        "print(Y)"
      ],
      "metadata": {
        "colab": {
          "base_uri": "https://localhost:8080/"
        },
        "id": "WTcsYR6axJ8u",
        "outputId": "cd04f41b-53ef-47da-e596-a599a4bada18"
      },
      "execution_count": 10,
      "outputs": [
        {
          "output_type": "stream",
          "name": "stdout",
          "text": [
            "[[14.017]\n",
            " [14.017]\n",
            " [14.017]\n",
            " [14.017]\n",
            " [14.016]\n",
            " [14.016]\n",
            " [14.016]\n",
            " [14.016]\n",
            " [14.017]\n",
            " [14.017]\n",
            " [14.016]\n",
            " [14.016]\n",
            " [14.017]\n",
            " [14.017]\n",
            " [14.016]\n",
            " [14.018]\n",
            " [14.018]\n",
            " [14.017]\n",
            " [14.017]\n",
            " [14.017]\n",
            " [14.018]\n",
            " [14.017]\n",
            " [14.017]\n",
            " [14.016]\n",
            " [14.017]\n",
            " [14.016]\n",
            " [14.017]\n",
            " [14.017]\n",
            " [14.018]\n",
            " [14.017]\n",
            " [14.017]\n",
            " [14.017]\n",
            " [14.018]\n",
            " [14.017]\n",
            " [14.017]\n",
            " [14.017]\n",
            " [14.017]\n",
            " [14.017]\n",
            " [14.017]\n",
            " [14.016]\n",
            " [14.017]\n",
            " [14.017]\n",
            " [14.017]\n",
            " [14.017]\n",
            " [14.016]\n",
            " [14.017]\n",
            " [14.016]\n",
            " [14.017]\n",
            " [14.017]\n",
            " [14.016]\n",
            " [14.016]\n",
            " [14.018]\n",
            " [14.016]\n",
            " [14.017]\n",
            " [14.018]\n",
            " [14.019]\n",
            " [14.017]\n",
            " [14.017]\n",
            " [14.019]\n",
            " [14.017]\n",
            " [14.017]\n",
            " [14.017]\n",
            " [14.017]\n",
            " [14.019]\n",
            " [14.017]\n",
            " [14.017]\n",
            " [14.019]\n",
            " [14.018]\n",
            " [14.017]\n",
            " [14.016]\n",
            " [14.018]\n",
            " [14.017]]\n"
          ]
        }
      ]
    },
    {
      "cell_type": "markdown",
      "metadata": {
        "id": "YS8FeLHYS-nI"
      },
      "source": [
        "## Feature Scaling"
      ]
    },
    {
      "cell_type": "code",
      "metadata": {
        "id": "PGeAlD1HTDI1"
      },
      "source": [
        "from sklearn.preprocessing import StandardScaler\n",
        "sc_X = StandardScaler()\n",
        "sc_Y = StandardScaler()\n",
        "X = sc_X.fit_transform(X)\n",
        "Y = sc_Y.fit_transform(Y)"
      ],
      "execution_count": 11,
      "outputs": []
    },
    {
      "cell_type": "code",
      "metadata": {
        "id": "nXa8Z9FgjFTQ",
        "outputId": "b432aca9-20e1-48d9-cb50-8c492feca86b",
        "colab": {
          "base_uri": "https://localhost:8080/"
        }
      },
      "source": [
        "print(X)"
      ],
      "execution_count": 12,
      "outputs": [
        {
          "output_type": "stream",
          "name": "stdout",
          "text": [
            "[[ 0.20851441 -0.51753318  0.         ...  0.68836315 -1.04842119\n",
            "  -0.82122993]\n",
            " [ 0.20851441 -0.51753318  0.         ...  0.68836315  0.88712562\n",
            "  -0.82122993]\n",
            " [ 0.20851441 -0.51753318  0.         ... -1.29412271 -0.32259114\n",
            "  -0.82122993]\n",
            " ...\n",
            " [ 0.20851441 -0.51753318  0.         ...  0.68836315 -1.04842119\n",
            "  -0.82122993]\n",
            " [ 0.20851441 -0.51753318  0.         ...  0.68836315 -1.04842119\n",
            "   1.21768576]\n",
            " [ 0.20851441 -0.51753318  0.         ...  0.68836315 -1.29036454\n",
            "   1.21768576]]\n"
          ]
        }
      ]
    },
    {
      "cell_type": "code",
      "metadata": {
        "id": "i7Oo2kybjGr2",
        "outputId": "a7dda5e3-fc0a-422b-a309-ee82eb1b22e7",
        "colab": {
          "base_uri": "https://localhost:8080/"
        }
      },
      "source": [
        "print(Y)"
      ],
      "execution_count": 13,
      "outputs": [
        {
          "output_type": "stream",
          "name": "stdout",
          "text": [
            "[[-0.01840837]\n",
            " [-0.01840837]\n",
            " [-0.01840837]\n",
            " [-0.01840837]\n",
            " [-1.3438112 ]\n",
            " [-1.3438112 ]\n",
            " [-1.3438112 ]\n",
            " [-1.3438112 ]\n",
            " [-0.01840837]\n",
            " [-0.01840837]\n",
            " [-1.3438112 ]\n",
            " [-1.3438112 ]\n",
            " [-0.01840837]\n",
            " [-0.01840837]\n",
            " [-1.3438112 ]\n",
            " [ 1.30699445]\n",
            " [ 1.30699445]\n",
            " [-0.01840837]\n",
            " [-0.01840837]\n",
            " [-0.01840837]\n",
            " [ 1.30699445]\n",
            " [-0.01840837]\n",
            " [-0.01840837]\n",
            " [-1.3438112 ]\n",
            " [-0.01840837]\n",
            " [-1.3438112 ]\n",
            " [-0.01840837]\n",
            " [-0.01840837]\n",
            " [ 1.30699445]\n",
            " [-0.01840837]\n",
            " [-0.01840837]\n",
            " [-0.01840837]\n",
            " [ 1.30699445]\n",
            " [-0.01840837]\n",
            " [-0.01840837]\n",
            " [-0.01840837]\n",
            " [-0.01840837]\n",
            " [-0.01840837]\n",
            " [-0.01840837]\n",
            " [-1.3438112 ]\n",
            " [-0.01840837]\n",
            " [-0.01840837]\n",
            " [-0.01840837]\n",
            " [-0.01840837]\n",
            " [-1.3438112 ]\n",
            " [-0.01840837]\n",
            " [-1.3438112 ]\n",
            " [-0.01840837]\n",
            " [-0.01840837]\n",
            " [-1.3438112 ]\n",
            " [-1.3438112 ]\n",
            " [ 1.30699445]\n",
            " [-1.3438112 ]\n",
            " [-0.01840837]\n",
            " [ 1.30699445]\n",
            " [ 2.63239728]\n",
            " [-0.01840837]\n",
            " [-0.01840837]\n",
            " [ 2.63239728]\n",
            " [-0.01840837]\n",
            " [-0.01840837]\n",
            " [-0.01840837]\n",
            " [-0.01840837]\n",
            " [ 2.63239728]\n",
            " [-0.01840837]\n",
            " [-0.01840837]\n",
            " [ 2.63239728]\n",
            " [ 1.30699445]\n",
            " [-0.01840837]\n",
            " [-1.3438112 ]\n",
            " [ 1.30699445]\n",
            " [-0.01840837]]\n"
          ]
        }
      ]
    },
    {
      "cell_type": "markdown",
      "metadata": {
        "id": "eiU6D2QFRjxY"
      },
      "source": [
        "## Training the SVR model on the whole dataset"
      ]
    },
    {
      "cell_type": "code",
      "metadata": {
        "id": "y6R4rt_GRz15",
        "outputId": "9ff4d1b4-4cbf-4567-d86e-cdad504779a9",
        "colab": {
          "base_uri": "https://localhost:8080/"
        }
      },
      "source": [
        "from sklearn.svm import SVR\n",
        "regressor = SVR(kernel = 'rbf')\n",
        "regressor.fit(X, Y)"
      ],
      "execution_count": 14,
      "outputs": [
        {
          "output_type": "stream",
          "name": "stderr",
          "text": [
            "/usr/local/lib/python3.7/dist-packages/sklearn/utils/validation.py:985: DataConversionWarning: A column-vector y was passed when a 1d array was expected. Please change the shape of y to (n_samples, ), for example using ravel().\n",
            "  y = column_or_1d(y, warn=True)\n"
          ]
        },
        {
          "output_type": "execute_result",
          "data": {
            "text/plain": [
              "SVR()"
            ]
          },
          "metadata": {},
          "execution_count": 14
        }
      ]
    },
    {
      "cell_type": "markdown",
      "source": [
        "Predicting the test results"
      ],
      "metadata": {
        "id": "-0szhgHoMIXU"
      }
    },
    {
      "cell_type": "code",
      "source": [
        "Y_pred = regressor.predict(X)\n",
        "np.set_printoptions(precision=2)\n",
        "print(np.concatenate((Y_pred.reshape(len(Y_pred),1), Y.reshape(len(Y),1)),1))"
      ],
      "metadata": {
        "colab": {
          "base_uri": "https://localhost:8080/"
        },
        "id": "H6mmg0HeMLMc",
        "outputId": "d72a7d15-d9a2-4a32-a45d-787ebe728352"
      },
      "execution_count": 15,
      "outputs": [
        {
          "output_type": "stream",
          "name": "stdout",
          "text": [
            "[[-0.01 -0.02]\n",
            " [-0.12 -0.02]\n",
            " [-0.12 -0.02]\n",
            " [-0.12 -0.02]\n",
            " [-1.24 -1.34]\n",
            " [-1.24 -1.34]\n",
            " [-1.24 -1.34]\n",
            " [-1.24 -1.34]\n",
            " [-0.12 -0.02]\n",
            " [-0.12 -0.02]\n",
            " [-0.77 -1.34]\n",
            " [-0.72 -1.34]\n",
            " [-0.04 -0.02]\n",
            " [-0.1  -0.02]\n",
            " [-0.5  -1.34]\n",
            " [ 0.57  1.31]\n",
            " [ 0.57  1.31]\n",
            " [-0.12 -0.02]\n",
            " [ 0.08 -0.02]\n",
            " [ 0.08 -0.02]\n",
            " [ 1.1   1.31]\n",
            " [-0.09 -0.02]\n",
            " [-0.12 -0.02]\n",
            " [-0.74 -1.34]\n",
            " [-0.05 -0.02]\n",
            " [-0.31 -1.34]\n",
            " [-0.12 -0.02]\n",
            " [ 0.08 -0.02]\n",
            " [ 1.15  1.31]\n",
            " [-0.12 -0.02]\n",
            " [ 0.08 -0.02]\n",
            " [ 0.08 -0.02]\n",
            " [ 0.94  1.31]\n",
            " [-0.12 -0.02]\n",
            " [ 0.08 -0.02]\n",
            " [ 0.01 -0.02]\n",
            " [-0.08 -0.02]\n",
            " [ 0.08 -0.02]\n",
            " [-0.12 -0.02]\n",
            " [-0.5  -1.34]\n",
            " [ 0.08 -0.02]\n",
            " [-0.04 -0.02]\n",
            " [ 0.08 -0.02]\n",
            " [-0.02 -0.02]\n",
            " [-0.79 -1.34]\n",
            " [-0.12 -0.02]\n",
            " [-0.67 -1.34]\n",
            " [-0.12 -0.02]\n",
            " [ 0.08 -0.02]\n",
            " [-1.24 -1.34]\n",
            " [-1.07 -1.34]\n",
            " [ 0.1   1.31]\n",
            " [-1.03 -1.34]\n",
            " [ 0.08 -0.02]\n",
            " [ 1.18  1.31]\n",
            " [ 1.14  2.63]\n",
            " [ 0.08 -0.02]\n",
            " [ 0.08 -0.02]\n",
            " [ 0.61  2.63]\n",
            " [ 0.08 -0.02]\n",
            " [-0.01 -0.02]\n",
            " [ 0.05 -0.02]\n",
            " [-0.08 -0.02]\n",
            " [ 0.32  2.63]\n",
            " [ 0.08 -0.02]\n",
            " [ 0.08 -0.02]\n",
            " [ 0.64  2.63]\n",
            " [ 0.91  1.31]\n",
            " [ 0.02 -0.02]\n",
            " [-0.35 -1.34]\n",
            " [ 0.57  1.31]\n",
            " [ 0.08 -0.02]]\n"
          ]
        }
      ]
    },
    {
      "cell_type": "code",
      "source": [
        "print(regressor.coef_)\n",
        "print(regressor.intercept_)"
      ],
      "metadata": {
        "colab": {
          "base_uri": "https://localhost:8080/",
          "height": 320
        },
        "id": "3suFS_ptMpJT",
        "outputId": "00b66ef6-a934-4b02-a7ab-e0c7a316cb12"
      },
      "execution_count": 16,
      "outputs": [
        {
          "output_type": "error",
          "ename": "AttributeError",
          "evalue": "ignored",
          "traceback": [
            "\u001b[0;31m---------------------------------------------------------------------------\u001b[0m",
            "\u001b[0;31mAttributeError\u001b[0m                            Traceback (most recent call last)",
            "\u001b[0;32m<ipython-input-16-fab6cf7407e4>\u001b[0m in \u001b[0;36m<module>\u001b[0;34m()\u001b[0m\n\u001b[0;32m----> 1\u001b[0;31m \u001b[0mprint\u001b[0m\u001b[0;34m(\u001b[0m\u001b[0mregressor\u001b[0m\u001b[0;34m.\u001b[0m\u001b[0mcoef_\u001b[0m\u001b[0;34m)\u001b[0m\u001b[0;34m\u001b[0m\u001b[0;34m\u001b[0m\u001b[0m\n\u001b[0m\u001b[1;32m      2\u001b[0m \u001b[0mprint\u001b[0m\u001b[0;34m(\u001b[0m\u001b[0mregressor\u001b[0m\u001b[0;34m.\u001b[0m\u001b[0mintercept_\u001b[0m\u001b[0;34m)\u001b[0m\u001b[0;34m\u001b[0m\u001b[0;34m\u001b[0m\u001b[0m\n",
            "\u001b[0;32m/usr/local/lib/python3.7/dist-packages/sklearn/svm/_base.py\u001b[0m in \u001b[0;36mcoef_\u001b[0;34m(self)\u001b[0m\n\u001b[1;32m    635\u001b[0m         \"\"\"\n\u001b[1;32m    636\u001b[0m         \u001b[0;32mif\u001b[0m \u001b[0mself\u001b[0m\u001b[0;34m.\u001b[0m\u001b[0mkernel\u001b[0m \u001b[0;34m!=\u001b[0m \u001b[0;34m\"linear\"\u001b[0m\u001b[0;34m:\u001b[0m\u001b[0;34m\u001b[0m\u001b[0;34m\u001b[0m\u001b[0m\n\u001b[0;32m--> 637\u001b[0;31m             \u001b[0;32mraise\u001b[0m \u001b[0mAttributeError\u001b[0m\u001b[0;34m(\u001b[0m\u001b[0;34m\"coef_ is only available when using a linear kernel\"\u001b[0m\u001b[0;34m)\u001b[0m\u001b[0;34m\u001b[0m\u001b[0;34m\u001b[0m\u001b[0m\n\u001b[0m\u001b[1;32m    638\u001b[0m \u001b[0;34m\u001b[0m\u001b[0m\n\u001b[1;32m    639\u001b[0m         \u001b[0mcoef\u001b[0m \u001b[0;34m=\u001b[0m \u001b[0mself\u001b[0m\u001b[0;34m.\u001b[0m\u001b[0m_get_coef\u001b[0m\u001b[0;34m(\u001b[0m\u001b[0;34m)\u001b[0m\u001b[0;34m\u001b[0m\u001b[0;34m\u001b[0m\u001b[0m\n",
            "\u001b[0;31mAttributeError\u001b[0m: coef_ is only available when using a linear kernel"
          ]
        }
      ]
    },
    {
      "cell_type": "markdown",
      "source": [
        "# Evaluating the Model Performance"
      ],
      "metadata": {
        "id": "U668_nsqO1jr"
      }
    },
    {
      "cell_type": "code",
      "source": [
        "from sklearn.metrics import r2_score\n",
        "r2_score(Y, Y_pred)"
      ],
      "metadata": {
        "colab": {
          "base_uri": "https://localhost:8080/"
        },
        "id": "vlhh7i98O5wD",
        "outputId": "458f4078-2160-47d7-a994-6c5e838fe426"
      },
      "execution_count": 17,
      "outputs": [
        {
          "output_type": "execute_result",
          "data": {
            "text/plain": [
              "0.6533173632754186"
            ]
          },
          "metadata": {},
          "execution_count": 17
        }
      ]
    },
    {
      "cell_type": "code",
      "source": [
        ""
      ],
      "metadata": {
        "id": "44pHqjaUO9q_"
      },
      "execution_count": null,
      "outputs": []
    }
  ]
}