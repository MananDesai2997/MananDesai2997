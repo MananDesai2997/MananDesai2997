{
  "nbformat": 4,
  "nbformat_minor": 0,
  "metadata": {
    "colab": {
      "name": "k_means_clustering.ipynb",
      "provenance": [],
      "collapsed_sections": [],
      "include_colab_link": true
    },
    "kernelspec": {
      "name": "python3",
      "display_name": "Python 3"
    }
  },
  "cells": [
    {
      "cell_type": "markdown",
      "metadata": {
        "id": "view-in-github",
        "colab_type": "text"
      },
      "source": [
        "<a href=\"https://colab.research.google.com/github/MananDesai2997/MananDesai2997/blob/main/RexolitePlate_k_means_clustering.ipynb\" target=\"_parent\"><img src=\"https://colab.research.google.com/assets/colab-badge.svg\" alt=\"Open In Colab\"/></a>"
      ]
    },
    {
      "cell_type": "markdown",
      "metadata": {
        "id": "i_paGd_yLbgH"
      },
      "source": [
        "# K-Means Clustering"
      ]
    },
    {
      "cell_type": "markdown",
      "metadata": {
        "id": "nAuqPwTnLipr"
      },
      "source": [
        "## Importing the libraries"
      ]
    },
    {
      "cell_type": "code",
      "metadata": {
        "id": "yUXGcC4KLmcL"
      },
      "source": [
        "import numpy as np\n",
        "import matplotlib.pyplot as plt\n",
        "import pandas as pd\n",
        "import seaborn as sns"
      ],
      "execution_count": null,
      "outputs": []
    },
    {
      "cell_type": "markdown",
      "metadata": {
        "id": "5LciKOr8Lo5O"
      },
      "source": [
        "## Importing the dataset"
      ]
    },
    {
      "cell_type": "code",
      "metadata": {
        "id": "9RlmPzZGLtGi"
      },
      "source": [
        "import io\n",
        "from google.colab import files"
      ],
      "execution_count": null,
      "outputs": []
    },
    {
      "cell_type": "code",
      "source": [
        "uploaded = files.upload()"
      ],
      "metadata": {
        "colab": {
          "resources": {
            "http://localhost:8080/nbextensions/google.colab/files.js": {
              "data": "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",
              "ok": true,
              "headers": [
                [
                  "content-type",
                  "application/javascript"
                ]
              ],
              "status": 200,
              "status_text": ""
            }
          },
          "base_uri": "https://localhost:8080/",
          "height": 74
        },
        "id": "Mg4UcVaVcEkO",
        "outputId": "6af6dade-1318-461d-9d35-3c58a3f3d704"
      },
      "execution_count": null,
      "outputs": [
        {
          "output_type": "display_data",
          "data": {
            "text/plain": [
              "<IPython.core.display.HTML object>"
            ],
            "text/html": [
              "\n",
              "     <input type=\"file\" id=\"files-31e92b29-088a-4cbb-a553-e54e209e19dc\" name=\"files[]\" multiple disabled\n",
              "        style=\"border:none\" />\n",
              "     <output id=\"result-31e92b29-088a-4cbb-a553-e54e209e19dc\">\n",
              "      Upload widget is only available when the cell has been executed in the\n",
              "      current browser session. Please rerun this cell to enable.\n",
              "      </output>\n",
              "      <script src=\"/nbextensions/google.colab/files.js\"></script> "
            ]
          },
          "metadata": {}
        },
        {
          "output_type": "stream",
          "name": "stdout",
          "text": [
            "Saving 0041-83493_Rev07.csv to 0041-83493_Rev07 (1).csv\n"
          ]
        }
      ]
    },
    {
      "cell_type": "code",
      "source": [
        "dataset = pd.read_csv(io.BytesIO(uploaded['0041-83493_Rev07.csv']))"
      ],
      "metadata": {
        "id": "TF1NGPWwcKqk"
      },
      "execution_count": null,
      "outputs": []
    },
    {
      "cell_type": "code",
      "source": [
        "dataset"
      ],
      "metadata": {
        "colab": {
          "base_uri": "https://localhost:8080/",
          "height": 764
        },
        "id": "YUh1kh6ccNuO",
        "outputId": "71fcbe8a-fd1a-47c3-a0f1-4d6c119f1b03"
      },
      "execution_count": null,
      "outputs": [
        {
          "output_type": "execute_result",
          "data": {
            "text/plain": [
              "                              SN (JOB #)  SH1_C2_Diameter -14.020  \\\n",
              "0              IPI-001_SN0001 (CP467059)                14.017400   \n",
              "1               0 DEG SN 0002 (CP471589)                14.016011   \n",
              "2              90 DEG SN 0003 (CP471589)                14.015942   \n",
              "3             180 DEG SN 0004 (CP471589)                14.018477   \n",
              "4               SN0005 270DEG (CP471589)                14.016071   \n",
              "..                                   ...                      ...   \n",
              "87  SN 301514-5021-0256 (CP474149_REV08)                14.015503   \n",
              "88  SN 301514-5021-0257 (CP474149_REV08)                14.015220   \n",
              "89  SN 301514-5021-0258 (CP474149_REV08)                14.015178   \n",
              "90  SN 301514-5021-0259 (CP474149_REV08)                14.017048   \n",
              "91  SN 301514-5021-0260 (CP474149_REV08)                14.017311   \n",
              "\n",
              "    SH1_B5_Diameter -0.220  SH1_B5_Diameter -0.160  SH1_B5_Position -0.005  \\\n",
              "0                 0.222300                0.161250                0.000700   \n",
              "1                 0.221733                0.161174                0.000481   \n",
              "2                 0.221904                0.161202                0.000903   \n",
              "3                 0.221841                0.161174                0.000434   \n",
              "4                 0.221928                0.161158                0.000481   \n",
              "..                     ...                     ...                     ...   \n",
              "87                0.221326                0.160738                0.000396   \n",
              "88                0.221238                0.160695                0.001317   \n",
              "89                0.221296                0.160680                0.000526   \n",
              "90                0.221358                0.160751                0.000183   \n",
              "91                0.221343                0.160738                0.000401   \n",
              "\n",
              "    SH1_B1_Width -0.190  SH1_B1_Distance -0.200  SH1_B1_Position- 0.002  \\\n",
              "0              0.192200                0.198800                0.000000   \n",
              "1              0.191812                0.200574                0.000000   \n",
              "2              0.191788                0.200091                0.000000   \n",
              "3              0.191770                0.200465                0.000000   \n",
              "4              0.191820                0.200294                0.000000   \n",
              "..                  ...                     ...                     ...   \n",
              "87             0.191336                0.200956                0.000008   \n",
              "88             0.191349                0.200278                0.000000   \n",
              "89             0.191342                0.200183                0.000000   \n",
              "90             0.191340                0.200260                0.000000   \n",
              "91             0.191361                0.200214                0.000000   \n",
              "\n",
              "    SH1_D5_Position -0.005  SH2_D7_Width -0.190  ...  SH4_B7_Width -0.065  \\\n",
              "0                 0.001100             0.192200  ...             0.068400   \n",
              "1                 0.001154             0.191750  ...             0.067757   \n",
              "2                 0.001015             0.191730  ...             0.067760   \n",
              "3                 0.001113             0.191971  ...             0.067707   \n",
              "4                 0.000876             0.191710  ...             0.067761   \n",
              "..                     ...                  ...  ...                  ...   \n",
              "87                0.001500             0.191257  ...             0.067776   \n",
              "88                0.001034             0.191284  ...             0.067780   \n",
              "89                0.000821             0.191169  ...             0.067780   \n",
              "90                0.000817             0.191211  ...             0.067777   \n",
              "91                0.001026             0.191211  ...             0.067797   \n",
              "\n",
              "    SH3_B8_Position -0.005  SH3_B7_Distance -0.100  SH4_C7_Radius -0.0325  \\\n",
              "0                 0.001200                0.098950               0.033800   \n",
              "1                 0.002455                0.102773               0.033507   \n",
              "2                 0.001692                0.102942               0.033518   \n",
              "3                 0.002165                0.102567               0.033509   \n",
              "4                 0.001043                0.102188               0.033508   \n",
              "..                     ...                     ...                    ...   \n",
              "87                0.000313                0.098899               0.033551   \n",
              "88                0.001097                0.098601               0.033503   \n",
              "89                0.000545                0.098496               0.033497   \n",
              "90                0.000742                0.098684               0.033505   \n",
              "91                0.001083                0.098558               0.033509   \n",
              "\n",
              "    SH4_D8_Distance -0.470  SH4_D8_Distance -0.235  SH4_B7_Distance -0.148  \\\n",
              "0                 0.473750                0.236300                0.147450   \n",
              "1                 0.470759                0.234603                0.147419   \n",
              "2                 0.470711                0.234614                0.147386   \n",
              "3                 0.470742                0.234636                0.147522   \n",
              "4                 0.470712                0.234519                0.147350   \n",
              "..                     ...                     ...                     ...   \n",
              "87                0.472191                0.236373                0.148387   \n",
              "88                0.472068                0.236322                0.148331   \n",
              "89                0.471922                0.236317                0.148301   \n",
              "90                0.471981                0.236307                0.148213   \n",
              "91                0.472003                0.236282                0.148391   \n",
              "\n",
              "    SH4_C7_Distance -0.118  SH2_B8_Angle -5 Deg  SH2_C7_Distance -6.000_R  \n",
              "0                 0.117250             5.040300                  6.000200  \n",
              "1                 0.117412             5.056671                  6.000013  \n",
              "2                 0.117469             5.050116                  5.999963  \n",
              "3                 0.117474             5.050046                  6.000079  \n",
              "4                 0.117411             5.045632                  5.999966  \n",
              "..                     ...                  ...                       ...  \n",
              "87                0.118398             5.046470                  5.998720  \n",
              "88                0.118553             5.044330                  6.000287  \n",
              "89                0.118640             5.044763                  6.000126  \n",
              "90                0.118508             5.046067                  6.000382  \n",
              "91                0.118686             5.046220                  6.000193  \n",
              "\n",
              "[92 rows x 129 columns]"
            ],
            "text/html": [
              "\n",
              "  <div id=\"df-5f404db3-8ef5-4f5c-a71c-cc99ed9cd181\">\n",
              "    <div class=\"colab-df-container\">\n",
              "      <div>\n",
              "<style scoped>\n",
              "    .dataframe tbody tr th:only-of-type {\n",
              "        vertical-align: middle;\n",
              "    }\n",
              "\n",
              "    .dataframe tbody tr th {\n",
              "        vertical-align: top;\n",
              "    }\n",
              "\n",
              "    .dataframe thead th {\n",
              "        text-align: right;\n",
              "    }\n",
              "</style>\n",
              "<table border=\"1\" class=\"dataframe\">\n",
              "  <thead>\n",
              "    <tr style=\"text-align: right;\">\n",
              "      <th></th>\n",
              "      <th>SN (JOB #)</th>\n",
              "      <th>SH1_C2_Diameter -14.020</th>\n",
              "      <th>SH1_B5_Diameter -0.220</th>\n",
              "      <th>SH1_B5_Diameter -0.160</th>\n",
              "      <th>SH1_B5_Position -0.005</th>\n",
              "      <th>SH1_B1_Width -0.190</th>\n",
              "      <th>SH1_B1_Distance -0.200</th>\n",
              "      <th>SH1_B1_Position- 0.002</th>\n",
              "      <th>SH1_D5_Position -0.005</th>\n",
              "      <th>SH2_D7_Width -0.190</th>\n",
              "      <th>...</th>\n",
              "      <th>SH4_B7_Width -0.065</th>\n",
              "      <th>SH3_B8_Position -0.005</th>\n",
              "      <th>SH3_B7_Distance -0.100</th>\n",
              "      <th>SH4_C7_Radius -0.0325</th>\n",
              "      <th>SH4_D8_Distance -0.470</th>\n",
              "      <th>SH4_D8_Distance -0.235</th>\n",
              "      <th>SH4_B7_Distance -0.148</th>\n",
              "      <th>SH4_C7_Distance -0.118</th>\n",
              "      <th>SH2_B8_Angle -5 Deg</th>\n",
              "      <th>SH2_C7_Distance -6.000_R</th>\n",
              "    </tr>\n",
              "  </thead>\n",
              "  <tbody>\n",
              "    <tr>\n",
              "      <th>0</th>\n",
              "      <td>IPI-001_SN0001 (CP467059)</td>\n",
              "      <td>14.017400</td>\n",
              "      <td>0.222300</td>\n",
              "      <td>0.161250</td>\n",
              "      <td>0.000700</td>\n",
              "      <td>0.192200</td>\n",
              "      <td>0.198800</td>\n",
              "      <td>0.000000</td>\n",
              "      <td>0.001100</td>\n",
              "      <td>0.192200</td>\n",
              "      <td>...</td>\n",
              "      <td>0.068400</td>\n",
              "      <td>0.001200</td>\n",
              "      <td>0.098950</td>\n",
              "      <td>0.033800</td>\n",
              "      <td>0.473750</td>\n",
              "      <td>0.236300</td>\n",
              "      <td>0.147450</td>\n",
              "      <td>0.117250</td>\n",
              "      <td>5.040300</td>\n",
              "      <td>6.000200</td>\n",
              "    </tr>\n",
              "    <tr>\n",
              "      <th>1</th>\n",
              "      <td>0 DEG SN 0002 (CP471589)</td>\n",
              "      <td>14.016011</td>\n",
              "      <td>0.221733</td>\n",
              "      <td>0.161174</td>\n",
              "      <td>0.000481</td>\n",
              "      <td>0.191812</td>\n",
              "      <td>0.200574</td>\n",
              "      <td>0.000000</td>\n",
              "      <td>0.001154</td>\n",
              "      <td>0.191750</td>\n",
              "      <td>...</td>\n",
              "      <td>0.067757</td>\n",
              "      <td>0.002455</td>\n",
              "      <td>0.102773</td>\n",
              "      <td>0.033507</td>\n",
              "      <td>0.470759</td>\n",
              "      <td>0.234603</td>\n",
              "      <td>0.147419</td>\n",
              "      <td>0.117412</td>\n",
              "      <td>5.056671</td>\n",
              "      <td>6.000013</td>\n",
              "    </tr>\n",
              "    <tr>\n",
              "      <th>2</th>\n",
              "      <td>90 DEG SN 0003 (CP471589)</td>\n",
              "      <td>14.015942</td>\n",
              "      <td>0.221904</td>\n",
              "      <td>0.161202</td>\n",
              "      <td>0.000903</td>\n",
              "      <td>0.191788</td>\n",
              "      <td>0.200091</td>\n",
              "      <td>0.000000</td>\n",
              "      <td>0.001015</td>\n",
              "      <td>0.191730</td>\n",
              "      <td>...</td>\n",
              "      <td>0.067760</td>\n",
              "      <td>0.001692</td>\n",
              "      <td>0.102942</td>\n",
              "      <td>0.033518</td>\n",
              "      <td>0.470711</td>\n",
              "      <td>0.234614</td>\n",
              "      <td>0.147386</td>\n",
              "      <td>0.117469</td>\n",
              "      <td>5.050116</td>\n",
              "      <td>5.999963</td>\n",
              "    </tr>\n",
              "    <tr>\n",
              "      <th>3</th>\n",
              "      <td>180 DEG SN 0004 (CP471589)</td>\n",
              "      <td>14.018477</td>\n",
              "      <td>0.221841</td>\n",
              "      <td>0.161174</td>\n",
              "      <td>0.000434</td>\n",
              "      <td>0.191770</td>\n",
              "      <td>0.200465</td>\n",
              "      <td>0.000000</td>\n",
              "      <td>0.001113</td>\n",
              "      <td>0.191971</td>\n",
              "      <td>...</td>\n",
              "      <td>0.067707</td>\n",
              "      <td>0.002165</td>\n",
              "      <td>0.102567</td>\n",
              "      <td>0.033509</td>\n",
              "      <td>0.470742</td>\n",
              "      <td>0.234636</td>\n",
              "      <td>0.147522</td>\n",
              "      <td>0.117474</td>\n",
              "      <td>5.050046</td>\n",
              "      <td>6.000079</td>\n",
              "    </tr>\n",
              "    <tr>\n",
              "      <th>4</th>\n",
              "      <td>SN0005 270DEG (CP471589)</td>\n",
              "      <td>14.016071</td>\n",
              "      <td>0.221928</td>\n",
              "      <td>0.161158</td>\n",
              "      <td>0.000481</td>\n",
              "      <td>0.191820</td>\n",
              "      <td>0.200294</td>\n",
              "      <td>0.000000</td>\n",
              "      <td>0.000876</td>\n",
              "      <td>0.191710</td>\n",
              "      <td>...</td>\n",
              "      <td>0.067761</td>\n",
              "      <td>0.001043</td>\n",
              "      <td>0.102188</td>\n",
              "      <td>0.033508</td>\n",
              "      <td>0.470712</td>\n",
              "      <td>0.234519</td>\n",
              "      <td>0.147350</td>\n",
              "      <td>0.117411</td>\n",
              "      <td>5.045632</td>\n",
              "      <td>5.999966</td>\n",
              "    </tr>\n",
              "    <tr>\n",
              "      <th>...</th>\n",
              "      <td>...</td>\n",
              "      <td>...</td>\n",
              "      <td>...</td>\n",
              "      <td>...</td>\n",
              "      <td>...</td>\n",
              "      <td>...</td>\n",
              "      <td>...</td>\n",
              "      <td>...</td>\n",
              "      <td>...</td>\n",
              "      <td>...</td>\n",
              "      <td>...</td>\n",
              "      <td>...</td>\n",
              "      <td>...</td>\n",
              "      <td>...</td>\n",
              "      <td>...</td>\n",
              "      <td>...</td>\n",
              "      <td>...</td>\n",
              "      <td>...</td>\n",
              "      <td>...</td>\n",
              "      <td>...</td>\n",
              "      <td>...</td>\n",
              "    </tr>\n",
              "    <tr>\n",
              "      <th>87</th>\n",
              "      <td>SN 301514-5021-0256 (CP474149_REV08)</td>\n",
              "      <td>14.015503</td>\n",
              "      <td>0.221326</td>\n",
              "      <td>0.160738</td>\n",
              "      <td>0.000396</td>\n",
              "      <td>0.191336</td>\n",
              "      <td>0.200956</td>\n",
              "      <td>0.000008</td>\n",
              "      <td>0.001500</td>\n",
              "      <td>0.191257</td>\n",
              "      <td>...</td>\n",
              "      <td>0.067776</td>\n",
              "      <td>0.000313</td>\n",
              "      <td>0.098899</td>\n",
              "      <td>0.033551</td>\n",
              "      <td>0.472191</td>\n",
              "      <td>0.236373</td>\n",
              "      <td>0.148387</td>\n",
              "      <td>0.118398</td>\n",
              "      <td>5.046470</td>\n",
              "      <td>5.998720</td>\n",
              "    </tr>\n",
              "    <tr>\n",
              "      <th>88</th>\n",
              "      <td>SN 301514-5021-0257 (CP474149_REV08)</td>\n",
              "      <td>14.015220</td>\n",
              "      <td>0.221238</td>\n",
              "      <td>0.160695</td>\n",
              "      <td>0.001317</td>\n",
              "      <td>0.191349</td>\n",
              "      <td>0.200278</td>\n",
              "      <td>0.000000</td>\n",
              "      <td>0.001034</td>\n",
              "      <td>0.191284</td>\n",
              "      <td>...</td>\n",
              "      <td>0.067780</td>\n",
              "      <td>0.001097</td>\n",
              "      <td>0.098601</td>\n",
              "      <td>0.033503</td>\n",
              "      <td>0.472068</td>\n",
              "      <td>0.236322</td>\n",
              "      <td>0.148331</td>\n",
              "      <td>0.118553</td>\n",
              "      <td>5.044330</td>\n",
              "      <td>6.000287</td>\n",
              "    </tr>\n",
              "    <tr>\n",
              "      <th>89</th>\n",
              "      <td>SN 301514-5021-0258 (CP474149_REV08)</td>\n",
              "      <td>14.015178</td>\n",
              "      <td>0.221296</td>\n",
              "      <td>0.160680</td>\n",
              "      <td>0.000526</td>\n",
              "      <td>0.191342</td>\n",
              "      <td>0.200183</td>\n",
              "      <td>0.000000</td>\n",
              "      <td>0.000821</td>\n",
              "      <td>0.191169</td>\n",
              "      <td>...</td>\n",
              "      <td>0.067780</td>\n",
              "      <td>0.000545</td>\n",
              "      <td>0.098496</td>\n",
              "      <td>0.033497</td>\n",
              "      <td>0.471922</td>\n",
              "      <td>0.236317</td>\n",
              "      <td>0.148301</td>\n",
              "      <td>0.118640</td>\n",
              "      <td>5.044763</td>\n",
              "      <td>6.000126</td>\n",
              "    </tr>\n",
              "    <tr>\n",
              "      <th>90</th>\n",
              "      <td>SN 301514-5021-0259 (CP474149_REV08)</td>\n",
              "      <td>14.017048</td>\n",
              "      <td>0.221358</td>\n",
              "      <td>0.160751</td>\n",
              "      <td>0.000183</td>\n",
              "      <td>0.191340</td>\n",
              "      <td>0.200260</td>\n",
              "      <td>0.000000</td>\n",
              "      <td>0.000817</td>\n",
              "      <td>0.191211</td>\n",
              "      <td>...</td>\n",
              "      <td>0.067777</td>\n",
              "      <td>0.000742</td>\n",
              "      <td>0.098684</td>\n",
              "      <td>0.033505</td>\n",
              "      <td>0.471981</td>\n",
              "      <td>0.236307</td>\n",
              "      <td>0.148213</td>\n",
              "      <td>0.118508</td>\n",
              "      <td>5.046067</td>\n",
              "      <td>6.000382</td>\n",
              "    </tr>\n",
              "    <tr>\n",
              "      <th>91</th>\n",
              "      <td>SN 301514-5021-0260 (CP474149_REV08)</td>\n",
              "      <td>14.017311</td>\n",
              "      <td>0.221343</td>\n",
              "      <td>0.160738</td>\n",
              "      <td>0.000401</td>\n",
              "      <td>0.191361</td>\n",
              "      <td>0.200214</td>\n",
              "      <td>0.000000</td>\n",
              "      <td>0.001026</td>\n",
              "      <td>0.191211</td>\n",
              "      <td>...</td>\n",
              "      <td>0.067797</td>\n",
              "      <td>0.001083</td>\n",
              "      <td>0.098558</td>\n",
              "      <td>0.033509</td>\n",
              "      <td>0.472003</td>\n",
              "      <td>0.236282</td>\n",
              "      <td>0.148391</td>\n",
              "      <td>0.118686</td>\n",
              "      <td>5.046220</td>\n",
              "      <td>6.000193</td>\n",
              "    </tr>\n",
              "  </tbody>\n",
              "</table>\n",
              "<p>92 rows × 129 columns</p>\n",
              "</div>\n",
              "      <button class=\"colab-df-convert\" onclick=\"convertToInteractive('df-5f404db3-8ef5-4f5c-a71c-cc99ed9cd181')\"\n",
              "              title=\"Convert this dataframe to an interactive table.\"\n",
              "              style=\"display:none;\">\n",
              "        \n",
              "  <svg xmlns=\"http://www.w3.org/2000/svg\" height=\"24px\"viewBox=\"0 0 24 24\"\n",
              "       width=\"24px\">\n",
              "    <path d=\"M0 0h24v24H0V0z\" fill=\"none\"/>\n",
              "    <path d=\"M18.56 5.44l.94 2.06.94-2.06 2.06-.94-2.06-.94-.94-2.06-.94 2.06-2.06.94zm-11 1L8.5 8.5l.94-2.06 2.06-.94-2.06-.94L8.5 2.5l-.94 2.06-2.06.94zm10 10l.94 2.06.94-2.06 2.06-.94-2.06-.94-.94-2.06-.94 2.06-2.06.94z\"/><path d=\"M17.41 7.96l-1.37-1.37c-.4-.4-.92-.59-1.43-.59-.52 0-1.04.2-1.43.59L10.3 9.45l-7.72 7.72c-.78.78-.78 2.05 0 2.83L4 21.41c.39.39.9.59 1.41.59.51 0 1.02-.2 1.41-.59l7.78-7.78 2.81-2.81c.8-.78.8-2.07 0-2.86zM5.41 20L4 18.59l7.72-7.72 1.47 1.35L5.41 20z\"/>\n",
              "  </svg>\n",
              "      </button>\n",
              "      \n",
              "  <style>\n",
              "    .colab-df-container {\n",
              "      display:flex;\n",
              "      flex-wrap:wrap;\n",
              "      gap: 12px;\n",
              "    }\n",
              "\n",
              "    .colab-df-convert {\n",
              "      background-color: #E8F0FE;\n",
              "      border: none;\n",
              "      border-radius: 50%;\n",
              "      cursor: pointer;\n",
              "      display: none;\n",
              "      fill: #1967D2;\n",
              "      height: 32px;\n",
              "      padding: 0 0 0 0;\n",
              "      width: 32px;\n",
              "    }\n",
              "\n",
              "    .colab-df-convert:hover {\n",
              "      background-color: #E2EBFA;\n",
              "      box-shadow: 0px 1px 2px rgba(60, 64, 67, 0.3), 0px 1px 3px 1px rgba(60, 64, 67, 0.15);\n",
              "      fill: #174EA6;\n",
              "    }\n",
              "\n",
              "    [theme=dark] .colab-df-convert {\n",
              "      background-color: #3B4455;\n",
              "      fill: #D2E3FC;\n",
              "    }\n",
              "\n",
              "    [theme=dark] .colab-df-convert:hover {\n",
              "      background-color: #434B5C;\n",
              "      box-shadow: 0px 1px 3px 1px rgba(0, 0, 0, 0.15);\n",
              "      filter: drop-shadow(0px 1px 2px rgba(0, 0, 0, 0.3));\n",
              "      fill: #FFFFFF;\n",
              "    }\n",
              "  </style>\n",
              "\n",
              "      <script>\n",
              "        const buttonEl =\n",
              "          document.querySelector('#df-5f404db3-8ef5-4f5c-a71c-cc99ed9cd181 button.colab-df-convert');\n",
              "        buttonEl.style.display =\n",
              "          google.colab.kernel.accessAllowed ? 'block' : 'none';\n",
              "\n",
              "        async function convertToInteractive(key) {\n",
              "          const element = document.querySelector('#df-5f404db3-8ef5-4f5c-a71c-cc99ed9cd181');\n",
              "          const dataTable =\n",
              "            await google.colab.kernel.invokeFunction('convertToInteractive',\n",
              "                                                     [key], {});\n",
              "          if (!dataTable) return;\n",
              "\n",
              "          const docLinkHtml = 'Like what you see? Visit the ' +\n",
              "            '<a target=\"_blank\" href=https://colab.research.google.com/notebooks/data_table.ipynb>data table notebook</a>'\n",
              "            + ' to learn more about interactive tables.';\n",
              "          element.innerHTML = '';\n",
              "          dataTable['output_type'] = 'display_data';\n",
              "          await google.colab.output.renderOutput(dataTable, element);\n",
              "          const docLink = document.createElement('div');\n",
              "          docLink.innerHTML = docLinkHtml;\n",
              "          element.appendChild(docLink);\n",
              "        }\n",
              "      </script>\n",
              "    </div>\n",
              "  </div>\n",
              "  "
            ]
          },
          "metadata": {},
          "execution_count": 28
        }
      ]
    },
    {
      "cell_type": "code",
      "source": [
        "X = dataset.iloc[:, [1,2]].values"
      ],
      "metadata": {
        "id": "L7rePPmzcRyX"
      },
      "execution_count": null,
      "outputs": []
    },
    {
      "cell_type": "code",
      "source": [
        "print(X)"
      ],
      "metadata": {
        "colab": {
          "base_uri": "https://localhost:8080/"
        },
        "id": "NMjhR-zJee54",
        "outputId": "f6509755-db40-4b60-c4fb-a4062eb9800f"
      },
      "execution_count": null,
      "outputs": [
        {
          "output_type": "stream",
          "name": "stdout",
          "text": [
            "[[14.0174    0.2223  ]\n",
            " [14.016011  0.221733]\n",
            " [14.015942  0.221904]\n",
            " [14.018477  0.221841]\n",
            " [14.016071  0.221928]\n",
            " [14.016715  0.221905]\n",
            " [14.01652   0.22193 ]\n",
            " [14.017058  0.221886]\n",
            " [14.017333  0.221834]\n",
            " [14.016382  0.221859]\n",
            " [14.01643   0.221896]\n",
            " [14.015969  0.221888]\n",
            " [14.015904  0.221868]\n",
            " [14.01671   0.221922]\n",
            " [14.017094  0.221913]\n",
            " [14.015875  0.221904]\n",
            " [14.015689  0.22191 ]\n",
            " [14.016832  0.221927]\n",
            " [14.016755  0.221912]\n",
            " [14.016367  0.221875]\n",
            " [14.018125  0.221926]\n",
            " [14.017755  0.221921]\n",
            " [14.017335  0.221925]\n",
            " [14.017093  0.221907]\n",
            " [14.016819  0.221931]\n",
            " [14.017705  0.221942]\n",
            " [14.016766  0.221939]\n",
            " [14.017205  0.221934]\n",
            " [14.015922  0.221921]\n",
            " [14.016522  0.221908]\n",
            " [14.016131  0.221921]\n",
            " [14.016922  0.221917]\n",
            " [14.01698   0.221916]\n",
            " [14.018163  0.221931]\n",
            " [14.017214  0.221908]\n",
            " [14.016993  0.221913]\n",
            " [14.016838  0.221909]\n",
            " [14.017674  0.221911]\n",
            " [14.016728  0.221887]\n",
            " [14.016791  0.221913]\n",
            " [14.01673   0.22191 ]\n",
            " [14.017064  0.221908]\n",
            " [14.016716  0.221939]\n",
            " [14.017294  0.221916]\n",
            " [14.016486  0.221923]\n",
            " [14.017264  0.221921]\n",
            " [14.016939  0.221914]\n",
            " [14.017349  0.221907]\n",
            " [14.016902  0.221899]\n",
            " [14.016467  0.221914]\n",
            " [14.016731  0.22188 ]\n",
            " [14.016388  0.221883]\n",
            " [14.016836  0.221905]\n",
            " [14.016518  0.221934]\n",
            " [14.017253  0.221852]\n",
            " [14.018619  0.221862]\n",
            " [14.016518  0.221934]\n",
            " [14.016828  0.221849]\n",
            " [14.017107  0.221842]\n",
            " [14.017419  0.221837]\n",
            " [14.01937   0.221855]\n",
            " [14.017199  0.221847]\n",
            " [14.016521  0.221779]\n",
            " [14.016954  0.221893]\n",
            " [14.018551  0.221899]\n",
            " [14.018374  0.221891]\n",
            " [14.017157  0.221904]\n",
            " [14.016247  0.221886]\n",
            " [14.017732  0.221904]\n",
            " [14.01711   0.22187 ]\n",
            " [14.01811   0.221357]\n",
            " [14.015687  0.221357]\n",
            " [14.017762  0.221368]\n",
            " [14.016223  0.221346]\n",
            " [14.017516  0.221322]\n",
            " [14.017705  0.221344]\n",
            " [14.016148  0.221343]\n",
            " [14.017106  0.221259]\n",
            " [14.01696   0.22132 ]\n",
            " [14.015817  0.221348]\n",
            " [14.016999  0.221247]\n",
            " [14.016449  0.221303]\n",
            " [14.01528   0.221287]\n",
            " [14.016788  0.221294]\n",
            " [14.016227  0.221313]\n",
            " [14.017888  0.221343]\n",
            " [14.015549  0.221264]\n",
            " [14.015503  0.221326]\n",
            " [14.01522   0.221238]\n",
            " [14.015178  0.221296]\n",
            " [14.017048  0.221358]\n",
            " [14.017311  0.221343]]\n"
          ]
        }
      ]
    },
    {
      "cell_type": "code",
      "source": [
        "dataset.shape"
      ],
      "metadata": {
        "colab": {
          "base_uri": "https://localhost:8080/"
        },
        "id": "Bjmh0iaYvT3L",
        "outputId": "21ce09a6-d774-460e-95a0-3db8eee17782"
      },
      "execution_count": null,
      "outputs": [
        {
          "output_type": "execute_result",
          "data": {
            "text/plain": [
              "(92, 129)"
            ]
          },
          "metadata": {},
          "execution_count": 31
        }
      ]
    },
    {
      "cell_type": "code",
      "source": [
        "dataset.info()"
      ],
      "metadata": {
        "colab": {
          "base_uri": "https://localhost:8080/"
        },
        "id": "AnQ2UIlfvZCU",
        "outputId": "11de287c-9724-4a31-aa17-7304e7274026"
      },
      "execution_count": null,
      "outputs": [
        {
          "output_type": "stream",
          "name": "stdout",
          "text": [
            "<class 'pandas.core.frame.DataFrame'>\n",
            "RangeIndex: 92 entries, 0 to 91\n",
            "Columns: 129 entries, SN (JOB #) to SH2_C7_Distance -6.000_R\n",
            "dtypes: float64(127), int64(1), object(1)\n",
            "memory usage: 92.8+ KB\n"
          ]
        }
      ]
    },
    {
      "cell_type": "markdown",
      "source": [
        "# Taking care of missing data"
      ],
      "metadata": {
        "id": "M2F2ViQnu5sU"
      }
    },
    {
      "cell_type": "markdown",
      "source": [
        "Impute Missing Values."
      ],
      "metadata": {
        "id": "Ypom2BQNvMPP"
      }
    },
    {
      "cell_type": "code",
      "source": [
        "from sklearn.impute import SimpleImputer\n",
        "imputer = SimpleImputer(missing_values=np.nan, strategy='mean')\n",
        "imputer.fit(X[:, :])\n",
        "X[:,:] = imputer.transform(X[:,:])"
      ],
      "metadata": {
        "id": "7zq6okm3vOmf"
      },
      "execution_count": null,
      "outputs": []
    },
    {
      "cell_type": "code",
      "source": [
        "print(X)"
      ],
      "metadata": {
        "colab": {
          "base_uri": "https://localhost:8080/"
        },
        "id": "Os1iS9Uevjy5",
        "outputId": "92f49916-fa05-41ef-f9e2-6dee24250a00"
      },
      "execution_count": null,
      "outputs": [
        {
          "output_type": "stream",
          "name": "stdout",
          "text": [
            "[[14.0174    0.2223  ]\n",
            " [14.016011  0.221733]\n",
            " [14.015942  0.221904]\n",
            " [14.018477  0.221841]\n",
            " [14.016071  0.221928]\n",
            " [14.016715  0.221905]\n",
            " [14.01652   0.22193 ]\n",
            " [14.017058  0.221886]\n",
            " [14.017333  0.221834]\n",
            " [14.016382  0.221859]\n",
            " [14.01643   0.221896]\n",
            " [14.015969  0.221888]\n",
            " [14.015904  0.221868]\n",
            " [14.01671   0.221922]\n",
            " [14.017094  0.221913]\n",
            " [14.015875  0.221904]\n",
            " [14.015689  0.22191 ]\n",
            " [14.016832  0.221927]\n",
            " [14.016755  0.221912]\n",
            " [14.016367  0.221875]\n",
            " [14.018125  0.221926]\n",
            " [14.017755  0.221921]\n",
            " [14.017335  0.221925]\n",
            " [14.017093  0.221907]\n",
            " [14.016819  0.221931]\n",
            " [14.017705  0.221942]\n",
            " [14.016766  0.221939]\n",
            " [14.017205  0.221934]\n",
            " [14.015922  0.221921]\n",
            " [14.016522  0.221908]\n",
            " [14.016131  0.221921]\n",
            " [14.016922  0.221917]\n",
            " [14.01698   0.221916]\n",
            " [14.018163  0.221931]\n",
            " [14.017214  0.221908]\n",
            " [14.016993  0.221913]\n",
            " [14.016838  0.221909]\n",
            " [14.017674  0.221911]\n",
            " [14.016728  0.221887]\n",
            " [14.016791  0.221913]\n",
            " [14.01673   0.22191 ]\n",
            " [14.017064  0.221908]\n",
            " [14.016716  0.221939]\n",
            " [14.017294  0.221916]\n",
            " [14.016486  0.221923]\n",
            " [14.017264  0.221921]\n",
            " [14.016939  0.221914]\n",
            " [14.017349  0.221907]\n",
            " [14.016902  0.221899]\n",
            " [14.016467  0.221914]\n",
            " [14.016731  0.22188 ]\n",
            " [14.016388  0.221883]\n",
            " [14.016836  0.221905]\n",
            " [14.016518  0.221934]\n",
            " [14.017253  0.221852]\n",
            " [14.018619  0.221862]\n",
            " [14.016518  0.221934]\n",
            " [14.016828  0.221849]\n",
            " [14.017107  0.221842]\n",
            " [14.017419  0.221837]\n",
            " [14.01937   0.221855]\n",
            " [14.017199  0.221847]\n",
            " [14.016521  0.221779]\n",
            " [14.016954  0.221893]\n",
            " [14.018551  0.221899]\n",
            " [14.018374  0.221891]\n",
            " [14.017157  0.221904]\n",
            " [14.016247  0.221886]\n",
            " [14.017732  0.221904]\n",
            " [14.01711   0.22187 ]\n",
            " [14.01811   0.221357]\n",
            " [14.015687  0.221357]\n",
            " [14.017762  0.221368]\n",
            " [14.016223  0.221346]\n",
            " [14.017516  0.221322]\n",
            " [14.017705  0.221344]\n",
            " [14.016148  0.221343]\n",
            " [14.017106  0.221259]\n",
            " [14.01696   0.22132 ]\n",
            " [14.015817  0.221348]\n",
            " [14.016999  0.221247]\n",
            " [14.016449  0.221303]\n",
            " [14.01528   0.221287]\n",
            " [14.016788  0.221294]\n",
            " [14.016227  0.221313]\n",
            " [14.017888  0.221343]\n",
            " [14.015549  0.221264]\n",
            " [14.015503  0.221326]\n",
            " [14.01522   0.221238]\n",
            " [14.015178  0.221296]\n",
            " [14.017048  0.221358]\n",
            " [14.017311  0.221343]]\n"
          ]
        }
      ]
    },
    {
      "cell_type": "markdown",
      "source": [
        "# Feature Scaling"
      ],
      "metadata": {
        "id": "dy_tk8P6uySz"
      }
    },
    {
      "cell_type": "code",
      "source": [
        "from sklearn.preprocessing import StandardScaler\n",
        "sc = StandardScaler()\n",
        "X[:, :] = sc.fit_transform(X[:, :])"
      ],
      "metadata": {
        "id": "Nacs1Yr9Wxwv"
      },
      "execution_count": null,
      "outputs": []
    },
    {
      "cell_type": "markdown",
      "metadata": {
        "id": "nWC2EWp2Lx5G"
      },
      "source": [
        "## Using the elbow method to find the optimal number of clusters"
      ]
    },
    {
      "cell_type": "code",
      "metadata": {
        "id": "zWs6ciOoL1b3",
        "colab": {
          "base_uri": "https://localhost:8080/",
          "height": 294
        },
        "outputId": "40d889cc-e965-46d0-94a9-642a2dee81ef"
      },
      "source": [
        "from sklearn.cluster import KMeans\n",
        "wcss = []\n",
        "for i in range(1, 11):\n",
        "    kmeans = KMeans(n_clusters = i, init = 'k-means++', random_state = 42)\n",
        "    kmeans.fit(X)\n",
        "    wcss.append(kmeans.inertia_)\n",
        "plt.plot(range(1, 11), wcss)\n",
        "plt.title('The Elbow Method')\n",
        "plt.xlabel('Number of clusters')\n",
        "plt.ylabel('WCSS')\n",
        "plt.show()"
      ],
      "execution_count": null,
      "outputs": [
        {
          "output_type": "display_data",
          "data": {
            "text/plain": [
              "<Figure size 432x288 with 1 Axes>"
            ],
            "image/png": "[encoded data removed]"
          },
          "metadata": {
            "needs_background": "light"
          }
        }
      ]
    },
    {
      "cell_type": "markdown",
      "metadata": {
        "id": "VgT0mANLL4Nz"
      },
      "source": [
        "## Training the K-Means model on the dataset"
      ]
    },
    {
      "cell_type": "code",
      "metadata": {
        "id": "cjEfU6ZSMAPl"
      },
      "source": [
        "kmeans = KMeans(n_clusters = 5, init = 'k-means++', random_state = 42)\n",
        "y_kmeans = kmeans.fit_predict(X)"
      ],
      "execution_count": null,
      "outputs": []
    },
    {
      "cell_type": "code",
      "source": [
        "print(y_kmeans)"
      ],
      "metadata": {
        "colab": {
          "base_uri": "https://localhost:8080/"
        },
        "id": "3WK8xXGZzX4q",
        "outputId": "f632a957-6eb4-4163-a1c5-bd0ad36e78ee"
      },
      "execution_count": null,
      "outputs": [
        {
          "output_type": "stream",
          "name": "stdout",
          "text": [
            "[0 4 4 3 4 0 4 0 0 4 4 4 4 0 0 4 4 0 0 4 3 3 0 0 0 3 0 0 4 4 4 0 0 3 0 0 0\n",
            " 3 0 0 0 0 0 0 4 0 0 0 0 4 0 4 0 4 0 3 4 0 0 0 3 0 4 0 3 3 0 4 3 0 2 1 2 1\n",
            " 2 2 1 2 2 1 2 1 1 2 1 2 1 1 1 1 2 2]\n"
          ]
        }
      ]
    },
    {
      "cell_type": "markdown",
      "metadata": {
        "id": "e7YrS1JAMFnm"
      },
      "source": [
        "## Visualising the clusters"
      ]
    },
    {
      "cell_type": "code",
      "metadata": {
        "id": "d0ZYecccMHNx",
        "colab": {
          "base_uri": "https://localhost:8080/",
          "height": 295
        },
        "outputId": "8635ad95-f45d-472e-839f-7c3e2686c760"
      },
      "source": [
        "plt.scatter(X[y_kmeans == 0, 0], X[y_kmeans == 0, 1], s = 100, c = 'red', label = 'Cluster 1')\n",
        "plt.scatter(X[y_kmeans == 1, 0], X[y_kmeans == 1, 1], s = 100, c = 'blue', label = 'Cluster 2')\n",
        "plt.scatter(X[y_kmeans == 2, 0], X[y_kmeans == 2, 1], s = 100, c = 'green', label = 'Cluster 3')\n",
        "plt.scatter(X[y_kmeans == 3, 0], X[y_kmeans == 3, 1], s = 100, c = 'cyan', label = 'Cluster 4')\n",
        "plt.scatter(X[y_kmeans == 4, 0], X[y_kmeans == 4, 1], s = 100, c = 'magenta', label = 'Cluster 5')\n",
        "plt.scatter(kmeans.cluster_centers_[:, 0], kmeans.cluster_centers_[:, 1], s = 300, c = 'yellow', label = 'Centroids')\n",
        "plt.title('Clusters of dimensions')\n",
        "plt.xlabel('14.020 +0.0/-0.005 (SH1-C2_Diameter)')\n",
        "plt.ylabel('.220 +0.005/-0.0 (SH1-B5_Diameter)')\n",
        "plt.legend()\n",
        "plt.show()"
      ],
      "execution_count": null,
      "outputs": [
        {
          "output_type": "display_data",
          "data": {
            "text/plain": [
              "<Figure size 432x288 with 1 Axes>"
            ],
            "image/png": "[encoded data removed]"
          },
          "metadata": {
            "needs_background": "light"
          }
        }
      ]
    }
  ]
}