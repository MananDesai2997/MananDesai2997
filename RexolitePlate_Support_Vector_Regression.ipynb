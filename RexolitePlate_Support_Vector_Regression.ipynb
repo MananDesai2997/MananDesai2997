{
  "nbformat": 4,
  "nbformat_minor": 0,
  "metadata": {
    "colab": {
      "name": "support_vector_regression.ipynb",
      "provenance": [],
      "collapsed_sections": [],
      "include_colab_link": true
    },
    "kernelspec": {
      "name": "python3",
      "display_name": "Python 3"
    }
  },
  "cells": [
    {
      "cell_type": "markdown",
      "metadata": {
        "id": "view-in-github",
        "colab_type": "text"
      },
      "source": [
        "<a href=\"https://colab.research.google.com/github/MananDesai2997/MananDesai2997/blob/main/RexolitePlate_Support_Vector_Regression.ipynb\" target=\"_parent\"><img src=\"https://colab.research.google.com/assets/colab-badge.svg\" alt=\"Open In Colab\"/></a>"
      ]
    },
    {
      "cell_type": "markdown",
      "metadata": {
        "id": "m3PAEPRDRLA3"
      },
      "source": [
        "# Support Vector Regression (SVR)"
      ]
    },
    {
      "cell_type": "markdown",
      "metadata": {
        "id": "0VCUAVIjRdzZ"
      },
      "source": [
        "## Importing the libraries"
      ]
    },
    {
      "cell_type": "code",
      "metadata": {
        "id": "56oRF-QfSDzC"
      },
      "source": [
        "import numpy as np\n",
        "import matplotlib.pyplot as plt\n",
        "import pandas as pd"
      ],
      "execution_count": 401,
      "outputs": []
    },
    {
      "cell_type": "markdown",
      "metadata": {
        "id": "fXVXoFWtSF4_"
      },
      "source": [
        "## Importing the dataset"
      ]
    },
    {
      "cell_type": "code",
      "source": [
        "import io\n",
        "from google.colab import files"
      ],
      "metadata": {
        "id": "dqRvCUplv4ej"
      },
      "execution_count": 402,
      "outputs": []
    },
    {
      "cell_type": "code",
      "source": [
        "uploaded = files.upload()"
      ],
      "metadata": {
        "colab": {
          "resources": {
            "http://localhost:8080/nbextensions/google.colab/files.js": {
              "data": "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",
              "ok": true,
              "headers": [
                [
                  "content-type",
                  "application/javascript"
                ]
              ],
              "status": 200,
              "status_text": ""
            }
          },
          "base_uri": "https://localhost:8080/",
          "height": 74
        },
        "id": "OtSncxffv8dT",
        "outputId": "6c709fb5-035e-4a2d-fef4-4fb00f7aa430"
      },
      "execution_count": 403,
      "outputs": [
        {
          "output_type": "display_data",
          "data": {
            "text/plain": [
              "<IPython.core.display.HTML object>"
            ],
            "text/html": [
              "\n",
              "     <input type=\"file\" id=\"files-a82c4245-dff7-4528-a59f-f9c1dc31b8c7\" name=\"files[]\" multiple disabled\n",
              "        style=\"border:none\" />\n",
              "     <output id=\"result-a82c4245-dff7-4528-a59f-f9c1dc31b8c7\">\n",
              "      Upload widget is only available when the cell has been executed in the\n",
              "      current browser session. Please rerun this cell to enable.\n",
              "      </output>\n",
              "      <script src=\"/nbextensions/google.colab/files.js\"></script> "
            ]
          },
          "metadata": {}
        },
        {
          "output_type": "stream",
          "name": "stdout",
          "text": [
            "Saving 0041-83493_Rev07.csv to 0041-83493_Rev07 (18).csv\n"
          ]
        }
      ]
    },
    {
      "cell_type": "code",
      "metadata": {
        "id": "xfoa8OSORfHQ"
      },
      "source": [
        "dataset = pd.read_csv(io.BytesIO(uploaded['0041-83493_Rev07.csv']))"
      ],
      "execution_count": 404,
      "outputs": []
    },
    {
      "cell_type": "code",
      "source": [
        "dataset"
      ],
      "metadata": {
        "colab": {
          "base_uri": "https://localhost:8080/",
          "height": 764
        },
        "id": "UW-YRa6rwcPD",
        "outputId": "03435f45-e2c7-487b-9405-0a29283be061"
      },
      "execution_count": 405,
      "outputs": [
        {
          "output_type": "execute_result",
          "data": {
            "text/plain": [
              "                              SN (JOB #)  SH1_C2_Diameter -14.020  \\\n",
              "0              IPI-001_SN0001 (CP467059)                14.017400   \n",
              "1               0 DEG SN 0002 (CP471589)                14.016011   \n",
              "2              90 DEG SN 0003 (CP471589)                14.015942   \n",
              "3             180 DEG SN 0004 (CP471589)                14.018477   \n",
              "4               SN0005 270DEG (CP471589)                14.016071   \n",
              "..                                   ...                      ...   \n",
              "87  SN 301514-5021-0256 (CP474149_REV08)                14.015503   \n",
              "88  SN 301514-5021-0257 (CP474149_REV08)                14.015220   \n",
              "89  SN 301514-5021-0258 (CP474149_REV08)                14.015178   \n",
              "90  SN 301514-5021-0259 (CP474149_REV08)                14.017048   \n",
              "91  SN 301514-5021-0260 (CP474149_REV08)                14.017311   \n",
              "\n",
              "    SH1_B5_Diameter -0.220  SH1_B5_Diameter -0.160  SH1_B5_Position -0.005  \\\n",
              "0                 0.222300                0.161250                0.000700   \n",
              "1                 0.221733                0.161174                0.000481   \n",
              "2                 0.221904                0.161202                0.000903   \n",
              "3                 0.221841                0.161174                0.000434   \n",
              "4                 0.221928                0.161158                0.000481   \n",
              "..                     ...                     ...                     ...   \n",
              "87                0.221326                0.160738                0.000396   \n",
              "88                0.221238                0.160695                0.001317   \n",
              "89                0.221296                0.160680                0.000526   \n",
              "90                0.221358                0.160751                0.000183   \n",
              "91                0.221343                0.160738                0.000401   \n",
              "\n",
              "    SH1_B1_Width -0.190  SH1_B1_Distance -0.200  SH1_B1_Position- 0.002  \\\n",
              "0              0.192200                0.198800                0.000000   \n",
              "1              0.191812                0.200574                0.000000   \n",
              "2              0.191788                0.200091                0.000000   \n",
              "3              0.191770                0.200465                0.000000   \n",
              "4              0.191820                0.200294                0.000000   \n",
              "..                  ...                     ...                     ...   \n",
              "87             0.191336                0.200956                0.000008   \n",
              "88             0.191349                0.200278                0.000000   \n",
              "89             0.191342                0.200183                0.000000   \n",
              "90             0.191340                0.200260                0.000000   \n",
              "91             0.191361                0.200214                0.000000   \n",
              "\n",
              "    SH1_D5_Position -0.005  SH2_D7_Width -0.190  ...  SH4_B7_Width -0.065  \\\n",
              "0                 0.001100             0.192200  ...             0.068400   \n",
              "1                 0.001154             0.191750  ...             0.067757   \n",
              "2                 0.001015             0.191730  ...             0.067760   \n",
              "3                 0.001113             0.191971  ...             0.067707   \n",
              "4                 0.000876             0.191710  ...             0.067761   \n",
              "..                     ...                  ...  ...                  ...   \n",
              "87                0.001500             0.191257  ...             0.067776   \n",
              "88                0.001034             0.191284  ...             0.067780   \n",
              "89                0.000821             0.191169  ...             0.067780   \n",
              "90                0.000817             0.191211  ...             0.067777   \n",
              "91                0.001026             0.191211  ...             0.067797   \n",
              "\n",
              "    SH3_B8_Position -0.005  SH3_B7_Distance -0.100  SH4_C7_Radius -0.0325  \\\n",
              "0                 0.001200                0.098950               0.033800   \n",
              "1                 0.002455                0.102773               0.033507   \n",
              "2                 0.001692                0.102942               0.033518   \n",
              "3                 0.002165                0.102567               0.033509   \n",
              "4                 0.001043                0.102188               0.033508   \n",
              "..                     ...                     ...                    ...   \n",
              "87                0.000313                0.098899               0.033551   \n",
              "88                0.001097                0.098601               0.033503   \n",
              "89                0.000545                0.098496               0.033497   \n",
              "90                0.000742                0.098684               0.033505   \n",
              "91                0.001083                0.098558               0.033509   \n",
              "\n",
              "    SH4_D8_Distance -0.470  SH4_D8_Distance -0.235  SH4_B7_Distance -0.148  \\\n",
              "0                 0.473750                0.236300                0.147450   \n",
              "1                 0.470759                0.234603                0.147419   \n",
              "2                 0.470711                0.234614                0.147386   \n",
              "3                 0.470742                0.234636                0.147522   \n",
              "4                 0.470712                0.234519                0.147350   \n",
              "..                     ...                     ...                     ...   \n",
              "87                0.472191                0.236373                0.148387   \n",
              "88                0.472068                0.236322                0.148331   \n",
              "89                0.471922                0.236317                0.148301   \n",
              "90                0.471981                0.236307                0.148213   \n",
              "91                0.472003                0.236282                0.148391   \n",
              "\n",
              "    SH4_C7_Distance -0.118  SH2_B8_Angle -5 Deg  SH2_C7_Distance -6.000_R  \n",
              "0                 0.117250             5.040300                  6.000200  \n",
              "1                 0.117412             5.056671                  6.000013  \n",
              "2                 0.117469             5.050116                  5.999963  \n",
              "3                 0.117474             5.050046                  6.000079  \n",
              "4                 0.117411             5.045632                  5.999966  \n",
              "..                     ...                  ...                       ...  \n",
              "87                0.118398             5.046470                  5.998720  \n",
              "88                0.118553             5.044330                  6.000287  \n",
              "89                0.118640             5.044763                  6.000126  \n",
              "90                0.118508             5.046067                  6.000382  \n",
              "91                0.118686             5.046220                  6.000193  \n",
              "\n",
              "[92 rows x 129 columns]"
            ],
            "text/html": [
              "\n",
              "  <div id=\"df-adae6536-9ebb-4a35-ab0d-89b3708dc0d4\">\n",
              "    <div class=\"colab-df-container\">\n",
              "      <div>\n",
              "<style scoped>\n",
              "    .dataframe tbody tr th:only-of-type {\n",
              "        vertical-align: middle;\n",
              "    }\n",
              "\n",
              "    .dataframe tbody tr th {\n",
              "        vertical-align: top;\n",
              "    }\n",
              "\n",
              "    .dataframe thead th {\n",
              "        text-align: right;\n",
              "    }\n",
              "</style>\n",
              "<table border=\"1\" class=\"dataframe\">\n",
              "  <thead>\n",
              "    <tr style=\"text-align: right;\">\n",
              "      <th></th>\n",
              "      <th>SN (JOB #)</th>\n",
              "      <th>SH1_C2_Diameter -14.020</th>\n",
              "      <th>SH1_B5_Diameter -0.220</th>\n",
              "      <th>SH1_B5_Diameter -0.160</th>\n",
              "      <th>SH1_B5_Position -0.005</th>\n",
              "      <th>SH1_B1_Width -0.190</th>\n",
              "      <th>SH1_B1_Distance -0.200</th>\n",
              "      <th>SH1_B1_Position- 0.002</th>\n",
              "      <th>SH1_D5_Position -0.005</th>\n",
              "      <th>SH2_D7_Width -0.190</th>\n",
              "      <th>...</th>\n",
              "      <th>SH4_B7_Width -0.065</th>\n",
              "      <th>SH3_B8_Position -0.005</th>\n",
              "      <th>SH3_B7_Distance -0.100</th>\n",
              "      <th>SH4_C7_Radius -0.0325</th>\n",
              "      <th>SH4_D8_Distance -0.470</th>\n",
              "      <th>SH4_D8_Distance -0.235</th>\n",
              "      <th>SH4_B7_Distance -0.148</th>\n",
              "      <th>SH4_C7_Distance -0.118</th>\n",
              "      <th>SH2_B8_Angle -5 Deg</th>\n",
              "      <th>SH2_C7_Distance -6.000_R</th>\n",
              "    </tr>\n",
              "  </thead>\n",
              "  <tbody>\n",
              "    <tr>\n",
              "      <th>0</th>\n",
              "      <td>IPI-001_SN0001 (CP467059)</td>\n",
              "      <td>14.017400</td>\n",
              "      <td>0.222300</td>\n",
              "      <td>0.161250</td>\n",
              "      <td>0.000700</td>\n",
              "      <td>0.192200</td>\n",
              "      <td>0.198800</td>\n",
              "      <td>0.000000</td>\n",
              "      <td>0.001100</td>\n",
              "      <td>0.192200</td>\n",
              "      <td>...</td>\n",
              "      <td>0.068400</td>\n",
              "      <td>0.001200</td>\n",
              "      <td>0.098950</td>\n",
              "      <td>0.033800</td>\n",
              "      <td>0.473750</td>\n",
              "      <td>0.236300</td>\n",
              "      <td>0.147450</td>\n",
              "      <td>0.117250</td>\n",
              "      <td>5.040300</td>\n",
              "      <td>6.000200</td>\n",
              "    </tr>\n",
              "    <tr>\n",
              "      <th>1</th>\n",
              "      <td>0 DEG SN 0002 (CP471589)</td>\n",
              "      <td>14.016011</td>\n",
              "      <td>0.221733</td>\n",
              "      <td>0.161174</td>\n",
              "      <td>0.000481</td>\n",
              "      <td>0.191812</td>\n",
              "      <td>0.200574</td>\n",
              "      <td>0.000000</td>\n",
              "      <td>0.001154</td>\n",
              "      <td>0.191750</td>\n",
              "      <td>...</td>\n",
              "      <td>0.067757</td>\n",
              "      <td>0.002455</td>\n",
              "      <td>0.102773</td>\n",
              "      <td>0.033507</td>\n",
              "      <td>0.470759</td>\n",
              "      <td>0.234603</td>\n",
              "      <td>0.147419</td>\n",
              "      <td>0.117412</td>\n",
              "      <td>5.056671</td>\n",
              "      <td>6.000013</td>\n",
              "    </tr>\n",
              "    <tr>\n",
              "      <th>2</th>\n",
              "      <td>90 DEG SN 0003 (CP471589)</td>\n",
              "      <td>14.015942</td>\n",
              "      <td>0.221904</td>\n",
              "      <td>0.161202</td>\n",
              "      <td>0.000903</td>\n",
              "      <td>0.191788</td>\n",
              "      <td>0.200091</td>\n",
              "      <td>0.000000</td>\n",
              "      <td>0.001015</td>\n",
              "      <td>0.191730</td>\n",
              "      <td>...</td>\n",
              "      <td>0.067760</td>\n",
              "      <td>0.001692</td>\n",
              "      <td>0.102942</td>\n",
              "      <td>0.033518</td>\n",
              "      <td>0.470711</td>\n",
              "      <td>0.234614</td>\n",
              "      <td>0.147386</td>\n",
              "      <td>0.117469</td>\n",
              "      <td>5.050116</td>\n",
              "      <td>5.999963</td>\n",
              "    </tr>\n",
              "    <tr>\n",
              "      <th>3</th>\n",
              "      <td>180 DEG SN 0004 (CP471589)</td>\n",
              "      <td>14.018477</td>\n",
              "      <td>0.221841</td>\n",
              "      <td>0.161174</td>\n",
              "      <td>0.000434</td>\n",
              "      <td>0.191770</td>\n",
              "      <td>0.200465</td>\n",
              "      <td>0.000000</td>\n",
              "      <td>0.001113</td>\n",
              "      <td>0.191971</td>\n",
              "      <td>...</td>\n",
              "      <td>0.067707</td>\n",
              "      <td>0.002165</td>\n",
              "      <td>0.102567</td>\n",
              "      <td>0.033509</td>\n",
              "      <td>0.470742</td>\n",
              "      <td>0.234636</td>\n",
              "      <td>0.147522</td>\n",
              "      <td>0.117474</td>\n",
              "      <td>5.050046</td>\n",
              "      <td>6.000079</td>\n",
              "    </tr>\n",
              "    <tr>\n",
              "      <th>4</th>\n",
              "      <td>SN0005 270DEG (CP471589)</td>\n",
              "      <td>14.016071</td>\n",
              "      <td>0.221928</td>\n",
              "      <td>0.161158</td>\n",
              "      <td>0.000481</td>\n",
              "      <td>0.191820</td>\n",
              "      <td>0.200294</td>\n",
              "      <td>0.000000</td>\n",
              "      <td>0.000876</td>\n",
              "      <td>0.191710</td>\n",
              "      <td>...</td>\n",
              "      <td>0.067761</td>\n",
              "      <td>0.001043</td>\n",
              "      <td>0.102188</td>\n",
              "      <td>0.033508</td>\n",
              "      <td>0.470712</td>\n",
              "      <td>0.234519</td>\n",
              "      <td>0.147350</td>\n",
              "      <td>0.117411</td>\n",
              "      <td>5.045632</td>\n",
              "      <td>5.999966</td>\n",
              "    </tr>\n",
              "    <tr>\n",
              "      <th>...</th>\n",
              "      <td>...</td>\n",
              "      <td>...</td>\n",
              "      <td>...</td>\n",
              "      <td>...</td>\n",
              "      <td>...</td>\n",
              "      <td>...</td>\n",
              "      <td>...</td>\n",
              "      <td>...</td>\n",
              "      <td>...</td>\n",
              "      <td>...</td>\n",
              "      <td>...</td>\n",
              "      <td>...</td>\n",
              "      <td>...</td>\n",
              "      <td>...</td>\n",
              "      <td>...</td>\n",
              "      <td>...</td>\n",
              "      <td>...</td>\n",
              "      <td>...</td>\n",
              "      <td>...</td>\n",
              "      <td>...</td>\n",
              "      <td>...</td>\n",
              "    </tr>\n",
              "    <tr>\n",
              "      <th>87</th>\n",
              "      <td>SN 301514-5021-0256 (CP474149_REV08)</td>\n",
              "      <td>14.015503</td>\n",
              "      <td>0.221326</td>\n",
              "      <td>0.160738</td>\n",
              "      <td>0.000396</td>\n",
              "      <td>0.191336</td>\n",
              "      <td>0.200956</td>\n",
              "      <td>0.000008</td>\n",
              "      <td>0.001500</td>\n",
              "      <td>0.191257</td>\n",
              "      <td>...</td>\n",
              "      <td>0.067776</td>\n",
              "      <td>0.000313</td>\n",
              "      <td>0.098899</td>\n",
              "      <td>0.033551</td>\n",
              "      <td>0.472191</td>\n",
              "      <td>0.236373</td>\n",
              "      <td>0.148387</td>\n",
              "      <td>0.118398</td>\n",
              "      <td>5.046470</td>\n",
              "      <td>5.998720</td>\n",
              "    </tr>\n",
              "    <tr>\n",
              "      <th>88</th>\n",
              "      <td>SN 301514-5021-0257 (CP474149_REV08)</td>\n",
              "      <td>14.015220</td>\n",
              "      <td>0.221238</td>\n",
              "      <td>0.160695</td>\n",
              "      <td>0.001317</td>\n",
              "      <td>0.191349</td>\n",
              "      <td>0.200278</td>\n",
              "      <td>0.000000</td>\n",
              "      <td>0.001034</td>\n",
              "      <td>0.191284</td>\n",
              "      <td>...</td>\n",
              "      <td>0.067780</td>\n",
              "      <td>0.001097</td>\n",
              "      <td>0.098601</td>\n",
              "      <td>0.033503</td>\n",
              "      <td>0.472068</td>\n",
              "      <td>0.236322</td>\n",
              "      <td>0.148331</td>\n",
              "      <td>0.118553</td>\n",
              "      <td>5.044330</td>\n",
              "      <td>6.000287</td>\n",
              "    </tr>\n",
              "    <tr>\n",
              "      <th>89</th>\n",
              "      <td>SN 301514-5021-0258 (CP474149_REV08)</td>\n",
              "      <td>14.015178</td>\n",
              "      <td>0.221296</td>\n",
              "      <td>0.160680</td>\n",
              "      <td>0.000526</td>\n",
              "      <td>0.191342</td>\n",
              "      <td>0.200183</td>\n",
              "      <td>0.000000</td>\n",
              "      <td>0.000821</td>\n",
              "      <td>0.191169</td>\n",
              "      <td>...</td>\n",
              "      <td>0.067780</td>\n",
              "      <td>0.000545</td>\n",
              "      <td>0.098496</td>\n",
              "      <td>0.033497</td>\n",
              "      <td>0.471922</td>\n",
              "      <td>0.236317</td>\n",
              "      <td>0.148301</td>\n",
              "      <td>0.118640</td>\n",
              "      <td>5.044763</td>\n",
              "      <td>6.000126</td>\n",
              "    </tr>\n",
              "    <tr>\n",
              "      <th>90</th>\n",
              "      <td>SN 301514-5021-0259 (CP474149_REV08)</td>\n",
              "      <td>14.017048</td>\n",
              "      <td>0.221358</td>\n",
              "      <td>0.160751</td>\n",
              "      <td>0.000183</td>\n",
              "      <td>0.191340</td>\n",
              "      <td>0.200260</td>\n",
              "      <td>0.000000</td>\n",
              "      <td>0.000817</td>\n",
              "      <td>0.191211</td>\n",
              "      <td>...</td>\n",
              "      <td>0.067777</td>\n",
              "      <td>0.000742</td>\n",
              "      <td>0.098684</td>\n",
              "      <td>0.033505</td>\n",
              "      <td>0.471981</td>\n",
              "      <td>0.236307</td>\n",
              "      <td>0.148213</td>\n",
              "      <td>0.118508</td>\n",
              "      <td>5.046067</td>\n",
              "      <td>6.000382</td>\n",
              "    </tr>\n",
              "    <tr>\n",
              "      <th>91</th>\n",
              "      <td>SN 301514-5021-0260 (CP474149_REV08)</td>\n",
              "      <td>14.017311</td>\n",
              "      <td>0.221343</td>\n",
              "      <td>0.160738</td>\n",
              "      <td>0.000401</td>\n",
              "      <td>0.191361</td>\n",
              "      <td>0.200214</td>\n",
              "      <td>0.000000</td>\n",
              "      <td>0.001026</td>\n",
              "      <td>0.191211</td>\n",
              "      <td>...</td>\n",
              "      <td>0.067797</td>\n",
              "      <td>0.001083</td>\n",
              "      <td>0.098558</td>\n",
              "      <td>0.033509</td>\n",
              "      <td>0.472003</td>\n",
              "      <td>0.236282</td>\n",
              "      <td>0.148391</td>\n",
              "      <td>0.118686</td>\n",
              "      <td>5.046220</td>\n",
              "      <td>6.000193</td>\n",
              "    </tr>\n",
              "  </tbody>\n",
              "</table>\n",
              "<p>92 rows × 129 columns</p>\n",
              "</div>\n",
              "      <button class=\"colab-df-convert\" onclick=\"convertToInteractive('df-adae6536-9ebb-4a35-ab0d-89b3708dc0d4')\"\n",
              "              title=\"Convert this dataframe to an interactive table.\"\n",
              "              style=\"display:none;\">\n",
              "        \n",
              "  <svg xmlns=\"http://www.w3.org/2000/svg\" height=\"24px\"viewBox=\"0 0 24 24\"\n",
              "       width=\"24px\">\n",
              "    <path d=\"M0 0h24v24H0V0z\" fill=\"none\"/>\n",
              "    <path d=\"M18.56 5.44l.94 2.06.94-2.06 2.06-.94-2.06-.94-.94-2.06-.94 2.06-2.06.94zm-11 1L8.5 8.5l.94-2.06 2.06-.94-2.06-.94L8.5 2.5l-.94 2.06-2.06.94zm10 10l.94 2.06.94-2.06 2.06-.94-2.06-.94-.94-2.06-.94 2.06-2.06.94z\"/><path d=\"M17.41 7.96l-1.37-1.37c-.4-.4-.92-.59-1.43-.59-.52 0-1.04.2-1.43.59L10.3 9.45l-7.72 7.72c-.78.78-.78 2.05 0 2.83L4 21.41c.39.39.9.59 1.41.59.51 0 1.02-.2 1.41-.59l7.78-7.78 2.81-2.81c.8-.78.8-2.07 0-2.86zM5.41 20L4 18.59l7.72-7.72 1.47 1.35L5.41 20z\"/>\n",
              "  </svg>\n",
              "      </button>\n",
              "      \n",
              "  <style>\n",
              "    .colab-df-container {\n",
              "      display:flex;\n",
              "      flex-wrap:wrap;\n",
              "      gap: 12px;\n",
              "    }\n",
              "\n",
              "    .colab-df-convert {\n",
              "      background-color: #E8F0FE;\n",
              "      border: none;\n",
              "      border-radius: 50%;\n",
              "      cursor: pointer;\n",
              "      display: none;\n",
              "      fill: #1967D2;\n",
              "      height: 32px;\n",
              "      padding: 0 0 0 0;\n",
              "      width: 32px;\n",
              "    }\n",
              "\n",
              "    .colab-df-convert:hover {\n",
              "      background-color: #E2EBFA;\n",
              "      box-shadow: 0px 1px 2px rgba(60, 64, 67, 0.3), 0px 1px 3px 1px rgba(60, 64, 67, 0.15);\n",
              "      fill: #174EA6;\n",
              "    }\n",
              "\n",
              "    [theme=dark] .colab-df-convert {\n",
              "      background-color: #3B4455;\n",
              "      fill: #D2E3FC;\n",
              "    }\n",
              "\n",
              "    [theme=dark] .colab-df-convert:hover {\n",
              "      background-color: #434B5C;\n",
              "      box-shadow: 0px 1px 3px 1px rgba(0, 0, 0, 0.15);\n",
              "      filter: drop-shadow(0px 1px 2px rgba(0, 0, 0, 0.3));\n",
              "      fill: #FFFFFF;\n",
              "    }\n",
              "  </style>\n",
              "\n",
              "      <script>\n",
              "        const buttonEl =\n",
              "          document.querySelector('#df-adae6536-9ebb-4a35-ab0d-89b3708dc0d4 button.colab-df-convert');\n",
              "        buttonEl.style.display =\n",
              "          google.colab.kernel.accessAllowed ? 'block' : 'none';\n",
              "\n",
              "        async function convertToInteractive(key) {\n",
              "          const element = document.querySelector('#df-adae6536-9ebb-4a35-ab0d-89b3708dc0d4');\n",
              "          const dataTable =\n",
              "            await google.colab.kernel.invokeFunction('convertToInteractive',\n",
              "                                                     [key], {});\n",
              "          if (!dataTable) return;\n",
              "\n",
              "          const docLinkHtml = 'Like what you see? Visit the ' +\n",
              "            '<a target=\"_blank\" href=https://colab.research.google.com/notebooks/data_table.ipynb>data table notebook</a>'\n",
              "            + ' to learn more about interactive tables.';\n",
              "          element.innerHTML = '';\n",
              "          dataTable['output_type'] = 'display_data';\n",
              "          await google.colab.output.renderOutput(dataTable, element);\n",
              "          const docLink = document.createElement('div');\n",
              "          docLink.innerHTML = docLinkHtml;\n",
              "          element.appendChild(docLink);\n",
              "        }\n",
              "      </script>\n",
              "    </div>\n",
              "  </div>\n",
              "  "
            ]
          },
          "metadata": {},
          "execution_count": 405
        }
      ]
    },
    {
      "cell_type": "code",
      "source": [
        "X = dataset.iloc[:,19: ].values\n",
        "Y = dataset.iloc[:,18:19].values"
      ],
      "metadata": {
        "id": "OdNY9NwRw8D8"
      },
      "execution_count": 406,
      "outputs": []
    },
    {
      "cell_type": "code",
      "metadata": {
        "id": "fAWJV6gpiTYM",
        "outputId": "cbd44a29-0e9f-4c11-fa7e-38a24214e80c",
        "colab": {
          "base_uri": "https://localhost:8080/"
        }
      },
      "source": [
        "print(X)"
      ],
      "execution_count": 407,
      "outputs": [
        {
          "output_type": "stream",
          "name": "stdout",
          "text": [
            "[[4.718250e-01 1.100090e+01 1.200000e+02 ... 1.172500e-01 5.040300e+00\n",
            "  6.000200e+00]\n",
            " [4.688300e-01 1.099946e+01 1.200000e+02 ... 1.174120e-01 5.056671e+00\n",
            "  6.000013e+00]\n",
            " [4.688470e-01 1.099950e+01 1.200000e+02 ... 1.174690e-01 5.050116e+00\n",
            "  5.999963e+00]\n",
            " ...\n",
            " [4.705320e-01 1.100038e+01 1.200000e+02 ... 1.186400e-01 5.044763e+00\n",
            "  6.000126e+00]\n",
            " [4.705440e-01 1.100095e+01 1.200000e+02 ... 1.185080e-01 5.046067e+00\n",
            "  6.000382e+00]\n",
            " [4.705360e-01 1.100068e+01 1.200000e+02 ... 1.186860e-01 5.046220e+00\n",
            "  6.000193e+00]]\n"
          ]
        }
      ]
    },
    {
      "cell_type": "code",
      "metadata": {
        "id": "D4aFLlbziaV9",
        "outputId": "6d442ed2-d95b-40c7-bf43-f7829c8d55b7",
        "colab": {
          "base_uri": "https://localhost:8080/"
        }
      },
      "source": [
        "print(Y)"
      ],
      "execution_count": 408,
      "outputs": [
        {
          "output_type": "stream",
          "name": "stdout",
          "text": [
            "[[   nan]\n",
            " [   nan]\n",
            " [   nan]\n",
            " [   nan]\n",
            " [0.099 ]\n",
            " [0.101 ]\n",
            " [0.1015]\n",
            " [0.101 ]\n",
            " [0.1005]\n",
            " [0.1015]\n",
            " [0.1015]\n",
            " [0.1015]\n",
            " [0.1015]\n",
            " [0.1015]\n",
            " [0.1005]\n",
            " [0.1015]\n",
            " [0.1015]\n",
            " [0.1014]\n",
            " [0.1015]\n",
            " [0.101 ]\n",
            " [0.101 ]\n",
            " [0.101 ]\n",
            " [0.1015]\n",
            " [0.1015]\n",
            " [0.1015]\n",
            " [0.1005]\n",
            " [0.1005]\n",
            " [0.101 ]\n",
            " [0.1005]\n",
            " [0.1005]\n",
            " [0.1015]\n",
            " [0.101 ]\n",
            " [0.101 ]\n",
            " [0.1005]\n",
            " [0.101 ]\n",
            " [0.1015]\n",
            " [0.101 ]\n",
            " [0.1005]\n",
            " [0.1005]\n",
            " [0.101 ]\n",
            " [0.101 ]\n",
            " [0.101 ]\n",
            " [0.1015]\n",
            " [0.101 ]\n",
            " [0.1005]\n",
            " [0.101 ]\n",
            " [0.1015]\n",
            " [0.101 ]\n",
            " [0.101 ]\n",
            " [0.1015]\n",
            " [0.1015]\n",
            " [0.101 ]\n",
            " [0.101 ]\n",
            " [0.1005]\n",
            " [0.101 ]\n",
            " [0.1015]\n",
            " [0.1005]\n",
            " [0.1015]\n",
            " [0.1015]\n",
            " [0.1005]\n",
            " [0.1015]\n",
            " [0.101 ]\n",
            " [0.101 ]\n",
            " [0.101 ]\n",
            " [0.1015]\n",
            " [0.101 ]\n",
            " [0.1015]\n",
            " [0.1015]\n",
            " [0.1015]\n",
            " [0.101 ]\n",
            " [0.1   ]\n",
            " [0.1   ]\n",
            " [0.1   ]\n",
            " [0.1005]\n",
            " [0.1005]\n",
            " [0.101 ]\n",
            " [0.1   ]\n",
            " [0.1008]\n",
            " [0.1005]\n",
            " [0.1   ]\n",
            " [0.1   ]\n",
            " [0.1   ]\n",
            " [0.1005]\n",
            " [0.101 ]\n",
            " [0.1   ]\n",
            " [0.102 ]\n",
            " [0.102 ]\n",
            " [0.101 ]\n",
            " [0.101 ]\n",
            " [0.101 ]\n",
            " [0.101 ]\n",
            " [0.102 ]]\n"
          ]
        }
      ]
    },
    {
      "cell_type": "markdown",
      "source": [
        "# Taking care of missing data"
      ],
      "metadata": {
        "id": "1GMADpcaw5Ck"
      }
    },
    {
      "cell_type": "code",
      "source": [
        "from sklearn.impute import SimpleImputer\n",
        "imputer = SimpleImputer(missing_values=np.nan, strategy='mean')\n",
        "imputer.fit(X[:, :])\n",
        "X[:,:] = imputer.transform(X[:,:])"
      ],
      "metadata": {
        "id": "27zZji1Tw8uj"
      },
      "execution_count": 409,
      "outputs": []
    },
    {
      "cell_type": "code",
      "source": [
        "from sklearn.impute import SimpleImputer\n",
        "imputer = SimpleImputer(missing_values=np.nan, strategy='mean')\n",
        "imputer.fit(Y[:,:])\n",
        "Y[:,:] = imputer.transform(Y[:,:])"
      ],
      "metadata": {
        "id": "WqGizLc7xBAL"
      },
      "execution_count": 410,
      "outputs": []
    },
    {
      "cell_type": "code",
      "source": [
        "print(X)"
      ],
      "metadata": {
        "colab": {
          "base_uri": "https://localhost:8080/"
        },
        "id": "vnB4rPxWxGpb",
        "outputId": "4144e95b-f68b-4e49-ede4-958d9aeb77d7"
      },
      "execution_count": 411,
      "outputs": [
        {
          "output_type": "stream",
          "name": "stdout",
          "text": [
            "[[4.718250e-01 1.100090e+01 1.200000e+02 ... 1.172500e-01 5.040300e+00\n",
            "  6.000200e+00]\n",
            " [4.688300e-01 1.099946e+01 1.200000e+02 ... 1.174120e-01 5.056671e+00\n",
            "  6.000013e+00]\n",
            " [4.688470e-01 1.099950e+01 1.200000e+02 ... 1.174690e-01 5.050116e+00\n",
            "  5.999963e+00]\n",
            " ...\n",
            " [4.705320e-01 1.100038e+01 1.200000e+02 ... 1.186400e-01 5.044763e+00\n",
            "  6.000126e+00]\n",
            " [4.705440e-01 1.100095e+01 1.200000e+02 ... 1.185080e-01 5.046067e+00\n",
            "  6.000382e+00]\n",
            " [4.705360e-01 1.100068e+01 1.200000e+02 ... 1.186860e-01 5.046220e+00\n",
            "  6.000193e+00]]\n"
          ]
        }
      ]
    },
    {
      "cell_type": "code",
      "source": [
        "print(Y)"
      ],
      "metadata": {
        "colab": {
          "base_uri": "https://localhost:8080/"
        },
        "id": "WTcsYR6axJ8u",
        "outputId": "7df56458-e8ce-4432-a1df-3e562d317431"
      },
      "execution_count": 412,
      "outputs": [
        {
          "output_type": "stream",
          "name": "stdout",
          "text": [
            "[[0.100974]\n",
            " [0.100974]\n",
            " [0.100974]\n",
            " [0.100974]\n",
            " [0.099   ]\n",
            " [0.101   ]\n",
            " [0.1015  ]\n",
            " [0.101   ]\n",
            " [0.1005  ]\n",
            " [0.1015  ]\n",
            " [0.1015  ]\n",
            " [0.1015  ]\n",
            " [0.1015  ]\n",
            " [0.1015  ]\n",
            " [0.1005  ]\n",
            " [0.1015  ]\n",
            " [0.1015  ]\n",
            " [0.1014  ]\n",
            " [0.1015  ]\n",
            " [0.101   ]\n",
            " [0.101   ]\n",
            " [0.101   ]\n",
            " [0.1015  ]\n",
            " [0.1015  ]\n",
            " [0.1015  ]\n",
            " [0.1005  ]\n",
            " [0.1005  ]\n",
            " [0.101   ]\n",
            " [0.1005  ]\n",
            " [0.1005  ]\n",
            " [0.1015  ]\n",
            " [0.101   ]\n",
            " [0.101   ]\n",
            " [0.1005  ]\n",
            " [0.101   ]\n",
            " [0.1015  ]\n",
            " [0.101   ]\n",
            " [0.1005  ]\n",
            " [0.1005  ]\n",
            " [0.101   ]\n",
            " [0.101   ]\n",
            " [0.101   ]\n",
            " [0.1015  ]\n",
            " [0.101   ]\n",
            " [0.1005  ]\n",
            " [0.101   ]\n",
            " [0.1015  ]\n",
            " [0.101   ]\n",
            " [0.101   ]\n",
            " [0.1015  ]\n",
            " [0.1015  ]\n",
            " [0.101   ]\n",
            " [0.101   ]\n",
            " [0.1005  ]\n",
            " [0.101   ]\n",
            " [0.1015  ]\n",
            " [0.1005  ]\n",
            " [0.1015  ]\n",
            " [0.1015  ]\n",
            " [0.1005  ]\n",
            " [0.1015  ]\n",
            " [0.101   ]\n",
            " [0.101   ]\n",
            " [0.101   ]\n",
            " [0.1015  ]\n",
            " [0.101   ]\n",
            " [0.1015  ]\n",
            " [0.1015  ]\n",
            " [0.1015  ]\n",
            " [0.101   ]\n",
            " [0.1     ]\n",
            " [0.1     ]\n",
            " [0.1     ]\n",
            " [0.1005  ]\n",
            " [0.1005  ]\n",
            " [0.101   ]\n",
            " [0.1     ]\n",
            " [0.1008  ]\n",
            " [0.1005  ]\n",
            " [0.1     ]\n",
            " [0.1     ]\n",
            " [0.1     ]\n",
            " [0.1005  ]\n",
            " [0.101   ]\n",
            " [0.1     ]\n",
            " [0.102   ]\n",
            " [0.102   ]\n",
            " [0.101   ]\n",
            " [0.101   ]\n",
            " [0.101   ]\n",
            " [0.101   ]\n",
            " [0.102   ]]\n"
          ]
        }
      ]
    },
    {
      "cell_type": "markdown",
      "metadata": {
        "id": "YS8FeLHYS-nI"
      },
      "source": [
        "## Feature Scaling"
      ]
    },
    {
      "cell_type": "code",
      "metadata": {
        "id": "PGeAlD1HTDI1"
      },
      "source": [
        "from sklearn.preprocessing import StandardScaler\n",
        "sc_X = StandardScaler()\n",
        "sc_Y = StandardScaler()\n",
        "X = sc_X.fit_transform(X)\n",
        "Y = sc_Y.fit_transform(Y)"
      ],
      "execution_count": 413,
      "outputs": []
    },
    {
      "cell_type": "code",
      "metadata": {
        "id": "nXa8Z9FgjFTQ",
        "outputId": "b965975a-d60c-424b-87c2-1235936ec66e",
        "colab": {
          "base_uri": "https://localhost:8080/"
        }
      },
      "source": [
        "print(X)"
      ],
      "execution_count": 414,
      "outputs": [
        {
          "output_type": "stream",
          "name": "stdout",
          "text": [
            "[[ 3.130218e+00  2.980553e+00  0.000000e+00 ... -2.774663e+00\n",
            "  -1.153025e+00  1.831175e+00]\n",
            " [-2.592999e+00  1.852023e-01  0.000000e+00 ... -2.389889e+00\n",
            "   2.123457e+00  1.389875e+00]\n",
            " [-2.560514e+00  2.493961e-01  0.000000e+00 ... -2.254506e+00\n",
            "   8.115434e-01  1.271880e+00]\n",
            " ...\n",
            " [ 6.593934e-01  1.959287e+00  0.000000e+00 ...  5.267923e-01\n",
            "  -2.598026e-01  1.656542e+00]\n",
            " [ 6.823245e-01  3.085598e+00  0.000000e+00 ...  2.132728e-01\n",
            "   1.179082e-03  2.260675e+00]\n",
            " [ 6.670371e-01  2.544813e+00  0.000000e+00 ...  6.360491e-01\n",
            "   3.180040e-02  1.814655e+00]]\n"
          ]
        }
      ]
    },
    {
      "cell_type": "code",
      "metadata": {
        "id": "i7Oo2kybjGr2",
        "outputId": "3d3bc22a-ab33-4405-f30b-11d1b9c36a78",
        "colab": {
          "base_uri": "https://localhost:8080/"
        }
      },
      "source": [
        "print(Y)"
      ],
      "execution_count": 415,
      "outputs": [
        {
          "output_type": "stream",
          "name": "stdout",
          "text": [
            "[[-2.616068e-14]\n",
            " [-2.616068e-14]\n",
            " [-2.616068e-14]\n",
            " [-2.616068e-14]\n",
            " [-3.720883e+00]\n",
            " [ 4.926903e-02]\n",
            " [ 9.918070e-01]\n",
            " [ 4.926903e-02]\n",
            " [-8.932689e-01]\n",
            " [ 9.918070e-01]\n",
            " [ 9.918070e-01]\n",
            " [ 9.918070e-01]\n",
            " [ 9.918070e-01]\n",
            " [ 9.918070e-01]\n",
            " [-8.932689e-01]\n",
            " [ 9.918070e-01]\n",
            " [ 9.918070e-01]\n",
            " [ 8.032994e-01]\n",
            " [ 9.918070e-01]\n",
            " [ 4.926903e-02]\n",
            " [ 4.926903e-02]\n",
            " [ 4.926903e-02]\n",
            " [ 9.918070e-01]\n",
            " [ 9.918070e-01]\n",
            " [ 9.918070e-01]\n",
            " [-8.932689e-01]\n",
            " [-8.932689e-01]\n",
            " [ 4.926903e-02]\n",
            " [-8.932689e-01]\n",
            " [-8.932689e-01]\n",
            " [ 9.918070e-01]\n",
            " [ 4.926903e-02]\n",
            " [ 4.926903e-02]\n",
            " [-8.932689e-01]\n",
            " [ 4.926903e-02]\n",
            " [ 9.918070e-01]\n",
            " [ 4.926903e-02]\n",
            " [-8.932689e-01]\n",
            " [-8.932689e-01]\n",
            " [ 4.926903e-02]\n",
            " [ 4.926903e-02]\n",
            " [ 4.926903e-02]\n",
            " [ 9.918070e-01]\n",
            " [ 4.926903e-02]\n",
            " [-8.932689e-01]\n",
            " [ 4.926903e-02]\n",
            " [ 9.918070e-01]\n",
            " [ 4.926903e-02]\n",
            " [ 4.926903e-02]\n",
            " [ 9.918070e-01]\n",
            " [ 9.918070e-01]\n",
            " [ 4.926903e-02]\n",
            " [ 4.926903e-02]\n",
            " [-8.932689e-01]\n",
            " [ 4.926903e-02]\n",
            " [ 9.918070e-01]\n",
            " [-8.932689e-01]\n",
            " [ 9.918070e-01]\n",
            " [ 9.918070e-01]\n",
            " [-8.932689e-01]\n",
            " [ 9.918070e-01]\n",
            " [ 4.926903e-02]\n",
            " [ 4.926903e-02]\n",
            " [ 4.926903e-02]\n",
            " [ 9.918070e-01]\n",
            " [ 4.926903e-02]\n",
            " [ 9.918070e-01]\n",
            " [ 9.918070e-01]\n",
            " [ 9.918070e-01]\n",
            " [ 4.926903e-02]\n",
            " [-1.835807e+00]\n",
            " [-1.835807e+00]\n",
            " [-1.835807e+00]\n",
            " [-8.932689e-01]\n",
            " [-8.932689e-01]\n",
            " [ 4.926903e-02]\n",
            " [-1.835807e+00]\n",
            " [-3.277462e-01]\n",
            " [-8.932689e-01]\n",
            " [-1.835807e+00]\n",
            " [-1.835807e+00]\n",
            " [-1.835807e+00]\n",
            " [-8.932689e-01]\n",
            " [ 4.926903e-02]\n",
            " [-1.835807e+00]\n",
            " [ 1.934345e+00]\n",
            " [ 1.934345e+00]\n",
            " [ 4.926903e-02]\n",
            " [ 4.926903e-02]\n",
            " [ 4.926903e-02]\n",
            " [ 4.926903e-02]\n",
            " [ 1.934345e+00]]\n"
          ]
        }
      ]
    },
    {
      "cell_type": "markdown",
      "metadata": {
        "id": "eiU6D2QFRjxY"
      },
      "source": [
        "## Training the SVR model on the whole dataset"
      ]
    },
    {
      "cell_type": "code",
      "metadata": {
        "id": "y6R4rt_GRz15",
        "outputId": "0add3f99-2b0b-4885-f3c6-5f15fe8db1e6",
        "colab": {
          "base_uri": "https://localhost:8080/"
        }
      },
      "source": [
        "from sklearn.svm import SVR\n",
        "regressor = SVR(kernel = 'rbf')\n",
        "regressor.fit(X, Y)"
      ],
      "execution_count": 416,
      "outputs": [
        {
          "output_type": "stream",
          "name": "stderr",
          "text": [
            "/usr/local/lib/python3.7/dist-packages/sklearn/utils/validation.py:993: DataConversionWarning: A column-vector y was passed when a 1d array was expected. Please change the shape of y to (n_samples, ), for example using ravel().\n",
            "  y = column_or_1d(y, warn=True)\n"
          ]
        },
        {
          "output_type": "execute_result",
          "data": {
            "text/plain": [
              "SVR()"
            ]
          },
          "metadata": {},
          "execution_count": 416
        }
      ]
    },
    {
      "cell_type": "markdown",
      "source": [
        "Predicting the test results"
      ],
      "metadata": {
        "id": "-0szhgHoMIXU"
      }
    },
    {
      "cell_type": "code",
      "source": [
        "Y_pred = regressor.predict(X)\n",
        "np.set_printoptions(precision=6)\n",
        "print(np.concatenate((Y_pred.reshape(len(Y_pred),1), Y.reshape(len(Y),1)),1))"
      ],
      "metadata": {
        "colab": {
          "base_uri": "https://localhost:8080/"
        },
        "id": "H6mmg0HeMLMc",
        "outputId": "cf06f337-11fd-479a-957c-88ee7f8dfd74"
      },
      "execution_count": 417,
      "outputs": [
        {
          "output_type": "stream",
          "name": "stdout",
          "text": [
            "[[-1.001567e-01 -2.616068e-14]\n",
            " [-1.000959e-01 -2.616068e-14]\n",
            " [-1.001694e-01 -2.616068e-14]\n",
            " [-7.853559e-02 -2.616068e-14]\n",
            " [-8.483888e-01 -3.720883e+00]\n",
            " [-6.401969e-03  4.926903e-02]\n",
            " [ 7.265033e-01  9.918070e-01]\n",
            " [ 1.495938e-01  4.926903e-02]\n",
            " [ 1.247454e-01 -8.932689e-01]\n",
            " [ 9.715389e-01  9.918070e-01]\n",
            " [ 8.915437e-01  9.918070e-01]\n",
            " [ 8.920915e-01  9.918070e-01]\n",
            " [ 9.255106e-01  9.918070e-01]\n",
            " [ 8.918249e-01  9.918070e-01]\n",
            " [ 4.177221e-01 -8.932689e-01]\n",
            " [ 8.717731e-01  9.918070e-01]\n",
            " [ 8.917646e-01  9.918070e-01]\n",
            " [ 6.040419e-01  8.032994e-01]\n",
            " [ 8.918574e-01  9.918070e-01]\n",
            " [ 6.272830e-01  4.926903e-02]\n",
            " [ 2.097710e-01  4.926903e-02]\n",
            " [ 4.973655e-01  4.926903e-02]\n",
            " [ 8.919887e-01  9.918070e-01]\n",
            " [ 7.182248e-01  9.918070e-01]\n",
            " [ 8.213839e-01  9.918070e-01]\n",
            " [-7.930494e-01 -8.932689e-01]\n",
            " [-4.176308e-01 -8.932689e-01]\n",
            " [-5.078814e-02  4.926903e-02]\n",
            " [-2.685314e-01 -8.932689e-01]\n",
            " [-2.012507e-01 -8.932689e-01]\n",
            " [ 2.139595e-01  9.918070e-01]\n",
            " [ 6.609295e-02  4.926903e-02]\n",
            " [-5.075642e-02  4.926903e-02]\n",
            " [-4.108259e-01 -8.932689e-01]\n",
            " [ 1.490135e-01  4.926903e-02]\n",
            " [-2.706824e-01  9.918070e-01]\n",
            " [-5.078803e-02  4.926903e-02]\n",
            " [-5.474052e-01 -8.932689e-01]\n",
            " [ 4.674517e-02 -8.932689e-01]\n",
            " [ 2.039124e-01  4.926903e-02]\n",
            " [-5.025206e-02  4.926903e-02]\n",
            " [-5.124468e-02  4.926903e-02]\n",
            " [ 5.368360e-02  9.918070e-01]\n",
            " [-6.176625e-02  4.926903e-02]\n",
            " [-2.877715e-01 -8.932689e-01]\n",
            " [ 3.364161e-02  4.926903e-02]\n",
            " [ 2.872948e-01  9.918070e-01]\n",
            " [ 1.490348e-01  4.926903e-02]\n",
            " [ 1.492350e-01  4.926903e-02]\n",
            " [ 6.873291e-01  9.918070e-01]\n",
            " [ 7.020153e-01  9.918070e-01]\n",
            " [ 1.490763e-01  4.926903e-02]\n",
            " [ 1.489983e-01  4.926903e-02]\n",
            " [-7.945392e-01 -8.932689e-01]\n",
            " [ 1.491325e-01  4.926903e-02]\n",
            " [ 4.034940e-01  9.918070e-01]\n",
            " [-7.929518e-01 -8.932689e-01]\n",
            " [ 1.271876e-01  9.918070e-01]\n",
            " [ 4.145503e-01  9.918070e-01]\n",
            " [ 3.163242e-01 -8.932689e-01]\n",
            " [ 7.676759e-01  9.918070e-01]\n",
            " [ 2.301028e-01  4.926903e-02]\n",
            " [ 2.923440e-01  4.926903e-02]\n",
            " [ 1.496664e-01  4.926903e-02]\n",
            " [ 6.953897e-01  9.918070e-01]\n",
            " [-3.377453e-02  4.926903e-02]\n",
            " [ 6.252739e-01  9.918070e-01]\n",
            " [ 7.348994e-01  9.918070e-01]\n",
            " [ 4.324494e-01  9.918070e-01]\n",
            " [ 1.914768e-01  4.926903e-02]\n",
            " [-1.605250e+00 -1.835807e+00]\n",
            " [-1.545533e+00 -1.835807e+00]\n",
            " [-1.495231e+00 -1.835807e+00]\n",
            " [-7.931295e-01 -8.932689e-01]\n",
            " [-7.935989e-01 -8.932689e-01]\n",
            " [-2.900239e-01  4.926903e-02]\n",
            " [-1.232798e+00 -1.835807e+00]\n",
            " [-5.391913e-01 -3.277462e-01]\n",
            " [-7.936454e-01 -8.932689e-01]\n",
            " [-1.247729e+00 -1.835807e+00]\n",
            " [-1.232330e+00 -1.835807e+00]\n",
            " [-1.121120e+00 -1.835807e+00]\n",
            " [-7.932567e-01 -8.932689e-01]\n",
            " [-6.823424e-01  4.926903e-02]\n",
            " [-7.212376e-01 -1.835807e+00]\n",
            " [ 4.674089e-01  1.934345e+00]\n",
            " [ 3.089559e-01  1.934345e+00]\n",
            " [-5.059469e-02  4.926903e-02]\n",
            " [-5.059625e-02  4.926903e-02]\n",
            " [ 1.494081e-01  4.926903e-02]\n",
            " [ 5.386478e-03  4.926903e-02]\n",
            " [ 2.157412e-01  1.934345e+00]]\n"
          ]
        }
      ]
    },
    {
      "cell_type": "markdown",
      "source": [
        "# Evaluating the Model Performance"
      ],
      "metadata": {
        "id": "U668_nsqO1jr"
      }
    },
    {
      "cell_type": "code",
      "source": [
        "from sklearn.metrics import r2_score\n",
        "r2_score(Y, Y_pred)"
      ],
      "metadata": {
        "colab": {
          "base_uri": "https://localhost:8080/"
        },
        "id": "vlhh7i98O5wD",
        "outputId": "553bda2e-67ba-48cb-f741-725323bb2006"
      },
      "execution_count": 418,
      "outputs": [
        {
          "output_type": "execute_result",
          "data": {
            "text/plain": [
              "0.6326013097657898"
            ]
          },
          "metadata": {},
          "execution_count": 418
        }
      ]
    },
    {
      "cell_type": "code",
      "source": [
        "from sklearn.metrics import mean_absolute_error as mae\n",
        "MAE = mae(Y, Y_pred)\n",
        "from sklearn.metrics import mean_squared_error as mse\n",
        "MSE = mse(Y, Y_pred)"
      ],
      "metadata": {
        "id": "GrlFu6omLFUJ"
      },
      "execution_count": 419,
      "outputs": []
    },
    {
      "cell_type": "code",
      "source": [
        "print(MAE)"
      ],
      "metadata": {
        "id": "NjgSwqRKLGNo",
        "outputId": "7f49aa05-63e9-4789-8d84-5ee18f5b2f74",
        "colab": {
          "base_uri": "https://localhost:8080/"
        }
      },
      "execution_count": 420,
      "outputs": [
        {
          "output_type": "stream",
          "name": "stdout",
          "text": [
            "0.389046626262801\n"
          ]
        }
      ]
    },
    {
      "cell_type": "code",
      "source": [
        "print(MSE)"
      ],
      "metadata": {
        "id": "W84c6NNsLJXl",
        "outputId": "b9e80cba-ded9-45b9-9dc7-0f8f32afb792",
        "colab": {
          "base_uri": "https://localhost:8080/"
        }
      },
      "execution_count": 421,
      "outputs": [
        {
          "output_type": "stream",
          "name": "stdout",
          "text": [
            "0.3673986902342102\n"
          ]
        }
      ]
    },
    {
      "cell_type": "code",
      "source": [
        "MAPE = MAE*100\n",
        "print(MAPE)"
      ],
      "metadata": {
        "id": "woyS9o5YLJ3t",
        "outputId": "b29d049e-4509-41c2-e1eb-e899f143aca9",
        "colab": {
          "base_uri": "https://localhost:8080/"
        }
      },
      "execution_count": 422,
      "outputs": [
        {
          "output_type": "stream",
          "name": "stdout",
          "text": [
            "38.9046626262801\n"
          ]
        }
      ]
    }
  ]
}