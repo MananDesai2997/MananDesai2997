{
  "nbformat": 4,
  "nbformat_minor": 0,
  "metadata": {
    "colab": {
      "name": "Untitled8.ipynb",
      "provenance": [],
      "collapsed_sections": [],
      "authorship_tag": "ABX9TyPPJvJ2XQP5bdbUr4eE8PFC",
      "include_colab_link": true
    },
    "kernelspec": {
      "name": "python3",
      "display_name": "Python 3"
    },
    "language_info": {
      "name": "python"
    }
  },
  "cells": [
    {
      "cell_type": "markdown",
      "metadata": {
        "id": "view-in-github",
        "colab_type": "text"
      },
      "source": [
        "<a href=\"https://colab.research.google.com/github/MananDesai2997/MananDesai2997/blob/main/RexolitePlate_RandomForestRegression.ipynb\" target=\"_parent\"><img src=\"https://colab.research.google.com/assets/colab-badge.svg\" alt=\"Open In Colab\"/></a>"
      ]
    },
    {
      "cell_type": "markdown",
      "metadata": {
        "id": "VgUCAJVfK1FM"
      },
      "source": [
        "# Importing the libraries"
      ]
    },
    {
      "cell_type": "code",
      "metadata": {
        "id": "miNHtrW2ouQu"
      },
      "source": [
        "import numpy as np\n",
        "import matplotlib.pyplot as plt\n",
        "import pandas as pd"
      ],
      "execution_count": 38,
      "outputs": []
    },
    {
      "cell_type": "markdown",
      "metadata": {
        "id": "UOATjbP3LDCN"
      },
      "source": [
        "# Importing the dataset"
      ]
    },
    {
      "cell_type": "code",
      "metadata": {
        "id": "TDxiNx1pozd0"
      },
      "source": [
        "import io\n",
        "from google.colab import files"
      ],
      "execution_count": 39,
      "outputs": []
    },
    {
      "cell_type": "code",
      "metadata": {
        "colab": {
          "resources": {
            "http://localhost:8080/nbextensions/google.colab/files.js": {
              "data": "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",
              "ok": true,
              "headers": [
                [
                  "content-type",
                  "application/javascript"
                ]
              ],
              "status": 200,
              "status_text": ""
            }
          },
          "base_uri": "https://localhost:8080/",
          "height": 74
        },
        "id": "dJFAN9dwyJpV",
        "outputId": "a81f80fe-3fae-42d2-f96b-13c9b548b5e7"
      },
      "source": [
        "uploaded = files.upload()"
      ],
      "execution_count": 40,
      "outputs": [
        {
          "output_type": "display_data",
          "data": {
            "text/plain": [
              "<IPython.core.display.HTML object>"
            ],
            "text/html": [
              "\n",
              "     <input type=\"file\" id=\"files-13cf9036-a9cd-4bc4-b7f0-942427df6a6e\" name=\"files[]\" multiple disabled\n",
              "        style=\"border:none\" />\n",
              "     <output id=\"result-13cf9036-a9cd-4bc4-b7f0-942427df6a6e\">\n",
              "      Upload widget is only available when the cell has been executed in the\n",
              "      current browser session. Please rerun this cell to enable.\n",
              "      </output>\n",
              "      <script src=\"/nbextensions/google.colab/files.js\"></script> "
            ]
          },
          "metadata": {}
        },
        {
          "output_type": "stream",
          "name": "stdout",
          "text": [
            "Saving 0041-83493_Rev07.csv to 0041-83493_Rev07 (1).csv\n"
          ]
        }
      ]
    },
    {
      "cell_type": "code",
      "metadata": {
        "id": "J6QPZ2MqyKt9"
      },
      "source": [
        "dataset = pd.read_csv(io.BytesIO(uploaded['0041-83493_Rev07.csv']))"
      ],
      "execution_count": 41,
      "outputs": []
    },
    {
      "cell_type": "code",
      "metadata": {
        "colab": {
          "base_uri": "https://localhost:8080/",
          "height": 764
        },
        "id": "zdLl7DL20nFj",
        "outputId": "6ce67568-948e-4f0e-9f9e-7eb064f98f7a"
      },
      "source": [
        "dataset"
      ],
      "execution_count": 42,
      "outputs": [
        {
          "output_type": "execute_result",
          "data": {
            "text/plain": [
              "                              SN (JOB #)  SH1_C2_Diameter -14.020  \\\n",
              "0              IPI-001_SN0001 (CP467059)                14.017400   \n",
              "1               0 DEG SN 0002 (CP471589)                14.016011   \n",
              "2              90 DEG SN 0003 (CP471589)                14.015942   \n",
              "3             180 DEG SN 0004 (CP471589)                14.018477   \n",
              "4               SN0005 270DEG (CP471589)                14.016071   \n",
              "..                                   ...                      ...   \n",
              "87  SN 301514-5021-0256 (CP474149_REV08)                14.015503   \n",
              "88  SN 301514-5021-0257 (CP474149_REV08)                14.015220   \n",
              "89  SN 301514-5021-0258 (CP474149_REV08)                14.015178   \n",
              "90  SN 301514-5021-0259 (CP474149_REV08)                14.017048   \n",
              "91  SN 301514-5021-0260 (CP474149_REV08)                14.017311   \n",
              "\n",
              "    SH1_B5_Diameter -0.220  SH1_B5_Diameter -0.160  SH1_B5_Position -0.005  \\\n",
              "0                 0.222300                0.161250                0.000700   \n",
              "1                 0.221733                0.161174                0.000481   \n",
              "2                 0.221904                0.161202                0.000903   \n",
              "3                 0.221841                0.161174                0.000434   \n",
              "4                 0.221928                0.161158                0.000481   \n",
              "..                     ...                     ...                     ...   \n",
              "87                0.221326                0.160738                0.000396   \n",
              "88                0.221238                0.160695                0.001317   \n",
              "89                0.221296                0.160680                0.000526   \n",
              "90                0.221358                0.160751                0.000183   \n",
              "91                0.221343                0.160738                0.000401   \n",
              "\n",
              "    SH1_B1_Width -0.190  SH1_B1_Distance -0.200  SH1_B1_Position- 0.002  \\\n",
              "0              0.192200                0.198800                0.000000   \n",
              "1              0.191812                0.200574                0.000000   \n",
              "2              0.191788                0.200091                0.000000   \n",
              "3              0.191770                0.200465                0.000000   \n",
              "4              0.191820                0.200294                0.000000   \n",
              "..                  ...                     ...                     ...   \n",
              "87             0.191336                0.200956                0.000008   \n",
              "88             0.191349                0.200278                0.000000   \n",
              "89             0.191342                0.200183                0.000000   \n",
              "90             0.191340                0.200260                0.000000   \n",
              "91             0.191361                0.200214                0.000000   \n",
              "\n",
              "    SH1_D5_Position -0.005  SH2_D7_Width -0.190  ...  SH4_B7_Width -0.065  \\\n",
              "0                 0.001100             0.192200  ...             0.068400   \n",
              "1                 0.001154             0.191750  ...             0.067757   \n",
              "2                 0.001015             0.191730  ...             0.067760   \n",
              "3                 0.001113             0.191971  ...             0.067707   \n",
              "4                 0.000876             0.191710  ...             0.067761   \n",
              "..                     ...                  ...  ...                  ...   \n",
              "87                0.001500             0.191257  ...             0.067776   \n",
              "88                0.001034             0.191284  ...             0.067780   \n",
              "89                0.000821             0.191169  ...             0.067780   \n",
              "90                0.000817             0.191211  ...             0.067777   \n",
              "91                0.001026             0.191211  ...             0.067797   \n",
              "\n",
              "    SH3_B8_Position -0.005  SH3_B7_Distance -0.100  SH4_C7_Radius -0.0325  \\\n",
              "0                 0.001200                0.098950               0.033800   \n",
              "1                 0.002455                0.102773               0.033507   \n",
              "2                 0.001692                0.102942               0.033518   \n",
              "3                 0.002165                0.102567               0.033509   \n",
              "4                 0.001043                0.102188               0.033508   \n",
              "..                     ...                     ...                    ...   \n",
              "87                0.000313                0.098899               0.033551   \n",
              "88                0.001097                0.098601               0.033503   \n",
              "89                0.000545                0.098496               0.033497   \n",
              "90                0.000742                0.098684               0.033505   \n",
              "91                0.001083                0.098558               0.033509   \n",
              "\n",
              "    SH4_D8_Distance -0.470  SH4_D8_Distance -0.235  SH4_B7_Distance -0.148  \\\n",
              "0                 0.473750                0.236300                0.147450   \n",
              "1                 0.470759                0.234603                0.147419   \n",
              "2                 0.470711                0.234614                0.147386   \n",
              "3                 0.470742                0.234636                0.147522   \n",
              "4                 0.470712                0.234519                0.147350   \n",
              "..                     ...                     ...                     ...   \n",
              "87                0.472191                0.236373                0.148387   \n",
              "88                0.472068                0.236322                0.148331   \n",
              "89                0.471922                0.236317                0.148301   \n",
              "90                0.471981                0.236307                0.148213   \n",
              "91                0.472003                0.236282                0.148391   \n",
              "\n",
              "    SH4_C7_Distance -0.118  SH2_B8_Angle -5 Deg  SH2_C7_Distance -6.000_R  \n",
              "0                 0.117250             5.040300                  6.000200  \n",
              "1                 0.117412             5.056671                  6.000013  \n",
              "2                 0.117469             5.050116                  5.999963  \n",
              "3                 0.117474             5.050046                  6.000079  \n",
              "4                 0.117411             5.045632                  5.999966  \n",
              "..                     ...                  ...                       ...  \n",
              "87                0.118398             5.046470                  5.998720  \n",
              "88                0.118553             5.044330                  6.000287  \n",
              "89                0.118640             5.044763                  6.000126  \n",
              "90                0.118508             5.046067                  6.000382  \n",
              "91                0.118686             5.046220                  6.000193  \n",
              "\n",
              "[92 rows x 129 columns]"
            ],
            "text/html": [
              "\n",
              "  <div id=\"df-57d1d027-d414-4a7e-84db-35edecc3d1cd\">\n",
              "    <div class=\"colab-df-container\">\n",
              "      <div>\n",
              "<style scoped>\n",
              "    .dataframe tbody tr th:only-of-type {\n",
              "        vertical-align: middle;\n",
              "    }\n",
              "\n",
              "    .dataframe tbody tr th {\n",
              "        vertical-align: top;\n",
              "    }\n",
              "\n",
              "    .dataframe thead th {\n",
              "        text-align: right;\n",
              "    }\n",
              "</style>\n",
              "<table border=\"1\" class=\"dataframe\">\n",
              "  <thead>\n",
              "    <tr style=\"text-align: right;\">\n",
              "      <th></th>\n",
              "      <th>SN (JOB #)</th>\n",
              "      <th>SH1_C2_Diameter -14.020</th>\n",
              "      <th>SH1_B5_Diameter -0.220</th>\n",
              "      <th>SH1_B5_Diameter -0.160</th>\n",
              "      <th>SH1_B5_Position -0.005</th>\n",
              "      <th>SH1_B1_Width -0.190</th>\n",
              "      <th>SH1_B1_Distance -0.200</th>\n",
              "      <th>SH1_B1_Position- 0.002</th>\n",
              "      <th>SH1_D5_Position -0.005</th>\n",
              "      <th>SH2_D7_Width -0.190</th>\n",
              "      <th>...</th>\n",
              "      <th>SH4_B7_Width -0.065</th>\n",
              "      <th>SH3_B8_Position -0.005</th>\n",
              "      <th>SH3_B7_Distance -0.100</th>\n",
              "      <th>SH4_C7_Radius -0.0325</th>\n",
              "      <th>SH4_D8_Distance -0.470</th>\n",
              "      <th>SH4_D8_Distance -0.235</th>\n",
              "      <th>SH4_B7_Distance -0.148</th>\n",
              "      <th>SH4_C7_Distance -0.118</th>\n",
              "      <th>SH2_B8_Angle -5 Deg</th>\n",
              "      <th>SH2_C7_Distance -6.000_R</th>\n",
              "    </tr>\n",
              "  </thead>\n",
              "  <tbody>\n",
              "    <tr>\n",
              "      <th>0</th>\n",
              "      <td>IPI-001_SN0001 (CP467059)</td>\n",
              "      <td>14.017400</td>\n",
              "      <td>0.222300</td>\n",
              "      <td>0.161250</td>\n",
              "      <td>0.000700</td>\n",
              "      <td>0.192200</td>\n",
              "      <td>0.198800</td>\n",
              "      <td>0.000000</td>\n",
              "      <td>0.001100</td>\n",
              "      <td>0.192200</td>\n",
              "      <td>...</td>\n",
              "      <td>0.068400</td>\n",
              "      <td>0.001200</td>\n",
              "      <td>0.098950</td>\n",
              "      <td>0.033800</td>\n",
              "      <td>0.473750</td>\n",
              "      <td>0.236300</td>\n",
              "      <td>0.147450</td>\n",
              "      <td>0.117250</td>\n",
              "      <td>5.040300</td>\n",
              "      <td>6.000200</td>\n",
              "    </tr>\n",
              "    <tr>\n",
              "      <th>1</th>\n",
              "      <td>0 DEG SN 0002 (CP471589)</td>\n",
              "      <td>14.016011</td>\n",
              "      <td>0.221733</td>\n",
              "      <td>0.161174</td>\n",
              "      <td>0.000481</td>\n",
              "      <td>0.191812</td>\n",
              "      <td>0.200574</td>\n",
              "      <td>0.000000</td>\n",
              "      <td>0.001154</td>\n",
              "      <td>0.191750</td>\n",
              "      <td>...</td>\n",
              "      <td>0.067757</td>\n",
              "      <td>0.002455</td>\n",
              "      <td>0.102773</td>\n",
              "      <td>0.033507</td>\n",
              "      <td>0.470759</td>\n",
              "      <td>0.234603</td>\n",
              "      <td>0.147419</td>\n",
              "      <td>0.117412</td>\n",
              "      <td>5.056671</td>\n",
              "      <td>6.000013</td>\n",
              "    </tr>\n",
              "    <tr>\n",
              "      <th>2</th>\n",
              "      <td>90 DEG SN 0003 (CP471589)</td>\n",
              "      <td>14.015942</td>\n",
              "      <td>0.221904</td>\n",
              "      <td>0.161202</td>\n",
              "      <td>0.000903</td>\n",
              "      <td>0.191788</td>\n",
              "      <td>0.200091</td>\n",
              "      <td>0.000000</td>\n",
              "      <td>0.001015</td>\n",
              "      <td>0.191730</td>\n",
              "      <td>...</td>\n",
              "      <td>0.067760</td>\n",
              "      <td>0.001692</td>\n",
              "      <td>0.102942</td>\n",
              "      <td>0.033518</td>\n",
              "      <td>0.470711</td>\n",
              "      <td>0.234614</td>\n",
              "      <td>0.147386</td>\n",
              "      <td>0.117469</td>\n",
              "      <td>5.050116</td>\n",
              "      <td>5.999963</td>\n",
              "    </tr>\n",
              "    <tr>\n",
              "      <th>3</th>\n",
              "      <td>180 DEG SN 0004 (CP471589)</td>\n",
              "      <td>14.018477</td>\n",
              "      <td>0.221841</td>\n",
              "      <td>0.161174</td>\n",
              "      <td>0.000434</td>\n",
              "      <td>0.191770</td>\n",
              "      <td>0.200465</td>\n",
              "      <td>0.000000</td>\n",
              "      <td>0.001113</td>\n",
              "      <td>0.191971</td>\n",
              "      <td>...</td>\n",
              "      <td>0.067707</td>\n",
              "      <td>0.002165</td>\n",
              "      <td>0.102567</td>\n",
              "      <td>0.033509</td>\n",
              "      <td>0.470742</td>\n",
              "      <td>0.234636</td>\n",
              "      <td>0.147522</td>\n",
              "      <td>0.117474</td>\n",
              "      <td>5.050046</td>\n",
              "      <td>6.000079</td>\n",
              "    </tr>\n",
              "    <tr>\n",
              "      <th>4</th>\n",
              "      <td>SN0005 270DEG (CP471589)</td>\n",
              "      <td>14.016071</td>\n",
              "      <td>0.221928</td>\n",
              "      <td>0.161158</td>\n",
              "      <td>0.000481</td>\n",
              "      <td>0.191820</td>\n",
              "      <td>0.200294</td>\n",
              "      <td>0.000000</td>\n",
              "      <td>0.000876</td>\n",
              "      <td>0.191710</td>\n",
              "      <td>...</td>\n",
              "      <td>0.067761</td>\n",
              "      <td>0.001043</td>\n",
              "      <td>0.102188</td>\n",
              "      <td>0.033508</td>\n",
              "      <td>0.470712</td>\n",
              "      <td>0.234519</td>\n",
              "      <td>0.147350</td>\n",
              "      <td>0.117411</td>\n",
              "      <td>5.045632</td>\n",
              "      <td>5.999966</td>\n",
              "    </tr>\n",
              "    <tr>\n",
              "      <th>...</th>\n",
              "      <td>...</td>\n",
              "      <td>...</td>\n",
              "      <td>...</td>\n",
              "      <td>...</td>\n",
              "      <td>...</td>\n",
              "      <td>...</td>\n",
              "      <td>...</td>\n",
              "      <td>...</td>\n",
              "      <td>...</td>\n",
              "      <td>...</td>\n",
              "      <td>...</td>\n",
              "      <td>...</td>\n",
              "      <td>...</td>\n",
              "      <td>...</td>\n",
              "      <td>...</td>\n",
              "      <td>...</td>\n",
              "      <td>...</td>\n",
              "      <td>...</td>\n",
              "      <td>...</td>\n",
              "      <td>...</td>\n",
              "      <td>...</td>\n",
              "    </tr>\n",
              "    <tr>\n",
              "      <th>87</th>\n",
              "      <td>SN 301514-5021-0256 (CP474149_REV08)</td>\n",
              "      <td>14.015503</td>\n",
              "      <td>0.221326</td>\n",
              "      <td>0.160738</td>\n",
              "      <td>0.000396</td>\n",
              "      <td>0.191336</td>\n",
              "      <td>0.200956</td>\n",
              "      <td>0.000008</td>\n",
              "      <td>0.001500</td>\n",
              "      <td>0.191257</td>\n",
              "      <td>...</td>\n",
              "      <td>0.067776</td>\n",
              "      <td>0.000313</td>\n",
              "      <td>0.098899</td>\n",
              "      <td>0.033551</td>\n",
              "      <td>0.472191</td>\n",
              "      <td>0.236373</td>\n",
              "      <td>0.148387</td>\n",
              "      <td>0.118398</td>\n",
              "      <td>5.046470</td>\n",
              "      <td>5.998720</td>\n",
              "    </tr>\n",
              "    <tr>\n",
              "      <th>88</th>\n",
              "      <td>SN 301514-5021-0257 (CP474149_REV08)</td>\n",
              "      <td>14.015220</td>\n",
              "      <td>0.221238</td>\n",
              "      <td>0.160695</td>\n",
              "      <td>0.001317</td>\n",
              "      <td>0.191349</td>\n",
              "      <td>0.200278</td>\n",
              "      <td>0.000000</td>\n",
              "      <td>0.001034</td>\n",
              "      <td>0.191284</td>\n",
              "      <td>...</td>\n",
              "      <td>0.067780</td>\n",
              "      <td>0.001097</td>\n",
              "      <td>0.098601</td>\n",
              "      <td>0.033503</td>\n",
              "      <td>0.472068</td>\n",
              "      <td>0.236322</td>\n",
              "      <td>0.148331</td>\n",
              "      <td>0.118553</td>\n",
              "      <td>5.044330</td>\n",
              "      <td>6.000287</td>\n",
              "    </tr>\n",
              "    <tr>\n",
              "      <th>89</th>\n",
              "      <td>SN 301514-5021-0258 (CP474149_REV08)</td>\n",
              "      <td>14.015178</td>\n",
              "      <td>0.221296</td>\n",
              "      <td>0.160680</td>\n",
              "      <td>0.000526</td>\n",
              "      <td>0.191342</td>\n",
              "      <td>0.200183</td>\n",
              "      <td>0.000000</td>\n",
              "      <td>0.000821</td>\n",
              "      <td>0.191169</td>\n",
              "      <td>...</td>\n",
              "      <td>0.067780</td>\n",
              "      <td>0.000545</td>\n",
              "      <td>0.098496</td>\n",
              "      <td>0.033497</td>\n",
              "      <td>0.471922</td>\n",
              "      <td>0.236317</td>\n",
              "      <td>0.148301</td>\n",
              "      <td>0.118640</td>\n",
              "      <td>5.044763</td>\n",
              "      <td>6.000126</td>\n",
              "    </tr>\n",
              "    <tr>\n",
              "      <th>90</th>\n",
              "      <td>SN 301514-5021-0259 (CP474149_REV08)</td>\n",
              "      <td>14.017048</td>\n",
              "      <td>0.221358</td>\n",
              "      <td>0.160751</td>\n",
              "      <td>0.000183</td>\n",
              "      <td>0.191340</td>\n",
              "      <td>0.200260</td>\n",
              "      <td>0.000000</td>\n",
              "      <td>0.000817</td>\n",
              "      <td>0.191211</td>\n",
              "      <td>...</td>\n",
              "      <td>0.067777</td>\n",
              "      <td>0.000742</td>\n",
              "      <td>0.098684</td>\n",
              "      <td>0.033505</td>\n",
              "      <td>0.471981</td>\n",
              "      <td>0.236307</td>\n",
              "      <td>0.148213</td>\n",
              "      <td>0.118508</td>\n",
              "      <td>5.046067</td>\n",
              "      <td>6.000382</td>\n",
              "    </tr>\n",
              "    <tr>\n",
              "      <th>91</th>\n",
              "      <td>SN 301514-5021-0260 (CP474149_REV08)</td>\n",
              "      <td>14.017311</td>\n",
              "      <td>0.221343</td>\n",
              "      <td>0.160738</td>\n",
              "      <td>0.000401</td>\n",
              "      <td>0.191361</td>\n",
              "      <td>0.200214</td>\n",
              "      <td>0.000000</td>\n",
              "      <td>0.001026</td>\n",
              "      <td>0.191211</td>\n",
              "      <td>...</td>\n",
              "      <td>0.067797</td>\n",
              "      <td>0.001083</td>\n",
              "      <td>0.098558</td>\n",
              "      <td>0.033509</td>\n",
              "      <td>0.472003</td>\n",
              "      <td>0.236282</td>\n",
              "      <td>0.148391</td>\n",
              "      <td>0.118686</td>\n",
              "      <td>5.046220</td>\n",
              "      <td>6.000193</td>\n",
              "    </tr>\n",
              "  </tbody>\n",
              "</table>\n",
              "<p>92 rows × 129 columns</p>\n",
              "</div>\n",
              "      <button class=\"colab-df-convert\" onclick=\"convertToInteractive('df-57d1d027-d414-4a7e-84db-35edecc3d1cd')\"\n",
              "              title=\"Convert this dataframe to an interactive table.\"\n",
              "              style=\"display:none;\">\n",
              "        \n",
              "  <svg xmlns=\"http://www.w3.org/2000/svg\" height=\"24px\"viewBox=\"0 0 24 24\"\n",
              "       width=\"24px\">\n",
              "    <path d=\"M0 0h24v24H0V0z\" fill=\"none\"/>\n",
              "    <path d=\"M18.56 5.44l.94 2.06.94-2.06 2.06-.94-2.06-.94-.94-2.06-.94 2.06-2.06.94zm-11 1L8.5 8.5l.94-2.06 2.06-.94-2.06-.94L8.5 2.5l-.94 2.06-2.06.94zm10 10l.94 2.06.94-2.06 2.06-.94-2.06-.94-.94-2.06-.94 2.06-2.06.94z\"/><path d=\"M17.41 7.96l-1.37-1.37c-.4-.4-.92-.59-1.43-.59-.52 0-1.04.2-1.43.59L10.3 9.45l-7.72 7.72c-.78.78-.78 2.05 0 2.83L4 21.41c.39.39.9.59 1.41.59.51 0 1.02-.2 1.41-.59l7.78-7.78 2.81-2.81c.8-.78.8-2.07 0-2.86zM5.41 20L4 18.59l7.72-7.72 1.47 1.35L5.41 20z\"/>\n",
              "  </svg>\n",
              "      </button>\n",
              "      \n",
              "  <style>\n",
              "    .colab-df-container {\n",
              "      display:flex;\n",
              "      flex-wrap:wrap;\n",
              "      gap: 12px;\n",
              "    }\n",
              "\n",
              "    .colab-df-convert {\n",
              "      background-color: #E8F0FE;\n",
              "      border: none;\n",
              "      border-radius: 50%;\n",
              "      cursor: pointer;\n",
              "      display: none;\n",
              "      fill: #1967D2;\n",
              "      height: 32px;\n",
              "      padding: 0 0 0 0;\n",
              "      width: 32px;\n",
              "    }\n",
              "\n",
              "    .colab-df-convert:hover {\n",
              "      background-color: #E2EBFA;\n",
              "      box-shadow: 0px 1px 2px rgba(60, 64, 67, 0.3), 0px 1px 3px 1px rgba(60, 64, 67, 0.15);\n",
              "      fill: #174EA6;\n",
              "    }\n",
              "\n",
              "    [theme=dark] .colab-df-convert {\n",
              "      background-color: #3B4455;\n",
              "      fill: #D2E3FC;\n",
              "    }\n",
              "\n",
              "    [theme=dark] .colab-df-convert:hover {\n",
              "      background-color: #434B5C;\n",
              "      box-shadow: 0px 1px 3px 1px rgba(0, 0, 0, 0.15);\n",
              "      filter: drop-shadow(0px 1px 2px rgba(0, 0, 0, 0.3));\n",
              "      fill: #FFFFFF;\n",
              "    }\n",
              "  </style>\n",
              "\n",
              "      <script>\n",
              "        const buttonEl =\n",
              "          document.querySelector('#df-57d1d027-d414-4a7e-84db-35edecc3d1cd button.colab-df-convert');\n",
              "        buttonEl.style.display =\n",
              "          google.colab.kernel.accessAllowed ? 'block' : 'none';\n",
              "\n",
              "        async function convertToInteractive(key) {\n",
              "          const element = document.querySelector('#df-57d1d027-d414-4a7e-84db-35edecc3d1cd');\n",
              "          const dataTable =\n",
              "            await google.colab.kernel.invokeFunction('convertToInteractive',\n",
              "                                                     [key], {});\n",
              "          if (!dataTable) return;\n",
              "\n",
              "          const docLinkHtml = 'Like what you see? Visit the ' +\n",
              "            '<a target=\"_blank\" href=https://colab.research.google.com/notebooks/data_table.ipynb>data table notebook</a>'\n",
              "            + ' to learn more about interactive tables.';\n",
              "          element.innerHTML = '';\n",
              "          dataTable['output_type'] = 'display_data';\n",
              "          await google.colab.output.renderOutput(dataTable, element);\n",
              "          const docLink = document.createElement('div');\n",
              "          docLink.innerHTML = docLinkHtml;\n",
              "          element.appendChild(docLink);\n",
              "        }\n",
              "      </script>\n",
              "    </div>\n",
              "  </div>\n",
              "  "
            ]
          },
          "metadata": {},
          "execution_count": 42
        }
      ]
    },
    {
      "cell_type": "code",
      "metadata": {
        "id": "3m5bERFJJ5Kq"
      },
      "source": [
        "X = dataset.iloc[:,19: ].values\n",
        "Y = dataset.iloc[:,2:3].values"
      ],
      "execution_count": 43,
      "outputs": []
    },
    {
      "cell_type": "code",
      "metadata": {
        "colab": {
          "base_uri": "https://localhost:8080/"
        },
        "id": "PO_kQ5qdKdwz",
        "outputId": "56a1c59c-e31b-4480-d9b4-48f277b23fbd"
      },
      "source": [
        "print(X)"
      ],
      "execution_count": 44,
      "outputs": [
        {
          "output_type": "stream",
          "name": "stdout",
          "text": [
            "[[4.718250e-01 1.100090e+01 1.200000e+02 ... 1.172500e-01 5.040300e+00\n",
            "  6.000200e+00]\n",
            " [4.688300e-01 1.099946e+01 1.200000e+02 ... 1.174120e-01 5.056671e+00\n",
            "  6.000013e+00]\n",
            " [4.688470e-01 1.099950e+01 1.200000e+02 ... 1.174690e-01 5.050116e+00\n",
            "  5.999963e+00]\n",
            " ...\n",
            " [4.705320e-01 1.100038e+01 1.200000e+02 ... 1.186400e-01 5.044763e+00\n",
            "  6.000126e+00]\n",
            " [4.705440e-01 1.100095e+01 1.200000e+02 ... 1.185080e-01 5.046067e+00\n",
            "  6.000382e+00]\n",
            " [4.705360e-01 1.100068e+01 1.200000e+02 ... 1.186860e-01 5.046220e+00\n",
            "  6.000193e+00]]\n"
          ]
        }
      ]
    },
    {
      "cell_type": "code",
      "metadata": {
        "colab": {
          "base_uri": "https://localhost:8080/"
        },
        "id": "MByS_-wyKqts",
        "outputId": "402c6057-0c62-4c46-a9b2-b826b9d830bf"
      },
      "source": [
        "print(Y)"
      ],
      "execution_count": 45,
      "outputs": [
        {
          "output_type": "stream",
          "name": "stdout",
          "text": [
            "[[0.2223  ]\n",
            " [0.221733]\n",
            " [0.221904]\n",
            " [0.221841]\n",
            " [0.221928]\n",
            " [0.221905]\n",
            " [0.22193 ]\n",
            " [0.221886]\n",
            " [0.221834]\n",
            " [0.221859]\n",
            " [0.221896]\n",
            " [0.221888]\n",
            " [0.221868]\n",
            " [0.221922]\n",
            " [0.221913]\n",
            " [0.221904]\n",
            " [0.22191 ]\n",
            " [0.221927]\n",
            " [0.221912]\n",
            " [0.221875]\n",
            " [0.221926]\n",
            " [0.221921]\n",
            " [0.221925]\n",
            " [0.221907]\n",
            " [0.221931]\n",
            " [0.221942]\n",
            " [0.221939]\n",
            " [0.221934]\n",
            " [0.221921]\n",
            " [0.221908]\n",
            " [0.221921]\n",
            " [0.221917]\n",
            " [0.221916]\n",
            " [0.221931]\n",
            " [0.221908]\n",
            " [0.221913]\n",
            " [0.221909]\n",
            " [0.221911]\n",
            " [0.221887]\n",
            " [0.221913]\n",
            " [0.22191 ]\n",
            " [0.221908]\n",
            " [0.221939]\n",
            " [0.221916]\n",
            " [0.221923]\n",
            " [0.221921]\n",
            " [0.221914]\n",
            " [0.221907]\n",
            " [0.221899]\n",
            " [0.221914]\n",
            " [0.22188 ]\n",
            " [0.221883]\n",
            " [0.221905]\n",
            " [0.221934]\n",
            " [0.221852]\n",
            " [0.221862]\n",
            " [0.221934]\n",
            " [0.221849]\n",
            " [0.221842]\n",
            " [0.221837]\n",
            " [0.221855]\n",
            " [0.221847]\n",
            " [0.221779]\n",
            " [0.221893]\n",
            " [0.221899]\n",
            " [0.221891]\n",
            " [0.221904]\n",
            " [0.221886]\n",
            " [0.221904]\n",
            " [0.22187 ]\n",
            " [0.221357]\n",
            " [0.221357]\n",
            " [0.221368]\n",
            " [0.221346]\n",
            " [0.221322]\n",
            " [0.221344]\n",
            " [0.221343]\n",
            " [0.221259]\n",
            " [0.22132 ]\n",
            " [0.221348]\n",
            " [0.221247]\n",
            " [0.221303]\n",
            " [0.221287]\n",
            " [0.221294]\n",
            " [0.221313]\n",
            " [0.221343]\n",
            " [0.221264]\n",
            " [0.221326]\n",
            " [0.221238]\n",
            " [0.221296]\n",
            " [0.221358]\n",
            " [0.221343]]\n"
          ]
        }
      ]
    },
    {
      "cell_type": "code",
      "metadata": {
        "colab": {
          "base_uri": "https://localhost:8080/"
        },
        "id": "9Im8lin81Alz",
        "outputId": "7b8bee98-dba2-4eea-883d-37727f778a32"
      },
      "source": [
        "dataset.shape"
      ],
      "execution_count": 46,
      "outputs": [
        {
          "output_type": "execute_result",
          "data": {
            "text/plain": [
              "(92, 129)"
            ]
          },
          "metadata": {},
          "execution_count": 46
        }
      ]
    },
    {
      "cell_type": "code",
      "metadata": {
        "colab": {
          "base_uri": "https://localhost:8080/"
        },
        "id": "H1h4yZ5_1HsE",
        "outputId": "6fdd7cec-d687-498d-a03c-849f0e709904"
      },
      "source": [
        "dataset.info()"
      ],
      "execution_count": 47,
      "outputs": [
        {
          "output_type": "stream",
          "name": "stdout",
          "text": [
            "<class 'pandas.core.frame.DataFrame'>\n",
            "RangeIndex: 92 entries, 0 to 91\n",
            "Columns: 129 entries, SN (JOB #) to SH2_C7_Distance -6.000_R\n",
            "dtypes: float64(127), int64(1), object(1)\n",
            "memory usage: 92.8+ KB\n"
          ]
        }
      ]
    },
    {
      "cell_type": "markdown",
      "metadata": {
        "id": "9tb0bSldMY97"
      },
      "source": [
        "# Taking care of missing data"
      ]
    },
    {
      "cell_type": "markdown",
      "metadata": {
        "id": "mPvxh8AzlUH-"
      },
      "source": [
        "Impute Missing Values. "
      ]
    },
    {
      "cell_type": "code",
      "metadata": {
        "id": "IIW12cEV5tLD"
      },
      "source": [
        "from sklearn.impute import SimpleImputer\n",
        "imputer = SimpleImputer(missing_values=np.nan, strategy='mean')\n",
        "imputer.fit(X[:, :])\n",
        "X[:,:] = imputer.transform(X[:,:])"
      ],
      "execution_count": 48,
      "outputs": []
    },
    {
      "cell_type": "code",
      "metadata": {
        "id": "Oim8fWH0NIkL"
      },
      "source": [
        "from sklearn.impute import SimpleImputer\n",
        "imputer = SimpleImputer(missing_values=np.nan, strategy='mean')\n",
        "imputer.fit(Y[:,:])\n",
        "Y[:,:] = imputer.transform(Y[:,:])"
      ],
      "execution_count": 49,
      "outputs": []
    },
    {
      "cell_type": "code",
      "metadata": {
        "colab": {
          "base_uri": "https://localhost:8080/"
        },
        "id": "Wa2nd9w-NY2E",
        "outputId": "f8a564aa-0e54-4820-b428-b56ff2aaee7f"
      },
      "source": [
        "print(X)"
      ],
      "execution_count": 50,
      "outputs": [
        {
          "output_type": "stream",
          "name": "stdout",
          "text": [
            "[[4.718250e-01 1.100090e+01 1.200000e+02 ... 1.172500e-01 5.040300e+00\n",
            "  6.000200e+00]\n",
            " [4.688300e-01 1.099946e+01 1.200000e+02 ... 1.174120e-01 5.056671e+00\n",
            "  6.000013e+00]\n",
            " [4.688470e-01 1.099950e+01 1.200000e+02 ... 1.174690e-01 5.050116e+00\n",
            "  5.999963e+00]\n",
            " ...\n",
            " [4.705320e-01 1.100038e+01 1.200000e+02 ... 1.186400e-01 5.044763e+00\n",
            "  6.000126e+00]\n",
            " [4.705440e-01 1.100095e+01 1.200000e+02 ... 1.185080e-01 5.046067e+00\n",
            "  6.000382e+00]\n",
            " [4.705360e-01 1.100068e+01 1.200000e+02 ... 1.186860e-01 5.046220e+00\n",
            "  6.000193e+00]]\n"
          ]
        }
      ]
    },
    {
      "cell_type": "code",
      "metadata": {
        "colab": {
          "base_uri": "https://localhost:8080/"
        },
        "id": "8jUH4ggvNY9L",
        "outputId": "7d706232-ba4d-42ca-ad66-9a23021d9ef3"
      },
      "source": [
        "print(Y)"
      ],
      "execution_count": 51,
      "outputs": [
        {
          "output_type": "stream",
          "name": "stdout",
          "text": [
            "[[0.2223  ]\n",
            " [0.221733]\n",
            " [0.221904]\n",
            " [0.221841]\n",
            " [0.221928]\n",
            " [0.221905]\n",
            " [0.22193 ]\n",
            " [0.221886]\n",
            " [0.221834]\n",
            " [0.221859]\n",
            " [0.221896]\n",
            " [0.221888]\n",
            " [0.221868]\n",
            " [0.221922]\n",
            " [0.221913]\n",
            " [0.221904]\n",
            " [0.22191 ]\n",
            " [0.221927]\n",
            " [0.221912]\n",
            " [0.221875]\n",
            " [0.221926]\n",
            " [0.221921]\n",
            " [0.221925]\n",
            " [0.221907]\n",
            " [0.221931]\n",
            " [0.221942]\n",
            " [0.221939]\n",
            " [0.221934]\n",
            " [0.221921]\n",
            " [0.221908]\n",
            " [0.221921]\n",
            " [0.221917]\n",
            " [0.221916]\n",
            " [0.221931]\n",
            " [0.221908]\n",
            " [0.221913]\n",
            " [0.221909]\n",
            " [0.221911]\n",
            " [0.221887]\n",
            " [0.221913]\n",
            " [0.22191 ]\n",
            " [0.221908]\n",
            " [0.221939]\n",
            " [0.221916]\n",
            " [0.221923]\n",
            " [0.221921]\n",
            " [0.221914]\n",
            " [0.221907]\n",
            " [0.221899]\n",
            " [0.221914]\n",
            " [0.22188 ]\n",
            " [0.221883]\n",
            " [0.221905]\n",
            " [0.221934]\n",
            " [0.221852]\n",
            " [0.221862]\n",
            " [0.221934]\n",
            " [0.221849]\n",
            " [0.221842]\n",
            " [0.221837]\n",
            " [0.221855]\n",
            " [0.221847]\n",
            " [0.221779]\n",
            " [0.221893]\n",
            " [0.221899]\n",
            " [0.221891]\n",
            " [0.221904]\n",
            " [0.221886]\n",
            " [0.221904]\n",
            " [0.22187 ]\n",
            " [0.221357]\n",
            " [0.221357]\n",
            " [0.221368]\n",
            " [0.221346]\n",
            " [0.221322]\n",
            " [0.221344]\n",
            " [0.221343]\n",
            " [0.221259]\n",
            " [0.22132 ]\n",
            " [0.221348]\n",
            " [0.221247]\n",
            " [0.221303]\n",
            " [0.221287]\n",
            " [0.221294]\n",
            " [0.221313]\n",
            " [0.221343]\n",
            " [0.221264]\n",
            " [0.221326]\n",
            " [0.221238]\n",
            " [0.221296]\n",
            " [0.221358]\n",
            " [0.221343]]\n"
          ]
        }
      ]
    },
    {
      "cell_type": "markdown",
      "metadata": {
        "id": "l0gjvWiulgUe"
      },
      "source": [
        "Check the percentage of missing values in each variable."
      ]
    },
    {
      "cell_type": "code",
      "metadata": {
        "colab": {
          "base_uri": "https://localhost:8080/"
        },
        "id": "jlJ_K3J_O-BP",
        "outputId": "5d709b12-2a27-4d9e-b98a-04fc8086a736"
      },
      "source": [
        "dataset.isnull().sum()/len(dataset)*100"
      ],
      "execution_count": 52,
      "outputs": [
        {
          "output_type": "execute_result",
          "data": {
            "text/plain": [
              "SN (JOB #)                  0.0\n",
              "SH1_C2_Diameter -14.020     0.0\n",
              "SH1_B5_Diameter -0.220      0.0\n",
              "SH1_B5_Diameter -0.160      0.0\n",
              "SH1_B5_Position -0.005      0.0\n",
              "                           ... \n",
              "SH4_D8_Distance -0.235      0.0\n",
              "SH4_B7_Distance -0.148      0.0\n",
              "SH4_C7_Distance -0.118      0.0\n",
              "SH2_B8_Angle -5 Deg         0.0\n",
              "SH2_C7_Distance -6.000_R    0.0\n",
              "Length: 129, dtype: float64"
            ]
          },
          "metadata": {},
          "execution_count": 52
        }
      ]
    },
    {
      "cell_type": "markdown",
      "metadata": {
        "id": "EHvjyp5TLvtv"
      },
      "source": [
        "# Splitting the dataset into the Training set and Test set"
      ]
    },
    {
      "cell_type": "code",
      "metadata": {
        "id": "9uptvH8CL3gf"
      },
      "source": [
        "from sklearn.model_selection import train_test_split\n",
        "X_train, X_test, Y_train, Y_test = train_test_split(X, Y, test_size = 0.2, random_state = 0)"
      ],
      "execution_count": 53,
      "outputs": []
    },
    {
      "cell_type": "code",
      "metadata": {
        "colab": {
          "base_uri": "https://localhost:8080/"
        },
        "id": "oWV58o1KAkhJ",
        "outputId": "35c2f317-8f0c-4956-d466-944e3902e2e1"
      },
      "source": [
        "print(X_train)"
      ],
      "execution_count": 54,
      "outputs": [
        {
          "output_type": "stream",
          "name": "stdout",
          "text": [
            "[[4.701630e-01 1.099882e+01 1.200000e+02 ... 1.188530e-01 5.047034e+00\n",
            "  5.998962e+00]\n",
            " [4.701910e-01 1.099941e+01 1.200000e+02 ... 1.187680e-01 5.043036e+00\n",
            "  5.999925e+00]\n",
            " [4.702130e-01 1.099957e+01 1.200000e+02 ... 1.187780e-01 5.044763e+00\n",
            "  5.999592e+00]\n",
            " ...\n",
            " [4.701880e-01 1.099853e+01 1.200000e+02 ... 1.185560e-01 5.048042e+00\n",
            "  5.998660e+00]\n",
            " [4.702040e-01 1.099894e+01 1.200000e+02 ... 1.187370e-01 5.048334e+00\n",
            "  5.999183e+00]\n",
            " [4.701960e-01 1.099931e+01 1.200000e+02 ... 1.185460e-01 5.042147e+00\n",
            "  5.999608e+00]]\n"
          ]
        }
      ]
    },
    {
      "cell_type": "code",
      "metadata": {
        "colab": {
          "base_uri": "https://localhost:8080/"
        },
        "id": "K7LEO1rUNysz",
        "outputId": "d4078ebd-a3b9-40f4-bd19-5d6c8cbf6806"
      },
      "source": [
        "print(X_test)"
      ],
      "execution_count": 55,
      "outputs": [
        {
          "output_type": "stream",
          "name": "stdout",
          "text": [
            "[[4.688470e-01 1.099950e+01 1.200000e+02 ... 1.174690e-01 5.050116e+00\n",
            "  5.999963e+00]\n",
            " [4.702480e-01 1.100021e+01 1.200000e+02 ... 1.187490e-01 5.045751e+00\n",
            "  6.000100e+00]\n",
            " [4.701800e-01 1.099916e+01 1.200000e+02 ... 1.179050e-01 5.052360e+00\n",
            "  5.999522e+00]\n",
            " ...\n",
            " [4.700490e-01 1.099940e+01 1.200000e+02 ... 1.182280e-01 5.046564e+00\n",
            "  5.999580e+00]\n",
            " [4.704870e-01 1.099822e+01 1.200000e+02 ... 1.183980e-01 5.046470e+00\n",
            "  5.998720e+00]\n",
            " [4.687010e-01 1.099916e+01 1.200000e+02 ... 1.185090e-01 5.044066e+00\n",
            "  5.999569e+00]]\n"
          ]
        }
      ]
    },
    {
      "cell_type": "code",
      "metadata": {
        "colab": {
          "base_uri": "https://localhost:8080/"
        },
        "id": "JCJ7fC-XNyzV",
        "outputId": "040ba850-ff00-490f-b037-e57cadbee12c"
      },
      "source": [
        "print(Y_train)"
      ],
      "execution_count": 56,
      "outputs": [
        {
          "output_type": "stream",
          "name": "stdout",
          "text": [
            "[[0.221921]\n",
            " [0.221908]\n",
            " [0.221852]\n",
            " [0.22193 ]\n",
            " [0.221916]\n",
            " [0.221259]\n",
            " [0.221322]\n",
            " [0.221934]\n",
            " [0.221344]\n",
            " [0.221303]\n",
            " [0.221313]\n",
            " [0.221841]\n",
            " [0.221357]\n",
            " [0.221287]\n",
            " [0.221934]\n",
            " [0.221912]\n",
            " [0.221862]\n",
            " [0.221934]\n",
            " [0.221343]\n",
            " [0.221847]\n",
            " [0.221837]\n",
            " [0.221928]\n",
            " [0.221904]\n",
            " [0.221927]\n",
            " [0.22191 ]\n",
            " [0.221887]\n",
            " [0.221905]\n",
            " [0.221343]\n",
            " [0.221899]\n",
            " [0.2223  ]\n",
            " [0.221908]\n",
            " [0.221921]\n",
            " [0.22188 ]\n",
            " [0.221888]\n",
            " [0.221913]\n",
            " [0.221907]\n",
            " [0.221905]\n",
            " [0.221896]\n",
            " [0.221917]\n",
            " [0.221779]\n",
            " [0.221849]\n",
            " [0.221346]\n",
            " [0.221733]\n",
            " [0.221916]\n",
            " [0.22132 ]\n",
            " [0.221913]\n",
            " [0.221904]\n",
            " [0.221875]\n",
            " [0.221908]\n",
            " [0.221914]\n",
            " [0.221296]\n",
            " [0.221358]\n",
            " [0.22187 ]\n",
            " [0.221926]\n",
            " [0.221264]\n",
            " [0.221368]\n",
            " [0.221942]\n",
            " [0.221911]\n",
            " [0.221914]\n",
            " [0.221913]\n",
            " [0.221891]\n",
            " [0.221842]\n",
            " [0.221868]\n",
            " [0.221357]\n",
            " [0.221909]\n",
            " [0.221921]\n",
            " [0.221294]\n",
            " [0.221859]\n",
            " [0.221238]\n",
            " [0.221886]\n",
            " [0.221899]\n",
            " [0.221907]\n",
            " [0.221923]]\n"
          ]
        }
      ]
    },
    {
      "cell_type": "code",
      "metadata": {
        "colab": {
          "base_uri": "https://localhost:8080/"
        },
        "id": "m8ahFj-qNy47",
        "outputId": "c4c83ab2-7521-4736-ca23-bdcaf205ef19"
      },
      "source": [
        "print(Y_test)"
      ],
      "execution_count": 57,
      "outputs": [
        {
          "output_type": "stream",
          "name": "stdout",
          "text": [
            "[[0.221904]\n",
            " [0.221931]\n",
            " [0.221925]\n",
            " [0.22191 ]\n",
            " [0.221922]\n",
            " [0.221931]\n",
            " [0.221855]\n",
            " [0.221343]\n",
            " [0.221247]\n",
            " [0.221904]\n",
            " [0.221921]\n",
            " [0.221886]\n",
            " [0.221939]\n",
            " [0.221348]\n",
            " [0.221939]\n",
            " [0.221893]\n",
            " [0.221834]\n",
            " [0.221326]\n",
            " [0.221883]]\n"
          ]
        }
      ]
    },
    {
      "cell_type": "markdown",
      "metadata": {
        "id": "yAMl3VEVHxw4"
      },
      "source": [
        "# Feature Scaling"
      ]
    },
    {
      "cell_type": "code",
      "metadata": {
        "id": "eNVyQ6jGH2Te"
      },
      "source": [
        "from sklearn.preprocessing import StandardScaler\n",
        "sc = StandardScaler()\n",
        "X_train[:, :] = sc.fit_transform(X_train[:, :])\n",
        "X_test[:, :] = sc.transform(X_test[:, :])"
      ],
      "execution_count": 58,
      "outputs": []
    },
    {
      "cell_type": "code",
      "metadata": {
        "colab": {
          "base_uri": "https://localhost:8080/"
        },
        "id": "j7jBJgEtJaZG",
        "outputId": "8155361d-6f1a-4979-bcfc-e64e8abaf3b9"
      },
      "source": [
        "print(X_train)"
      ],
      "execution_count": 59,
      "outputs": [
        {
          "output_type": "stream",
          "name": "stdout",
          "text": [
            "[[-0.085409 -1.056224  0.       ...  0.948894  0.2069   -1.034673]\n",
            " [-0.032683  0.039649  0.       ...  0.749359 -0.61121   1.141893]\n",
            " [ 0.008745  0.343437  0.       ...  0.772833 -0.257814  0.389249]\n",
            " ...\n",
            " [-0.038332 -1.594841  0.       ...  0.251694  0.413167 -1.717252]\n",
            " [-0.008203 -0.830712  0.       ...  0.676587  0.472919 -0.53517 ]\n",
            " [-0.023267 -0.139269  0.       ...  0.228219 -0.793126  0.425412]]\n"
          ]
        }
      ]
    },
    {
      "cell_type": "code",
      "metadata": {
        "colab": {
          "base_uri": "https://localhost:8080/"
        },
        "id": "gG0SJAOKPpmq",
        "outputId": "d05049c0-1929-47f4-8051-16a22b2e06c8"
      },
      "source": [
        "print(X_test)"
      ],
      "execution_count": 60,
      "outputs": [
        {
          "output_type": "stream",
          "name": "stdout",
          "text": [
            "[[-2.563521  0.198066  0.       ... -2.30001   0.83757   1.22778 ]\n",
            " [ 0.074652  1.521313  0.       ...  0.704757 -0.05564   1.537427]\n",
            " [-0.053396 -0.422556  0.       ... -1.276511  1.296759  0.231035]\n",
            " ...\n",
            " [-0.300078  0.013557  0.       ... -0.518277  0.110724  0.362126]\n",
            " [ 0.524704 -2.185643  0.       ... -0.119207  0.091489 -1.58164 ]\n",
            " [-2.838449 -0.420692  0.       ...  0.141363 -0.400441  0.337264]]\n"
          ]
        }
      ]
    },
    {
      "cell_type": "markdown",
      "metadata": {
        "id": "TpZK8HpKl_hO"
      },
      "source": [
        "Low Variance Filter: Calculate the variance of all the numerical variables"
      ]
    },
    {
      "cell_type": "code",
      "metadata": {
        "colab": {
          "base_uri": "https://localhost:8080/"
        },
        "id": "aiJCu4mXJekA",
        "outputId": "7be7e6be-6175-4a13-9aeb-73274918ea79"
      },
      "source": [
        "dataset.var()"
      ],
      "execution_count": 61,
      "outputs": [
        {
          "output_type": "stream",
          "name": "stderr",
          "text": [
            "/usr/local/lib/python3.7/dist-packages/ipykernel_launcher.py:1: FutureWarning: Dropping of nuisance columns in DataFrame reductions (with 'numeric_only=None') is deprecated; in a future version this will raise TypeError.  Select only valid columns before calling the reduction.\n",
            "  \"\"\"Entry point for launching an IPython kernel.\n"
          ]
        },
        {
          "output_type": "execute_result",
          "data": {
            "text/plain": [
              "SH1_C2_Diameter -14.020     6.191677e-07\n",
              "SH1_B5_Diameter -0.220      6.616313e-08\n",
              "SH1_B5_Diameter -0.160      3.108320e-08\n",
              "SH1_B5_Position -0.005      2.757916e-07\n",
              "SH1_B1_Width -0.190         4.480541e-08\n",
              "                                ...     \n",
              "SH4_D8_Distance -0.235      2.437664e-07\n",
              "SH4_B7_Distance -0.148      9.221709e-08\n",
              "SH4_C7_Distance -0.118      1.792112e-07\n",
              "SH2_B8_Angle -5 Deg         2.523954e-05\n",
              "SH2_C7_Distance -6.000_R    1.815356e-07\n",
              "Length: 128, dtype: float64"
            ]
          },
          "metadata": {},
          "execution_count": 61
        }
      ]
    },
    {
      "cell_type": "markdown",
      "metadata": {
        "id": "HIWt_cATmwuX"
      },
      "source": [
        "High Correlation Filter"
      ]
    },
    {
      "cell_type": "code",
      "metadata": {
        "colab": {
          "base_uri": "https://localhost:8080/",
          "height": 715
        },
        "id": "KQmyDseWmvkH",
        "outputId": "7b4033b7-b561-4f3c-9f87-3049a34b5553"
      },
      "source": [
        "df=dataset.drop('SN (JOB #)', 1)\n",
        "df.corr()"
      ],
      "execution_count": 62,
      "outputs": [
        {
          "output_type": "stream",
          "name": "stderr",
          "text": [
            "/usr/local/lib/python3.7/dist-packages/ipykernel_launcher.py:1: FutureWarning: In a future version of pandas all arguments of DataFrame.drop except for the argument 'labels' will be keyword-only\n",
            "  \"\"\"Entry point for launching an IPython kernel.\n"
          ]
        },
        {
          "output_type": "execute_result",
          "data": {
            "text/plain": [
              "                          SH1_C2_Diameter -14.020  SH1_B5_Diameter -0.220  \\\n",
              "SH1_C2_Diameter -14.020                  1.000000                0.236855   \n",
              "SH1_B5_Diameter -0.220                   0.236855                1.000000   \n",
              "SH1_B5_Diameter -0.160                   0.202132                0.954243   \n",
              "SH1_B5_Position -0.005                   0.043446                0.315648   \n",
              "SH1_B1_Width -0.190                      0.234478                0.984561   \n",
              "...                                           ...                     ...   \n",
              "SH4_D8_Distance -0.235                  -0.021893               -0.608491   \n",
              "SH4_B7_Distance -0.148                  -0.127674               -0.567047   \n",
              "SH4_C7_Distance -0.118                  -0.002433                0.037350   \n",
              "SH2_B8_Angle -5 Deg                     -0.049315               -0.213918   \n",
              "SH2_C7_Distance -6.000_R                 0.043954               -0.016875   \n",
              "\n",
              "                          SH1_B5_Diameter -0.160  SH1_B5_Position -0.005  \\\n",
              "SH1_C2_Diameter -14.020                 0.202132                0.043446   \n",
              "SH1_B5_Diameter -0.220                  0.954243                0.315648   \n",
              "SH1_B5_Diameter -0.160                  1.000000                0.236856   \n",
              "SH1_B5_Position -0.005                  0.236856                1.000000   \n",
              "SH1_B1_Width -0.190                     0.942768                0.284504   \n",
              "...                                          ...                     ...   \n",
              "SH4_D8_Distance -0.235                 -0.651181               -0.203417   \n",
              "SH4_B7_Distance -0.148                 -0.632631               -0.154518   \n",
              "SH4_C7_Distance -0.118                  0.003163                0.215421   \n",
              "SH2_B8_Angle -5 Deg                    -0.171620               -0.510653   \n",
              "SH2_C7_Distance -6.000_R                0.026702                0.069473   \n",
              "\n",
              "                          SH1_B1_Width -0.190  SH1_B1_Distance -0.200  \\\n",
              "SH1_C2_Diameter -14.020              0.234478                0.121288   \n",
              "SH1_B5_Diameter -0.220               0.984561                0.580135   \n",
              "SH1_B5_Diameter -0.160               0.942768                0.636577   \n",
              "SH1_B5_Position -0.005               0.284504                0.056151   \n",
              "SH1_B1_Width -0.190                  1.000000                0.600869   \n",
              "...                                       ...                     ...   \n",
              "SH4_D8_Distance -0.235              -0.630761               -0.404162   \n",
              "SH4_B7_Distance -0.148              -0.578007               -0.228359   \n",
              "SH4_C7_Distance -0.118              -0.009052                0.294344   \n",
              "SH2_B8_Angle -5 Deg                 -0.193676               -0.200453   \n",
              "SH2_C7_Distance -6.000_R            -0.018965               -0.079935   \n",
              "\n",
              "                          SH1_B1_Position- 0.002  SH1_D5_Position -0.005  \\\n",
              "SH1_C2_Diameter -14.020                -0.161457               -0.090562   \n",
              "SH1_B5_Diameter -0.220                 -0.168657               -0.351653   \n",
              "SH1_B5_Diameter -0.160                 -0.047230               -0.372631   \n",
              "SH1_B5_Position -0.005                  0.060427                0.270826   \n",
              "SH1_B1_Width -0.190                    -0.209377               -0.348644   \n",
              "...                                          ...                     ...   \n",
              "SH4_D8_Distance -0.235                  0.209600                0.270203   \n",
              "SH4_B7_Distance -0.148                  0.006032                0.201876   \n",
              "SH4_C7_Distance -0.118                  0.193847                0.002216   \n",
              "SH2_B8_Angle -5 Deg                    -0.114379               -0.141098   \n",
              "SH2_C7_Distance -6.000_R               -0.049197               -0.281696   \n",
              "\n",
              "                          SH2_D7_Width -0.190  SH2_D7_Distance -0.20  ...  \\\n",
              "SH1_C2_Diameter -14.020              0.269238               0.087640  ...   \n",
              "SH1_B5_Diameter -0.220               0.938813               0.125861  ...   \n",
              "SH1_B5_Diameter -0.160               0.878740               0.197014  ...   \n",
              "SH1_B5_Position -0.005               0.297101              -0.231548  ...   \n",
              "SH1_B1_Width -0.190                  0.938958               0.132342  ...   \n",
              "...                                       ...                    ...  ...   \n",
              "SH4_D8_Distance -0.235              -0.590412               0.098843  ...   \n",
              "SH4_B7_Distance -0.148              -0.526554               0.225052  ...   \n",
              "SH4_C7_Distance -0.118              -0.026401               0.269236  ...   \n",
              "SH2_B8_Angle -5 Deg                 -0.191471              -0.091812  ...   \n",
              "SH2_C7_Distance -6.000_R             0.010056              -0.128869  ...   \n",
              "\n",
              "                          SH4_B7_Width -0.065  SH3_B8_Position -0.005  \\\n",
              "SH1_C2_Diameter -14.020              0.142655                0.132724   \n",
              "SH1_B5_Diameter -0.220               0.299798                0.033777   \n",
              "SH1_B5_Diameter -0.160               0.213700                0.030323   \n",
              "SH1_B5_Position -0.005               0.259377                0.182321   \n",
              "SH1_B1_Width -0.190                  0.301111                0.052054   \n",
              "...                                       ...                     ...   \n",
              "SH4_D8_Distance -0.235              -0.016327               -0.295164   \n",
              "SH4_B7_Distance -0.148              -0.342896               -0.268506   \n",
              "SH4_C7_Distance -0.118              -0.254092               -0.428236   \n",
              "SH2_B8_Angle -5 Deg                 -0.223977                0.145218   \n",
              "SH2_C7_Distance -6.000_R             0.160710                0.327466   \n",
              "\n",
              "                          SH3_B7_Distance -0.100  SH4_C7_Radius -0.0325  \\\n",
              "SH1_C2_Diameter -14.020                 0.142259               0.048847   \n",
              "SH1_B5_Diameter -0.220                  0.292553               0.114572   \n",
              "SH1_B5_Diameter -0.160                  0.363291               0.035743   \n",
              "SH1_B5_Position -0.005                  0.000540               0.179780   \n",
              "SH1_B1_Width -0.190                     0.288314               0.113175   \n",
              "...                                          ...                    ...   \n",
              "SH4_D8_Distance -0.235                 -0.438173               0.081967   \n",
              "SH4_B7_Distance -0.148                 -0.511188              -0.186356   \n",
              "SH4_C7_Distance -0.118                 -0.202484              -0.129899   \n",
              "SH2_B8_Angle -5 Deg                     0.387386              -0.133253   \n",
              "SH2_C7_Distance -6.000_R                0.069517               0.089874   \n",
              "\n",
              "                          SH4_D8_Distance -0.470  SH4_D8_Distance -0.235  \\\n",
              "SH1_C2_Diameter -14.020                 0.103762               -0.021893   \n",
              "SH1_B5_Diameter -0.220                 -0.202946               -0.608491   \n",
              "SH1_B5_Diameter -0.160                 -0.219533               -0.651181   \n",
              "SH1_B5_Position -0.005                 -0.084689               -0.203417   \n",
              "SH1_B1_Width -0.190                    -0.220691               -0.630761   \n",
              "...                                          ...                     ...   \n",
              "SH4_D8_Distance -0.235                  0.725581                1.000000   \n",
              "SH4_B7_Distance -0.148                  0.173790                0.753857   \n",
              "SH4_C7_Distance -0.118                  0.160850                0.465131   \n",
              "SH2_B8_Angle -5 Deg                    -0.150286               -0.025073   \n",
              "SH2_C7_Distance -6.000_R               -0.046255               -0.157445   \n",
              "\n",
              "                          SH4_B7_Distance -0.148  SH4_C7_Distance -0.118  \\\n",
              "SH1_C2_Diameter -14.020                -0.127674               -0.002433   \n",
              "SH1_B5_Diameter -0.220                 -0.567047                0.037350   \n",
              "SH1_B5_Diameter -0.160                 -0.632631                0.003163   \n",
              "SH1_B5_Position -0.005                 -0.154518                0.215421   \n",
              "SH1_B1_Width -0.190                    -0.578007               -0.009052   \n",
              "...                                          ...                     ...   \n",
              "SH4_D8_Distance -0.235                  0.753857                0.465131   \n",
              "SH4_B7_Distance -0.148                  1.000000                0.604721   \n",
              "SH4_C7_Distance -0.118                  0.604721                1.000000   \n",
              "SH2_B8_Angle -5 Deg                    -0.121405               -0.330523   \n",
              "SH2_C7_Distance -6.000_R               -0.191437               -0.282643   \n",
              "\n",
              "                          SH2_B8_Angle -5 Deg  SH2_C7_Distance -6.000_R  \n",
              "SH1_C2_Diameter -14.020             -0.049315                  0.043954  \n",
              "SH1_B5_Diameter -0.220              -0.213918                 -0.016875  \n",
              "SH1_B5_Diameter -0.160              -0.171620                  0.026702  \n",
              "SH1_B5_Position -0.005              -0.510653                  0.069473  \n",
              "SH1_B1_Width -0.190                 -0.193676                 -0.018965  \n",
              "...                                       ...                       ...  \n",
              "SH4_D8_Distance -0.235              -0.025073                 -0.157445  \n",
              "SH4_B7_Distance -0.148              -0.121405                 -0.191437  \n",
              "SH4_C7_Distance -0.118              -0.330523                 -0.282643  \n",
              "SH2_B8_Angle -5 Deg                  1.000000                 -0.026942  \n",
              "SH2_C7_Distance -6.000_R            -0.026942                  1.000000  \n",
              "\n",
              "[128 rows x 128 columns]"
            ],
            "text/html": [
              "\n",
              "  <div id=\"df-bad388b7-5b85-4a96-a918-f7b4c3214730\">\n",
              "    <div class=\"colab-df-container\">\n",
              "      <div>\n",
              "<style scoped>\n",
              "    .dataframe tbody tr th:only-of-type {\n",
              "        vertical-align: middle;\n",
              "    }\n",
              "\n",
              "    .dataframe tbody tr th {\n",
              "        vertical-align: top;\n",
              "    }\n",
              "\n",
              "    .dataframe thead th {\n",
              "        text-align: right;\n",
              "    }\n",
              "</style>\n",
              "<table border=\"1\" class=\"dataframe\">\n",
              "  <thead>\n",
              "    <tr style=\"text-align: right;\">\n",
              "      <th></th>\n",
              "      <th>SH1_C2_Diameter -14.020</th>\n",
              "      <th>SH1_B5_Diameter -0.220</th>\n",
              "      <th>SH1_B5_Diameter -0.160</th>\n",
              "      <th>SH1_B5_Position -0.005</th>\n",
              "      <th>SH1_B1_Width -0.190</th>\n",
              "      <th>SH1_B1_Distance -0.200</th>\n",
              "      <th>SH1_B1_Position- 0.002</th>\n",
              "      <th>SH1_D5_Position -0.005</th>\n",
              "      <th>SH2_D7_Width -0.190</th>\n",
              "      <th>SH2_D7_Distance -0.20</th>\n",
              "      <th>...</th>\n",
              "      <th>SH4_B7_Width -0.065</th>\n",
              "      <th>SH3_B8_Position -0.005</th>\n",
              "      <th>SH3_B7_Distance -0.100</th>\n",
              "      <th>SH4_C7_Radius -0.0325</th>\n",
              "      <th>SH4_D8_Distance -0.470</th>\n",
              "      <th>SH4_D8_Distance -0.235</th>\n",
              "      <th>SH4_B7_Distance -0.148</th>\n",
              "      <th>SH4_C7_Distance -0.118</th>\n",
              "      <th>SH2_B8_Angle -5 Deg</th>\n",
              "      <th>SH2_C7_Distance -6.000_R</th>\n",
              "    </tr>\n",
              "  </thead>\n",
              "  <tbody>\n",
              "    <tr>\n",
              "      <th>SH1_C2_Diameter -14.020</th>\n",
              "      <td>1.000000</td>\n",
              "      <td>0.236855</td>\n",
              "      <td>0.202132</td>\n",
              "      <td>0.043446</td>\n",
              "      <td>0.234478</td>\n",
              "      <td>0.121288</td>\n",
              "      <td>-0.161457</td>\n",
              "      <td>-0.090562</td>\n",
              "      <td>0.269238</td>\n",
              "      <td>0.087640</td>\n",
              "      <td>...</td>\n",
              "      <td>0.142655</td>\n",
              "      <td>0.132724</td>\n",
              "      <td>0.142259</td>\n",
              "      <td>0.048847</td>\n",
              "      <td>0.103762</td>\n",
              "      <td>-0.021893</td>\n",
              "      <td>-0.127674</td>\n",
              "      <td>-0.002433</td>\n",
              "      <td>-0.049315</td>\n",
              "      <td>0.043954</td>\n",
              "    </tr>\n",
              "    <tr>\n",
              "      <th>SH1_B5_Diameter -0.220</th>\n",
              "      <td>0.236855</td>\n",
              "      <td>1.000000</td>\n",
              "      <td>0.954243</td>\n",
              "      <td>0.315648</td>\n",
              "      <td>0.984561</td>\n",
              "      <td>0.580135</td>\n",
              "      <td>-0.168657</td>\n",
              "      <td>-0.351653</td>\n",
              "      <td>0.938813</td>\n",
              "      <td>0.125861</td>\n",
              "      <td>...</td>\n",
              "      <td>0.299798</td>\n",
              "      <td>0.033777</td>\n",
              "      <td>0.292553</td>\n",
              "      <td>0.114572</td>\n",
              "      <td>-0.202946</td>\n",
              "      <td>-0.608491</td>\n",
              "      <td>-0.567047</td>\n",
              "      <td>0.037350</td>\n",
              "      <td>-0.213918</td>\n",
              "      <td>-0.016875</td>\n",
              "    </tr>\n",
              "    <tr>\n",
              "      <th>SH1_B5_Diameter -0.160</th>\n",
              "      <td>0.202132</td>\n",
              "      <td>0.954243</td>\n",
              "      <td>1.000000</td>\n",
              "      <td>0.236856</td>\n",
              "      <td>0.942768</td>\n",
              "      <td>0.636577</td>\n",
              "      <td>-0.047230</td>\n",
              "      <td>-0.372631</td>\n",
              "      <td>0.878740</td>\n",
              "      <td>0.197014</td>\n",
              "      <td>...</td>\n",
              "      <td>0.213700</td>\n",
              "      <td>0.030323</td>\n",
              "      <td>0.363291</td>\n",
              "      <td>0.035743</td>\n",
              "      <td>-0.219533</td>\n",
              "      <td>-0.651181</td>\n",
              "      <td>-0.632631</td>\n",
              "      <td>0.003163</td>\n",
              "      <td>-0.171620</td>\n",
              "      <td>0.026702</td>\n",
              "    </tr>\n",
              "    <tr>\n",
              "      <th>SH1_B5_Position -0.005</th>\n",
              "      <td>0.043446</td>\n",
              "      <td>0.315648</td>\n",
              "      <td>0.236856</td>\n",
              "      <td>1.000000</td>\n",
              "      <td>0.284504</td>\n",
              "      <td>0.056151</td>\n",
              "      <td>0.060427</td>\n",
              "      <td>0.270826</td>\n",
              "      <td>0.297101</td>\n",
              "      <td>-0.231548</td>\n",
              "      <td>...</td>\n",
              "      <td>0.259377</td>\n",
              "      <td>0.182321</td>\n",
              "      <td>0.000540</td>\n",
              "      <td>0.179780</td>\n",
              "      <td>-0.084689</td>\n",
              "      <td>-0.203417</td>\n",
              "      <td>-0.154518</td>\n",
              "      <td>0.215421</td>\n",
              "      <td>-0.510653</td>\n",
              "      <td>0.069473</td>\n",
              "    </tr>\n",
              "    <tr>\n",
              "      <th>SH1_B1_Width -0.190</th>\n",
              "      <td>0.234478</td>\n",
              "      <td>0.984561</td>\n",
              "      <td>0.942768</td>\n",
              "      <td>0.284504</td>\n",
              "      <td>1.000000</td>\n",
              "      <td>0.600869</td>\n",
              "      <td>-0.209377</td>\n",
              "      <td>-0.348644</td>\n",
              "      <td>0.938958</td>\n",
              "      <td>0.132342</td>\n",
              "      <td>...</td>\n",
              "      <td>0.301111</td>\n",
              "      <td>0.052054</td>\n",
              "      <td>0.288314</td>\n",
              "      <td>0.113175</td>\n",
              "      <td>-0.220691</td>\n",
              "      <td>-0.630761</td>\n",
              "      <td>-0.578007</td>\n",
              "      <td>-0.009052</td>\n",
              "      <td>-0.193676</td>\n",
              "      <td>-0.018965</td>\n",
              "    </tr>\n",
              "    <tr>\n",
              "      <th>...</th>\n",
              "      <td>...</td>\n",
              "      <td>...</td>\n",
              "      <td>...</td>\n",
              "      <td>...</td>\n",
              "      <td>...</td>\n",
              "      <td>...</td>\n",
              "      <td>...</td>\n",
              "      <td>...</td>\n",
              "      <td>...</td>\n",
              "      <td>...</td>\n",
              "      <td>...</td>\n",
              "      <td>...</td>\n",
              "      <td>...</td>\n",
              "      <td>...</td>\n",
              "      <td>...</td>\n",
              "      <td>...</td>\n",
              "      <td>...</td>\n",
              "      <td>...</td>\n",
              "      <td>...</td>\n",
              "      <td>...</td>\n",
              "      <td>...</td>\n",
              "    </tr>\n",
              "    <tr>\n",
              "      <th>SH4_D8_Distance -0.235</th>\n",
              "      <td>-0.021893</td>\n",
              "      <td>-0.608491</td>\n",
              "      <td>-0.651181</td>\n",
              "      <td>-0.203417</td>\n",
              "      <td>-0.630761</td>\n",
              "      <td>-0.404162</td>\n",
              "      <td>0.209600</td>\n",
              "      <td>0.270203</td>\n",
              "      <td>-0.590412</td>\n",
              "      <td>0.098843</td>\n",
              "      <td>...</td>\n",
              "      <td>-0.016327</td>\n",
              "      <td>-0.295164</td>\n",
              "      <td>-0.438173</td>\n",
              "      <td>0.081967</td>\n",
              "      <td>0.725581</td>\n",
              "      <td>1.000000</td>\n",
              "      <td>0.753857</td>\n",
              "      <td>0.465131</td>\n",
              "      <td>-0.025073</td>\n",
              "      <td>-0.157445</td>\n",
              "    </tr>\n",
              "    <tr>\n",
              "      <th>SH4_B7_Distance -0.148</th>\n",
              "      <td>-0.127674</td>\n",
              "      <td>-0.567047</td>\n",
              "      <td>-0.632631</td>\n",
              "      <td>-0.154518</td>\n",
              "      <td>-0.578007</td>\n",
              "      <td>-0.228359</td>\n",
              "      <td>0.006032</td>\n",
              "      <td>0.201876</td>\n",
              "      <td>-0.526554</td>\n",
              "      <td>0.225052</td>\n",
              "      <td>...</td>\n",
              "      <td>-0.342896</td>\n",
              "      <td>-0.268506</td>\n",
              "      <td>-0.511188</td>\n",
              "      <td>-0.186356</td>\n",
              "      <td>0.173790</td>\n",
              "      <td>0.753857</td>\n",
              "      <td>1.000000</td>\n",
              "      <td>0.604721</td>\n",
              "      <td>-0.121405</td>\n",
              "      <td>-0.191437</td>\n",
              "    </tr>\n",
              "    <tr>\n",
              "      <th>SH4_C7_Distance -0.118</th>\n",
              "      <td>-0.002433</td>\n",
              "      <td>0.037350</td>\n",
              "      <td>0.003163</td>\n",
              "      <td>0.215421</td>\n",
              "      <td>-0.009052</td>\n",
              "      <td>0.294344</td>\n",
              "      <td>0.193847</td>\n",
              "      <td>0.002216</td>\n",
              "      <td>-0.026401</td>\n",
              "      <td>0.269236</td>\n",
              "      <td>...</td>\n",
              "      <td>-0.254092</td>\n",
              "      <td>-0.428236</td>\n",
              "      <td>-0.202484</td>\n",
              "      <td>-0.129899</td>\n",
              "      <td>0.160850</td>\n",
              "      <td>0.465131</td>\n",
              "      <td>0.604721</td>\n",
              "      <td>1.000000</td>\n",
              "      <td>-0.330523</td>\n",
              "      <td>-0.282643</td>\n",
              "    </tr>\n",
              "    <tr>\n",
              "      <th>SH2_B8_Angle -5 Deg</th>\n",
              "      <td>-0.049315</td>\n",
              "      <td>-0.213918</td>\n",
              "      <td>-0.171620</td>\n",
              "      <td>-0.510653</td>\n",
              "      <td>-0.193676</td>\n",
              "      <td>-0.200453</td>\n",
              "      <td>-0.114379</td>\n",
              "      <td>-0.141098</td>\n",
              "      <td>-0.191471</td>\n",
              "      <td>-0.091812</td>\n",
              "      <td>...</td>\n",
              "      <td>-0.223977</td>\n",
              "      <td>0.145218</td>\n",
              "      <td>0.387386</td>\n",
              "      <td>-0.133253</td>\n",
              "      <td>-0.150286</td>\n",
              "      <td>-0.025073</td>\n",
              "      <td>-0.121405</td>\n",
              "      <td>-0.330523</td>\n",
              "      <td>1.000000</td>\n",
              "      <td>-0.026942</td>\n",
              "    </tr>\n",
              "    <tr>\n",
              "      <th>SH2_C7_Distance -6.000_R</th>\n",
              "      <td>0.043954</td>\n",
              "      <td>-0.016875</td>\n",
              "      <td>0.026702</td>\n",
              "      <td>0.069473</td>\n",
              "      <td>-0.018965</td>\n",
              "      <td>-0.079935</td>\n",
              "      <td>-0.049197</td>\n",
              "      <td>-0.281696</td>\n",
              "      <td>0.010056</td>\n",
              "      <td>-0.128869</td>\n",
              "      <td>...</td>\n",
              "      <td>0.160710</td>\n",
              "      <td>0.327466</td>\n",
              "      <td>0.069517</td>\n",
              "      <td>0.089874</td>\n",
              "      <td>-0.046255</td>\n",
              "      <td>-0.157445</td>\n",
              "      <td>-0.191437</td>\n",
              "      <td>-0.282643</td>\n",
              "      <td>-0.026942</td>\n",
              "      <td>1.000000</td>\n",
              "    </tr>\n",
              "  </tbody>\n",
              "</table>\n",
              "<p>128 rows × 128 columns</p>\n",
              "</div>\n",
              "      <button class=\"colab-df-convert\" onclick=\"convertToInteractive('df-bad388b7-5b85-4a96-a918-f7b4c3214730')\"\n",
              "              title=\"Convert this dataframe to an interactive table.\"\n",
              "              style=\"display:none;\">\n",
              "        \n",
              "  <svg xmlns=\"http://www.w3.org/2000/svg\" height=\"24px\"viewBox=\"0 0 24 24\"\n",
              "       width=\"24px\">\n",
              "    <path d=\"M0 0h24v24H0V0z\" fill=\"none\"/>\n",
              "    <path d=\"M18.56 5.44l.94 2.06.94-2.06 2.06-.94-2.06-.94-.94-2.06-.94 2.06-2.06.94zm-11 1L8.5 8.5l.94-2.06 2.06-.94-2.06-.94L8.5 2.5l-.94 2.06-2.06.94zm10 10l.94 2.06.94-2.06 2.06-.94-2.06-.94-.94-2.06-.94 2.06-2.06.94z\"/><path d=\"M17.41 7.96l-1.37-1.37c-.4-.4-.92-.59-1.43-.59-.52 0-1.04.2-1.43.59L10.3 9.45l-7.72 7.72c-.78.78-.78 2.05 0 2.83L4 21.41c.39.39.9.59 1.41.59.51 0 1.02-.2 1.41-.59l7.78-7.78 2.81-2.81c.8-.78.8-2.07 0-2.86zM5.41 20L4 18.59l7.72-7.72 1.47 1.35L5.41 20z\"/>\n",
              "  </svg>\n",
              "      </button>\n",
              "      \n",
              "  <style>\n",
              "    .colab-df-container {\n",
              "      display:flex;\n",
              "      flex-wrap:wrap;\n",
              "      gap: 12px;\n",
              "    }\n",
              "\n",
              "    .colab-df-convert {\n",
              "      background-color: #E8F0FE;\n",
              "      border: none;\n",
              "      border-radius: 50%;\n",
              "      cursor: pointer;\n",
              "      display: none;\n",
              "      fill: #1967D2;\n",
              "      height: 32px;\n",
              "      padding: 0 0 0 0;\n",
              "      width: 32px;\n",
              "    }\n",
              "\n",
              "    .colab-df-convert:hover {\n",
              "      background-color: #E2EBFA;\n",
              "      box-shadow: 0px 1px 2px rgba(60, 64, 67, 0.3), 0px 1px 3px 1px rgba(60, 64, 67, 0.15);\n",
              "      fill: #174EA6;\n",
              "    }\n",
              "\n",
              "    [theme=dark] .colab-df-convert {\n",
              "      background-color: #3B4455;\n",
              "      fill: #D2E3FC;\n",
              "    }\n",
              "\n",
              "    [theme=dark] .colab-df-convert:hover {\n",
              "      background-color: #434B5C;\n",
              "      box-shadow: 0px 1px 3px 1px rgba(0, 0, 0, 0.15);\n",
              "      filter: drop-shadow(0px 1px 2px rgba(0, 0, 0, 0.3));\n",
              "      fill: #FFFFFF;\n",
              "    }\n",
              "  </style>\n",
              "\n",
              "      <script>\n",
              "        const buttonEl =\n",
              "          document.querySelector('#df-bad388b7-5b85-4a96-a918-f7b4c3214730 button.colab-df-convert');\n",
              "        buttonEl.style.display =\n",
              "          google.colab.kernel.accessAllowed ? 'block' : 'none';\n",
              "\n",
              "        async function convertToInteractive(key) {\n",
              "          const element = document.querySelector('#df-bad388b7-5b85-4a96-a918-f7b4c3214730');\n",
              "          const dataTable =\n",
              "            await google.colab.kernel.invokeFunction('convertToInteractive',\n",
              "                                                     [key], {});\n",
              "          if (!dataTable) return;\n",
              "\n",
              "          const docLinkHtml = 'Like what you see? Visit the ' +\n",
              "            '<a target=\"_blank\" href=https://colab.research.google.com/notebooks/data_table.ipynb>data table notebook</a>'\n",
              "            + ' to learn more about interactive tables.';\n",
              "          element.innerHTML = '';\n",
              "          dataTable['output_type'] = 'display_data';\n",
              "          await google.colab.output.renderOutput(dataTable, element);\n",
              "          const docLink = document.createElement('div');\n",
              "          docLink.innerHTML = docLinkHtml;\n",
              "          element.appendChild(docLink);\n",
              "        }\n",
              "      </script>\n",
              "    </div>\n",
              "  </div>\n",
              "  "
            ]
          },
          "metadata": {},
          "execution_count": 62
        }
      ]
    },
    {
      "cell_type": "markdown",
      "metadata": {
        "id": "tsGU3YrtW24b"
      },
      "source": [
        "# Training the Random Forest Regression model on the whole dataset"
      ]
    },
    {
      "cell_type": "code",
      "metadata": {
        "colab": {
          "base_uri": "https://localhost:8080/"
        },
        "id": "xVNOfJ5_W54i",
        "outputId": "296b2a27-65c7-48d0-8bc1-2a3c6c046fdd"
      },
      "source": [
        "from sklearn.ensemble import RandomForestRegressor\n",
        "regressor = RandomForestRegressor(n_estimators = 10, random_state = 0)\n",
        "regressor.fit(X, Y)"
      ],
      "execution_count": 63,
      "outputs": [
        {
          "output_type": "stream",
          "name": "stderr",
          "text": [
            "/usr/local/lib/python3.7/dist-packages/ipykernel_launcher.py:3: DataConversionWarning: A column-vector y was passed when a 1d array was expected. Please change the shape of y to (n_samples,), for example using ravel().\n",
            "  This is separate from the ipykernel package so we can avoid doing imports until\n"
          ]
        },
        {
          "output_type": "execute_result",
          "data": {
            "text/plain": [
              "RandomForestRegressor(n_estimators=10, random_state=0)"
            ]
          },
          "metadata": {},
          "execution_count": 63
        }
      ]
    },
    {
      "cell_type": "markdown",
      "metadata": {
        "id": "Atau59DAXNIv"
      },
      "source": [
        "Predicting the Test set results"
      ]
    },
    {
      "cell_type": "code",
      "metadata": {
        "colab": {
          "base_uri": "https://localhost:8080/"
        },
        "id": "-RhOyDNgXBPH",
        "outputId": "2a63ba0f-e8c5-4c78-9c39-d9cc5bbf892d"
      },
      "source": [
        "Y_pred = regressor.predict(X)\n",
        "np.set_printoptions(precision=6)\n",
        "print(np.concatenate((Y_pred.reshape(len(Y_pred),1), Y.reshape(len(Y),1)),1))"
      ],
      "execution_count": 64,
      "outputs": [
        {
          "output_type": "stream",
          "name": "stdout",
          "text": [
            "[[0.222263 0.2223  ]\n",
            " [0.221755 0.221733]\n",
            " [0.2219   0.221904]\n",
            " [0.22188  0.221841]\n",
            " [0.221917 0.221928]\n",
            " [0.221893 0.221905]\n",
            " [0.221923 0.22193 ]\n",
            " [0.221886 0.221886]\n",
            " [0.221836 0.221834]\n",
            " [0.221864 0.221859]\n",
            " [0.221899 0.221896]\n",
            " [0.221728 0.221888]\n",
            " [0.221882 0.221868]\n",
            " [0.221918 0.221922]\n",
            " [0.22192  0.221913]\n",
            " [0.221905 0.221904]\n",
            " [0.221912 0.22191 ]\n",
            " [0.221924 0.221927]\n",
            " [0.22191  0.221912]\n",
            " [0.221885 0.221875]\n",
            " [0.221923 0.221926]\n",
            " [0.221922 0.221921]\n",
            " [0.22192  0.221925]\n",
            " [0.221913 0.221907]\n",
            " [0.221927 0.221931]\n",
            " [0.221933 0.221942]\n",
            " [0.221932 0.221939]\n",
            " [0.221926 0.221934]\n",
            " [0.221921 0.221921]\n",
            " [0.221906 0.221908]\n",
            " [0.221917 0.221921]\n",
            " [0.221908 0.221917]\n",
            " [0.221914 0.221916]\n",
            " [0.22193  0.221931]\n",
            " [0.221909 0.221908]\n",
            " [0.221916 0.221913]\n",
            " [0.221914 0.221909]\n",
            " [0.221913 0.221911]\n",
            " [0.221893 0.221887]\n",
            " [0.221916 0.221913]\n",
            " [0.221915 0.22191 ]\n",
            " [0.221909 0.221908]\n",
            " [0.221924 0.221939]\n",
            " [0.221916 0.221916]\n",
            " [0.221913 0.221923]\n",
            " [0.221918 0.221921]\n",
            " [0.221908 0.221914]\n",
            " [0.221911 0.221907]\n",
            " [0.221903 0.221899]\n",
            " [0.221914 0.221914]\n",
            " [0.221891 0.22188 ]\n",
            " [0.221888 0.221883]\n",
            " [0.221901 0.221905]\n",
            " [0.221934 0.221934]\n",
            " [0.221871 0.221852]\n",
            " [0.221865 0.221862]\n",
            " [0.221934 0.221934]\n",
            " [0.221851 0.221849]\n",
            " [0.22185  0.221842]\n",
            " [0.221838 0.221837]\n",
            " [0.221854 0.221855]\n",
            " [0.221859 0.221847]\n",
            " [0.221813 0.221779]\n",
            " [0.22189  0.221893]\n",
            " [0.221882 0.221899]\n",
            " [0.22189  0.221891]\n",
            " [0.221903 0.221904]\n",
            " [0.221877 0.221886]\n",
            " [0.221895 0.221904]\n",
            " [0.221875 0.22187 ]\n",
            " [0.221406 0.221357]\n",
            " [0.221437 0.221357]\n",
            " [0.221355 0.221368]\n",
            " [0.221337 0.221346]\n",
            " [0.221323 0.221322]\n",
            " [0.221341 0.221344]\n",
            " [0.221344 0.221343]\n",
            " [0.221289 0.221259]\n",
            " [0.221324 0.22132 ]\n",
            " [0.221337 0.221348]\n",
            " [0.221268 0.221247]\n",
            " [0.221309 0.221303]\n",
            " [0.221285 0.221287]\n",
            " [0.221315 0.221294]\n",
            " [0.221322 0.221313]\n",
            " [0.221332 0.221343]\n",
            " [0.221293 0.221264]\n",
            " [0.221316 0.221326]\n",
            " [0.221332 0.221238]\n",
            " [0.221313 0.221296]\n",
            " [0.22134  0.221358]\n",
            " [0.221324 0.221343]]\n"
          ]
        }
      ]
    },
    {
      "cell_type": "markdown",
      "metadata": {
        "id": "_paDDO4nXcT1"
      },
      "source": [
        "Getting the final linear regression equation with the values of the coefficients"
      ]
    },
    {
      "cell_type": "markdown",
      "metadata": {
        "id": "3rct4YimXh3l"
      },
      "source": [
        "# Evaluating the Model Performance"
      ]
    },
    {
      "cell_type": "code",
      "metadata": {
        "colab": {
          "base_uri": "https://localhost:8080/"
        },
        "id": "y3MMROTzXet4",
        "outputId": "7f93a042-338f-4f0f-f9af-b3c0a77df461"
      },
      "source": [
        "from sklearn.metrics import r2_score\n",
        "r2_score(Y, Y_pred)"
      ],
      "execution_count": 65,
      "outputs": [
        {
          "output_type": "execute_result",
          "data": {
            "text/plain": [
              "0.9908722512542893"
            ]
          },
          "metadata": {},
          "execution_count": 65
        }
      ]
    },
    {
      "cell_type": "code",
      "source": [
        "df=dataset.drop('SN (JOB #)', 1)"
      ],
      "metadata": {
        "id": "QewpD1w4upUf",
        "outputId": "a56fffe4-08d4-4c00-b8ab-f638ef5fd2e3",
        "colab": {
          "base_uri": "https://localhost:8080/"
        }
      },
      "execution_count": 66,
      "outputs": [
        {
          "output_type": "stream",
          "name": "stderr",
          "text": [
            "/usr/local/lib/python3.7/dist-packages/ipykernel_launcher.py:1: FutureWarning: In a future version of pandas all arguments of DataFrame.drop except for the argument 'labels' will be keyword-only\n",
            "  \"\"\"Entry point for launching an IPython kernel.\n"
          ]
        }
      ]
    },
    {
      "cell_type": "code",
      "source": [
        "features = df.columns\n",
        "importances = regressor.feature_importances_\n",
        "indices = np.argsort(importances)[-9:]  # top 10 features\n",
        "plt.title('Feature Importances')\n",
        "plt.barh(range(len(indices)), importances[indices], color='b', align='center')\n",
        "plt.yticks(range(len(indices)), [features[i] for i in indices])\n",
        "plt.xlabel('Relative Importance')\n",
        "plt.show()"
      ],
      "metadata": {
        "colab": {
          "base_uri": "https://localhost:8080/",
          "height": 294
        },
        "id": "dnskUrL9uqMV",
        "outputId": "9edea539-ad2b-4449-eacb-2873d940d8a0"
      },
      "execution_count": 67,
      "outputs": [
        {
          "output_type": "display_data",
          "data": {
            "text/plain": [
              "<Figure size 432x288 with 1 Axes>"
            ],
            "image/png": "[encoded data removed]"
          },
          "metadata": {
            "needs_background": "light"
          }
        }
      ]
    },
    {
      "cell_type": "code",
      "source": [
        "from sklearn.metrics import mean_absolute_error as mae\n",
        "MAE = mae(Y, Y_pred)\n",
        "from sklearn.metrics import mean_squared_error as mse\n",
        "MSE = mse(Y, Y_pred)"
      ],
      "metadata": {
        "id": "cvT9p41gb6fr"
      },
      "execution_count": 68,
      "outputs": []
    },
    {
      "cell_type": "code",
      "source": [
        "print(MAE)"
      ],
      "metadata": {
        "id": "alTvnBe4b7O3",
        "outputId": "a6837b50-e7b7-4792-88e2-480ae51e7810",
        "colab": {
          "base_uri": "https://localhost:8080/"
        }
      },
      "execution_count": 69,
      "outputs": [
        {
          "output_type": "stream",
          "name": "stdout",
          "text": [
            "1.1693478260871847e-05\n"
          ]
        }
      ]
    },
    {
      "cell_type": "code",
      "source": [
        "print(MSE)"
      ],
      "metadata": {
        "id": "LDCQSaShb9Vd",
        "outputId": "99bf3ed8-e4ec-414f-e7b9-4f632f7c7214",
        "colab": {
          "base_uri": "https://localhost:8080/"
        }
      },
      "execution_count": 70,
      "outputs": [
        {
          "output_type": "stream",
          "name": "stdout",
          "text": [
            "5.973560869566267e-10\n"
          ]
        }
      ]
    },
    {
      "cell_type": "code",
      "source": [
        "MAPE = MAE*100\n",
        "print(MAPE)"
      ],
      "metadata": {
        "id": "S1D_A-RLcA_c",
        "outputId": "07283ed1-bef1-44ba-ddaf-df31423d4279",
        "colab": {
          "base_uri": "https://localhost:8080/"
        }
      },
      "execution_count": 71,
      "outputs": [
        {
          "output_type": "stream",
          "name": "stdout",
          "text": [
            "0.0011693478260871846\n"
          ]
        }
      ]
    }
  ]
}