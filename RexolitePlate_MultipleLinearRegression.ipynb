{
  "nbformat": 4,
  "nbformat_minor": 0,
  "metadata": {
    "colab": {
      "name": "Untitled8.ipynb",
      "provenance": [],
      "collapsed_sections": [],
      "authorship_tag": "ABX9TyMLeXnKFlSMIhjw5Sj9W2UI",
      "include_colab_link": true
    },
    "kernelspec": {
      "name": "python3",
      "display_name": "Python 3"
    },
    "language_info": {
      "name": "python"
    }
  },
  "cells": [
    {
      "cell_type": "markdown",
      "metadata": {
        "id": "view-in-github",
        "colab_type": "text"
      },
      "source": [
        "<a href=\"https://colab.research.google.com/github/MananDesai2997/MananDesai2997/blob/main/RexolitePlate_MultipleLinearRegression.ipynb\" target=\"_parent\"><img src=\"https://colab.research.google.com/assets/colab-badge.svg\" alt=\"Open In Colab\"/></a>"
      ]
    },
    {
      "cell_type": "markdown",
      "source": [
        "# Multiple Linear Regression"
      ],
      "metadata": {
        "id": "Ng7pFbRY62TK"
      }
    },
    {
      "cell_type": "markdown",
      "metadata": {
        "id": "VgUCAJVfK1FM"
      },
      "source": [
        "# Importing the libraries"
      ]
    },
    {
      "cell_type": "code",
      "metadata": {
        "id": "miNHtrW2ouQu"
      },
      "source": [
        "import numpy as np\n",
        "import matplotlib.pyplot as plt\n",
        "import pandas as pd\n",
        "import seaborn as sns"
      ],
      "execution_count": 673,
      "outputs": []
    },
    {
      "cell_type": "markdown",
      "metadata": {
        "id": "UOATjbP3LDCN"
      },
      "source": [
        "# Importing the dataset"
      ]
    },
    {
      "cell_type": "code",
      "metadata": {
        "id": "TDxiNx1pozd0"
      },
      "source": [
        "import io\n",
        "from google.colab import files"
      ],
      "execution_count": 674,
      "outputs": []
    },
    {
      "cell_type": "code",
      "metadata": {
        "colab": {
          "resources": {
            "http://localhost:8080/nbextensions/google.colab/files.js": {
              "data": "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",
              "ok": true,
              "headers": [
                [
                  "content-type",
                  "application/javascript"
                ]
              ],
              "status": 200,
              "status_text": ""
            }
          },
          "base_uri": "https://localhost:8080/",
          "height": 74
        },
        "id": "dJFAN9dwyJpV",
        "outputId": "14f324f1-af8d-401a-eb70-363e160ec5f1"
      },
      "source": [
        "uploaded = files.upload()"
      ],
      "execution_count": 675,
      "outputs": [
        {
          "output_type": "display_data",
          "data": {
            "text/plain": [
              "<IPython.core.display.HTML object>"
            ],
            "text/html": [
              "\n",
              "     <input type=\"file\" id=\"files-9c913e0a-d788-48fb-a247-63b9dd796d3f\" name=\"files[]\" multiple disabled\n",
              "        style=\"border:none\" />\n",
              "     <output id=\"result-9c913e0a-d788-48fb-a247-63b9dd796d3f\">\n",
              "      Upload widget is only available when the cell has been executed in the\n",
              "      current browser session. Please rerun this cell to enable.\n",
              "      </output>\n",
              "      <script src=\"/nbextensions/google.colab/files.js\"></script> "
            ]
          },
          "metadata": {}
        },
        {
          "output_type": "stream",
          "name": "stdout",
          "text": [
            "Saving 0041-83493_Rev07.csv to 0041-83493_Rev07 (19).csv\n"
          ]
        }
      ]
    },
    {
      "cell_type": "code",
      "metadata": {
        "id": "J6QPZ2MqyKt9"
      },
      "source": [
        "dataset = pd.read_csv(io.BytesIO(uploaded['0041-83493_Rev07.csv']))"
      ],
      "execution_count": 676,
      "outputs": []
    },
    {
      "cell_type": "code",
      "metadata": {
        "colab": {
          "base_uri": "https://localhost:8080/",
          "height": 764
        },
        "id": "zdLl7DL20nFj",
        "outputId": "7a31fcb2-9b56-4422-9b99-4ae60f6ca83c"
      },
      "source": [
        "dataset"
      ],
      "execution_count": 677,
      "outputs": [
        {
          "output_type": "execute_result",
          "data": {
            "text/plain": [
              "                              SN (JOB #)  SH1_C2_Diameter -14.020  \\\n",
              "0              IPI-001_SN0001 (CP467059)                14.017400   \n",
              "1               0 DEG SN 0002 (CP471589)                14.016011   \n",
              "2              90 DEG SN 0003 (CP471589)                14.015942   \n",
              "3             180 DEG SN 0004 (CP471589)                14.018477   \n",
              "4               SN0005 270DEG (CP471589)                14.016071   \n",
              "..                                   ...                      ...   \n",
              "87  SN 301514-5021-0256 (CP474149_REV08)                14.015503   \n",
              "88  SN 301514-5021-0257 (CP474149_REV08)                14.015220   \n",
              "89  SN 301514-5021-0258 (CP474149_REV08)                14.015178   \n",
              "90  SN 301514-5021-0259 (CP474149_REV08)                14.017048   \n",
              "91  SN 301514-5021-0260 (CP474149_REV08)                14.017311   \n",
              "\n",
              "    SH1_B5_Diameter -0.220  SH1_B5_Diameter -0.160  SH1_B5_Position -0.005  \\\n",
              "0                 0.222300                0.161250                0.000700   \n",
              "1                 0.221733                0.161174                0.000481   \n",
              "2                 0.221904                0.161202                0.000903   \n",
              "3                 0.221841                0.161174                0.000434   \n",
              "4                 0.221928                0.161158                0.000481   \n",
              "..                     ...                     ...                     ...   \n",
              "87                0.221326                0.160738                0.000396   \n",
              "88                0.221238                0.160695                0.001317   \n",
              "89                0.221296                0.160680                0.000526   \n",
              "90                0.221358                0.160751                0.000183   \n",
              "91                0.221343                0.160738                0.000401   \n",
              "\n",
              "    SH1_B1_Width -0.190  SH1_B1_Distance -0.200  SH1_B1_Position- 0.002  \\\n",
              "0              0.192200                0.198800                0.000000   \n",
              "1              0.191812                0.200574                0.000000   \n",
              "2              0.191788                0.200091                0.000000   \n",
              "3              0.191770                0.200465                0.000000   \n",
              "4              0.191820                0.200294                0.000000   \n",
              "..                  ...                     ...                     ...   \n",
              "87             0.191336                0.200956                0.000008   \n",
              "88             0.191349                0.200278                0.000000   \n",
              "89             0.191342                0.200183                0.000000   \n",
              "90             0.191340                0.200260                0.000000   \n",
              "91             0.191361                0.200214                0.000000   \n",
              "\n",
              "    SH1_D5_Position -0.005  SH2_D7_Width -0.190  ...  SH4_B7_Width -0.065  \\\n",
              "0                 0.001100             0.192200  ...             0.068400   \n",
              "1                 0.001154             0.191750  ...             0.067757   \n",
              "2                 0.001015             0.191730  ...             0.067760   \n",
              "3                 0.001113             0.191971  ...             0.067707   \n",
              "4                 0.000876             0.191710  ...             0.067761   \n",
              "..                     ...                  ...  ...                  ...   \n",
              "87                0.001500             0.191257  ...             0.067776   \n",
              "88                0.001034             0.191284  ...             0.067780   \n",
              "89                0.000821             0.191169  ...             0.067780   \n",
              "90                0.000817             0.191211  ...             0.067777   \n",
              "91                0.001026             0.191211  ...             0.067797   \n",
              "\n",
              "    SH3_B8_Position -0.005  SH3_B7_Distance -0.100  SH4_C7_Radius -0.0325  \\\n",
              "0                 0.001200                0.098950               0.033800   \n",
              "1                 0.002455                0.102773               0.033507   \n",
              "2                 0.001692                0.102942               0.033518   \n",
              "3                 0.002165                0.102567               0.033509   \n",
              "4                 0.001043                0.102188               0.033508   \n",
              "..                     ...                     ...                    ...   \n",
              "87                0.000313                0.098899               0.033551   \n",
              "88                0.001097                0.098601               0.033503   \n",
              "89                0.000545                0.098496               0.033497   \n",
              "90                0.000742                0.098684               0.033505   \n",
              "91                0.001083                0.098558               0.033509   \n",
              "\n",
              "    SH4_D8_Distance -0.470  SH4_D8_Distance -0.235  SH4_B7_Distance -0.148  \\\n",
              "0                 0.473750                0.236300                0.147450   \n",
              "1                 0.470759                0.234603                0.147419   \n",
              "2                 0.470711                0.234614                0.147386   \n",
              "3                 0.470742                0.234636                0.147522   \n",
              "4                 0.470712                0.234519                0.147350   \n",
              "..                     ...                     ...                     ...   \n",
              "87                0.472191                0.236373                0.148387   \n",
              "88                0.472068                0.236322                0.148331   \n",
              "89                0.471922                0.236317                0.148301   \n",
              "90                0.471981                0.236307                0.148213   \n",
              "91                0.472003                0.236282                0.148391   \n",
              "\n",
              "    SH4_C7_Distance -0.118  SH2_B8_Angle -5 Deg  SH2_C7_Distance -6.000_R  \n",
              "0                 0.117250             5.040300                  6.000200  \n",
              "1                 0.117412             5.056671                  6.000013  \n",
              "2                 0.117469             5.050116                  5.999963  \n",
              "3                 0.117474             5.050046                  6.000079  \n",
              "4                 0.117411             5.045632                  5.999966  \n",
              "..                     ...                  ...                       ...  \n",
              "87                0.118398             5.046470                  5.998720  \n",
              "88                0.118553             5.044330                  6.000287  \n",
              "89                0.118640             5.044763                  6.000126  \n",
              "90                0.118508             5.046067                  6.000382  \n",
              "91                0.118686             5.046220                  6.000193  \n",
              "\n",
              "[92 rows x 129 columns]"
            ],
            "text/html": [
              "\n",
              "  <div id=\"df-73960ccd-2c5a-42d3-b5df-e6dc1c82d8b3\">\n",
              "    <div class=\"colab-df-container\">\n",
              "      <div>\n",
              "<style scoped>\n",
              "    .dataframe tbody tr th:only-of-type {\n",
              "        vertical-align: middle;\n",
              "    }\n",
              "\n",
              "    .dataframe tbody tr th {\n",
              "        vertical-align: top;\n",
              "    }\n",
              "\n",
              "    .dataframe thead th {\n",
              "        text-align: right;\n",
              "    }\n",
              "</style>\n",
              "<table border=\"1\" class=\"dataframe\">\n",
              "  <thead>\n",
              "    <tr style=\"text-align: right;\">\n",
              "      <th></th>\n",
              "      <th>SN (JOB #)</th>\n",
              "      <th>SH1_C2_Diameter -14.020</th>\n",
              "      <th>SH1_B5_Diameter -0.220</th>\n",
              "      <th>SH1_B5_Diameter -0.160</th>\n",
              "      <th>SH1_B5_Position -0.005</th>\n",
              "      <th>SH1_B1_Width -0.190</th>\n",
              "      <th>SH1_B1_Distance -0.200</th>\n",
              "      <th>SH1_B1_Position- 0.002</th>\n",
              "      <th>SH1_D5_Position -0.005</th>\n",
              "      <th>SH2_D7_Width -0.190</th>\n",
              "      <th>...</th>\n",
              "      <th>SH4_B7_Width -0.065</th>\n",
              "      <th>SH3_B8_Position -0.005</th>\n",
              "      <th>SH3_B7_Distance -0.100</th>\n",
              "      <th>SH4_C7_Radius -0.0325</th>\n",
              "      <th>SH4_D8_Distance -0.470</th>\n",
              "      <th>SH4_D8_Distance -0.235</th>\n",
              "      <th>SH4_B7_Distance -0.148</th>\n",
              "      <th>SH4_C7_Distance -0.118</th>\n",
              "      <th>SH2_B8_Angle -5 Deg</th>\n",
              "      <th>SH2_C7_Distance -6.000_R</th>\n",
              "    </tr>\n",
              "  </thead>\n",
              "  <tbody>\n",
              "    <tr>\n",
              "      <th>0</th>\n",
              "      <td>IPI-001_SN0001 (CP467059)</td>\n",
              "      <td>14.017400</td>\n",
              "      <td>0.222300</td>\n",
              "      <td>0.161250</td>\n",
              "      <td>0.000700</td>\n",
              "      <td>0.192200</td>\n",
              "      <td>0.198800</td>\n",
              "      <td>0.000000</td>\n",
              "      <td>0.001100</td>\n",
              "      <td>0.192200</td>\n",
              "      <td>...</td>\n",
              "      <td>0.068400</td>\n",
              "      <td>0.001200</td>\n",
              "      <td>0.098950</td>\n",
              "      <td>0.033800</td>\n",
              "      <td>0.473750</td>\n",
              "      <td>0.236300</td>\n",
              "      <td>0.147450</td>\n",
              "      <td>0.117250</td>\n",
              "      <td>5.040300</td>\n",
              "      <td>6.000200</td>\n",
              "    </tr>\n",
              "    <tr>\n",
              "      <th>1</th>\n",
              "      <td>0 DEG SN 0002 (CP471589)</td>\n",
              "      <td>14.016011</td>\n",
              "      <td>0.221733</td>\n",
              "      <td>0.161174</td>\n",
              "      <td>0.000481</td>\n",
              "      <td>0.191812</td>\n",
              "      <td>0.200574</td>\n",
              "      <td>0.000000</td>\n",
              "      <td>0.001154</td>\n",
              "      <td>0.191750</td>\n",
              "      <td>...</td>\n",
              "      <td>0.067757</td>\n",
              "      <td>0.002455</td>\n",
              "      <td>0.102773</td>\n",
              "      <td>0.033507</td>\n",
              "      <td>0.470759</td>\n",
              "      <td>0.234603</td>\n",
              "      <td>0.147419</td>\n",
              "      <td>0.117412</td>\n",
              "      <td>5.056671</td>\n",
              "      <td>6.000013</td>\n",
              "    </tr>\n",
              "    <tr>\n",
              "      <th>2</th>\n",
              "      <td>90 DEG SN 0003 (CP471589)</td>\n",
              "      <td>14.015942</td>\n",
              "      <td>0.221904</td>\n",
              "      <td>0.161202</td>\n",
              "      <td>0.000903</td>\n",
              "      <td>0.191788</td>\n",
              "      <td>0.200091</td>\n",
              "      <td>0.000000</td>\n",
              "      <td>0.001015</td>\n",
              "      <td>0.191730</td>\n",
              "      <td>...</td>\n",
              "      <td>0.067760</td>\n",
              "      <td>0.001692</td>\n",
              "      <td>0.102942</td>\n",
              "      <td>0.033518</td>\n",
              "      <td>0.470711</td>\n",
              "      <td>0.234614</td>\n",
              "      <td>0.147386</td>\n",
              "      <td>0.117469</td>\n",
              "      <td>5.050116</td>\n",
              "      <td>5.999963</td>\n",
              "    </tr>\n",
              "    <tr>\n",
              "      <th>3</th>\n",
              "      <td>180 DEG SN 0004 (CP471589)</td>\n",
              "      <td>14.018477</td>\n",
              "      <td>0.221841</td>\n",
              "      <td>0.161174</td>\n",
              "      <td>0.000434</td>\n",
              "      <td>0.191770</td>\n",
              "      <td>0.200465</td>\n",
              "      <td>0.000000</td>\n",
              "      <td>0.001113</td>\n",
              "      <td>0.191971</td>\n",
              "      <td>...</td>\n",
              "      <td>0.067707</td>\n",
              "      <td>0.002165</td>\n",
              "      <td>0.102567</td>\n",
              "      <td>0.033509</td>\n",
              "      <td>0.470742</td>\n",
              "      <td>0.234636</td>\n",
              "      <td>0.147522</td>\n",
              "      <td>0.117474</td>\n",
              "      <td>5.050046</td>\n",
              "      <td>6.000079</td>\n",
              "    </tr>\n",
              "    <tr>\n",
              "      <th>4</th>\n",
              "      <td>SN0005 270DEG (CP471589)</td>\n",
              "      <td>14.016071</td>\n",
              "      <td>0.221928</td>\n",
              "      <td>0.161158</td>\n",
              "      <td>0.000481</td>\n",
              "      <td>0.191820</td>\n",
              "      <td>0.200294</td>\n",
              "      <td>0.000000</td>\n",
              "      <td>0.000876</td>\n",
              "      <td>0.191710</td>\n",
              "      <td>...</td>\n",
              "      <td>0.067761</td>\n",
              "      <td>0.001043</td>\n",
              "      <td>0.102188</td>\n",
              "      <td>0.033508</td>\n",
              "      <td>0.470712</td>\n",
              "      <td>0.234519</td>\n",
              "      <td>0.147350</td>\n",
              "      <td>0.117411</td>\n",
              "      <td>5.045632</td>\n",
              "      <td>5.999966</td>\n",
              "    </tr>\n",
              "    <tr>\n",
              "      <th>...</th>\n",
              "      <td>...</td>\n",
              "      <td>...</td>\n",
              "      <td>...</td>\n",
              "      <td>...</td>\n",
              "      <td>...</td>\n",
              "      <td>...</td>\n",
              "      <td>...</td>\n",
              "      <td>...</td>\n",
              "      <td>...</td>\n",
              "      <td>...</td>\n",
              "      <td>...</td>\n",
              "      <td>...</td>\n",
              "      <td>...</td>\n",
              "      <td>...</td>\n",
              "      <td>...</td>\n",
              "      <td>...</td>\n",
              "      <td>...</td>\n",
              "      <td>...</td>\n",
              "      <td>...</td>\n",
              "      <td>...</td>\n",
              "      <td>...</td>\n",
              "    </tr>\n",
              "    <tr>\n",
              "      <th>87</th>\n",
              "      <td>SN 301514-5021-0256 (CP474149_REV08)</td>\n",
              "      <td>14.015503</td>\n",
              "      <td>0.221326</td>\n",
              "      <td>0.160738</td>\n",
              "      <td>0.000396</td>\n",
              "      <td>0.191336</td>\n",
              "      <td>0.200956</td>\n",
              "      <td>0.000008</td>\n",
              "      <td>0.001500</td>\n",
              "      <td>0.191257</td>\n",
              "      <td>...</td>\n",
              "      <td>0.067776</td>\n",
              "      <td>0.000313</td>\n",
              "      <td>0.098899</td>\n",
              "      <td>0.033551</td>\n",
              "      <td>0.472191</td>\n",
              "      <td>0.236373</td>\n",
              "      <td>0.148387</td>\n",
              "      <td>0.118398</td>\n",
              "      <td>5.046470</td>\n",
              "      <td>5.998720</td>\n",
              "    </tr>\n",
              "    <tr>\n",
              "      <th>88</th>\n",
              "      <td>SN 301514-5021-0257 (CP474149_REV08)</td>\n",
              "      <td>14.015220</td>\n",
              "      <td>0.221238</td>\n",
              "      <td>0.160695</td>\n",
              "      <td>0.001317</td>\n",
              "      <td>0.191349</td>\n",
              "      <td>0.200278</td>\n",
              "      <td>0.000000</td>\n",
              "      <td>0.001034</td>\n",
              "      <td>0.191284</td>\n",
              "      <td>...</td>\n",
              "      <td>0.067780</td>\n",
              "      <td>0.001097</td>\n",
              "      <td>0.098601</td>\n",
              "      <td>0.033503</td>\n",
              "      <td>0.472068</td>\n",
              "      <td>0.236322</td>\n",
              "      <td>0.148331</td>\n",
              "      <td>0.118553</td>\n",
              "      <td>5.044330</td>\n",
              "      <td>6.000287</td>\n",
              "    </tr>\n",
              "    <tr>\n",
              "      <th>89</th>\n",
              "      <td>SN 301514-5021-0258 (CP474149_REV08)</td>\n",
              "      <td>14.015178</td>\n",
              "      <td>0.221296</td>\n",
              "      <td>0.160680</td>\n",
              "      <td>0.000526</td>\n",
              "      <td>0.191342</td>\n",
              "      <td>0.200183</td>\n",
              "      <td>0.000000</td>\n",
              "      <td>0.000821</td>\n",
              "      <td>0.191169</td>\n",
              "      <td>...</td>\n",
              "      <td>0.067780</td>\n",
              "      <td>0.000545</td>\n",
              "      <td>0.098496</td>\n",
              "      <td>0.033497</td>\n",
              "      <td>0.471922</td>\n",
              "      <td>0.236317</td>\n",
              "      <td>0.148301</td>\n",
              "      <td>0.118640</td>\n",
              "      <td>5.044763</td>\n",
              "      <td>6.000126</td>\n",
              "    </tr>\n",
              "    <tr>\n",
              "      <th>90</th>\n",
              "      <td>SN 301514-5021-0259 (CP474149_REV08)</td>\n",
              "      <td>14.017048</td>\n",
              "      <td>0.221358</td>\n",
              "      <td>0.160751</td>\n",
              "      <td>0.000183</td>\n",
              "      <td>0.191340</td>\n",
              "      <td>0.200260</td>\n",
              "      <td>0.000000</td>\n",
              "      <td>0.000817</td>\n",
              "      <td>0.191211</td>\n",
              "      <td>...</td>\n",
              "      <td>0.067777</td>\n",
              "      <td>0.000742</td>\n",
              "      <td>0.098684</td>\n",
              "      <td>0.033505</td>\n",
              "      <td>0.471981</td>\n",
              "      <td>0.236307</td>\n",
              "      <td>0.148213</td>\n",
              "      <td>0.118508</td>\n",
              "      <td>5.046067</td>\n",
              "      <td>6.000382</td>\n",
              "    </tr>\n",
              "    <tr>\n",
              "      <th>91</th>\n",
              "      <td>SN 301514-5021-0260 (CP474149_REV08)</td>\n",
              "      <td>14.017311</td>\n",
              "      <td>0.221343</td>\n",
              "      <td>0.160738</td>\n",
              "      <td>0.000401</td>\n",
              "      <td>0.191361</td>\n",
              "      <td>0.200214</td>\n",
              "      <td>0.000000</td>\n",
              "      <td>0.001026</td>\n",
              "      <td>0.191211</td>\n",
              "      <td>...</td>\n",
              "      <td>0.067797</td>\n",
              "      <td>0.001083</td>\n",
              "      <td>0.098558</td>\n",
              "      <td>0.033509</td>\n",
              "      <td>0.472003</td>\n",
              "      <td>0.236282</td>\n",
              "      <td>0.148391</td>\n",
              "      <td>0.118686</td>\n",
              "      <td>5.046220</td>\n",
              "      <td>6.000193</td>\n",
              "    </tr>\n",
              "  </tbody>\n",
              "</table>\n",
              "<p>92 rows × 129 columns</p>\n",
              "</div>\n",
              "      <button class=\"colab-df-convert\" onclick=\"convertToInteractive('df-73960ccd-2c5a-42d3-b5df-e6dc1c82d8b3')\"\n",
              "              title=\"Convert this dataframe to an interactive table.\"\n",
              "              style=\"display:none;\">\n",
              "        \n",
              "  <svg xmlns=\"http://www.w3.org/2000/svg\" height=\"24px\"viewBox=\"0 0 24 24\"\n",
              "       width=\"24px\">\n",
              "    <path d=\"M0 0h24v24H0V0z\" fill=\"none\"/>\n",
              "    <path d=\"M18.56 5.44l.94 2.06.94-2.06 2.06-.94-2.06-.94-.94-2.06-.94 2.06-2.06.94zm-11 1L8.5 8.5l.94-2.06 2.06-.94-2.06-.94L8.5 2.5l-.94 2.06-2.06.94zm10 10l.94 2.06.94-2.06 2.06-.94-2.06-.94-.94-2.06-.94 2.06-2.06.94z\"/><path d=\"M17.41 7.96l-1.37-1.37c-.4-.4-.92-.59-1.43-.59-.52 0-1.04.2-1.43.59L10.3 9.45l-7.72 7.72c-.78.78-.78 2.05 0 2.83L4 21.41c.39.39.9.59 1.41.59.51 0 1.02-.2 1.41-.59l7.78-7.78 2.81-2.81c.8-.78.8-2.07 0-2.86zM5.41 20L4 18.59l7.72-7.72 1.47 1.35L5.41 20z\"/>\n",
              "  </svg>\n",
              "      </button>\n",
              "      \n",
              "  <style>\n",
              "    .colab-df-container {\n",
              "      display:flex;\n",
              "      flex-wrap:wrap;\n",
              "      gap: 12px;\n",
              "    }\n",
              "\n",
              "    .colab-df-convert {\n",
              "      background-color: #E8F0FE;\n",
              "      border: none;\n",
              "      border-radius: 50%;\n",
              "      cursor: pointer;\n",
              "      display: none;\n",
              "      fill: #1967D2;\n",
              "      height: 32px;\n",
              "      padding: 0 0 0 0;\n",
              "      width: 32px;\n",
              "    }\n",
              "\n",
              "    .colab-df-convert:hover {\n",
              "      background-color: #E2EBFA;\n",
              "      box-shadow: 0px 1px 2px rgba(60, 64, 67, 0.3), 0px 1px 3px 1px rgba(60, 64, 67, 0.15);\n",
              "      fill: #174EA6;\n",
              "    }\n",
              "\n",
              "    [theme=dark] .colab-df-convert {\n",
              "      background-color: #3B4455;\n",
              "      fill: #D2E3FC;\n",
              "    }\n",
              "\n",
              "    [theme=dark] .colab-df-convert:hover {\n",
              "      background-color: #434B5C;\n",
              "      box-shadow: 0px 1px 3px 1px rgba(0, 0, 0, 0.15);\n",
              "      filter: drop-shadow(0px 1px 2px rgba(0, 0, 0, 0.3));\n",
              "      fill: #FFFFFF;\n",
              "    }\n",
              "  </style>\n",
              "\n",
              "      <script>\n",
              "        const buttonEl =\n",
              "          document.querySelector('#df-73960ccd-2c5a-42d3-b5df-e6dc1c82d8b3 button.colab-df-convert');\n",
              "        buttonEl.style.display =\n",
              "          google.colab.kernel.accessAllowed ? 'block' : 'none';\n",
              "\n",
              "        async function convertToInteractive(key) {\n",
              "          const element = document.querySelector('#df-73960ccd-2c5a-42d3-b5df-e6dc1c82d8b3');\n",
              "          const dataTable =\n",
              "            await google.colab.kernel.invokeFunction('convertToInteractive',\n",
              "                                                     [key], {});\n",
              "          if (!dataTable) return;\n",
              "\n",
              "          const docLinkHtml = 'Like what you see? Visit the ' +\n",
              "            '<a target=\"_blank\" href=https://colab.research.google.com/notebooks/data_table.ipynb>data table notebook</a>'\n",
              "            + ' to learn more about interactive tables.';\n",
              "          element.innerHTML = '';\n",
              "          dataTable['output_type'] = 'display_data';\n",
              "          await google.colab.output.renderOutput(dataTable, element);\n",
              "          const docLink = document.createElement('div');\n",
              "          docLink.innerHTML = docLinkHtml;\n",
              "          element.appendChild(docLink);\n",
              "        }\n",
              "      </script>\n",
              "    </div>\n",
              "  </div>\n",
              "  "
            ]
          },
          "metadata": {},
          "execution_count": 677
        }
      ]
    },
    {
      "cell_type": "code",
      "metadata": {
        "id": "3m5bERFJJ5Kq"
      },
      "source": [
        "X = dataset.iloc[:,19: ].values\n",
        "Y = dataset.iloc[:,18:19].values"
      ],
      "execution_count": 678,
      "outputs": []
    },
    {
      "cell_type": "code",
      "metadata": {
        "colab": {
          "base_uri": "https://localhost:8080/"
        },
        "id": "PO_kQ5qdKdwz",
        "outputId": "8a8b4bb1-7127-4639-a5ad-c0a06e7ddbaf"
      },
      "source": [
        "print(X)"
      ],
      "execution_count": 679,
      "outputs": [
        {
          "output_type": "stream",
          "name": "stdout",
          "text": [
            "[[4.7182500e-01 1.1000900e+01 1.2000000e+02 ... 1.1725000e-01\n",
            "  5.0403000e+00 6.0002000e+00]\n",
            " [4.6883000e-01 1.0999463e+01 1.2000000e+02 ... 1.1741200e-01\n",
            "  5.0566710e+00 6.0000130e+00]\n",
            " [4.6884700e-01 1.0999496e+01 1.2000000e+02 ... 1.1746900e-01\n",
            "  5.0501160e+00 5.9999630e+00]\n",
            " ...\n",
            " [4.7053200e-01 1.1000375e+01 1.2000000e+02 ... 1.1864000e-01\n",
            "  5.0447630e+00 6.0001260e+00]\n",
            " [4.7054400e-01 1.1000954e+01 1.2000000e+02 ... 1.1850800e-01\n",
            "  5.0460670e+00 6.0003820e+00]\n",
            " [4.7053600e-01 1.1000676e+01 1.2000000e+02 ... 1.1868600e-01\n",
            "  5.0462200e+00 6.0001930e+00]]\n"
          ]
        }
      ]
    },
    {
      "cell_type": "code",
      "metadata": {
        "colab": {
          "base_uri": "https://localhost:8080/"
        },
        "id": "MByS_-wyKqts",
        "outputId": "1b766694-8d1b-4829-91c1-28a03869e289"
      },
      "source": [
        "print(Y)"
      ],
      "execution_count": 680,
      "outputs": [
        {
          "output_type": "stream",
          "name": "stdout",
          "text": [
            "[[   nan]\n",
            " [   nan]\n",
            " [   nan]\n",
            " [   nan]\n",
            " [0.099 ]\n",
            " [0.101 ]\n",
            " [0.1015]\n",
            " [0.101 ]\n",
            " [0.1005]\n",
            " [0.1015]\n",
            " [0.1015]\n",
            " [0.1015]\n",
            " [0.1015]\n",
            " [0.1015]\n",
            " [0.1005]\n",
            " [0.1015]\n",
            " [0.1015]\n",
            " [0.1014]\n",
            " [0.1015]\n",
            " [0.101 ]\n",
            " [0.101 ]\n",
            " [0.101 ]\n",
            " [0.1015]\n",
            " [0.1015]\n",
            " [0.1015]\n",
            " [0.1005]\n",
            " [0.1005]\n",
            " [0.101 ]\n",
            " [0.1005]\n",
            " [0.1005]\n",
            " [0.1015]\n",
            " [0.101 ]\n",
            " [0.101 ]\n",
            " [0.1005]\n",
            " [0.101 ]\n",
            " [0.1015]\n",
            " [0.101 ]\n",
            " [0.1005]\n",
            " [0.1005]\n",
            " [0.101 ]\n",
            " [0.101 ]\n",
            " [0.101 ]\n",
            " [0.1015]\n",
            " [0.101 ]\n",
            " [0.1005]\n",
            " [0.101 ]\n",
            " [0.1015]\n",
            " [0.101 ]\n",
            " [0.101 ]\n",
            " [0.1015]\n",
            " [0.1015]\n",
            " [0.101 ]\n",
            " [0.101 ]\n",
            " [0.1005]\n",
            " [0.101 ]\n",
            " [0.1015]\n",
            " [0.1005]\n",
            " [0.1015]\n",
            " [0.1015]\n",
            " [0.1005]\n",
            " [0.1015]\n",
            " [0.101 ]\n",
            " [0.101 ]\n",
            " [0.101 ]\n",
            " [0.1015]\n",
            " [0.101 ]\n",
            " [0.1015]\n",
            " [0.1015]\n",
            " [0.1015]\n",
            " [0.101 ]\n",
            " [0.1   ]\n",
            " [0.1   ]\n",
            " [0.1   ]\n",
            " [0.1005]\n",
            " [0.1005]\n",
            " [0.101 ]\n",
            " [0.1   ]\n",
            " [0.1008]\n",
            " [0.1005]\n",
            " [0.1   ]\n",
            " [0.1   ]\n",
            " [0.1   ]\n",
            " [0.1005]\n",
            " [0.101 ]\n",
            " [0.1   ]\n",
            " [0.102 ]\n",
            " [0.102 ]\n",
            " [0.101 ]\n",
            " [0.101 ]\n",
            " [0.101 ]\n",
            " [0.101 ]\n",
            " [0.102 ]]\n"
          ]
        }
      ]
    },
    {
      "cell_type": "code",
      "metadata": {
        "colab": {
          "base_uri": "https://localhost:8080/"
        },
        "id": "9Im8lin81Alz",
        "outputId": "e9638e7b-41f6-4d06-f22a-0f3d2142978e"
      },
      "source": [
        "dataset.shape"
      ],
      "execution_count": 681,
      "outputs": [
        {
          "output_type": "execute_result",
          "data": {
            "text/plain": [
              "(92, 129)"
            ]
          },
          "metadata": {},
          "execution_count": 681
        }
      ]
    },
    {
      "cell_type": "code",
      "metadata": {
        "colab": {
          "base_uri": "https://localhost:8080/"
        },
        "id": "H1h4yZ5_1HsE",
        "outputId": "8a1cd4f3-0d61-4cd9-c9c5-dc87e714266f"
      },
      "source": [
        "dataset.info()"
      ],
      "execution_count": 682,
      "outputs": [
        {
          "output_type": "stream",
          "name": "stdout",
          "text": [
            "<class 'pandas.core.frame.DataFrame'>\n",
            "RangeIndex: 92 entries, 0 to 91\n",
            "Columns: 129 entries, SN (JOB #) to SH2_C7_Distance -6.000_R\n",
            "dtypes: float64(127), int64(1), object(1)\n",
            "memory usage: 92.8+ KB\n"
          ]
        }
      ]
    },
    {
      "cell_type": "markdown",
      "metadata": {
        "id": "9tb0bSldMY97"
      },
      "source": [
        "# Taking care of missing data"
      ]
    },
    {
      "cell_type": "markdown",
      "metadata": {
        "id": "mPvxh8AzlUH-"
      },
      "source": [
        "Impute Missing Values. "
      ]
    },
    {
      "cell_type": "code",
      "metadata": {
        "id": "IIW12cEV5tLD"
      },
      "source": [
        "from sklearn.impute import SimpleImputer\n",
        "imputer = SimpleImputer(missing_values=np.nan, strategy='mean')\n",
        "imputer.fit(X[:, :])\n",
        "X[:,:] = imputer.transform(X[:,:])"
      ],
      "execution_count": 683,
      "outputs": []
    },
    {
      "cell_type": "code",
      "metadata": {
        "id": "Oim8fWH0NIkL"
      },
      "source": [
        "from sklearn.impute import SimpleImputer\n",
        "imputer = SimpleImputer(missing_values=np.nan, strategy='mean')\n",
        "imputer.fit(Y[:,:])\n",
        "Y[:,:] = imputer.transform(Y[:,:])"
      ],
      "execution_count": 684,
      "outputs": []
    },
    {
      "cell_type": "code",
      "metadata": {
        "colab": {
          "base_uri": "https://localhost:8080/"
        },
        "id": "Wa2nd9w-NY2E",
        "outputId": "25338b86-6a2d-4f1f-bb08-61b863286d31"
      },
      "source": [
        "print(X)"
      ],
      "execution_count": 685,
      "outputs": [
        {
          "output_type": "stream",
          "name": "stdout",
          "text": [
            "[[4.7182500e-01 1.1000900e+01 1.2000000e+02 ... 1.1725000e-01\n",
            "  5.0403000e+00 6.0002000e+00]\n",
            " [4.6883000e-01 1.0999463e+01 1.2000000e+02 ... 1.1741200e-01\n",
            "  5.0566710e+00 6.0000130e+00]\n",
            " [4.6884700e-01 1.0999496e+01 1.2000000e+02 ... 1.1746900e-01\n",
            "  5.0501160e+00 5.9999630e+00]\n",
            " ...\n",
            " [4.7053200e-01 1.1000375e+01 1.2000000e+02 ... 1.1864000e-01\n",
            "  5.0447630e+00 6.0001260e+00]\n",
            " [4.7054400e-01 1.1000954e+01 1.2000000e+02 ... 1.1850800e-01\n",
            "  5.0460670e+00 6.0003820e+00]\n",
            " [4.7053600e-01 1.1000676e+01 1.2000000e+02 ... 1.1868600e-01\n",
            "  5.0462200e+00 6.0001930e+00]]\n"
          ]
        }
      ]
    },
    {
      "cell_type": "code",
      "metadata": {
        "colab": {
          "base_uri": "https://localhost:8080/"
        },
        "id": "8jUH4ggvNY9L",
        "outputId": "f3af4457-df1d-42b0-c28a-affbcfc87573"
      },
      "source": [
        "print(Y)"
      ],
      "execution_count": 686,
      "outputs": [
        {
          "output_type": "stream",
          "name": "stdout",
          "text": [
            "[[0.10097386]\n",
            " [0.10097386]\n",
            " [0.10097386]\n",
            " [0.10097386]\n",
            " [0.099     ]\n",
            " [0.101     ]\n",
            " [0.1015    ]\n",
            " [0.101     ]\n",
            " [0.1005    ]\n",
            " [0.1015    ]\n",
            " [0.1015    ]\n",
            " [0.1015    ]\n",
            " [0.1015    ]\n",
            " [0.1015    ]\n",
            " [0.1005    ]\n",
            " [0.1015    ]\n",
            " [0.1015    ]\n",
            " [0.1014    ]\n",
            " [0.1015    ]\n",
            " [0.101     ]\n",
            " [0.101     ]\n",
            " [0.101     ]\n",
            " [0.1015    ]\n",
            " [0.1015    ]\n",
            " [0.1015    ]\n",
            " [0.1005    ]\n",
            " [0.1005    ]\n",
            " [0.101     ]\n",
            " [0.1005    ]\n",
            " [0.1005    ]\n",
            " [0.1015    ]\n",
            " [0.101     ]\n",
            " [0.101     ]\n",
            " [0.1005    ]\n",
            " [0.101     ]\n",
            " [0.1015    ]\n",
            " [0.101     ]\n",
            " [0.1005    ]\n",
            " [0.1005    ]\n",
            " [0.101     ]\n",
            " [0.101     ]\n",
            " [0.101     ]\n",
            " [0.1015    ]\n",
            " [0.101     ]\n",
            " [0.1005    ]\n",
            " [0.101     ]\n",
            " [0.1015    ]\n",
            " [0.101     ]\n",
            " [0.101     ]\n",
            " [0.1015    ]\n",
            " [0.1015    ]\n",
            " [0.101     ]\n",
            " [0.101     ]\n",
            " [0.1005    ]\n",
            " [0.101     ]\n",
            " [0.1015    ]\n",
            " [0.1005    ]\n",
            " [0.1015    ]\n",
            " [0.1015    ]\n",
            " [0.1005    ]\n",
            " [0.1015    ]\n",
            " [0.101     ]\n",
            " [0.101     ]\n",
            " [0.101     ]\n",
            " [0.1015    ]\n",
            " [0.101     ]\n",
            " [0.1015    ]\n",
            " [0.1015    ]\n",
            " [0.1015    ]\n",
            " [0.101     ]\n",
            " [0.1       ]\n",
            " [0.1       ]\n",
            " [0.1       ]\n",
            " [0.1005    ]\n",
            " [0.1005    ]\n",
            " [0.101     ]\n",
            " [0.1       ]\n",
            " [0.1008    ]\n",
            " [0.1005    ]\n",
            " [0.1       ]\n",
            " [0.1       ]\n",
            " [0.1       ]\n",
            " [0.1005    ]\n",
            " [0.101     ]\n",
            " [0.1       ]\n",
            " [0.102     ]\n",
            " [0.102     ]\n",
            " [0.101     ]\n",
            " [0.101     ]\n",
            " [0.101     ]\n",
            " [0.101     ]\n",
            " [0.102     ]]\n"
          ]
        }
      ]
    },
    {
      "cell_type": "markdown",
      "metadata": {
        "id": "l0gjvWiulgUe"
      },
      "source": [
        "Check the percentage of missing values in each variable."
      ]
    },
    {
      "cell_type": "code",
      "metadata": {
        "colab": {
          "base_uri": "https://localhost:8080/"
        },
        "id": "jlJ_K3J_O-BP",
        "outputId": "18111b45-767f-4d80-ebbe-2e3aaa163ffa"
      },
      "source": [
        "dataset.isnull().sum()/len(dataset)*100"
      ],
      "execution_count": 687,
      "outputs": [
        {
          "output_type": "execute_result",
          "data": {
            "text/plain": [
              "SN (JOB #)                  0.0\n",
              "SH1_C2_Diameter -14.020     0.0\n",
              "SH1_B5_Diameter -0.220      0.0\n",
              "SH1_B5_Diameter -0.160      0.0\n",
              "SH1_B5_Position -0.005      0.0\n",
              "                           ... \n",
              "SH4_D8_Distance -0.235      0.0\n",
              "SH4_B7_Distance -0.148      0.0\n",
              "SH4_C7_Distance -0.118      0.0\n",
              "SH2_B8_Angle -5 Deg         0.0\n",
              "SH2_C7_Distance -6.000_R    0.0\n",
              "Length: 129, dtype: float64"
            ]
          },
          "metadata": {},
          "execution_count": 687
        }
      ]
    },
    {
      "cell_type": "markdown",
      "metadata": {
        "id": "EHvjyp5TLvtv"
      },
      "source": [
        "# Splitting the dataset into the Training set and Test set"
      ]
    },
    {
      "cell_type": "code",
      "metadata": {
        "id": "9uptvH8CL3gf"
      },
      "source": [
        "from sklearn.model_selection import train_test_split\n",
        "X_train, X_test, Y_train, Y_test = train_test_split(X, Y, test_size = 0.2, random_state = 0)"
      ],
      "execution_count": 688,
      "outputs": []
    },
    {
      "cell_type": "code",
      "metadata": {
        "colab": {
          "base_uri": "https://localhost:8080/"
        },
        "id": "oWV58o1KAkhJ",
        "outputId": "f8a27926-3445-4761-d0c5-0f80799bc9b2"
      },
      "source": [
        "print(X_train)"
      ],
      "execution_count": 689,
      "outputs": [
        {
          "output_type": "stream",
          "name": "stdout",
          "text": [
            "[[4.7016300e-01 1.0998823e+01 1.2000000e+02 ... 1.1885300e-01\n",
            "  5.0470340e+00 5.9989620e+00]\n",
            " [4.7019100e-01 1.0999411e+01 1.2000000e+02 ... 1.1876800e-01\n",
            "  5.0430360e+00 5.9999250e+00]\n",
            " [4.7021300e-01 1.0999574e+01 1.2000000e+02 ... 1.1877800e-01\n",
            "  5.0447630e+00 5.9995920e+00]\n",
            " ...\n",
            " [4.7018800e-01 1.0998534e+01 1.2000000e+02 ... 1.1855600e-01\n",
            "  5.0480420e+00 5.9986600e+00]\n",
            " [4.7020400e-01 1.0998944e+01 1.2000000e+02 ... 1.1873700e-01\n",
            "  5.0483340e+00 5.9991830e+00]\n",
            " [4.7019600e-01 1.0999315e+01 1.2000000e+02 ... 1.1854600e-01\n",
            "  5.0421470e+00 5.9996080e+00]]\n"
          ]
        }
      ]
    },
    {
      "cell_type": "code",
      "metadata": {
        "colab": {
          "base_uri": "https://localhost:8080/"
        },
        "id": "K7LEO1rUNysz",
        "outputId": "7b57c2a9-bd75-455c-db5f-7d877e901501"
      },
      "source": [
        "print(X_test)"
      ],
      "execution_count": 690,
      "outputs": [
        {
          "output_type": "stream",
          "name": "stdout",
          "text": [
            "[[4.6884700e-01 1.0999496e+01 1.2000000e+02 ... 1.1746900e-01\n",
            "  5.0501160e+00 5.9999630e+00]\n",
            " [4.7024800e-01 1.1000206e+01 1.2000000e+02 ... 1.1874900e-01\n",
            "  5.0457510e+00 6.0001000e+00]\n",
            " [4.7018000e-01 1.0999163e+01 1.2000000e+02 ... 1.1790500e-01\n",
            "  5.0523600e+00 5.9995220e+00]\n",
            " ...\n",
            " [4.7004900e-01 1.0999397e+01 1.2000000e+02 ... 1.1822800e-01\n",
            "  5.0465640e+00 5.9995800e+00]\n",
            " [4.7048700e-01 1.0998217e+01 1.2000000e+02 ... 1.1839800e-01\n",
            "  5.0464700e+00 5.9987200e+00]\n",
            " [4.6870100e-01 1.0999164e+01 1.2000000e+02 ... 1.1850900e-01\n",
            "  5.0440660e+00 5.9995690e+00]]\n"
          ]
        }
      ]
    },
    {
      "cell_type": "code",
      "metadata": {
        "colab": {
          "base_uri": "https://localhost:8080/"
        },
        "id": "JCJ7fC-XNyzV",
        "outputId": "42987654-e9ac-44e4-ccf8-d5dc11713c3c"
      },
      "source": [
        "print(Y_train)"
      ],
      "execution_count": 691,
      "outputs": [
        {
          "output_type": "stream",
          "name": "stdout",
          "text": [
            "[[0.1015    ]\n",
            " [0.101     ]\n",
            " [0.101     ]\n",
            " [0.1015    ]\n",
            " [0.101     ]\n",
            " [0.1008    ]\n",
            " [0.1005    ]\n",
            " [0.1005    ]\n",
            " [0.101     ]\n",
            " [0.1       ]\n",
            " [0.1       ]\n",
            " [0.10097386]\n",
            " [0.1       ]\n",
            " [0.1005    ]\n",
            " [0.101     ]\n",
            " [0.1015    ]\n",
            " [0.1015    ]\n",
            " [0.1005    ]\n",
            " [0.102     ]\n",
            " [0.101     ]\n",
            " [0.1005    ]\n",
            " [0.099     ]\n",
            " [0.1015    ]\n",
            " [0.1014    ]\n",
            " [0.101     ]\n",
            " [0.1005    ]\n",
            " [0.101     ]\n",
            " [0.102     ]\n",
            " [0.101     ]\n",
            " [0.10097386]\n",
            " [0.101     ]\n",
            " [0.1005    ]\n",
            " [0.1015    ]\n",
            " [0.1015    ]\n",
            " [0.1015    ]\n",
            " [0.1015    ]\n",
            " [0.101     ]\n",
            " [0.1015    ]\n",
            " [0.101     ]\n",
            " [0.101     ]\n",
            " [0.1015    ]\n",
            " [0.1005    ]\n",
            " [0.10097386]\n",
            " [0.101     ]\n",
            " [0.1005    ]\n",
            " [0.1005    ]\n",
            " [0.1015    ]\n",
            " [0.101     ]\n",
            " [0.1005    ]\n",
            " [0.1015    ]\n",
            " [0.101     ]\n",
            " [0.101     ]\n",
            " [0.101     ]\n",
            " [0.101     ]\n",
            " [0.102     ]\n",
            " [0.1       ]\n",
            " [0.1005    ]\n",
            " [0.1005    ]\n",
            " [0.1015    ]\n",
            " [0.101     ]\n",
            " [0.101     ]\n",
            " [0.1015    ]\n",
            " [0.1015    ]\n",
            " [0.1       ]\n",
            " [0.101     ]\n",
            " [0.101     ]\n",
            " [0.101     ]\n",
            " [0.1015    ]\n",
            " [0.101     ]\n",
            " [0.1015    ]\n",
            " [0.1015    ]\n",
            " [0.101     ]\n",
            " [0.1005    ]]\n"
          ]
        }
      ]
    },
    {
      "cell_type": "code",
      "metadata": {
        "colab": {
          "base_uri": "https://localhost:8080/"
        },
        "id": "m8ahFj-qNy47",
        "outputId": "39e7f790-e2b4-4f0a-a939-ac4b5c30385e"
      },
      "source": [
        "print(Y_test)"
      ],
      "execution_count": 692,
      "outputs": [
        {
          "output_type": "stream",
          "name": "stdout",
          "text": [
            "[[0.10097386]\n",
            " [0.1005    ]\n",
            " [0.1015    ]\n",
            " [0.1015    ]\n",
            " [0.1015    ]\n",
            " [0.1015    ]\n",
            " [0.1015    ]\n",
            " [0.1       ]\n",
            " [0.1       ]\n",
            " [0.1015    ]\n",
            " [0.101     ]\n",
            " [0.101     ]\n",
            " [0.1005    ]\n",
            " [0.1       ]\n",
            " [0.1015    ]\n",
            " [0.101     ]\n",
            " [0.1005    ]\n",
            " [0.101     ]\n",
            " [0.101     ]]\n"
          ]
        }
      ]
    },
    {
      "cell_type": "markdown",
      "metadata": {
        "id": "yAMl3VEVHxw4"
      },
      "source": [
        "# Feature Scaling"
      ]
    },
    {
      "cell_type": "code",
      "metadata": {
        "id": "eNVyQ6jGH2Te"
      },
      "source": [
        "from sklearn.preprocessing import StandardScaler\n",
        "sc = StandardScaler()\n",
        "X_train[:, :] = sc.fit_transform(X_train[:, :])\n",
        "X_test[:, :] = sc.transform(X_test[:, :])\n",
        "Y_train[:, :] = sc.fit_transform(Y_train[:, :])\n",
        "Y_test[:, :] = sc.transform(Y_test[:, :])"
      ],
      "execution_count": 693,
      "outputs": []
    },
    {
      "cell_type": "code",
      "metadata": {
        "colab": {
          "base_uri": "https://localhost:8080/"
        },
        "id": "j7jBJgEtJaZG",
        "outputId": "461a18f3-e2e6-45dc-f0fb-d2bfd430c46d"
      },
      "source": [
        "print(X_train)"
      ],
      "execution_count": 694,
      "outputs": [
        {
          "output_type": "stream",
          "name": "stdout",
          "text": [
            "[[-0.08540858 -1.05622362  0.         ...  0.948894    0.20690044\n",
            "  -1.03467322]\n",
            " [-0.03268278  0.03964892  0.         ...  0.74935871 -0.61120986\n",
            "   1.14189308]\n",
            " [ 0.00874464  0.34343671  0.         ...  0.77283345 -0.25781404\n",
            "   0.38924866]\n",
            " ...\n",
            " [-0.03833197 -1.59484124  0.         ...  0.25169423  0.41316737\n",
            "  -1.71725164]\n",
            " [-0.00820294 -0.83071243  0.         ...  0.67658702  0.4729193\n",
            "  -0.53517046]\n",
            " [-0.02326745 -0.13926905  0.         ...  0.22821949 -0.79312583\n",
            "   0.42541175]]\n"
          ]
        }
      ]
    },
    {
      "cell_type": "code",
      "metadata": {
        "colab": {
          "base_uri": "https://localhost:8080/"
        },
        "id": "gG0SJAOKPpmq",
        "outputId": "ec7e617f-c5d3-412c-e9fb-d0e91ec03a48"
      },
      "source": [
        "print(X_test)"
      ],
      "execution_count": 695,
      "outputs": [
        {
          "output_type": "stream",
          "name": "stdout",
          "text": [
            "[[-2.5635214   0.19806586  0.         ... -2.30000997  0.83756976\n",
            "   1.22778043]\n",
            " [ 0.0746519   1.52131331  0.         ...  0.70475671 -0.05563971\n",
            "   1.53742693]\n",
            " [-0.05339649 -0.42255583  0.         ... -1.27651132  1.29675923\n",
            "   0.23103512]\n",
            " ...\n",
            " [-0.30007793  0.01355671  0.         ... -0.51827723  0.11072439\n",
            "   0.36212634]\n",
            " [ 0.5247043  -2.18564327  0.         ... -0.11920666  0.09148918\n",
            "  -1.58164003]\n",
            " [-2.83844881 -0.4206921   0.         ...  0.14136295 -0.40044107\n",
            "   0.33726421]]\n"
          ]
        }
      ]
    },
    {
      "cell_type": "code",
      "source": [
        "print(Y_train)"
      ],
      "metadata": {
        "id": "QBxL9j-_zm6N",
        "outputId": "166a161f-b78c-44f0-fd35-454e714e2802",
        "colab": {
          "base_uri": "https://localhost:8080/"
        }
      },
      "execution_count": 696,
      "outputs": [
        {
          "output_type": "stream",
          "name": "stdout",
          "text": [
            "[[ 0.98093088]\n",
            " [ 0.03569643]\n",
            " [ 0.03569643]\n",
            " [ 0.98093088]\n",
            " [ 0.03569643]\n",
            " [-0.34239735]\n",
            " [-0.90953801]\n",
            " [-0.90953801]\n",
            " [ 0.03569643]\n",
            " [-1.85477246]\n",
            " [-1.85477246]\n",
            " [-0.01371355]\n",
            " [-1.85477246]\n",
            " [-0.90953801]\n",
            " [ 0.03569643]\n",
            " [ 0.98093088]\n",
            " [ 0.98093088]\n",
            " [-0.90953801]\n",
            " [ 1.92616532]\n",
            " [ 0.03569643]\n",
            " [-0.90953801]\n",
            " [-3.74524135]\n",
            " [ 0.98093088]\n",
            " [ 0.79188399]\n",
            " [ 0.03569643]\n",
            " [-0.90953801]\n",
            " [ 0.03569643]\n",
            " [ 1.92616532]\n",
            " [ 0.03569643]\n",
            " [-0.01371355]\n",
            " [ 0.03569643]\n",
            " [-0.90953801]\n",
            " [ 0.98093088]\n",
            " [ 0.98093088]\n",
            " [ 0.98093088]\n",
            " [ 0.98093088]\n",
            " [ 0.03569643]\n",
            " [ 0.98093088]\n",
            " [ 0.03569643]\n",
            " [ 0.03569643]\n",
            " [ 0.98093088]\n",
            " [-0.90953801]\n",
            " [-0.01371355]\n",
            " [ 0.03569643]\n",
            " [-0.90953801]\n",
            " [-0.90953801]\n",
            " [ 0.98093088]\n",
            " [ 0.03569643]\n",
            " [-0.90953801]\n",
            " [ 0.98093088]\n",
            " [ 0.03569643]\n",
            " [ 0.03569643]\n",
            " [ 0.03569643]\n",
            " [ 0.03569643]\n",
            " [ 1.92616532]\n",
            " [-1.85477246]\n",
            " [-0.90953801]\n",
            " [-0.90953801]\n",
            " [ 0.98093088]\n",
            " [ 0.03569643]\n",
            " [ 0.03569643]\n",
            " [ 0.98093088]\n",
            " [ 0.98093088]\n",
            " [-1.85477246]\n",
            " [ 0.03569643]\n",
            " [ 0.03569643]\n",
            " [ 0.03569643]\n",
            " [ 0.98093088]\n",
            " [ 0.03569643]\n",
            " [ 0.98093088]\n",
            " [ 0.98093088]\n",
            " [ 0.03569643]\n",
            " [-0.90953801]]\n"
          ]
        }
      ]
    },
    {
      "cell_type": "code",
      "source": [
        "print(Y_test)"
      ],
      "metadata": {
        "id": "XmGD_NrWznBc",
        "outputId": "8d70e6a7-f063-438a-a984-699ebd448b8d",
        "colab": {
          "base_uri": "https://localhost:8080/"
        }
      },
      "execution_count": 697,
      "outputs": [
        {
          "output_type": "stream",
          "name": "stdout",
          "text": [
            "[[-0.01371355]\n",
            " [-0.90953801]\n",
            " [ 0.98093088]\n",
            " [ 0.98093088]\n",
            " [ 0.98093088]\n",
            " [ 0.98093088]\n",
            " [ 0.98093088]\n",
            " [-1.85477246]\n",
            " [-1.85477246]\n",
            " [ 0.98093088]\n",
            " [ 0.03569643]\n",
            " [ 0.03569643]\n",
            " [-0.90953801]\n",
            " [-1.85477246]\n",
            " [ 0.98093088]\n",
            " [ 0.03569643]\n",
            " [-0.90953801]\n",
            " [ 0.03569643]\n",
            " [ 0.03569643]]\n"
          ]
        }
      ]
    },
    {
      "cell_type": "markdown",
      "metadata": {
        "id": "TpZK8HpKl_hO"
      },
      "source": [
        "Low Variance Filter: Calculate the variance of all the numerical variables"
      ]
    },
    {
      "cell_type": "code",
      "metadata": {
        "colab": {
          "base_uri": "https://localhost:8080/"
        },
        "id": "aiJCu4mXJekA",
        "outputId": "c9eca2cc-431e-4b75-b8c1-7ee14384be5a"
      },
      "source": [
        "dataset.var()"
      ],
      "execution_count": 698,
      "outputs": [
        {
          "output_type": "stream",
          "name": "stderr",
          "text": [
            "/usr/local/lib/python3.7/dist-packages/ipykernel_launcher.py:1: FutureWarning: Dropping of nuisance columns in DataFrame reductions (with 'numeric_only=None') is deprecated; in a future version this will raise TypeError.  Select only valid columns before calling the reduction.\n",
            "  \"\"\"Entry point for launching an IPython kernel.\n"
          ]
        },
        {
          "output_type": "execute_result",
          "data": {
            "text/plain": [
              "SH1_C2_Diameter -14.020     6.191677e-07\n",
              "SH1_B5_Diameter -0.220      6.616313e-08\n",
              "SH1_B5_Diameter -0.160      3.108320e-08\n",
              "SH1_B5_Position -0.005      2.757916e-07\n",
              "SH1_B1_Width -0.190         4.480541e-08\n",
              "                                ...     \n",
              "SH4_D8_Distance -0.235      2.437664e-07\n",
              "SH4_B7_Distance -0.148      9.221709e-08\n",
              "SH4_C7_Distance -0.118      1.792112e-07\n",
              "SH2_B8_Angle -5 Deg         2.523954e-05\n",
              "SH2_C7_Distance -6.000_R    1.815356e-07\n",
              "Length: 128, dtype: float64"
            ]
          },
          "metadata": {},
          "execution_count": 698
        }
      ]
    },
    {
      "cell_type": "markdown",
      "metadata": {
        "id": "HIWt_cATmwuX"
      },
      "source": [
        "High Correlation Filter"
      ]
    },
    {
      "cell_type": "code",
      "metadata": {
        "colab": {
          "base_uri": "https://localhost:8080/",
          "height": 715
        },
        "id": "KQmyDseWmvkH",
        "outputId": "dc0e23fb-5249-4c0c-8456-3e657a211654"
      },
      "source": [
        "df=dataset.drop('SN (JOB #)', 1)\n",
        "df.corr()"
      ],
      "execution_count": 699,
      "outputs": [
        {
          "output_type": "stream",
          "name": "stderr",
          "text": [
            "/usr/local/lib/python3.7/dist-packages/ipykernel_launcher.py:1: FutureWarning: In a future version of pandas all arguments of DataFrame.drop except for the argument 'labels' will be keyword-only\n",
            "  \"\"\"Entry point for launching an IPython kernel.\n"
          ]
        },
        {
          "output_type": "execute_result",
          "data": {
            "text/plain": [
              "                          SH1_C2_Diameter -14.020  SH1_B5_Diameter -0.220  \\\n",
              "SH1_C2_Diameter -14.020                  1.000000                0.236855   \n",
              "SH1_B5_Diameter -0.220                   0.236855                1.000000   \n",
              "SH1_B5_Diameter -0.160                   0.202132                0.954243   \n",
              "SH1_B5_Position -0.005                   0.043446                0.315648   \n",
              "SH1_B1_Width -0.190                      0.234478                0.984561   \n",
              "...                                           ...                     ...   \n",
              "SH4_D8_Distance -0.235                  -0.021893               -0.608491   \n",
              "SH4_B7_Distance -0.148                  -0.127674               -0.567047   \n",
              "SH4_C7_Distance -0.118                  -0.002433                0.037350   \n",
              "SH2_B8_Angle -5 Deg                     -0.049315               -0.213918   \n",
              "SH2_C7_Distance -6.000_R                 0.043954               -0.016875   \n",
              "\n",
              "                          SH1_B5_Diameter -0.160  SH1_B5_Position -0.005  \\\n",
              "SH1_C2_Diameter -14.020                 0.202132                0.043446   \n",
              "SH1_B5_Diameter -0.220                  0.954243                0.315648   \n",
              "SH1_B5_Diameter -0.160                  1.000000                0.236856   \n",
              "SH1_B5_Position -0.005                  0.236856                1.000000   \n",
              "SH1_B1_Width -0.190                     0.942768                0.284504   \n",
              "...                                          ...                     ...   \n",
              "SH4_D8_Distance -0.235                 -0.651181               -0.203417   \n",
              "SH4_B7_Distance -0.148                 -0.632631               -0.154518   \n",
              "SH4_C7_Distance -0.118                  0.003163                0.215421   \n",
              "SH2_B8_Angle -5 Deg                    -0.171620               -0.510653   \n",
              "SH2_C7_Distance -6.000_R                0.026702                0.069473   \n",
              "\n",
              "                          SH1_B1_Width -0.190  SH1_B1_Distance -0.200  \\\n",
              "SH1_C2_Diameter -14.020              0.234478                0.121288   \n",
              "SH1_B5_Diameter -0.220               0.984561                0.580135   \n",
              "SH1_B5_Diameter -0.160               0.942768                0.636577   \n",
              "SH1_B5_Position -0.005               0.284504                0.056151   \n",
              "SH1_B1_Width -0.190                  1.000000                0.600869   \n",
              "...                                       ...                     ...   \n",
              "SH4_D8_Distance -0.235              -0.630761               -0.404162   \n",
              "SH4_B7_Distance -0.148              -0.578007               -0.228359   \n",
              "SH4_C7_Distance -0.118              -0.009052                0.294344   \n",
              "SH2_B8_Angle -5 Deg                 -0.193676               -0.200453   \n",
              "SH2_C7_Distance -6.000_R            -0.018965               -0.079935   \n",
              "\n",
              "                          SH1_B1_Position- 0.002  SH1_D5_Position -0.005  \\\n",
              "SH1_C2_Diameter -14.020                -0.161457               -0.090562   \n",
              "SH1_B5_Diameter -0.220                 -0.168657               -0.351653   \n",
              "SH1_B5_Diameter -0.160                 -0.047230               -0.372631   \n",
              "SH1_B5_Position -0.005                  0.060427                0.270826   \n",
              "SH1_B1_Width -0.190                    -0.209377               -0.348644   \n",
              "...                                          ...                     ...   \n",
              "SH4_D8_Distance -0.235                  0.209600                0.270203   \n",
              "SH4_B7_Distance -0.148                  0.006032                0.201876   \n",
              "SH4_C7_Distance -0.118                  0.193847                0.002216   \n",
              "SH2_B8_Angle -5 Deg                    -0.114379               -0.141098   \n",
              "SH2_C7_Distance -6.000_R               -0.049197               -0.281696   \n",
              "\n",
              "                          SH2_D7_Width -0.190  SH2_D7_Distance -0.20  ...  \\\n",
              "SH1_C2_Diameter -14.020              0.269238               0.087640  ...   \n",
              "SH1_B5_Diameter -0.220               0.938813               0.125861  ...   \n",
              "SH1_B5_Diameter -0.160               0.878740               0.197014  ...   \n",
              "SH1_B5_Position -0.005               0.297101              -0.231548  ...   \n",
              "SH1_B1_Width -0.190                  0.938958               0.132342  ...   \n",
              "...                                       ...                    ...  ...   \n",
              "SH4_D8_Distance -0.235              -0.590412               0.098843  ...   \n",
              "SH4_B7_Distance -0.148              -0.526554               0.225052  ...   \n",
              "SH4_C7_Distance -0.118              -0.026401               0.269236  ...   \n",
              "SH2_B8_Angle -5 Deg                 -0.191471              -0.091812  ...   \n",
              "SH2_C7_Distance -6.000_R             0.010056              -0.128869  ...   \n",
              "\n",
              "                          SH4_B7_Width -0.065  SH3_B8_Position -0.005  \\\n",
              "SH1_C2_Diameter -14.020              0.142655                0.132724   \n",
              "SH1_B5_Diameter -0.220               0.299798                0.033777   \n",
              "SH1_B5_Diameter -0.160               0.213700                0.030323   \n",
              "SH1_B5_Position -0.005               0.259377                0.182321   \n",
              "SH1_B1_Width -0.190                  0.301111                0.052054   \n",
              "...                                       ...                     ...   \n",
              "SH4_D8_Distance -0.235              -0.016327               -0.295164   \n",
              "SH4_B7_Distance -0.148              -0.342896               -0.268506   \n",
              "SH4_C7_Distance -0.118              -0.254092               -0.428236   \n",
              "SH2_B8_Angle -5 Deg                 -0.223977                0.145218   \n",
              "SH2_C7_Distance -6.000_R             0.160710                0.327466   \n",
              "\n",
              "                          SH3_B7_Distance -0.100  SH4_C7_Radius -0.0325  \\\n",
              "SH1_C2_Diameter -14.020                 0.142259               0.048847   \n",
              "SH1_B5_Diameter -0.220                  0.292553               0.114572   \n",
              "SH1_B5_Diameter -0.160                  0.363291               0.035743   \n",
              "SH1_B5_Position -0.005                  0.000540               0.179780   \n",
              "SH1_B1_Width -0.190                     0.288314               0.113175   \n",
              "...                                          ...                    ...   \n",
              "SH4_D8_Distance -0.235                 -0.438173               0.081967   \n",
              "SH4_B7_Distance -0.148                 -0.511188              -0.186356   \n",
              "SH4_C7_Distance -0.118                 -0.202484              -0.129899   \n",
              "SH2_B8_Angle -5 Deg                     0.387386              -0.133253   \n",
              "SH2_C7_Distance -6.000_R                0.069517               0.089874   \n",
              "\n",
              "                          SH4_D8_Distance -0.470  SH4_D8_Distance -0.235  \\\n",
              "SH1_C2_Diameter -14.020                 0.103762               -0.021893   \n",
              "SH1_B5_Diameter -0.220                 -0.202946               -0.608491   \n",
              "SH1_B5_Diameter -0.160                 -0.219533               -0.651181   \n",
              "SH1_B5_Position -0.005                 -0.084689               -0.203417   \n",
              "SH1_B1_Width -0.190                    -0.220691               -0.630761   \n",
              "...                                          ...                     ...   \n",
              "SH4_D8_Distance -0.235                  0.725581                1.000000   \n",
              "SH4_B7_Distance -0.148                  0.173790                0.753857   \n",
              "SH4_C7_Distance -0.118                  0.160850                0.465131   \n",
              "SH2_B8_Angle -5 Deg                    -0.150286               -0.025073   \n",
              "SH2_C7_Distance -6.000_R               -0.046255               -0.157445   \n",
              "\n",
              "                          SH4_B7_Distance -0.148  SH4_C7_Distance -0.118  \\\n",
              "SH1_C2_Diameter -14.020                -0.127674               -0.002433   \n",
              "SH1_B5_Diameter -0.220                 -0.567047                0.037350   \n",
              "SH1_B5_Diameter -0.160                 -0.632631                0.003163   \n",
              "SH1_B5_Position -0.005                 -0.154518                0.215421   \n",
              "SH1_B1_Width -0.190                    -0.578007               -0.009052   \n",
              "...                                          ...                     ...   \n",
              "SH4_D8_Distance -0.235                  0.753857                0.465131   \n",
              "SH4_B7_Distance -0.148                  1.000000                0.604721   \n",
              "SH4_C7_Distance -0.118                  0.604721                1.000000   \n",
              "SH2_B8_Angle -5 Deg                    -0.121405               -0.330523   \n",
              "SH2_C7_Distance -6.000_R               -0.191437               -0.282643   \n",
              "\n",
              "                          SH2_B8_Angle -5 Deg  SH2_C7_Distance -6.000_R  \n",
              "SH1_C2_Diameter -14.020             -0.049315                  0.043954  \n",
              "SH1_B5_Diameter -0.220              -0.213918                 -0.016875  \n",
              "SH1_B5_Diameter -0.160              -0.171620                  0.026702  \n",
              "SH1_B5_Position -0.005              -0.510653                  0.069473  \n",
              "SH1_B1_Width -0.190                 -0.193676                 -0.018965  \n",
              "...                                       ...                       ...  \n",
              "SH4_D8_Distance -0.235              -0.025073                 -0.157445  \n",
              "SH4_B7_Distance -0.148              -0.121405                 -0.191437  \n",
              "SH4_C7_Distance -0.118              -0.330523                 -0.282643  \n",
              "SH2_B8_Angle -5 Deg                  1.000000                 -0.026942  \n",
              "SH2_C7_Distance -6.000_R            -0.026942                  1.000000  \n",
              "\n",
              "[128 rows x 128 columns]"
            ],
            "text/html": [
              "\n",
              "  <div id=\"df-a3e08887-2d8f-442b-bed2-1c1e18c614f6\">\n",
              "    <div class=\"colab-df-container\">\n",
              "      <div>\n",
              "<style scoped>\n",
              "    .dataframe tbody tr th:only-of-type {\n",
              "        vertical-align: middle;\n",
              "    }\n",
              "\n",
              "    .dataframe tbody tr th {\n",
              "        vertical-align: top;\n",
              "    }\n",
              "\n",
              "    .dataframe thead th {\n",
              "        text-align: right;\n",
              "    }\n",
              "</style>\n",
              "<table border=\"1\" class=\"dataframe\">\n",
              "  <thead>\n",
              "    <tr style=\"text-align: right;\">\n",
              "      <th></th>\n",
              "      <th>SH1_C2_Diameter -14.020</th>\n",
              "      <th>SH1_B5_Diameter -0.220</th>\n",
              "      <th>SH1_B5_Diameter -0.160</th>\n",
              "      <th>SH1_B5_Position -0.005</th>\n",
              "      <th>SH1_B1_Width -0.190</th>\n",
              "      <th>SH1_B1_Distance -0.200</th>\n",
              "      <th>SH1_B1_Position- 0.002</th>\n",
              "      <th>SH1_D5_Position -0.005</th>\n",
              "      <th>SH2_D7_Width -0.190</th>\n",
              "      <th>SH2_D7_Distance -0.20</th>\n",
              "      <th>...</th>\n",
              "      <th>SH4_B7_Width -0.065</th>\n",
              "      <th>SH3_B8_Position -0.005</th>\n",
              "      <th>SH3_B7_Distance -0.100</th>\n",
              "      <th>SH4_C7_Radius -0.0325</th>\n",
              "      <th>SH4_D8_Distance -0.470</th>\n",
              "      <th>SH4_D8_Distance -0.235</th>\n",
              "      <th>SH4_B7_Distance -0.148</th>\n",
              "      <th>SH4_C7_Distance -0.118</th>\n",
              "      <th>SH2_B8_Angle -5 Deg</th>\n",
              "      <th>SH2_C7_Distance -6.000_R</th>\n",
              "    </tr>\n",
              "  </thead>\n",
              "  <tbody>\n",
              "    <tr>\n",
              "      <th>SH1_C2_Diameter -14.020</th>\n",
              "      <td>1.000000</td>\n",
              "      <td>0.236855</td>\n",
              "      <td>0.202132</td>\n",
              "      <td>0.043446</td>\n",
              "      <td>0.234478</td>\n",
              "      <td>0.121288</td>\n",
              "      <td>-0.161457</td>\n",
              "      <td>-0.090562</td>\n",
              "      <td>0.269238</td>\n",
              "      <td>0.087640</td>\n",
              "      <td>...</td>\n",
              "      <td>0.142655</td>\n",
              "      <td>0.132724</td>\n",
              "      <td>0.142259</td>\n",
              "      <td>0.048847</td>\n",
              "      <td>0.103762</td>\n",
              "      <td>-0.021893</td>\n",
              "      <td>-0.127674</td>\n",
              "      <td>-0.002433</td>\n",
              "      <td>-0.049315</td>\n",
              "      <td>0.043954</td>\n",
              "    </tr>\n",
              "    <tr>\n",
              "      <th>SH1_B5_Diameter -0.220</th>\n",
              "      <td>0.236855</td>\n",
              "      <td>1.000000</td>\n",
              "      <td>0.954243</td>\n",
              "      <td>0.315648</td>\n",
              "      <td>0.984561</td>\n",
              "      <td>0.580135</td>\n",
              "      <td>-0.168657</td>\n",
              "      <td>-0.351653</td>\n",
              "      <td>0.938813</td>\n",
              "      <td>0.125861</td>\n",
              "      <td>...</td>\n",
              "      <td>0.299798</td>\n",
              "      <td>0.033777</td>\n",
              "      <td>0.292553</td>\n",
              "      <td>0.114572</td>\n",
              "      <td>-0.202946</td>\n",
              "      <td>-0.608491</td>\n",
              "      <td>-0.567047</td>\n",
              "      <td>0.037350</td>\n",
              "      <td>-0.213918</td>\n",
              "      <td>-0.016875</td>\n",
              "    </tr>\n",
              "    <tr>\n",
              "      <th>SH1_B5_Diameter -0.160</th>\n",
              "      <td>0.202132</td>\n",
              "      <td>0.954243</td>\n",
              "      <td>1.000000</td>\n",
              "      <td>0.236856</td>\n",
              "      <td>0.942768</td>\n",
              "      <td>0.636577</td>\n",
              "      <td>-0.047230</td>\n",
              "      <td>-0.372631</td>\n",
              "      <td>0.878740</td>\n",
              "      <td>0.197014</td>\n",
              "      <td>...</td>\n",
              "      <td>0.213700</td>\n",
              "      <td>0.030323</td>\n",
              "      <td>0.363291</td>\n",
              "      <td>0.035743</td>\n",
              "      <td>-0.219533</td>\n",
              "      <td>-0.651181</td>\n",
              "      <td>-0.632631</td>\n",
              "      <td>0.003163</td>\n",
              "      <td>-0.171620</td>\n",
              "      <td>0.026702</td>\n",
              "    </tr>\n",
              "    <tr>\n",
              "      <th>SH1_B5_Position -0.005</th>\n",
              "      <td>0.043446</td>\n",
              "      <td>0.315648</td>\n",
              "      <td>0.236856</td>\n",
              "      <td>1.000000</td>\n",
              "      <td>0.284504</td>\n",
              "      <td>0.056151</td>\n",
              "      <td>0.060427</td>\n",
              "      <td>0.270826</td>\n",
              "      <td>0.297101</td>\n",
              "      <td>-0.231548</td>\n",
              "      <td>...</td>\n",
              "      <td>0.259377</td>\n",
              "      <td>0.182321</td>\n",
              "      <td>0.000540</td>\n",
              "      <td>0.179780</td>\n",
              "      <td>-0.084689</td>\n",
              "      <td>-0.203417</td>\n",
              "      <td>-0.154518</td>\n",
              "      <td>0.215421</td>\n",
              "      <td>-0.510653</td>\n",
              "      <td>0.069473</td>\n",
              "    </tr>\n",
              "    <tr>\n",
              "      <th>SH1_B1_Width -0.190</th>\n",
              "      <td>0.234478</td>\n",
              "      <td>0.984561</td>\n",
              "      <td>0.942768</td>\n",
              "      <td>0.284504</td>\n",
              "      <td>1.000000</td>\n",
              "      <td>0.600869</td>\n",
              "      <td>-0.209377</td>\n",
              "      <td>-0.348644</td>\n",
              "      <td>0.938958</td>\n",
              "      <td>0.132342</td>\n",
              "      <td>...</td>\n",
              "      <td>0.301111</td>\n",
              "      <td>0.052054</td>\n",
              "      <td>0.288314</td>\n",
              "      <td>0.113175</td>\n",
              "      <td>-0.220691</td>\n",
              "      <td>-0.630761</td>\n",
              "      <td>-0.578007</td>\n",
              "      <td>-0.009052</td>\n",
              "      <td>-0.193676</td>\n",
              "      <td>-0.018965</td>\n",
              "    </tr>\n",
              "    <tr>\n",
              "      <th>...</th>\n",
              "      <td>...</td>\n",
              "      <td>...</td>\n",
              "      <td>...</td>\n",
              "      <td>...</td>\n",
              "      <td>...</td>\n",
              "      <td>...</td>\n",
              "      <td>...</td>\n",
              "      <td>...</td>\n",
              "      <td>...</td>\n",
              "      <td>...</td>\n",
              "      <td>...</td>\n",
              "      <td>...</td>\n",
              "      <td>...</td>\n",
              "      <td>...</td>\n",
              "      <td>...</td>\n",
              "      <td>...</td>\n",
              "      <td>...</td>\n",
              "      <td>...</td>\n",
              "      <td>...</td>\n",
              "      <td>...</td>\n",
              "      <td>...</td>\n",
              "    </tr>\n",
              "    <tr>\n",
              "      <th>SH4_D8_Distance -0.235</th>\n",
              "      <td>-0.021893</td>\n",
              "      <td>-0.608491</td>\n",
              "      <td>-0.651181</td>\n",
              "      <td>-0.203417</td>\n",
              "      <td>-0.630761</td>\n",
              "      <td>-0.404162</td>\n",
              "      <td>0.209600</td>\n",
              "      <td>0.270203</td>\n",
              "      <td>-0.590412</td>\n",
              "      <td>0.098843</td>\n",
              "      <td>...</td>\n",
              "      <td>-0.016327</td>\n",
              "      <td>-0.295164</td>\n",
              "      <td>-0.438173</td>\n",
              "      <td>0.081967</td>\n",
              "      <td>0.725581</td>\n",
              "      <td>1.000000</td>\n",
              "      <td>0.753857</td>\n",
              "      <td>0.465131</td>\n",
              "      <td>-0.025073</td>\n",
              "      <td>-0.157445</td>\n",
              "    </tr>\n",
              "    <tr>\n",
              "      <th>SH4_B7_Distance -0.148</th>\n",
              "      <td>-0.127674</td>\n",
              "      <td>-0.567047</td>\n",
              "      <td>-0.632631</td>\n",
              "      <td>-0.154518</td>\n",
              "      <td>-0.578007</td>\n",
              "      <td>-0.228359</td>\n",
              "      <td>0.006032</td>\n",
              "      <td>0.201876</td>\n",
              "      <td>-0.526554</td>\n",
              "      <td>0.225052</td>\n",
              "      <td>...</td>\n",
              "      <td>-0.342896</td>\n",
              "      <td>-0.268506</td>\n",
              "      <td>-0.511188</td>\n",
              "      <td>-0.186356</td>\n",
              "      <td>0.173790</td>\n",
              "      <td>0.753857</td>\n",
              "      <td>1.000000</td>\n",
              "      <td>0.604721</td>\n",
              "      <td>-0.121405</td>\n",
              "      <td>-0.191437</td>\n",
              "    </tr>\n",
              "    <tr>\n",
              "      <th>SH4_C7_Distance -0.118</th>\n",
              "      <td>-0.002433</td>\n",
              "      <td>0.037350</td>\n",
              "      <td>0.003163</td>\n",
              "      <td>0.215421</td>\n",
              "      <td>-0.009052</td>\n",
              "      <td>0.294344</td>\n",
              "      <td>0.193847</td>\n",
              "      <td>0.002216</td>\n",
              "      <td>-0.026401</td>\n",
              "      <td>0.269236</td>\n",
              "      <td>...</td>\n",
              "      <td>-0.254092</td>\n",
              "      <td>-0.428236</td>\n",
              "      <td>-0.202484</td>\n",
              "      <td>-0.129899</td>\n",
              "      <td>0.160850</td>\n",
              "      <td>0.465131</td>\n",
              "      <td>0.604721</td>\n",
              "      <td>1.000000</td>\n",
              "      <td>-0.330523</td>\n",
              "      <td>-0.282643</td>\n",
              "    </tr>\n",
              "    <tr>\n",
              "      <th>SH2_B8_Angle -5 Deg</th>\n",
              "      <td>-0.049315</td>\n",
              "      <td>-0.213918</td>\n",
              "      <td>-0.171620</td>\n",
              "      <td>-0.510653</td>\n",
              "      <td>-0.193676</td>\n",
              "      <td>-0.200453</td>\n",
              "      <td>-0.114379</td>\n",
              "      <td>-0.141098</td>\n",
              "      <td>-0.191471</td>\n",
              "      <td>-0.091812</td>\n",
              "      <td>...</td>\n",
              "      <td>-0.223977</td>\n",
              "      <td>0.145218</td>\n",
              "      <td>0.387386</td>\n",
              "      <td>-0.133253</td>\n",
              "      <td>-0.150286</td>\n",
              "      <td>-0.025073</td>\n",
              "      <td>-0.121405</td>\n",
              "      <td>-0.330523</td>\n",
              "      <td>1.000000</td>\n",
              "      <td>-0.026942</td>\n",
              "    </tr>\n",
              "    <tr>\n",
              "      <th>SH2_C7_Distance -6.000_R</th>\n",
              "      <td>0.043954</td>\n",
              "      <td>-0.016875</td>\n",
              "      <td>0.026702</td>\n",
              "      <td>0.069473</td>\n",
              "      <td>-0.018965</td>\n",
              "      <td>-0.079935</td>\n",
              "      <td>-0.049197</td>\n",
              "      <td>-0.281696</td>\n",
              "      <td>0.010056</td>\n",
              "      <td>-0.128869</td>\n",
              "      <td>...</td>\n",
              "      <td>0.160710</td>\n",
              "      <td>0.327466</td>\n",
              "      <td>0.069517</td>\n",
              "      <td>0.089874</td>\n",
              "      <td>-0.046255</td>\n",
              "      <td>-0.157445</td>\n",
              "      <td>-0.191437</td>\n",
              "      <td>-0.282643</td>\n",
              "      <td>-0.026942</td>\n",
              "      <td>1.000000</td>\n",
              "    </tr>\n",
              "  </tbody>\n",
              "</table>\n",
              "<p>128 rows × 128 columns</p>\n",
              "</div>\n",
              "      <button class=\"colab-df-convert\" onclick=\"convertToInteractive('df-a3e08887-2d8f-442b-bed2-1c1e18c614f6')\"\n",
              "              title=\"Convert this dataframe to an interactive table.\"\n",
              "              style=\"display:none;\">\n",
              "        \n",
              "  <svg xmlns=\"http://www.w3.org/2000/svg\" height=\"24px\"viewBox=\"0 0 24 24\"\n",
              "       width=\"24px\">\n",
              "    <path d=\"M0 0h24v24H0V0z\" fill=\"none\"/>\n",
              "    <path d=\"M18.56 5.44l.94 2.06.94-2.06 2.06-.94-2.06-.94-.94-2.06-.94 2.06-2.06.94zm-11 1L8.5 8.5l.94-2.06 2.06-.94-2.06-.94L8.5 2.5l-.94 2.06-2.06.94zm10 10l.94 2.06.94-2.06 2.06-.94-2.06-.94-.94-2.06-.94 2.06-2.06.94z\"/><path d=\"M17.41 7.96l-1.37-1.37c-.4-.4-.92-.59-1.43-.59-.52 0-1.04.2-1.43.59L10.3 9.45l-7.72 7.72c-.78.78-.78 2.05 0 2.83L4 21.41c.39.39.9.59 1.41.59.51 0 1.02-.2 1.41-.59l7.78-7.78 2.81-2.81c.8-.78.8-2.07 0-2.86zM5.41 20L4 18.59l7.72-7.72 1.47 1.35L5.41 20z\"/>\n",
              "  </svg>\n",
              "      </button>\n",
              "      \n",
              "  <style>\n",
              "    .colab-df-container {\n",
              "      display:flex;\n",
              "      flex-wrap:wrap;\n",
              "      gap: 12px;\n",
              "    }\n",
              "\n",
              "    .colab-df-convert {\n",
              "      background-color: #E8F0FE;\n",
              "      border: none;\n",
              "      border-radius: 50%;\n",
              "      cursor: pointer;\n",
              "      display: none;\n",
              "      fill: #1967D2;\n",
              "      height: 32px;\n",
              "      padding: 0 0 0 0;\n",
              "      width: 32px;\n",
              "    }\n",
              "\n",
              "    .colab-df-convert:hover {\n",
              "      background-color: #E2EBFA;\n",
              "      box-shadow: 0px 1px 2px rgba(60, 64, 67, 0.3), 0px 1px 3px 1px rgba(60, 64, 67, 0.15);\n",
              "      fill: #174EA6;\n",
              "    }\n",
              "\n",
              "    [theme=dark] .colab-df-convert {\n",
              "      background-color: #3B4455;\n",
              "      fill: #D2E3FC;\n",
              "    }\n",
              "\n",
              "    [theme=dark] .colab-df-convert:hover {\n",
              "      background-color: #434B5C;\n",
              "      box-shadow: 0px 1px 3px 1px rgba(0, 0, 0, 0.15);\n",
              "      filter: drop-shadow(0px 1px 2px rgba(0, 0, 0, 0.3));\n",
              "      fill: #FFFFFF;\n",
              "    }\n",
              "  </style>\n",
              "\n",
              "      <script>\n",
              "        const buttonEl =\n",
              "          document.querySelector('#df-a3e08887-2d8f-442b-bed2-1c1e18c614f6 button.colab-df-convert');\n",
              "        buttonEl.style.display =\n",
              "          google.colab.kernel.accessAllowed ? 'block' : 'none';\n",
              "\n",
              "        async function convertToInteractive(key) {\n",
              "          const element = document.querySelector('#df-a3e08887-2d8f-442b-bed2-1c1e18c614f6');\n",
              "          const dataTable =\n",
              "            await google.colab.kernel.invokeFunction('convertToInteractive',\n",
              "                                                     [key], {});\n",
              "          if (!dataTable) return;\n",
              "\n",
              "          const docLinkHtml = 'Like what you see? Visit the ' +\n",
              "            '<a target=\"_blank\" href=https://colab.research.google.com/notebooks/data_table.ipynb>data table notebook</a>'\n",
              "            + ' to learn more about interactive tables.';\n",
              "          element.innerHTML = '';\n",
              "          dataTable['output_type'] = 'display_data';\n",
              "          await google.colab.output.renderOutput(dataTable, element);\n",
              "          const docLink = document.createElement('div');\n",
              "          docLink.innerHTML = docLinkHtml;\n",
              "          element.appendChild(docLink);\n",
              "        }\n",
              "      </script>\n",
              "    </div>\n",
              "  </div>\n",
              "  "
            ]
          },
          "metadata": {},
          "execution_count": 699
        }
      ]
    },
    {
      "cell_type": "markdown",
      "metadata": {
        "id": "i3oDCZU4redp"
      },
      "source": [
        "# Training the Multiple Linear Regression model on the Training set"
      ]
    },
    {
      "cell_type": "code",
      "metadata": {
        "colab": {
          "base_uri": "https://localhost:8080/"
        },
        "id": "LG1LcoTprkSw",
        "outputId": "6384c9bb-c31c-49ef-e494-1e97f928e5a6"
      },
      "source": [
        "from sklearn.linear_model import LinearRegression\n",
        "regressor = LinearRegression()\n",
        "regressor.fit(X_train, Y_train)"
      ],
      "execution_count": 700,
      "outputs": [
        {
          "output_type": "execute_result",
          "data": {
            "text/plain": [
              "LinearRegression()"
            ]
          },
          "metadata": {},
          "execution_count": 700
        }
      ]
    },
    {
      "cell_type": "markdown",
      "metadata": {
        "id": "BYsT1HcBr7wZ"
      },
      "source": [
        "Predicting the Test set results"
      ]
    },
    {
      "cell_type": "code",
      "metadata": {
        "colab": {
          "base_uri": "https://localhost:8080/"
        },
        "id": "7F-Rxdn4ry-g",
        "outputId": "5206b723-6be9-4683-f871-594b73c4a27e"
      },
      "source": [
        "Y_pred = regressor.predict(X_test)\n",
        "np.set_printoptions(precision=8)\n",
        "print(np.concatenate((Y_pred.reshape(len(Y_pred),1), Y_test.reshape(len(Y_test),1)),1))"
      ],
      "execution_count": 701,
      "outputs": [
        {
          "output_type": "stream",
          "name": "stdout",
          "text": [
            "[[-1.50001172 -0.01371355]\n",
            " [ 0.07971695 -0.90953801]\n",
            " [ 4.04820599  0.98093088]\n",
            " [-1.06421082  0.98093088]\n",
            " [ 0.11374747  0.98093088]\n",
            " [ 1.13858826  0.98093088]\n",
            " [-1.2808057   0.98093088]\n",
            " [ 2.10725374 -1.85477246]\n",
            " [-0.43127944 -1.85477246]\n",
            " [-2.25078897  0.98093088]\n",
            " [-1.77210344  0.03569643]\n",
            " [ 0.77787408  0.03569643]\n",
            " [-0.44320894 -0.90953801]\n",
            " [ 2.30788184 -1.85477246]\n",
            " [-2.70831717  0.98093088]\n",
            " [ 0.19740728  0.03569643]\n",
            " [ 0.32546126 -0.90953801]\n",
            " [-1.64730942  0.03569643]\n",
            " [ 0.21840904  0.03569643]]\n"
          ]
        }
      ]
    },
    {
      "cell_type": "markdown",
      "metadata": {
        "id": "jnh5BMRvsFm5"
      },
      "source": [
        "Getting the final linear regression equation with the values of the coefficients"
      ]
    },
    {
      "cell_type": "code",
      "metadata": {
        "colab": {
          "base_uri": "https://localhost:8080/"
        },
        "id": "PgKcE304sGUh",
        "outputId": "2fc0a98e-6dc7-4ad0-8f2b-45006e052f3f"
      },
      "source": [
        "print(regressor.coef_)\n",
        "print(regressor.intercept_)"
      ],
      "execution_count": 702,
      "outputs": [
        {
          "output_type": "stream",
          "name": "stdout",
          "text": [
            "[[-6.82039517e-01  3.24522978e-02 -2.77555756e-15 -1.53023811e+00\n",
            "   3.00080825e-01  4.58933241e-01 -1.11014093e+00  2.16230833e-02\n",
            "   5.28237171e-01  2.84953172e-02 -2.99635105e-01  8.32682331e-01\n",
            "   5.34011844e-01  2.99635105e-01  5.71669720e-01  6.51212049e-01\n",
            "  -1.21838672e+00 -6.77642102e-03 -5.73715115e-01  2.88990086e-01\n",
            "  -1.31954095e+00  1.40325336e+00  1.28517192e+00 -1.62565198e+00\n",
            "   2.99456637e-01 -4.58511607e-01  2.42778658e-01 -8.08270887e-02\n",
            "   9.76486962e-01 -6.62129195e-01 -5.71200010e-01 -1.39329296e-01\n",
            "   7.95712754e-01 -9.93911067e-02 -8.17150970e-02  6.51631820e-02\n",
            "  -3.42401398e-01  5.43585606e-01 -1.11070533e+00  3.24514254e-01\n",
            "   2.91132109e-01  1.11989594e+00  6.20982452e-01  1.24978393e+00\n",
            "   3.46707293e-01  6.75968677e-01 -9.26000540e-01  3.15699102e-01\n",
            "   6.33546579e-01  8.29240820e-01 -3.94180113e-01 -7.10225697e-01\n",
            "   5.74178965e-01 -1.31940759e+00  4.31315539e-01 -1.08278835e+00\n",
            "  -1.55473345e-01 -4.24384764e-01  5.00055353e-01  3.71384853e-01\n",
            "   9.17255367e-01  4.96714695e-01 -9.68570833e-03 -2.21760919e-01\n",
            "   6.98882164e-01  2.94889464e-01  2.55927666e-01 -1.08879054e-01\n",
            "   6.53506143e-01  6.10986952e-01  2.02898222e-01 -3.04443596e-01\n",
            "   5.36132744e-01 -7.52648500e-01  7.26823407e-01  9.89646021e-01\n",
            "  -6.33072042e-01 -1.85043303e-01  1.83379200e-01 -8.03238276e-01\n",
            "   9.07820706e-01  1.43907758e+00 -1.66624812e+00  1.26178589e+00\n",
            "  -4.39311359e-01 -7.84405114e-01 -8.48173634e-01 -1.69643466e+00\n",
            "  -1.75509167e-01  3.22943206e-01  7.92783192e-01 -3.57072091e-01\n",
            "   1.21946196e+00  6.78735618e-01  1.09912079e-14  1.31520189e+00\n",
            "  -1.77926769e-01 -4.16874710e-01  4.55016042e-01  5.08011578e-01\n",
            "   4.19850404e-01  5.52816330e-01  3.58595506e-01  5.05433687e-01\n",
            "   4.36730198e-01 -1.70821600e+00  1.25347638e-01  1.45287459e+00\n",
            "   1.19708112e-01  2.75498926e-01]]\n",
            "[-8.67616934e-10]\n"
          ]
        }
      ]
    },
    {
      "cell_type": "markdown",
      "metadata": {
        "id": "eYGMX--6N3ZL"
      },
      "source": [
        "# Evaluating the Model Performance"
      ]
    },
    {
      "cell_type": "code",
      "metadata": {
        "colab": {
          "base_uri": "https://localhost:8080/"
        },
        "id": "uP5wn2nPN6j6",
        "outputId": "30c260f2-1962-4e13-d60f-81588fb25cca"
      },
      "source": [
        "from sklearn.metrics import r2_score\n",
        "r2_score(Y_test, Y_pred)"
      ],
      "execution_count": 703,
      "outputs": [
        {
          "output_type": "execute_result",
          "data": {
            "text/plain": [
              "-3.6365663564263544"
            ]
          },
          "metadata": {},
          "execution_count": 703
        }
      ]
    },
    {
      "cell_type": "code",
      "source": [
        "from sklearn.metrics import mean_absolute_error as mae\n",
        "MAE = mae(Y_test, Y_pred)\n",
        "from sklearn.metrics import mean_squared_error as mse\n",
        "MSE = mse(Y_test, Y_pred)"
      ],
      "metadata": {
        "id": "zTqh3sgOF0dd"
      },
      "execution_count": 704,
      "outputs": []
    },
    {
      "cell_type": "code",
      "source": [
        "print(MAE)"
      ],
      "metadata": {
        "id": "iVY2OiOwID9B",
        "outputId": "43215a50-10ad-4f90-fc20-d22a50567239",
        "colab": {
          "base_uri": "https://localhost:8080/"
        }
      },
      "execution_count": 705,
      "outputs": [
        {
          "output_type": "stream",
          "name": "stdout",
          "text": [
            "1.7696012575796363\n"
          ]
        }
      ]
    },
    {
      "cell_type": "code",
      "source": [
        "print(MSE)"
      ],
      "metadata": {
        "id": "iJ_nhCUWIGz9",
        "outputId": "e838848a-5bdb-4ce8-9b93-b930d282e944",
        "colab": {
          "base_uri": "https://localhost:8080/"
        }
      },
      "execution_count": 706,
      "outputs": [
        {
          "output_type": "stream",
          "name": "stdout",
          "text": [
            "4.748986324512386\n"
          ]
        }
      ]
    },
    {
      "cell_type": "code",
      "source": [
        "MAPE = MAE*100\n",
        "print(MAPE)"
      ],
      "metadata": {
        "id": "Vj-qcqUSJvcu",
        "outputId": "abe1a601-45cf-4964-ee52-fe868541df0e",
        "colab": {
          "base_uri": "https://localhost:8080/"
        }
      },
      "execution_count": 707,
      "outputs": [
        {
          "output_type": "stream",
          "name": "stdout",
          "text": [
            "176.96012575796362\n"
          ]
        }
      ]
    }
  ]
}